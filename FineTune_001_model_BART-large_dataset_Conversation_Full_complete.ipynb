{
 "cells": [
  {
   "cell_type": "markdown",
   "id": "4f0954d0",
   "metadata": {},
   "source": [
    "---\n",
    "\n",
    "# Problem Statement: \n",
    "### Prepare a model that can summarize a conversation.\n",
    "\n",
    "---"
   ]
  },
  {
   "cell_type": "raw",
   "id": "33393d5d",
   "metadata": {},
   "source": [
    "---\n",
    "EXPECTED RESULTS\n",
    "\n",
    "-----------------------------------\n",
    "INPUT\n",
    "-----------------------------------\n",
    "Marry: Hi! Susan! I haven't seen you for ages!\n",
    "Susan: I've been really busy. How is everything?\n",
    "Mary: Oh, fine. Hey, why don't we grab a bite to eat and do some catching up?\n",
    "Susan: Yeah, why not? I'Ve got a little free time on my hands. Where do you want to eat?\n",
    "\n",
    "-----------------------------------\n",
    "OUTPUT\n",
    "-----------------------------------\n",
    "Susan and Marry meet again after a long time.\n",
    "\n",
    "---"
   ]
  },
  {
   "cell_type": "markdown",
   "id": "7290ffb3",
   "metadata": {},
   "source": [
    "---\n",
    "\n",
    "# Install required libraries\n",
    "\n",
    "---"
   ]
  },
  {
   "cell_type": "code",
   "execution_count": 1,
   "id": "decd94a7",
   "metadata": {
    "execution": {
     "iopub.execute_input": "2024-09-10T15:59:38.486809Z",
     "iopub.status.busy": "2024-09-10T15:59:38.486372Z",
     "iopub.status.idle": "2024-09-10T15:59:39.162959Z",
     "shell.execute_reply": "2024-09-10T15:59:39.162255Z"
    }
   },
   "outputs": [
    {
     "name": "stdout",
     "output_type": "stream",
     "text": [
      "Package                   Version\r\n",
      "------------------------- ---------------\r\n",
      "absl-py                   2.1.0\r\n",
      "accelerate                0.22.0\r\n",
      "aiohappyeyeballs          2.4.0\r\n",
      "aiohttp                   3.10.5\r\n",
      "aiosignal                 1.3.1\r\n",
      "aniso8601                 9.0.1\r\n",
      "annotated-types           0.7.0\r\n",
      "ansi2html                 1.9.2\r\n",
      "anyio                     4.4.0\r\n",
      "argon2-cffi               23.1.0\r\n",
      "argon2-cffi-bindings      21.2.0\r\n",
      "arrow                     1.3.0\r\n",
      "asttokens                 2.4.1\r\n",
      "async-lru                 2.0.4\r\n",
      "async-timeout             4.0.3\r\n",
      "attrs                     23.2.0\r\n",
      "autovizwidget             0.21.0\r\n",
      "awscli                    1.34.4\r\n",
      "Babel                     2.14.0\r\n",
      "beautifulsoup4            4.12.3\r\n",
      "bleach                    6.1.0\r\n",
      "blinker                   1.8.2\r\n",
      "bokeh                     3.5.1\r\n",
      "boto3                     1.35.4\r\n",
      "botocore                  1.35.4\r\n",
      "Brotli                    1.1.0\r\n",
      "cached-property           1.5.2\r\n",
      "captum                    0.6.0\r\n",
      "certifi                   2024.7.4\r\n",
      "cffi                      1.16.0\r\n",
      "charset-normalizer        3.3.2\r\n",
      "click                     8.1.7\r\n",
      "cloudpickle               2.2.1\r\n",
      "cmake                     3.30.3\r\n",
      "colorama                  0.4.6\r\n",
      "comm                      0.2.2\r\n",
      "contourpy                 1.2.1\r\n",
      "cryptography              43.0.0\r\n",
      "cycler                    0.12.1\r\n",
      "datasets                  2.14.5\r\n",
      "debugpy                   1.8.2\r\n",
      "decorator                 5.1.1\r\n",
      "defusedxml                0.7.1\r\n",
      "dill                      0.3.7\r\n",
      "docker                    7.1.0\r\n",
      "docutils                  0.16\r\n",
      "dparse                    0.6.3\r\n",
      "entrypoints               0.4\r\n",
      "environment-kernels       1.2.0\r\n",
      "et-xmlfile                1.1.0\r\n",
      "evaluate                  0.4.0\r\n",
      "exceptiongroup            1.2.2\r\n",
      "executing                 2.0.1\r\n",
      "fastjsonschema            2.20.0\r\n",
      "filelock                  3.15.4\r\n",
      "Flask                     3.0.3\r\n",
      "Flask-RESTful             0.3.10\r\n",
      "fonttools                 4.53.1\r\n",
      "fqdn                      1.5.1\r\n",
      "frozenlist                1.4.1\r\n",
      "fsspec                    2023.6.0\r\n",
      "gmpy2                     2.1.5\r\n",
      "google-pasta              0.2.0\r\n",
      "grpcio                    1.66.1\r\n",
      "gssapi                    1.8.3\r\n",
      "gym                       0.26.2\r\n",
      "gym-notices               0.0.8\r\n",
      "h11                       0.14.0\r\n",
      "h2                        4.1.0\r\n",
      "hdijupyterutils           0.21.0\r\n",
      "hpack                     4.0.0\r\n",
      "httpcore                  1.0.5\r\n",
      "httpx                     0.27.0\r\n",
      "huggingface-hub           0.24.6\r\n",
      "hyperframe                6.0.1\r\n",
      "idna                      3.7\r\n",
      "imageio                   2.34.2\r\n",
      "importlib-metadata        6.11.0\r\n",
      "importlib_resources       6.4.0\r\n",
      "ipykernel                 6.29.5\r\n",
      "ipython                   8.26.0\r\n",
      "ipywidgets                8.1.3\r\n",
      "isoduration               20.11.0\r\n",
      "itsdangerous              2.2.0\r\n",
      "jedi                      0.19.1\r\n",
      "Jinja2                    3.1.4\r\n",
      "jmespath                  1.0.1\r\n",
      "joblib                    1.4.2\r\n",
      "json5                     0.9.25\r\n",
      "jsonpointer               3.0.0\r\n",
      "jsonschema                4.23.0\r\n",
      "jsonschema-specifications 2023.12.1\r\n",
      "jupyter                   1.0.0\r\n",
      "jupyter_client            8.6.2\r\n",
      "jupyter-console           6.6.3\r\n",
      "jupyter_core              5.7.2\r\n",
      "jupyter-events            0.10.0\r\n",
      "jupyter-lsp               2.2.5\r\n",
      "jupyter_server            2.14.2\r\n",
      "jupyter_server_terminals  0.5.3\r\n",
      "jupyterlab                4.2.4\r\n",
      "jupyterlab_pygments       0.3.0\r\n",
      "jupyterlab_server         2.27.3\r\n",
      "jupyterlab_widgets        3.0.11\r\n",
      "kiwisolver                1.4.5\r\n",
      "krb5                      0.6.0\r\n",
      "lit                       18.1.8\r\n",
      "llvmlite                  0.43.0\r\n",
      "Markdown                  3.7\r\n",
      "markdown-it-py            3.0.0\r\n",
      "MarkupSafe                2.1.5\r\n",
      "matplotlib                3.9.1\r\n",
      "matplotlib-inline         0.1.7\r\n",
      "mdurl                     0.1.2\r\n",
      "mistune                   3.0.2\r\n",
      "mpi4py                    4.0.0\r\n",
      "mpmath                    1.3.0\r\n",
      "multidict                 6.1.0\r\n",
      "multiprocess              0.70.15\r\n",
      "munkres                   1.1.4\r\n",
      "nbclient                  0.10.0\r\n",
      "nbconvert                 7.16.4\r\n",
      "nbformat                  5.10.4\r\n",
      "nest_asyncio              1.6.0\r\n",
      "networkx                  3.3\r\n",
      "nltk                      3.8.1\r\n",
      "notebook                  7.2.1\r\n",
      "notebook_shim             0.2.4\r\n",
      "numba                     0.60.0\r\n",
      "numpy                     1.24.4\r\n",
      "nvgpu                     0.10.0\r\n",
      "nvidia-cublas-cu11        11.10.3.66\r\n",
      "nvidia-cuda-cupti-cu11    11.7.101\r\n",
      "nvidia-cuda-nvrtc-cu11    11.7.99\r\n",
      "nvidia-cuda-runtime-cu11  11.7.99\r\n",
      "nvidia-cudnn-cu11         8.5.0.96\r\n",
      "nvidia-cufft-cu11         10.9.0.58\r\n",
      "nvidia-curand-cu11        10.2.10.91\r\n",
      "nvidia-cusolver-cu11      11.4.0.1\r\n",
      "nvidia-cusparse-cu11      11.7.4.91\r\n",
      "nvidia-ml-py              12.555.43\r\n",
      "nvidia-nccl-cu11          2.14.3\r\n",
      "nvidia-nvtx-cu11          11.7.91\r\n",
      "onnx                      1.16.1\r\n",
      "opencv-python             4.10.0.84\r\n",
      "openpyxl                  3.1.5\r\n",
      "overrides                 7.7.0\r\n",
      "packaging                 21.3\r\n",
      "pandas                    1.5.3\r\n",
      "pandocfilters             1.5.0\r\n",
      "parso                     0.8.4\r\n",
      "pathos                    0.3.2\r\n",
      "patsy                     0.5.6\r\n",
      "pexpect                   4.9.0\r\n",
      "pickleshare               0.7.5\r\n",
      "pillow                    10.4.0\r\n",
      "pip                       24.0\r\n",
      "pkgutil_resolve_name      1.3.10\r\n",
      "platformdirs              4.2.2\r\n",
      "plotly                    5.23.0\r\n",
      "pox                       0.3.4\r\n",
      "ppft                      1.7.6.8\r\n",
      "prometheus_client         0.20.0\r\n",
      "prompt_toolkit            3.0.47\r\n",
      "protobuf                  4.25.4\r\n",
      "psutil                    6.0.0\r\n",
      "ptyprocess                0.7.0\r\n",
      "pure_eval                 0.2.3\r\n",
      "py4j                      0.10.9.5\r\n",
      "pyarrow                   17.0.0\r\n",
      "pyasn1                    0.6.0\r\n",
      "pybind11                  2.13.1\r\n",
      "pybind11_global           2.13.1\r\n",
      "pycparser                 2.22\r\n",
      "pydantic                  2.8.2\r\n",
      "pydantic_core             2.20.1\r\n",
      "pyfunctional              1.5.0\r\n",
      "pygame                    2.6.0\r\n",
      "Pygments                  2.18.0\r\n",
      "pynvml                    11.5.3\r\n",
      "pyparsing                 3.1.2\r\n",
      "PySocks                   1.7.1\r\n",
      "pyspark                   3.3.0\r\n",
      "pyspnego                  0.11.1\r\n",
      "python-dateutil           2.9.0\r\n",
      "python-json-logger        2.0.7\r\n",
      "pytz                      2024.1\r\n",
      "PyYAML                    6.0.1\r\n",
      "pyzmq                     26.0.3\r\n",
      "qtconsole                 5.5.2\r\n",
      "QtPy                      2.4.1\r\n",
      "referencing               0.35.1\r\n",
      "regex                     2024.7.24\r\n",
      "requests                  2.32.3\r\n",
      "requests-kerberos         0.15.0\r\n",
      "responses                 0.18.0\r\n",
      "rfc3339-validator         0.1.4\r\n",
      "rfc3986-validator         0.1.1\r\n",
      "rich                      13.8.1\r\n",
      "rouge-score               0.1.2\r\n",
      "rpds-py                   0.19.1\r\n",
      "rsa                       4.7.2\r\n",
      "ruamel.yaml               0.18.6\r\n",
      "ruamel.yaml.clib          0.2.8\r\n",
      "s3fs                      0.4.2\r\n",
      "s3transfer                0.10.2\r\n",
      "safetensors               0.4.5\r\n",
      "sagemaker                 2.229.0\r\n",
      "sagemaker_pyspark         1.4.5\r\n",
      "schema                    0.7.7\r\n",
      "scikit-learn              1.5.1\r\n",
      "scipy                     1.14.0\r\n",
      "seaborn                   0.13.2\r\n",
      "Send2Trash                1.8.3\r\n",
      "setuptools                68.0.0\r\n",
      "shap                      0.40.0\r\n",
      "six                       1.16.0\r\n",
      "slicer                    0.0.7\r\n",
      "smclarify                 0.5\r\n",
      "smdebug-rulesconfig       1.0.1\r\n",
      "sniffio                   1.3.1\r\n",
      "soupsieve                 2.5\r\n",
      "sparkmagic                0.21.0\r\n",
      "stack-data                0.6.2\r\n",
      "statsmodels               0.14.2\r\n",
      "sympy                     1.13.0\r\n",
      "tabulate                  0.9.0\r\n",
      "tblib                     3.0.0\r\n",
      "tenacity                  9.0.0\r\n",
      "tensorboard               2.17.1\r\n",
      "tensorboard-data-server   0.7.2\r\n",
      "termcolor                 2.4.0\r\n",
      "terminado                 0.18.1\r\n",
      "threadpoolctl             3.5.0\r\n",
      "tinycss2                  1.3.0\r\n",
      "tokenizers                0.13.3\r\n",
      "tomli                     2.0.1\r\n",
      "torch                     2.0.1\r\n",
      "torch-model-archiver      0.7.1b20230208\r\n",
      "torch-workflow-archiver   0.2.14b20240718\r\n",
      "torchaudio                2.2.0\r\n",
      "torchdata                 0.7.1\r\n",
      "torchserve                0.11.0b20240516\r\n",
      "torchtext                 0.17.0\r\n",
      "torchvision               0.17.0\r\n",
      "tornado                   6.4.1\r\n",
      "tqdm                      4.66.4\r\n",
      "traitlets                 5.14.3\r\n",
      "transformers              4.33.1\r\n",
      "triton                    2.0.0\r\n",
      "types-python-dateutil     2.9.0.20240316\r\n",
      "typing_extensions         4.12.2\r\n",
      "typing-utils              0.1.0\r\n",
      "tzdata                    2024.1\r\n",
      "ujson                     5.10.0\r\n",
      "unicodedata2              15.1.0\r\n",
      "uri-template              1.3.0\r\n",
      "urllib3                   2.2.2\r\n",
      "wcwidth                   0.2.13\r\n",
      "webcolors                 24.6.0\r\n",
      "webencodings              0.5.1\r\n",
      "websocket-client          1.8.0\r\n",
      "Werkzeug                  3.0.3\r\n",
      "wheel                     0.43.0\r\n",
      "widgetsnbextension        4.0.11\r\n",
      "xxhash                    3.5.0\r\n",
      "xyzservices               2024.6.0\r\n",
      "yarl                      1.11.1\r\n",
      "zipp                      3.19.2\r\n",
      "zstandard                 0.23.0\r\n"
     ]
    }
   ],
   "source": [
    "!pip3 list"
   ]
  },
  {
   "cell_type": "code",
   "execution_count": 2,
   "id": "077a012a",
   "metadata": {},
   "outputs": [
    {
     "name": "stdout",
     "output_type": "stream",
     "text": [
      "\n"
     ]
    }
   ],
   "source": [
    "!pip3 install setuptools==68.0.0\n",
    "!pip3 install nltk==3.8.1\n",
    "!pip3 install datasets==2.14.5\n",
    "!pip3 install numpy==1.24.4\n",
    "!pip3 install torch==2.0.1\n",
    "!pip3 install scipy==1.14.0\n",
    "!pip3 install transformers==4.33.1\n",
    "!pip3 install accelerate==0.22.0\n",
    "!pip3 install evaluate==0.4.0\n",
    "!pip3 install rouge-score==0.1.2\n",
    "!pip3 install openpyxl\n",
    "!pip3 install tensorboard\n",
    "!pip3 install rich"
   ]
  },
  {
   "cell_type": "code",
   "execution_count": 3,
   "id": "f7aa95ca",
   "metadata": {
    "execution": {
     "iopub.execute_input": "2024-09-10T16:00:12.626629Z",
     "iopub.status.busy": "2024-09-10T16:00:12.626285Z",
     "iopub.status.idle": "2024-09-10T16:00:13.294934Z",
     "shell.execute_reply": "2024-09-10T16:00:13.294236Z"
    }
   },
   "outputs": [
    {
     "name": "stdout",
     "output_type": "stream",
     "text": [
      "Package                   Version\r\n",
      "------------------------- ---------------\r\n",
      "absl-py                   2.1.0\r\n",
      "accelerate                0.22.0\r\n",
      "aiohappyeyeballs          2.4.0\r\n",
      "aiohttp                   3.10.5\r\n",
      "aiosignal                 1.3.1\r\n",
      "aniso8601                 9.0.1\r\n",
      "annotated-types           0.7.0\r\n",
      "ansi2html                 1.9.2\r\n",
      "anyio                     4.4.0\r\n",
      "argon2-cffi               23.1.0\r\n",
      "argon2-cffi-bindings      21.2.0\r\n",
      "arrow                     1.3.0\r\n",
      "asttokens                 2.4.1\r\n",
      "async-lru                 2.0.4\r\n",
      "async-timeout             4.0.3\r\n",
      "attrs                     23.2.0\r\n",
      "autovizwidget             0.21.0\r\n",
      "awscli                    1.34.4\r\n",
      "Babel                     2.14.0\r\n",
      "beautifulsoup4            4.12.3\r\n",
      "bleach                    6.1.0\r\n",
      "blinker                   1.8.2\r\n",
      "bokeh                     3.5.1\r\n",
      "boto3                     1.35.4\r\n",
      "botocore                  1.35.4\r\n",
      "Brotli                    1.1.0\r\n",
      "cached-property           1.5.2\r\n",
      "captum                    0.6.0\r\n",
      "certifi                   2024.7.4\r\n",
      "cffi                      1.16.0\r\n",
      "charset-normalizer        3.3.2\r\n",
      "click                     8.1.7\r\n",
      "cloudpickle               2.2.1\r\n",
      "cmake                     3.30.3\r\n",
      "colorama                  0.4.6\r\n",
      "comm                      0.2.2\r\n",
      "contourpy                 1.2.1\r\n",
      "cryptography              43.0.0\r\n",
      "cycler                    0.12.1\r\n",
      "datasets                  2.14.5\r\n",
      "debugpy                   1.8.2\r\n",
      "decorator                 5.1.1\r\n",
      "defusedxml                0.7.1\r\n",
      "dill                      0.3.7\r\n",
      "docker                    7.1.0\r\n",
      "docutils                  0.16\r\n",
      "dparse                    0.6.3\r\n",
      "entrypoints               0.4\r\n",
      "environment-kernels       1.2.0\r\n",
      "et-xmlfile                1.1.0\r\n",
      "evaluate                  0.4.0\r\n",
      "exceptiongroup            1.2.2\r\n",
      "executing                 2.0.1\r\n",
      "fastjsonschema            2.20.0\r\n",
      "filelock                  3.15.4\r\n",
      "Flask                     3.0.3\r\n",
      "Flask-RESTful             0.3.10\r\n",
      "fonttools                 4.53.1\r\n",
      "fqdn                      1.5.1\r\n",
      "frozenlist                1.4.1\r\n",
      "fsspec                    2023.6.0\r\n",
      "gmpy2                     2.1.5\r\n",
      "google-pasta              0.2.0\r\n",
      "grpcio                    1.66.1\r\n",
      "gssapi                    1.8.3\r\n",
      "gym                       0.26.2\r\n",
      "gym-notices               0.0.8\r\n",
      "h11                       0.14.0\r\n",
      "h2                        4.1.0\r\n",
      "hdijupyterutils           0.21.0\r\n",
      "hpack                     4.0.0\r\n",
      "httpcore                  1.0.5\r\n",
      "httpx                     0.27.0\r\n",
      "huggingface-hub           0.24.6\r\n",
      "hyperframe                6.0.1\r\n",
      "idna                      3.7\r\n",
      "imageio                   2.34.2\r\n",
      "importlib-metadata        6.11.0\r\n",
      "importlib_resources       6.4.0\r\n",
      "ipykernel                 6.29.5\r\n",
      "ipython                   8.26.0\r\n",
      "ipywidgets                8.1.3\r\n",
      "isoduration               20.11.0\r\n",
      "itsdangerous              2.2.0\r\n",
      "jedi                      0.19.1\r\n",
      "Jinja2                    3.1.4\r\n",
      "jmespath                  1.0.1\r\n",
      "joblib                    1.4.2\r\n",
      "json5                     0.9.25\r\n",
      "jsonpointer               3.0.0\r\n",
      "jsonschema                4.23.0\r\n",
      "jsonschema-specifications 2023.12.1\r\n",
      "jupyter                   1.0.0\r\n",
      "jupyter_client            8.6.2\r\n",
      "jupyter-console           6.6.3\r\n",
      "jupyter_core              5.7.2\r\n",
      "jupyter-events            0.10.0\r\n",
      "jupyter-lsp               2.2.5\r\n",
      "jupyter_server            2.14.2\r\n",
      "jupyter_server_terminals  0.5.3\r\n",
      "jupyterlab                4.2.4\r\n",
      "jupyterlab_pygments       0.3.0\r\n",
      "jupyterlab_server         2.27.3\r\n",
      "jupyterlab_widgets        3.0.11\r\n",
      "kiwisolver                1.4.5\r\n",
      "krb5                      0.6.0\r\n",
      "lit                       18.1.8\r\n",
      "llvmlite                  0.43.0\r\n",
      "Markdown                  3.7\r\n",
      "markdown-it-py            3.0.0\r\n",
      "MarkupSafe                2.1.5\r\n",
      "matplotlib                3.9.1\r\n",
      "matplotlib-inline         0.1.7\r\n",
      "mdurl                     0.1.2\r\n",
      "mistune                   3.0.2\r\n",
      "mpi4py                    4.0.0\r\n",
      "mpmath                    1.3.0\r\n",
      "multidict                 6.1.0\r\n",
      "multiprocess              0.70.15\r\n",
      "munkres                   1.1.4\r\n",
      "nbclient                  0.10.0\r\n",
      "nbconvert                 7.16.4\r\n",
      "nbformat                  5.10.4\r\n",
      "nest_asyncio              1.6.0\r\n",
      "networkx                  3.3\r\n",
      "nltk                      3.8.1\r\n",
      "notebook                  7.2.1\r\n",
      "notebook_shim             0.2.4\r\n",
      "numba                     0.60.0\r\n",
      "numpy                     1.24.4\r\n",
      "nvgpu                     0.10.0\r\n",
      "nvidia-cublas-cu11        11.10.3.66\r\n",
      "nvidia-cuda-cupti-cu11    11.7.101\r\n",
      "nvidia-cuda-nvrtc-cu11    11.7.99\r\n",
      "nvidia-cuda-runtime-cu11  11.7.99\r\n",
      "nvidia-cudnn-cu11         8.5.0.96\r\n",
      "nvidia-cufft-cu11         10.9.0.58\r\n",
      "nvidia-curand-cu11        10.2.10.91\r\n",
      "nvidia-cusolver-cu11      11.4.0.1\r\n",
      "nvidia-cusparse-cu11      11.7.4.91\r\n",
      "nvidia-ml-py              12.555.43\r\n",
      "nvidia-nccl-cu11          2.14.3\r\n",
      "nvidia-nvtx-cu11          11.7.91\r\n",
      "onnx                      1.16.1\r\n",
      "opencv-python             4.10.0.84\r\n",
      "openpyxl                  3.1.5\r\n",
      "overrides                 7.7.0\r\n",
      "packaging                 21.3\r\n",
      "pandas                    1.5.3\r\n",
      "pandocfilters             1.5.0\r\n",
      "parso                     0.8.4\r\n",
      "pathos                    0.3.2\r\n",
      "patsy                     0.5.6\r\n",
      "pexpect                   4.9.0\r\n",
      "pickleshare               0.7.5\r\n",
      "pillow                    10.4.0\r\n",
      "pip                       24.0\r\n",
      "pkgutil_resolve_name      1.3.10\r\n",
      "platformdirs              4.2.2\r\n",
      "plotly                    5.23.0\r\n",
      "pox                       0.3.4\r\n",
      "ppft                      1.7.6.8\r\n",
      "prometheus_client         0.20.0\r\n",
      "prompt_toolkit            3.0.47\r\n",
      "protobuf                  4.25.4\r\n",
      "psutil                    6.0.0\r\n",
      "ptyprocess                0.7.0\r\n",
      "pure_eval                 0.2.3\r\n",
      "py4j                      0.10.9.5\r\n",
      "pyarrow                   17.0.0\r\n",
      "pyasn1                    0.6.0\r\n",
      "pybind11                  2.13.1\r\n",
      "pybind11_global           2.13.1\r\n",
      "pycparser                 2.22\r\n",
      "pydantic                  2.8.2\r\n",
      "pydantic_core             2.20.1\r\n",
      "pyfunctional              1.5.0\r\n",
      "pygame                    2.6.0\r\n",
      "Pygments                  2.18.0\r\n",
      "pynvml                    11.5.3\r\n",
      "pyparsing                 3.1.2\r\n",
      "PySocks                   1.7.1\r\n",
      "pyspark                   3.3.0\r\n",
      "pyspnego                  0.11.1\r\n",
      "python-dateutil           2.9.0\r\n",
      "python-json-logger        2.0.7\r\n",
      "pytz                      2024.1\r\n",
      "PyYAML                    6.0.1\r\n",
      "pyzmq                     26.0.3\r\n",
      "qtconsole                 5.5.2\r\n",
      "QtPy                      2.4.1\r\n",
      "referencing               0.35.1\r\n",
      "regex                     2024.7.24\r\n",
      "requests                  2.32.3\r\n",
      "requests-kerberos         0.15.0\r\n",
      "responses                 0.18.0\r\n",
      "rfc3339-validator         0.1.4\r\n",
      "rfc3986-validator         0.1.1\r\n",
      "rich                      13.8.1\r\n",
      "rouge-score               0.1.2\r\n",
      "rpds-py                   0.19.1\r\n",
      "rsa                       4.7.2\r\n",
      "ruamel.yaml               0.18.6\r\n",
      "ruamel.yaml.clib          0.2.8\r\n",
      "s3fs                      0.4.2\r\n",
      "s3transfer                0.10.2\r\n",
      "safetensors               0.4.5\r\n",
      "sagemaker                 2.229.0\r\n",
      "sagemaker_pyspark         1.4.5\r\n",
      "schema                    0.7.7\r\n",
      "scikit-learn              1.5.1\r\n",
      "scipy                     1.14.0\r\n",
      "seaborn                   0.13.2\r\n",
      "Send2Trash                1.8.3\r\n",
      "setuptools                68.0.0\r\n",
      "shap                      0.40.0\r\n",
      "six                       1.16.0\r\n",
      "slicer                    0.0.7\r\n",
      "smclarify                 0.5\r\n",
      "smdebug-rulesconfig       1.0.1\r\n",
      "sniffio                   1.3.1\r\n",
      "soupsieve                 2.5\r\n",
      "sparkmagic                0.21.0\r\n",
      "stack-data                0.6.2\r\n",
      "statsmodels               0.14.2\r\n",
      "sympy                     1.13.0\r\n",
      "tabulate                  0.9.0\r\n",
      "tblib                     3.0.0\r\n",
      "tenacity                  9.0.0\r\n",
      "tensorboard               2.17.1\r\n",
      "tensorboard-data-server   0.7.2\r\n",
      "termcolor                 2.4.0\r\n",
      "terminado                 0.18.1\r\n",
      "threadpoolctl             3.5.0\r\n",
      "tinycss2                  1.3.0\r\n",
      "tokenizers                0.13.3\r\n",
      "tomli                     2.0.1\r\n",
      "torch                     2.0.1\r\n",
      "torch-model-archiver      0.7.1b20230208\r\n",
      "torch-workflow-archiver   0.2.14b20240718\r\n",
      "torchaudio                2.2.0\r\n",
      "torchdata                 0.7.1\r\n",
      "torchserve                0.11.0b20240516\r\n",
      "torchtext                 0.17.0\r\n",
      "torchvision               0.17.0\r\n",
      "tornado                   6.4.1\r\n",
      "tqdm                      4.66.4\r\n",
      "traitlets                 5.14.3\r\n",
      "transformers              4.33.1\r\n",
      "triton                    2.0.0\r\n",
      "types-python-dateutil     2.9.0.20240316\r\n",
      "typing_extensions         4.12.2\r\n",
      "typing-utils              0.1.0\r\n",
      "tzdata                    2024.1\r\n",
      "ujson                     5.10.0\r\n",
      "unicodedata2              15.1.0\r\n",
      "uri-template              1.3.0\r\n",
      "urllib3                   2.2.2\r\n",
      "wcwidth                   0.2.13\r\n",
      "webcolors                 24.6.0\r\n",
      "webencodings              0.5.1\r\n",
      "websocket-client          1.8.0\r\n",
      "Werkzeug                  3.0.3\r\n",
      "wheel                     0.43.0\r\n",
      "widgetsnbextension        4.0.11\r\n",
      "xxhash                    3.5.0\r\n",
      "xyzservices               2024.6.0\r\n",
      "yarl                      1.11.1\r\n",
      "zipp                      3.19.2\r\n",
      "zstandard                 0.23.0\r\n"
     ]
    }
   ],
   "source": [
    "!pip3 list"
   ]
  },
  {
   "cell_type": "markdown",
   "id": "d5ed9013",
   "metadata": {},
   "source": [
    "---\n",
    "\n",
    "# Import required libraries\n",
    "\n",
    "---"
   ]
  },
  {
   "cell_type": "code",
   "execution_count": 4,
   "id": "85513a79",
   "metadata": {
    "execution": {
     "iopub.execute_input": "2024-09-10T16:00:13.297828Z",
     "iopub.status.busy": "2024-09-10T16:00:13.297518Z",
     "iopub.status.idle": "2024-09-10T16:00:17.029401Z",
     "shell.execute_reply": "2024-09-10T16:00:17.028820Z"
    }
   },
   "outputs": [
    {
     "name": "stderr",
     "output_type": "stream",
     "text": [
      "/home/ec2-user/anaconda3/envs/pytorch_p310/lib/python3.10/site-packages/torch/cuda/__init__.py:546: UserWarning: Can't initialize NVML\n",
      "  warnings.warn(\"Can't initialize NVML\")\n"
     ]
    }
   ],
   "source": [
    "import os\n",
    "import numpy as np\n",
    "import pandas as pd\n",
    "import datetime\n",
    "import pytz\n",
    "import random\n",
    "\n",
    "import matplotlib.pyplot as plt\n",
    "%matplotlib inline\n",
    "\n",
    "import transformers\n",
    "\n",
    "import torch\n",
    "import tqdm\n",
    "\n",
    "import json\n",
    "import datasets\n",
    "from datasets import load_dataset\n",
    "from datasets import concatenate_datasets\n",
    "from datasets import DatasetDict\n",
    "\n",
    "from IPython.display import Markdown\n",
    "\n",
    "import nltk\n",
    "import evaluate\n",
    "\n",
    "from rich import print as rich_print\n",
    "from pprint import pprint\n",
    "\n",
    "from tqdm import tqdm"
   ]
  },
  {
   "cell_type": "code",
   "execution_count": 5,
   "id": "fab3227c",
   "metadata": {
    "execution": {
     "iopub.execute_input": "2024-09-10T16:00:17.032302Z",
     "iopub.status.busy": "2024-09-10T16:00:17.031897Z",
     "iopub.status.idle": "2024-09-10T16:00:17.035021Z",
     "shell.execute_reply": "2024-09-10T16:00:17.034551Z"
    }
   },
   "outputs": [],
   "source": [
    "os.environ[\"TOKENIZERS_PARALLELISM\"] = \"false\""
   ]
  },
  {
   "cell_type": "code",
   "execution_count": 6,
   "id": "2537bc16",
   "metadata": {
    "execution": {
     "iopub.execute_input": "2024-09-10T16:00:17.037373Z",
     "iopub.status.busy": "2024-09-10T16:00:17.036987Z",
     "iopub.status.idle": "2024-09-10T16:00:17.180462Z",
     "shell.execute_reply": "2024-09-10T16:00:17.179797Z"
    }
   },
   "outputs": [
    {
     "name": "stdout",
     "output_type": "stream",
     "text": [
      "NVIDIA-SMI has failed because it couldn't communicate with the NVIDIA driver. Make sure that the latest NVIDIA driver is installed and running.\r\n",
      "\r\n"
     ]
    }
   ],
   "source": [
    "!nvidia-smi"
   ]
  },
  {
   "cell_type": "code",
   "execution_count": 7,
   "id": "0d844e44",
   "metadata": {
    "execution": {
     "iopub.execute_input": "2024-09-10T16:00:17.183139Z",
     "iopub.status.busy": "2024-09-10T16:00:17.182845Z",
     "iopub.status.idle": "2024-09-10T16:00:17.187773Z",
     "shell.execute_reply": "2024-09-10T16:00:17.187251Z"
    }
   },
   "outputs": [],
   "source": [
    "# set random seed\n",
    "\n",
    "var_seed = 42\n",
    "\n",
    "torch.manual_seed(var_seed)\n",
    "\n",
    "if torch.cuda.is_available():\n",
    "    torch.cuda.manual_seed_all(var_seed)"
   ]
  },
  {
   "cell_type": "code",
   "execution_count": 8,
   "id": "c8d20828",
   "metadata": {
    "execution": {
     "iopub.execute_input": "2024-09-10T16:00:17.190185Z",
     "iopub.status.busy": "2024-09-10T16:00:17.189933Z",
     "iopub.status.idle": "2024-09-10T16:00:17.192711Z",
     "shell.execute_reply": "2024-09-10T16:00:17.192176Z"
    }
   },
   "outputs": [],
   "source": [
    "# create a flag to show intermediate outputs or not\n",
    "\n",
    "show_tokenizer_output = True"
   ]
  },
  {
   "cell_type": "markdown",
   "id": "dff73c50",
   "metadata": {},
   "source": [
    "#### Declare important variables"
   ]
  },
  {
   "cell_type": "code",
   "execution_count": 9,
   "id": "d1b2ce31",
   "metadata": {
    "execution": {
     "iopub.execute_input": "2024-09-10T16:00:17.195084Z",
     "iopub.status.busy": "2024-09-10T16:00:17.194839Z",
     "iopub.status.idle": "2024-09-10T16:00:17.198031Z",
     "shell.execute_reply": "2024-09-10T16:00:17.197532Z"
    }
   },
   "outputs": [],
   "source": [
    "project_name = \"HF-LLM-FINETUNE\"\n",
    "show_tokenizer_output = True\n",
    "\n",
    "model_source = \"facebook\"\n",
    "model_name_ver = \"bart-large\"\n",
    "model_checkpoint = model_source + \"/\" + model_name_ver\n",
    "model_save_local_dir = project_name + \"/\" + model_source + \"_\" + model_name_ver + \"_dialogsum_samsum\""
   ]
  },
  {
   "cell_type": "code",
   "execution_count": 10,
   "id": "025e8b6c",
   "metadata": {
    "execution": {
     "iopub.execute_input": "2024-09-10T16:00:17.200426Z",
     "iopub.status.busy": "2024-09-10T16:00:17.200061Z",
     "iopub.status.idle": "2024-09-10T16:00:17.203223Z",
     "shell.execute_reply": "2024-09-10T16:00:17.202673Z"
    }
   },
   "outputs": [
    {
     "name": "stdout",
     "output_type": "stream",
     "text": [
      "facebook/bart-large\n"
     ]
    }
   ],
   "source": [
    "print(model_checkpoint)"
   ]
  },
  {
   "cell_type": "code",
   "execution_count": 11,
   "id": "84221e73",
   "metadata": {
    "execution": {
     "iopub.execute_input": "2024-09-10T16:00:17.205634Z",
     "iopub.status.busy": "2024-09-10T16:00:17.205236Z",
     "iopub.status.idle": "2024-09-10T16:00:17.208257Z",
     "shell.execute_reply": "2024-09-10T16:00:17.207756Z"
    }
   },
   "outputs": [
    {
     "name": "stdout",
     "output_type": "stream",
     "text": [
      "HF-LLM-FINETUNE/facebook_bart-large_dialogsum_samsum\n"
     ]
    }
   ],
   "source": [
    "print(model_save_local_dir)"
   ]
  },
  {
   "cell_type": "markdown",
   "id": "2c21286d",
   "metadata": {},
   "source": [
    "## Import an existing pre-trained language model from HuggingFace"
   ]
  },
  {
   "cell_type": "markdown",
   "id": "a53270d2",
   "metadata": {},
   "source": [
    "---\n",
    "\n",
    "## Facebook BART\n",
    "\n",
    "We will explore Facebook BART model from HuggingFace\n",
    "https://huggingface.co/facebook/bart-large\n",
    "\n",
    "Bidirectional and Auto-Regressive Transformers (BART)\n",
    "\n",
    "BART model pre-trained on English language. It was introduced in the paper BART: Denoising Sequence-to-Sequence Pre-training for Natural Language Generation, Translation, and Comprehension by Lewis et al.\n",
    "\n",
    "---"
   ]
  },
  {
   "cell_type": "code",
   "execution_count": 12,
   "id": "d35304b2",
   "metadata": {
    "execution": {
     "iopub.execute_input": "2024-09-10T16:00:17.210635Z",
     "iopub.status.busy": "2024-09-10T16:00:17.210393Z",
     "iopub.status.idle": "2024-09-10T16:00:17.213176Z",
     "shell.execute_reply": "2024-09-10T16:00:17.212673Z"
    }
   },
   "outputs": [],
   "source": [
    "from transformers import AutoTokenizer\n",
    "from transformers import AutoModelForSeq2SeqLM"
   ]
  },
  {
   "cell_type": "code",
   "execution_count": 13,
   "id": "d8c95397",
   "metadata": {
    "execution": {
     "iopub.execute_input": "2024-09-10T16:00:17.215524Z",
     "iopub.status.busy": "2024-09-10T16:00:17.215151Z",
     "iopub.status.idle": "2024-09-10T16:00:17.218132Z",
     "shell.execute_reply": "2024-09-10T16:00:17.217623Z"
    }
   },
   "outputs": [
    {
     "name": "stdout",
     "output_type": "stream",
     "text": [
      "facebook/bart-large\n"
     ]
    }
   ],
   "source": [
    "print(model_checkpoint)"
   ]
  },
  {
   "cell_type": "markdown",
   "id": "c5e8e437",
   "metadata": {},
   "source": [
    "### Load the Tokenizer and Language Model (LLM)"
   ]
  },
  {
   "cell_type": "code",
   "execution_count": 14,
   "id": "6504c814",
   "metadata": {
    "execution": {
     "iopub.execute_input": "2024-09-10T16:00:17.220403Z",
     "iopub.status.busy": "2024-09-10T16:00:17.220163Z",
     "iopub.status.idle": "2024-09-10T16:00:22.646730Z",
     "shell.execute_reply": "2024-09-10T16:00:22.646163Z"
    }
   },
   "outputs": [
    {
     "name": "stderr",
     "output_type": "stream",
     "text": [
      "/home/ec2-user/anaconda3/envs/pytorch_p310/lib/python3.10/site-packages/huggingface_hub/file_download.py:1150: FutureWarning: `resume_download` is deprecated and will be removed in version 1.0.0. Downloads always resume when possible. If you want to force a new download, use `force_download=True`.\n",
      "  warnings.warn(\n"
     ]
    },
    {
     "name": "stdout",
     "output_type": "stream",
     "text": [
      "CPU times: user 7.18 s, sys: 1.35 s, total: 8.53 s\n",
      "Wall time: 5.42 s\n"
     ]
    }
   ],
   "source": [
    "%%time\n",
    "\n",
    "# Load the tokenizer\n",
    "init_tokenizer = AutoTokenizer.from_pretrained(model_checkpoint)\n",
    "\n",
    "# Load the model\n",
    "init_model = AutoModelForSeq2SeqLM.from_pretrained(model_checkpoint)"
   ]
  },
  {
   "cell_type": "code",
   "execution_count": 15,
   "id": "66c7aeea",
   "metadata": {
    "execution": {
     "iopub.execute_input": "2024-09-10T16:00:22.649276Z",
     "iopub.status.busy": "2024-09-10T16:00:22.648992Z",
     "iopub.status.idle": "2024-09-10T16:00:22.684232Z",
     "shell.execute_reply": "2024-09-10T16:00:22.683769Z"
    }
   },
   "outputs": [
    {
     "data": {
      "text/html": [
       "<pre style=\"white-space:pre;overflow-x:auto;line-height:normal;font-family:Menlo,'DejaVu Sans Mono',consolas,'Courier New',monospace\"><span style=\"color: #800080; text-decoration-color: #800080; font-weight: bold\">BartTokenizerFast</span><span style=\"font-weight: bold\">(</span><span style=\"color: #808000; text-decoration-color: #808000\">name_or_path</span>=<span style=\"color: #008000; text-decoration-color: #008000\">'facebook/bart-large'</span>, <span style=\"color: #808000; text-decoration-color: #808000\">vocab_size</span>=<span style=\"color: #008080; text-decoration-color: #008080; font-weight: bold\">50265</span>, <span style=\"color: #808000; text-decoration-color: #808000\">model_max_length</span>=<span style=\"color: #008080; text-decoration-color: #008080; font-weight: bold\">1024</span>, <span style=\"color: #808000; text-decoration-color: #808000\">is_fast</span>=<span style=\"color: #00ff00; text-decoration-color: #00ff00; font-style: italic\">True</span>, \n",
       "<span style=\"color: #808000; text-decoration-color: #808000\">padding_side</span>=<span style=\"color: #008000; text-decoration-color: #008000\">'right'</span>, <span style=\"color: #808000; text-decoration-color: #808000\">truncation_side</span>=<span style=\"color: #008000; text-decoration-color: #008000\">'right'</span>, <span style=\"color: #808000; text-decoration-color: #808000\">special_tokens</span>=<span style=\"font-weight: bold\">{</span><span style=\"color: #008000; text-decoration-color: #008000\">'bos_token'</span>: <span style=\"color: #008000; text-decoration-color: #008000\">'&lt;s&gt;'</span><span style=\"color: #000000; text-decoration-color: #000000\">, </span><span style=\"color: #008000; text-decoration-color: #008000\">'eos_token'</span><span style=\"color: #000000; text-decoration-color: #000000\">: </span><span style=\"color: #008000; text-decoration-color: #008000\">'&lt;/s&gt;'</span><span style=\"color: #000000; text-decoration-color: #000000\">, </span>\n",
       "<span style=\"color: #008000; text-decoration-color: #008000\">'unk_token'</span><span style=\"color: #000000; text-decoration-color: #000000\">: </span><span style=\"color: #008000; text-decoration-color: #008000\">'&lt;unk&gt;'</span><span style=\"color: #000000; text-decoration-color: #000000\">, </span><span style=\"color: #008000; text-decoration-color: #008000\">'sep_token'</span><span style=\"color: #000000; text-decoration-color: #000000\">: </span><span style=\"color: #008000; text-decoration-color: #008000\">'&lt;/s&gt;'</span><span style=\"color: #000000; text-decoration-color: #000000\">, </span><span style=\"color: #008000; text-decoration-color: #008000\">'pad_token'</span><span style=\"color: #000000; text-decoration-color: #000000\">: </span><span style=\"color: #008000; text-decoration-color: #008000\">'&lt;pad&gt;'</span><span style=\"color: #000000; text-decoration-color: #000000\">, </span><span style=\"color: #008000; text-decoration-color: #008000\">'cls_token'</span><span style=\"color: #000000; text-decoration-color: #000000\">: </span><span style=\"color: #008000; text-decoration-color: #008000\">'&lt;s&gt;'</span><span style=\"color: #000000; text-decoration-color: #000000\">, </span><span style=\"color: #008000; text-decoration-color: #008000\">'mask_token'</span><span style=\"color: #000000; text-decoration-color: #000000\">: </span>\n",
       "<span style=\"color: #800080; text-decoration-color: #800080; font-weight: bold\">AddedToken</span><span style=\"color: #000000; text-decoration-color: #000000; font-weight: bold\">(</span><span style=\"color: #008000; text-decoration-color: #008000\">\"&lt;mask&gt;\"</span>, <span style=\"color: #808000; text-decoration-color: #808000\">rstrip</span>=<span style=\"color: #ff0000; text-decoration-color: #ff0000; font-style: italic\">False</span>, <span style=\"color: #808000; text-decoration-color: #808000\">lstrip</span>=<span style=\"color: #00ff00; text-decoration-color: #00ff00; font-style: italic\">True</span>, <span style=\"color: #808000; text-decoration-color: #808000\">single_word</span>=<span style=\"color: #ff0000; text-decoration-color: #ff0000; font-style: italic\">False</span>, <span style=\"color: #808000; text-decoration-color: #808000\">normalized</span>=<span style=\"color: #ff0000; text-decoration-color: #ff0000; font-style: italic\">False</span><span style=\"font-weight: bold\">)}</span>, \n",
       "<span style=\"color: #808000; text-decoration-color: #808000\">clean_up_tokenization_spaces</span>=<span style=\"color: #00ff00; text-decoration-color: #00ff00; font-style: italic\">True</span><span style=\"font-weight: bold\">)</span>\n",
       "</pre>\n"
      ],
      "text/plain": [
       "\u001b[1;35mBartTokenizerFast\u001b[0m\u001b[1m(\u001b[0m\u001b[33mname_or_path\u001b[0m=\u001b[32m'facebook/bart-large'\u001b[0m, \u001b[33mvocab_size\u001b[0m=\u001b[1;36m50265\u001b[0m, \u001b[33mmodel_max_length\u001b[0m=\u001b[1;36m1024\u001b[0m, \u001b[33mis_fast\u001b[0m=\u001b[3;92mTrue\u001b[0m, \n",
       "\u001b[33mpadding_side\u001b[0m=\u001b[32m'right'\u001b[0m, \u001b[33mtruncation_side\u001b[0m=\u001b[32m'right'\u001b[0m, \u001b[33mspecial_tokens\u001b[0m=\u001b[1m{\u001b[0m\u001b[32m'bos_token'\u001b[0m: \u001b[32m'\u001b[0m\u001b[32m<\u001b[0m\u001b[32ms\u001b[0m\u001b[32m>'\u001b[0m\u001b[39m, \u001b[0m\u001b[32m'eos_token'\u001b[0m\u001b[39m: \u001b[0m\u001b[32m'</s>'\u001b[0m\u001b[39m, \u001b[0m\n",
       "\u001b[32m'unk_token'\u001b[0m\u001b[39m: \u001b[0m\u001b[32m'<unk>'\u001b[0m\u001b[39m, \u001b[0m\u001b[32m'sep_token'\u001b[0m\u001b[39m: \u001b[0m\u001b[32m'</s>'\u001b[0m\u001b[39m, \u001b[0m\u001b[32m'pad_token'\u001b[0m\u001b[39m: \u001b[0m\u001b[32m'<pad>'\u001b[0m\u001b[39m, \u001b[0m\u001b[32m'cls_token'\u001b[0m\u001b[39m: \u001b[0m\u001b[32m'<s>'\u001b[0m\u001b[39m, \u001b[0m\u001b[32m'mask_token'\u001b[0m\u001b[39m: \u001b[0m\n",
       "\u001b[1;35mAddedToken\u001b[0m\u001b[1;39m(\u001b[0m\u001b[32m\"<mask\u001b[0m\u001b[32m>\u001b[0m\u001b[32m\"\u001b[0m, \u001b[33mrstrip\u001b[0m=\u001b[3;91mFalse\u001b[0m, \u001b[33mlstrip\u001b[0m=\u001b[3;92mTrue\u001b[0m, \u001b[33msingle_word\u001b[0m=\u001b[3;91mFalse\u001b[0m, \u001b[33mnormalized\u001b[0m=\u001b[3;91mFalse\u001b[0m\u001b[1m)\u001b[0m\u001b[1m}\u001b[0m, \n",
       "\u001b[33mclean_up_tokenization_spaces\u001b[0m=\u001b[3;92mTrue\u001b[0m\u001b[1m)\u001b[0m\n"
      ]
     },
     "metadata": {},
     "output_type": "display_data"
    }
   ],
   "source": [
    "rich_print(init_tokenizer)"
   ]
  },
  {
   "cell_type": "code",
   "execution_count": 16,
   "id": "2ef66456",
   "metadata": {
    "execution": {
     "iopub.execute_input": "2024-09-10T16:00:22.686456Z",
     "iopub.status.busy": "2024-09-10T16:00:22.686199Z",
     "iopub.status.idle": "2024-09-10T16:00:22.726694Z",
     "shell.execute_reply": "2024-09-10T16:00:22.726210Z"
    }
   },
   "outputs": [
    {
     "data": {
      "text/plain": [
       "{'ĠMens': 20730,\n",
       " 'ĠMJ': 33936,\n",
       " 'Ġtwist': 10619,\n",
       " 'Ġfortunate': 10583,\n",
       " 'ĠFloyd': 13400,\n",
       " 'Ġoffenses': 13888,\n",
       " 'ĠMand': 10682,\n",
       " 'ĠOrders': 32335,\n",
       " '009': 37892,\n",
       " 'esome': 38297,\n",
       " 'Ġvi': 12987,\n",
       " 'ĠSymbol': 43883,\n",
       " 'xf': 45678,\n",
       " 'vector': 48219,\n",
       " 'rix': 15072,\n",
       " 'ĠDMV': 34743,\n",
       " 'alian': 21999,\n",
       " 'Ġcrane': 28472,\n",
       " 'Ġdracon': 49653,\n",
       " 'ĠCho': 11501,\n",
       " 'Ġsiblings': 10384,\n",
       " 'Ġnap': 16159,\n",
       " 'umbai': 26772,\n",
       " 'Ġoperative': 27133,\n",
       " 'ries': 4458,\n",
       " 'Ġelectrons': 36522,\n",
       " 'Ġneur': 41213,\n",
       " 'ef': 4550,\n",
       " 'Ġ&': 359,\n",
       " 'Ġlayout': 18472,\n",
       " 'Ġstorms': 7749,\n",
       " 'ĠCle': 8388,\n",
       " 'aration': 36466,\n",
       " 'ĠUPDATE': 24055,\n",
       " 'Ġlock': 7014,\n",
       " 'Ġrather': 1195,\n",
       " 'Ġhottest': 14611,\n",
       " 'Ġ1888': 44295,\n",
       " 'Ġjavascript': 48882,\n",
       " 'abc': 36822,\n",
       " 'Ġdumps': 37017,\n",
       " 'Ġrevealed': 1487,\n",
       " 'Ġrolls': 12357,\n",
       " 'Ġadds': 3639,\n",
       " 'Ġprivately': 9638,\n",
       " 'ĠBeg': 26347,\n",
       " 'raph': 33518,\n",
       " 'Ġunless': 3867,\n",
       " 'Ġbeef': 6829,\n",
       " 'amon': 22704,\n",
       " 'ateg': 27586,\n",
       " 'ule': 7590,\n",
       " 'Ġhappiness': 11098,\n",
       " 'comp': 11828,\n",
       " 'ĠSort': 40649,\n",
       " 'Ġvirginity': 42844,\n",
       " 'ufficient': 43022,\n",
       " 'ĠRagnar': 45470,\n",
       " 'En': 16040,\n",
       " 'Ġpas': 6977,\n",
       " 'Ġacquiring': 6819,\n",
       " 'Ġrevolution': 7977,\n",
       " 'Ġiod': 47592,\n",
       " 'Ġatrocities': 21692,\n",
       " 'Ġhistor': 23671,\n",
       " 'ĠFrem': 18663,\n",
       " 'Ġ2050': 24050,\n",
       " 'po': 5873,\n",
       " 'ĠCater': 20322,\n",
       " 'ĠGrateful': 40319,\n",
       " 'Ġsubdiv': 39291,\n",
       " 'Ġtaxing': 27892,\n",
       " 'ocry': 45756,\n",
       " 'Ġsettles': 32785,\n",
       " 'electric': 18986,\n",
       " 'Rober': 46496,\n",
       " 'ĠColt': 34469,\n",
       " 'ĠMonitor': 23328,\n",
       " 'ounter': 46014,\n",
       " 'Ġineligible': 26256,\n",
       " 'summary': 48600,\n",
       " 'robe': 34925,\n",
       " 'Ġim': 4356,\n",
       " 'ĠConfederate': 14779,\n",
       " 'Magic': 35877,\n",
       " 'Ġuseless': 23584,\n",
       " 'ĠEPA': 6865,\n",
       " 'Mom': 29390,\n",
       " 'Ġslab': 32235,\n",
       " 'Ġstaggering': 16609,\n",
       " 'Ġsank': 14501,\n",
       " 'Ġdan': 20435,\n",
       " 'Ġnose': 8658,\n",
       " 'Ġtolerant': 32836,\n",
       " 'Ġalbeit': 13176,\n",
       " 'enabled': 23949,\n",
       " 'Ġdevout': 36906,\n",
       " 'Ġdest': 15357,\n",
       " 'Ġunderwent': 12796,\n",
       " 'Ġlie': 6105,\n",
       " 'opers': 18158,\n",
       " 'arlane': 33230,\n",
       " 'acking': 7361,\n",
       " 'ĠCarolyn': 19949,\n",
       " 'Ġcontextual': 37617,\n",
       " 'ĠTelescope': 34152,\n",
       " 'ĠNap': 7645,\n",
       " 'NB': 20485,\n",
       " 'Ġidiots': 39984,\n",
       " 'ategor': 40918,\n",
       " 'assic': 41139,\n",
       " 'Ġmicrow': 43698,\n",
       " 'awei': 44087,\n",
       " 'ú': 50102,\n",
       " 'ĠDB': 18496,\n",
       " 'Ġbeliefs': 9734,\n",
       " 'internet': 42182,\n",
       " 'Ġresist': 11942,\n",
       " 'adish': 30068,\n",
       " 'Ġmarines': 42669,\n",
       " 'lander': 14862,\n",
       " 'Ġdisperse': 29056,\n",
       " 'Ġexpenditures': 14300,\n",
       " 'Ġspeculate': 20947,\n",
       " 'angular': 46482,\n",
       " 'Community': 36242,\n",
       " 'iPhone': 43688,\n",
       " 'Ġinstalling': 15602,\n",
       " 'Ġinscription': 41980,\n",
       " 'Ġlambda': 49027,\n",
       " 'Ġfind': 465,\n",
       " 'Ġdear': 14880,\n",
       " 'orship': 11887,\n",
       " 'ĠBoe': 26682,\n",
       " 'ĠRamsay': 30028,\n",
       " 'GL': 10020,\n",
       " 'ifax': 22119,\n",
       " 'avier': 37041,\n",
       " 'Ġdirty': 11216,\n",
       " 'gent': 13907,\n",
       " 'fl': 4825,\n",
       " 'Ġchron': 24600,\n",
       " 'aba': 6412,\n",
       " 'Ġconvince': 8838,\n",
       " 'ĠKhalid': 20133,\n",
       " 'Ġairspace': 25260,\n",
       " 'Ġdeserted': 31712,\n",
       " 'Ġelect': 10371,\n",
       " 'Ġlengthy': 8787,\n",
       " 'zan': 13571,\n",
       " 'Ġregulates': 32553,\n",
       " 'boxes': 34341,\n",
       " 'ython': 49006,\n",
       " 'Ġspite': 14117,\n",
       " 'EAR': 27757,\n",
       " 'ĠHarris': 3740,\n",
       " 'Ġflexibility': 8243,\n",
       " 'Ġdisadvantages': 38940,\n",
       " '671': 39392,\n",
       " 'laughs': 36411,\n",
       " 'Ġmaker': 4403,\n",
       " 'ighth': 19447,\n",
       " 'Ġrpm': 36461,\n",
       " '34': 3079,\n",
       " 'Ġcho': 14310,\n",
       " 'does': 26692,\n",
       " 'Ġdistinctive': 16141,\n",
       " 'ĠCorbyn': 10113,\n",
       " 'ĠÂµ': 44200,\n",
       " 'aux': 8624,\n",
       " 'bits': 32131,\n",
       " 'arijuana': 41054,\n",
       " 'ĠIntelligence': 6558,\n",
       " 'Ġdisruptions': 19534,\n",
       " 'Ġmistakenly': 26506,\n",
       " 'Ġanecdote': 40938,\n",
       " 'Ġboolean': 49378,\n",
       " 'Ġper': 228,\n",
       " '--------------------------------------------------------': 49599,\n",
       " 'ĠJeep': 16932,\n",
       " 'imate': 16633,\n",
       " 'frog': 36487,\n",
       " 'ĠTransactions': 40798,\n",
       " 'Ġquarterly': 3472,\n",
       " 'url': 6423,\n",
       " 'roximately': 46401,\n",
       " 'fficient': 43788,\n",
       " 'Ġgrand': 2821,\n",
       " 'Ġrequest': 2069,\n",
       " 'dm': 43604,\n",
       " 'ĠTelegraph': 12400,\n",
       " 'ĠOpp': 11053,\n",
       " 'Ġdescriptive': 42690,\n",
       " 'ĠYad': 12098,\n",
       " 'Ġgrowth': 434,\n",
       " 'ghan': 5158,\n",
       " 'Ġfoil': 25114,\n",
       " 'Ġdenominations': 40476,\n",
       " 'ĠMarch': 494,\n",
       " 'Ġdream': 3366,\n",
       " 'ub': 1792,\n",
       " 'ven': 2987,\n",
       " 'ĠDracula': 43433,\n",
       " 'tesque': 47710,\n",
       " 'Ġtotals': 17582,\n",
       " 'Patrick': 32811,\n",
       " 'entially': 16722,\n",
       " 'Ġeyel': 26635,\n",
       " 'acy': 5073,\n",
       " 'ĠACA': 20103,\n",
       " 'kHz': 46858,\n",
       " 'ĠEver': 7989,\n",
       " '57': 4390,\n",
       " 'ĠLoch': 26384,\n",
       " 'ĠCHRIST': 33051,\n",
       " 'ĠLessons': 38021,\n",
       " 'Ġapplicable': 10404,\n",
       " 'ouston': 42185,\n",
       " 'arding': 16014,\n",
       " 'Ġpreferences': 16953,\n",
       " 'Ġcomparable': 10451,\n",
       " 'Reg': 23007,\n",
       " 'Ġrewards': 12840,\n",
       " 'olate': 41511,\n",
       " 'ĠDocumentation': 46273,\n",
       " 'ĠMEP': 29442,\n",
       " 'Ġtrafficking': 7492,\n",
       " 'lat': 12805,\n",
       " 'Completed': 49324,\n",
       " 'Ġnear': 583,\n",
       " 'iership': 30571,\n",
       " 'ĠSymptoms': 32393,\n",
       " 'span': 36407,\n",
       " 'ĠpH': 39228,\n",
       " 'Teen': 39556,\n",
       " 'ĠAgenda': 28193,\n",
       " 'Japanese': 35655,\n",
       " 'abama': 46947,\n",
       " 'Ġintangible': 32977,\n",
       " '87': 5677,\n",
       " 'ĠSob': 21055,\n",
       " 'ĠArena': 5036,\n",
       " 'Ġethics': 10250,\n",
       " 'roth': 42020,\n",
       " 'Initial': 46187,\n",
       " 'iban': 33372,\n",
       " 'Ġmedia': 433,\n",
       " 'ĠSubtle': 46289,\n",
       " 'Phones': 48083,\n",
       " 'fle': 40307,\n",
       " 'ĠPelicans': 17168,\n",
       " 'Yesterday': 31863,\n",
       " '242': 28698,\n",
       " 'pper': 5961,\n",
       " 'Ġpriests': 15843,\n",
       " 'arrass': 35700,\n",
       " 'umers': 35954,\n",
       " 'Ġbald': 24876,\n",
       " 'Ġunfounded': 27306,\n",
       " 'ĠMozilla': 36770,\n",
       " 'Ġlicence': 10362,\n",
       " 'Ġpraising': 21293,\n",
       " 'cffff': 50092,\n",
       " 'Ġoutlet': 9455,\n",
       " 'Ġsquee': 43404,\n",
       " 'Ġsalts': 41871,\n",
       " 'ĠSpiritual': 41522,\n",
       " 'ĠWarp': 46641,\n",
       " 'Ġsits': 6476,\n",
       " 'Ġviewing': 7603,\n",
       " 'ĠLink': 4341,\n",
       " 'ĠSweet': 10959,\n",
       " 'Hot': 27735,\n",
       " '083': 41260,\n",
       " 'ĠParan': 42355,\n",
       " 'Ġcrimson': 43648,\n",
       " 'ĠThomson': 5869,\n",
       " 'Ġtroopers': 21239,\n",
       " 'ĠOp': 7286,\n",
       " 'cert': 25782,\n",
       " \"]'\": 46117,\n",
       " 'Ġsun': 3778,\n",
       " 'ĠMarc': 5908,\n",
       " 'ĠALWAYS': 44171,\n",
       " 'ĠAHL': 22457,\n",
       " 'Ġ1915': 36398,\n",
       " 'anie': 23302,\n",
       " 'ĠLobby': 35434,\n",
       " 'ĠRamirez': 12715,\n",
       " 'Atl': 47105,\n",
       " 'ĠDunk': 17933,\n",
       " 'Ġogre': 48238,\n",
       " 'ct': 3894,\n",
       " 'Ġinex': 30685,\n",
       " 'anda': 5219,\n",
       " 'Ü': 49786,\n",
       " 'Ġearth': 6872,\n",
       " 'Ġcommodity': 8497,\n",
       " 'ĠSamar': 17882,\n",
       " 'Did': 20328,\n",
       " 'vette': 36117,\n",
       " 'neapolis': 46815,\n",
       " 'Ġrespons': 29268,\n",
       " 'Ġpurple': 14327,\n",
       " 'ä¿': 48003,\n",
       " 'Ġsynopsis': 33577,\n",
       " 'ĠAUT': 40015,\n",
       " 'Ġdetect': 10933,\n",
       " '#': 10431,\n",
       " 'Ġdoesn': 630,\n",
       " 'ĠGran': 9328,\n",
       " 'Ġexemptions': 20712,\n",
       " 'Ġsilence': 7308,\n",
       " 'science': 33749,\n",
       " 'Flight': 41693,\n",
       " 'Ġcorrelates': 44555,\n",
       " 'Ġlegalizing': 32722,\n",
       " '250': 5714,\n",
       " 'Ġstrained': 15718,\n",
       " 'Ġexams': 15734,\n",
       " 'ĠMcKin': 15606,\n",
       " 'ĠPrep': 13915,\n",
       " 'Ġlady': 6429,\n",
       " 'Ġrushed': 6022,\n",
       " 'İĭ': 49756,\n",
       " 'Ġbloss': 25734,\n",
       " 'ĠContin': 21803,\n",
       " 'Ġresearch': 557,\n",
       " 'ĠIngram': 17018,\n",
       " 'ĠBed': 12164,\n",
       " 'Ġnarrower': 34700,\n",
       " 'ault': 8839,\n",
       " 'Ġflat': 3269,\n",
       " 'Gear': 45298,\n",
       " 'Turkey': 33133,\n",
       " 'Ġbrewed': 37611,\n",
       " 'Ġintriguing': 14816,\n",
       " 'oggle': 41971,\n",
       " 'inctions': 46350,\n",
       " 'ĠReuters': 1201,\n",
       " 'Ġskyrocket': 29229,\n",
       " 'ĠMinneapolis': 11435,\n",
       " 'never': 20042,\n",
       " 'Ġsyrup': 21580,\n",
       " 'istically': 18281,\n",
       " 'Ġdressing': 10386,\n",
       " 'Ġcal': 13011,\n",
       " 'Ġwildly': 17824,\n",
       " 'Ġcounselling': 24588,\n",
       " 'bers': 9569,\n",
       " 'ĠWord': 15690,\n",
       " '274': 30930,\n",
       " 'Ġvividly': 36607,\n",
       " 'ĠMerc': 13873,\n",
       " 'Ġvehicle': 1155,\n",
       " 'oglu': 24886,\n",
       " 'Ġsteered': 27469,\n",
       " 'Ont': 37618,\n",
       " 'ĠRJ': 37317,\n",
       " 'Ing': 41702,\n",
       " 'Ġanother': 277,\n",
       " 'Ġsafely': 7385,\n",
       " 'elo': 13961,\n",
       " 'ĠBroadcasting': 13610,\n",
       " 'ĠJarrett': 23393,\n",
       " 'ĠFit': 14950,\n",
       " 'Ġhaunting': 29475,\n",
       " 'Ġblueprint': 21057,\n",
       " 'ĠProcedure': 40209,\n",
       " 'ãĤ¶': 49751,\n",
       " 'Ġexperts': 2320,\n",
       " 'âĸĴ': 49824,\n",
       " 'Last': 10285,\n",
       " 'Ġsystematic': 20552,\n",
       " 'Ġhygiene': 19292,\n",
       " 'Ġmaternity': 21592,\n",
       " 'lane': 21765,\n",
       " 'Ġswayed': 34828,\n",
       " 'azaki': 38357,\n",
       " 'Ġmatching': 8150,\n",
       " 'Ġgrew': 2307,\n",
       " 'Ġuncontrolled': 38411,\n",
       " 'okia': 43946,\n",
       " 'Ġlocalization': 45005,\n",
       " 'ä»': 46890,\n",
       " 'ĠBind': 37685,\n",
       " '604': 33287,\n",
       " 'Ġgoblins': 47171,\n",
       " 'Ġintuitive': 23837,\n",
       " 'Ġthwart': 24153,\n",
       " 'ĠAlright': 41881,\n",
       " 'Ġbeneficiary': 23350,\n",
       " 'March': 11770,\n",
       " 'Ġcomposed': 14092,\n",
       " 'Ġit': 24,\n",
       " 'Ġbeverages': 14281,\n",
       " 'ĠYugoslav': 43197,\n",
       " 'uberty': 49207,\n",
       " 'Ġsuites': 25200,\n",
       " 'Ġbackfield': 24924,\n",
       " 'Ġhospital': 1098,\n",
       " 'ĠBuchanan': 24825,\n",
       " 'Ġfracking': 25752,\n",
       " 'Ġdared': 28335,\n",
       " 'Ball': 32983,\n",
       " 'Ġconcedes': 37210,\n",
       " 'MO': 8756,\n",
       " 'redict': 39733,\n",
       " 'Hundreds': 36062,\n",
       " '1007': 47281,\n",
       " 'Ġimports': 5058,\n",
       " 'Ġundocumented': 13573,\n",
       " 'oice': 41689,\n",
       " 'Ġkeen': 5609,\n",
       " 'Ġrh': 16448,\n",
       " 'ĠBedford': 21923,\n",
       " 'sin': 20338,\n",
       " 'OME': 25073,\n",
       " 'ĠMarriage': 29795,\n",
       " 'Ġprotection': 2591,\n",
       " 'Ġarteries': 33847,\n",
       " 'Jewish': 34696,\n",
       " 'ĠCollector': 38934,\n",
       " 'Spect': 44019,\n",
       " 'near': 34664,\n",
       " 'eatured': 36609,\n",
       " 'ĠPastor': 15489,\n",
       " 'Ġpublicized': 33365,\n",
       " 'zer': 6403,\n",
       " 'correct': 36064,\n",
       " 'ĠHIP': 41892,\n",
       " 'Clinton': 36206,\n",
       " 'ial': 2617,\n",
       " 'Ġpersistent': 13109,\n",
       " 'weak': 25785,\n",
       " 'Ġbackups': 32163,\n",
       " 'informed': 29068,\n",
       " 'Rus': 44867,\n",
       " 'inyl': 47253,\n",
       " 'Ġcards': 3591,\n",
       " 'Ġcarving': 29776,\n",
       " 'Ġembassy': 8885,\n",
       " 'iege': 45245,\n",
       " 'Ġincre': 47080,\n",
       " 'ppo': 38648,\n",
       " 'ĠNid': 40371,\n",
       " 'ĠRus': 14762,\n",
       " 'ĠOrd': 16702,\n",
       " 'ĠExtreme': 24495,\n",
       " 'Ġcrowned': 19061,\n",
       " 'Ġpatented': 29104,\n",
       " 'Ġinstallments': 36691,\n",
       " 'ĠUpon': 12630,\n",
       " 'Ġ808': 34970,\n",
       " 'ĠHerod': 45637,\n",
       " 'ĠTul': 18649,\n",
       " 'Ġoutsiders': 25445,\n",
       " 'Ton': 44100,\n",
       " 'ĠCrusader': 45166,\n",
       " 'ĠPerform': 24373,\n",
       " 'mu': 24249,\n",
       " 'ĠChelsea': 3098,\n",
       " 'ĠTell': 11378,\n",
       " 'uating': 17071,\n",
       " 'ĠRodham': 46581,\n",
       " 'ĠVIEW': 35086,\n",
       " 'Ġretreated': 24304,\n",
       " 'abet': 32479,\n",
       " 'click': 23008,\n",
       " 'WB': 36489,\n",
       " '145': 16504,\n",
       " 'Ġfridge': 22087,\n",
       " 'Ġcorners': 12078,\n",
       " 'Iron': 38398,\n",
       " 'pid': 43708,\n",
       " 'loads': 34888,\n",
       " 'Ġleave': 989,\n",
       " 'ĠDavidson': 10553,\n",
       " 'Ġpoorer': 22555,\n",
       " 'aster': 8831,\n",
       " 'Ġinitiatives': 5287,\n",
       " 'brace': 37123,\n",
       " 'udden': 37710,\n",
       " 'Ġextinction': 23989,\n",
       " 'photos': 40259,\n",
       " 'Ġ920': 37543,\n",
       " 'aturation': 41628,\n",
       " 'ĠVis': 10035,\n",
       " 'Ġgovern': 11738,\n",
       " '_{': 49747,\n",
       " 'ĠCapital': 1867,\n",
       " 'Ġexpressed': 2327,\n",
       " 'OT': 3293,\n",
       " 'node': 46840,\n",
       " 'Limited': 46732,\n",
       " 'Ġlowers': 32222,\n",
       " 'ĠFront': 7204,\n",
       " 'ĠPixar': 32000,\n",
       " 'ĠXML': 46917,\n",
       " 'Ġpopularity': 7347,\n",
       " 'Ġimpact': 913,\n",
       " 'GT': 18266,\n",
       " 'Ġlocom': 29964,\n",
       " 'ĠUnle': 46742,\n",
       " 'Ġproductive': 8737,\n",
       " 'ĠCorrespond': 24388,\n",
       " 'Ġshowcasing': 17708,\n",
       " 'ĠFM': 12895,\n",
       " 'Ġsurveys': 12092,\n",
       " 'Ġproduct': 1152,\n",
       " 'Ġgreet': 17395,\n",
       " 'Ġreferring': 5056,\n",
       " 'ME': 6570,\n",
       " 'Ġdri': 13911,\n",
       " 'Ġcomments': 1450,\n",
       " 'ĠByrne': 19788,\n",
       " 'Ġthwarted': 28299,\n",
       " 'yle': 14143,\n",
       " 'Ġinvade': 34425,\n",
       " 'Ġce': 8635,\n",
       " 'TOR': 18861,\n",
       " 'ĠTrick': 36511,\n",
       " 'iosity': 45226,\n",
       " 'minecraft': 49773,\n",
       " 'Ġnervously': 40968,\n",
       " 'ĠUnity': 19573,\n",
       " 'Ġinfiltrated': 37858,\n",
       " 'Ġ84': 7994,\n",
       " 'ĠTheater': 10112,\n",
       " 'ness': 1825,\n",
       " 'ĠCarlson': 15988,\n",
       " 'Ġaddict': 27857,\n",
       " 'ĠSony': 6366,\n",
       " 'ĠBuffett': 17776,\n",
       " 'ĠSleep': 19640,\n",
       " 'igate': 24343,\n",
       " 'Ġprohib': 34951,\n",
       " 'Ġlanding': 6684,\n",
       " 'Ġpetition': 5265,\n",
       " 'ĠSly': 40559,\n",
       " 'ĠiPhones': 14825,\n",
       " 'Ġages': 4864,\n",
       " 'ĠImprovement': 26657,\n",
       " 'ren': 2558,\n",
       " 'ĠSkills': 25855,\n",
       " 'Ġsediment': 31031,\n",
       " 'ĠEnsure': 38141,\n",
       " 'Ġtriglycer': 45426,\n",
       " 'ĠTigers': 5098,\n",
       " 'Ġcorrel': 46764,\n",
       " 'aeda': 48690,\n",
       " 'Ġthrive': 12692,\n",
       " 'DNA': 39287,\n",
       " 'ĠSave': 11873,\n",
       " 'ĠPlant': 12124,\n",
       " 'udic': 43940,\n",
       " 'ĠAdd': 4287,\n",
       " 'Ġkindness': 15963,\n",
       " 'complex': 42290,\n",
       " 'Grant': 41793,\n",
       " 'ĠWhitman': 32421,\n",
       " 'Ġ($)': 41945,\n",
       " 'ĠPolicies': 39474,\n",
       " 'Ġtrove': 32462,\n",
       " 'Ġnewspaper': 2924,\n",
       " 'Ġthemselves': 1235,\n",
       " 'Ġinstruments': 9571,\n",
       " 'MM': 16261,\n",
       " 'ĠNiet': 47036,\n",
       " 'Ġrecycling': 11690,\n",
       " 'ĠConfederacy': 38784,\n",
       " 'boy': 9902,\n",
       " 'ĠOutside': 13149,\n",
       " 'break': 10339,\n",
       " 'Ġexposed': 4924,\n",
       " 'ĠTus': 25312,\n",
       " 'Ġpad': 11212,\n",
       " 'Ġtracing': 35105,\n",
       " 'Ġvoc': 28312,\n",
       " 'ĠLetter': 17103,\n",
       " 'Sen': 24365,\n",
       " 'ĠFROM': 11974,\n",
       " 'ĠEarl': 16814,\n",
       " 'ĠLima': 18471,\n",
       " 'bf': 36920,\n",
       " 'ĠBuster': 31771,\n",
       " 'ĠBru': 11831,\n",
       " 'ĠERROR': 38586,\n",
       " 'Ġcensus': 18023,\n",
       " 'uum': 36080,\n",
       " 'Ġrounds': 5509,\n",
       " 'ĠKry': 20699,\n",
       " 'amus': 24389,\n",
       " 'Ġadvertising': 4579,\n",
       " 'Ġincidence': 24971,\n",
       " 'Ġalloy': 33057,\n",
       " 'Ġspeeds': 9706,\n",
       " 'True': 36948,\n",
       " 'Ġuterus': 36998,\n",
       " 'Ġsuperiors': 38045,\n",
       " '578': 38588,\n",
       " 'chant': 40805,\n",
       " 'ĠWebs': 41550,\n",
       " 'ocalyptic': 41855,\n",
       " 'ĠFan': 11232,\n",
       " 'emphasis': 44743,\n",
       " 'Ġgrandmother': 8853,\n",
       " 'ĠeBook': 46326,\n",
       " '========': 48273,\n",
       " 'ptic': 24617,\n",
       " 'ambers': 46877,\n",
       " 'EG': 7170,\n",
       " '70710': 49928,\n",
       " 'Ġperilous': 33873,\n",
       " 'Ġparamount': 24342,\n",
       " 'ĠGarage': 31584,\n",
       " 'Ġprint': 5780,\n",
       " 'éĽ': 48662,\n",
       " 'ĠBlake': 7177,\n",
       " 'Ġintent': 5927,\n",
       " 'osc': 17591,\n",
       " 'VILLE': 9199,\n",
       " 'ĠClojure': 49430,\n",
       " 'Æ': 8188,\n",
       " 'ĠNavajo': 29165,\n",
       " 'bian': 41917,\n",
       " 'ability': 4484,\n",
       " 'Ġhorizontally': 41893,\n",
       " 'Ġlegally': 7818,\n",
       " 'ool': 8110,\n",
       " 'Ġutilized': 20139,\n",
       " 'ĠKund': 29663,\n",
       " 'ĠRW': 34573,\n",
       " 'osed': 7878,\n",
       " 'Ġhappiest': 30947,\n",
       " 'Ġmanifestation': 36026,\n",
       " 'Ġallocate': 25915,\n",
       " 'Ġfortnight': 23165,\n",
       " 'Ġbondage': 42330,\n",
       " 'Ġshowing': 2018,\n",
       " 'Ġelected': 2736,\n",
       " 'Ġreliably': 29536,\n",
       " 'Give': 31033,\n",
       " 'ĠWrestling': 17541,\n",
       " 'Lead': 32258,\n",
       " 'Ġexcessively': 36785,\n",
       " 'ĠArmored': 45727,\n",
       " 'ĠTokens': 47121,\n",
       " 'inition': 48038,\n",
       " 'Ġhumanities': 38915,\n",
       " 'Ġsisters': 7502,\n",
       " 'Ġmetropolitan': 20887,\n",
       " 'Ġcohesion': 31657,\n",
       " '354': 34615,\n",
       " 'ugen': 38424,\n",
       " 'Ġenrol': 23716,\n",
       " 'Ġsaid': 26,\n",
       " 'ĠBanana': 37969,\n",
       " 'ĠAnything': 21893,\n",
       " 'Ġcomm': 7034,\n",
       " 'Ġharbour': 23849,\n",
       " 'Fed': 38186,\n",
       " '528': 38440,\n",
       " 'ĠPry': 42831,\n",
       " '005': 31866,\n",
       " 'Ġformulation': 32018,\n",
       " 'aito': 37837,\n",
       " 'ĠHatch': 19802,\n",
       " 'Ġdiminish': 25185,\n",
       " 'Ġsummar': 39186,\n",
       " 'amorph': 41801,\n",
       " 'Prep': 44165,\n",
       " 'load': 16204,\n",
       " 'Ġplain': 10798,\n",
       " 'Ġcrus': 33788,\n",
       " 'Ġresidence': 5238,\n",
       " 'ĠPlace': 6067,\n",
       " 'ĠAly': 25550,\n",
       " 'Ġstitch': 40708,\n",
       " 'Maker': 45111,\n",
       " 'ĠmL': 38762,\n",
       " 'ĠCrypt': 28850,\n",
       " 'ĠPrinted': 45338,\n",
       " 'Ġ(/': 48229,\n",
       " 'Ġhaw': 15935,\n",
       " 'Ġexhibitions': 23767,\n",
       " 'angering': 25913,\n",
       " 'Auth': 44298,\n",
       " 'Ġhanding': 12785,\n",
       " 'ĠBenefit': 28474,\n",
       " 'atories': 28172,\n",
       " 'ĠLiberals': 12993,\n",
       " '=\"\"': 48893,\n",
       " 'ĠResearch': 1624,\n",
       " 'ĠMoor': 19524,\n",
       " 'ĠUr': 9163,\n",
       " 'Oper': 20420,\n",
       " 'ĠDT': 22603,\n",
       " 'Ġ195': 22871,\n",
       " '++++++++++++++++': 49258,\n",
       " 'Ġdecks': 33507,\n",
       " 'Ġsidx': 50043,\n",
       " 'ĠBomb': 14521,\n",
       " 'Ġ1963': 18733,\n",
       " 'Ġsham': 31026,\n",
       " 'student': 34935,\n",
       " 'ĠPlaying': 15861,\n",
       " 'Ġpretend': 17050,\n",
       " 'ĠHitchcock': 31713,\n",
       " 'ĠSimple': 21375,\n",
       " 'Ġtestim': 35164,\n",
       " 'Ġdelaying': 20053,\n",
       " 'Ġhamm': 36212,\n",
       " 'Ġbarring': 20108,\n",
       " 'rison': 45361,\n",
       " 'perors': 46220,\n",
       " 'ĠRico': 6511,\n",
       " 'Ġwarrants': 11958,\n",
       " 'ĠNichols': 18641,\n",
       " 'Ġfloated': 19387,\n",
       " 'ĠDiesel': 25056,\n",
       " 'adult': 40688,\n",
       " 'spirit': 39203,\n",
       " 'ĠMelee': 48261,\n",
       " 'illin': 36817,\n",
       " 'ĠPure': 19769,\n",
       " 'ahs': 25118,\n",
       " 'Copy': 48233,\n",
       " 'Ġtrek': 18526,\n",
       " 'Ġcompared': 1118,\n",
       " 'ĠLeBron': 9517,\n",
       " 'ĠSeg': 17324,\n",
       " 'ĠClar': 18407,\n",
       " 'ĠYing': 27317,\n",
       " 'sol': 29837,\n",
       " 'Elect': 31824,\n",
       " 'Ġwel': 18965,\n",
       " 'Move': 41389,\n",
       " 'ĠCaroline': 11820,\n",
       " 'ĠNikki': 15141,\n",
       " 'Ġculp': 29410,\n",
       " 'ĠKilled': 36143,\n",
       " 'iery': 38693,\n",
       " 'thodox': 43469,\n",
       " 'Ġseeks': 6330,\n",
       " 'Ġsucceed': 6726,\n",
       " 'Ġdispos': 22031,\n",
       " 'Ġconfiscated': 24910,\n",
       " 'ĠOT': 14843,\n",
       " 'lessness': 16337,\n",
       " 'dated': 26064,\n",
       " 'abb': 8448,\n",
       " 'Ġtraveler': 33489,\n",
       " 'olor': 37194,\n",
       " 'ĠTODAY': 6733,\n",
       " 'ĠNum': 36725,\n",
       " 'ept': 44145,\n",
       " 'Ġwil': 27487,\n",
       " 'Mission': 39928,\n",
       " 'Ġindistinguishable': 43599,\n",
       " 'Ġmeets': 6616,\n",
       " 'ĠSammy': 24540,\n",
       " '][': 46386,\n",
       " 'ĠMasquerade': 46967,\n",
       " 'requ': 42172,\n",
       " 'Wikipedia': 47681,\n",
       " 'Ġaccuses': 18519,\n",
       " 'Ġhotline': 22922,\n",
       " 'Ġrelentlessly': 29836,\n",
       " 'ĠPens': 17223,\n",
       " 'Ġgrant': 4470,\n",
       " 'Ġreinforcements': 33675,\n",
       " 'ĠChapter': 8749,\n",
       " 'Ġtip': 4767,\n",
       " 'Ġmedications': 12102,\n",
       " 'aws': 17415,\n",
       " 'Ġtug': 24447,\n",
       " 'CHAR': 29146,\n",
       " 'ĠLevant': 31500,\n",
       " 'Ġ130': 8325,\n",
       " 'ĠHEAD': 36337,\n",
       " 'Vision': 36753,\n",
       " 'orns': 16248,\n",
       " 'ĠFundamental': 37898,\n",
       " 'ĠChronic': 38207,\n",
       " 'iev': 18421,\n",
       " 'urrent': 41937,\n",
       " 'ederal': 40316,\n",
       " 'ĠNOT': 8127,\n",
       " 'Ġannihilation': 43029,\n",
       " 'rities': 33907,\n",
       " 'Ġentire': 1445,\n",
       " 'ec': 3204,\n",
       " 'Ġstroke': 8579,\n",
       " 'ĠTire': 24603,\n",
       " '=[': 49310,\n",
       " 'ĠYORK': 4180,\n",
       " 'ĠMid': 4079,\n",
       " 'ĠMonarch': 34041,\n",
       " 'Ġextension': 5064,\n",
       " 'Library': 44855,\n",
       " 'Ġcoffee': 3895,\n",
       " 'Ġadditional': 943,\n",
       " 'Ġtwisting': 35492,\n",
       " 'ĠSheffield': 9667,\n",
       " '],': 7479,\n",
       " 'abilities': 25264,\n",
       " 'ĠExper': 26403,\n",
       " 'INGS': 10942,\n",
       " 'Ġradical': 7371,\n",
       " 'Ġslashing': 24682,\n",
       " 'Ġskin': 3024,\n",
       " 'ĠMAX': 28066,\n",
       " 'Ġ1975': 14873,\n",
       " 'ĠCheese': 25436,\n",
       " 'ĠGuards': 26197,\n",
       " 'pdf': 31494,\n",
       " 'Ġprospect': 4517,\n",
       " 'ĠRAND': 43015,\n",
       " 'Ġbash': 12882,\n",
       " 'Ġgenre': 11581,\n",
       " 'Ġindications': 15832,\n",
       " 'Ġinhabit': 36684,\n",
       " 'ĠGuang': 21105,\n",
       " 'Ġcontribut': 42423,\n",
       " 'owered': 45601,\n",
       " 'ymph': 36935,\n",
       " 'ĠACT': 12928,\n",
       " 'Ġmum': 8562,\n",
       " 'ship': 24754,\n",
       " 'ĠTall': 12388,\n",
       " 'woods': 27684,\n",
       " 'ãģ®éŃĶ': 50059,\n",
       " 'Ġcompliments': 33391,\n",
       " 'ĠADA': 38376,\n",
       " 'Ġcommanded': 30655,\n",
       " 'ĠEagle': 9587,\n",
       " 'Ġconsisted': 22061,\n",
       " 'ĠMorrow': 27096,\n",
       " 'Ġdexterity': 44575,\n",
       " 'Ġglared': 47889,\n",
       " 'Ġstark': 12664,\n",
       " 'sheets': 39387,\n",
       " 'Ġmove': 517,\n",
       " 'ĠJul': 9654,\n",
       " 'Ġfences': 23540,\n",
       " 'ĠShots': 35037,\n",
       " 'Ġcorrespondent': 14093,\n",
       " 'ascade': 48431,\n",
       " 'Ġproxies': 37117,\n",
       " 'Ġrazor': 26700,\n",
       " 'Ġblades': 28296,\n",
       " 'ĠStory': 3718,\n",
       " 'ĠDisclosure': 15576,\n",
       " 'ĠOrtiz': 17585,\n",
       " 'ĠHein': 14370,\n",
       " 'ĠProsecut': 39039,\n",
       " 'Ġblocking': 8890,\n",
       " 'Ġabol': 38226,\n",
       " 'mint': 30732,\n",
       " 'itage': 37061,\n",
       " 'let': 2716,\n",
       " 'Die': 28535,\n",
       " 'Ġintoler': 39348,\n",
       " 'Ġbec': 44949,\n",
       " 'Ġinsensitive': 29401,\n",
       " 'ĠPredators': 18445,\n",
       " 'porary': 42023,\n",
       " 'Ġtoile': 48484,\n",
       " 'Synopsis': 49388,\n",
       " 'ĠWeaver': 19462,\n",
       " 'ĠNeb': 23197,\n",
       " 'ĠHunt': 7567,\n",
       " 'ĠFeaturing': 27901,\n",
       " 'Ġeach': 349,\n",
       " 'ĠPau': 24692,\n",
       " 'Ġreaction': 4289,\n",
       " 'ĠPump': 29033,\n",
       " 'winter': 31421,\n",
       " 'kept': 38584,\n",
       " 'locking': 42474,\n",
       " 'ĠReaper': 43374,\n",
       " 'ENDED': 44456,\n",
       " 'Ġchem': 28033,\n",
       " 'ĠEVs': 34857,\n",
       " 'Ġevils': 40367,\n",
       " 'Minor': 47246,\n",
       " 'Ġchampionship': 2836,\n",
       " 'Ġorbit': 13435,\n",
       " 'PAR': 14280,\n",
       " 'Ġtasked': 12639,\n",
       " 'Ġsnap': 6788,\n",
       " 'Ġmasked': 24397,\n",
       " 'Ġclause': 13166,\n",
       " 'ĠCreation': 37520,\n",
       " 'Ġruling': 2255,\n",
       " 'Ġranged': 20047,\n",
       " 'Ġsoul': 7047,\n",
       " 'ĠCause': 24197,\n",
       " 'Ġintimacy': 29598,\n",
       " 'Ġfandom': 39401,\n",
       " 'conservancy': 49273,\n",
       " 'Ġreplay': 16462,\n",
       " 'iary': 17174,\n",
       " 'ĠPets': 33104,\n",
       " 'Ġlandscapes': 23525,\n",
       " 'Ġdetrimental': 23883,\n",
       " 'ENC': 29076,\n",
       " 'ouple': 41112,\n",
       " 'ĠZimbabwe': 4637,\n",
       " 'Ġham': 11402,\n",
       " 'Ġunresolved': 29909,\n",
       " 'Ġpoetic': 33709,\n",
       " 'ĠMeier': 38008,\n",
       " 'zzy': 32792,\n",
       " 'Ġcheated': 25177,\n",
       " 'Ġfundament': 46352,\n",
       " '855': 33450,\n",
       " 'Ġ348': 41097,\n",
       " 'ently': 7240,\n",
       " 'Ġdiversity': 5845,\n",
       " 'Ġcrown': 6420,\n",
       " 'Do': 8275,\n",
       " 'Ġsponsor': 9242,\n",
       " 'ĠSays': 15674,\n",
       " 'actory': 27670,\n",
       " 'Ġlevers': 37409,\n",
       " 'Ġsequest': 38827,\n",
       " '524': 38803,\n",
       " 'ĠRaise': 39208,\n",
       " 'ĠTDs': 18130,\n",
       " 'idency': 41059,\n",
       " 'ierre': 41307,\n",
       " 'Gre': 39845,\n",
       " 'ĠLX': 43908,\n",
       " 'keeping': 12609,\n",
       " 'ĠPersian': 27775,\n",
       " 'ĠRated': 40723,\n",
       " 'Ġhierarch': 45007,\n",
       " 'Ġignorant': 27726,\n",
       " 'orgetown': 47301,\n",
       " 'comings': 47657,\n",
       " 'Ġ&&': 48200,\n",
       " 'ĠOccupations': 48808,\n",
       " 'uture': 47028,\n",
       " 'Ġtraced': 21069,\n",
       " 'Ġexcellent': 4206,\n",
       " 'Ġdesk': 8429,\n",
       " 'Ġdevoted': 11213,\n",
       " 'ĠXiao': 41276,\n",
       " 'Ġadvertisements': 20170,\n",
       " 'Ġexploration': 6942,\n",
       " 'arers': 22945,\n",
       " 'ĠWordPress': 33398,\n",
       " 'ĠHoldings': 4357,\n",
       " 'Ġposting': 6016,\n",
       " 'ĠPeters': 11975,\n",
       " 'ĠTee': 33698,\n",
       " ':-': 36185,\n",
       " 'Ġinsurg': 46193,\n",
       " 'ãĥŁ': 49644,\n",
       " 'Ġ)]': 49940,\n",
       " 'Firstly': 45567,\n",
       " 'ĠAmen': 36969,\n",
       " 'wn': 11538,\n",
       " 'oliath': 39283,\n",
       " 'Ġoverlap': 27573,\n",
       " 'administ': 31302,\n",
       " 'rio': 12834,\n",
       " 'ĠTHEY': 36698,\n",
       " 'Ġforest': 6693,\n",
       " 'ĠDwell': 45515,\n",
       " 'Ġconnects': 15230,\n",
       " 'Ġvisitation': 30499,\n",
       " 'Ġlawmaker': 10302,\n",
       " 'Ġinfringing': 41129,\n",
       " 'Ġsugars': 34625,\n",
       " 'Ġspawns': 47575,\n",
       " 'ĠBlaster': 46816,\n",
       " 'ĠBraz': 30096,\n",
       " 'othing': 45521,\n",
       " 'ĠPay': 6898,\n",
       " 'ĠForward': 10038,\n",
       " 'ĠCarib': 34093,\n",
       " 'Ġflu': 6626,\n",
       " 'STRUCT': 45302,\n",
       " 'ĠDonkey': 43911,\n",
       " 'Ġdwindling': 25564,\n",
       " 'ĠPlays': 39163,\n",
       " 'verting': 40606,\n",
       " 'Ġshouted': 15355,\n",
       " 'Ġmeasure': 2450,\n",
       " 'ĠCyn': 43042,\n",
       " 'This': 713,\n",
       " 'Ġweapons': 2398,\n",
       " 'Ġirrigation': 20500,\n",
       " 'Ġcurric': 39167,\n",
       " 'Ġwelcome': 2814,\n",
       " 'Ġholder': 14034,\n",
       " 'ebin': 49088,\n",
       " ...}"
      ]
     },
     "execution_count": 16,
     "metadata": {},
     "output_type": "execute_result"
    }
   ],
   "source": [
    "init_tokenizer.vocab"
   ]
  },
  {
   "cell_type": "code",
   "execution_count": null,
   "id": "9b6e47c7",
   "metadata": {},
   "outputs": [],
   "source": []
  },
  {
   "cell_type": "code",
   "execution_count": 17,
   "id": "94fd2929",
   "metadata": {
    "execution": {
     "iopub.execute_input": "2024-09-10T16:00:22.729007Z",
     "iopub.status.busy": "2024-09-10T16:00:22.728756Z",
     "iopub.status.idle": "2024-09-10T16:00:22.744886Z",
     "shell.execute_reply": "2024-09-10T16:00:22.744415Z"
    }
   },
   "outputs": [
    {
     "data": {
      "text/html": [
       "<pre style=\"white-space:pre;overflow-x:auto;line-height:normal;font-family:Menlo,'DejaVu Sans Mono',consolas,'Courier New',monospace\"><span style=\"color: #800080; text-decoration-color: #800080; font-weight: bold\">BartForConditionalGeneration</span><span style=\"font-weight: bold\">(</span>\n",
       "  <span style=\"font-weight: bold\">(</span>model<span style=\"font-weight: bold\">)</span>: <span style=\"color: #800080; text-decoration-color: #800080; font-weight: bold\">BartModel</span><span style=\"font-weight: bold\">(</span>\n",
       "    <span style=\"font-weight: bold\">(</span>shared<span style=\"font-weight: bold\">)</span>: <span style=\"color: #800080; text-decoration-color: #800080; font-weight: bold\">Embedding</span><span style=\"font-weight: bold\">(</span><span style=\"color: #008080; text-decoration-color: #008080; font-weight: bold\">50265</span>, <span style=\"color: #008080; text-decoration-color: #008080; font-weight: bold\">1024</span>, <span style=\"color: #808000; text-decoration-color: #808000\">padding_idx</span>=<span style=\"color: #008080; text-decoration-color: #008080; font-weight: bold\">1</span><span style=\"font-weight: bold\">)</span>\n",
       "    <span style=\"font-weight: bold\">(</span>encoder<span style=\"font-weight: bold\">)</span>: <span style=\"color: #800080; text-decoration-color: #800080; font-weight: bold\">BartEncoder</span><span style=\"font-weight: bold\">(</span>\n",
       "      <span style=\"font-weight: bold\">(</span>embed_tokens<span style=\"font-weight: bold\">)</span>: <span style=\"color: #800080; text-decoration-color: #800080; font-weight: bold\">Embedding</span><span style=\"font-weight: bold\">(</span><span style=\"color: #008080; text-decoration-color: #008080; font-weight: bold\">50265</span>, <span style=\"color: #008080; text-decoration-color: #008080; font-weight: bold\">1024</span>, <span style=\"color: #808000; text-decoration-color: #808000\">padding_idx</span>=<span style=\"color: #008080; text-decoration-color: #008080; font-weight: bold\">1</span><span style=\"font-weight: bold\">)</span>\n",
       "      <span style=\"font-weight: bold\">(</span>embed_positions<span style=\"font-weight: bold\">)</span>: <span style=\"color: #800080; text-decoration-color: #800080; font-weight: bold\">BartLearnedPositionalEmbedding</span><span style=\"font-weight: bold\">(</span><span style=\"color: #008080; text-decoration-color: #008080; font-weight: bold\">1026</span>, <span style=\"color: #008080; text-decoration-color: #008080; font-weight: bold\">1024</span><span style=\"font-weight: bold\">)</span>\n",
       "      <span style=\"font-weight: bold\">(</span>layers<span style=\"font-weight: bold\">)</span>: <span style=\"color: #800080; text-decoration-color: #800080; font-weight: bold\">ModuleList</span><span style=\"font-weight: bold\">(</span>\n",
       "        <span style=\"font-weight: bold\">(</span><span style=\"color: #008080; text-decoration-color: #008080; font-weight: bold\">0</span>-<span style=\"color: #008080; text-decoration-color: #008080; font-weight: bold\">11</span><span style=\"font-weight: bold\">)</span>: <span style=\"color: #008080; text-decoration-color: #008080; font-weight: bold\">12</span> x <span style=\"color: #800080; text-decoration-color: #800080; font-weight: bold\">BartEncoderLayer</span><span style=\"font-weight: bold\">(</span>\n",
       "          <span style=\"font-weight: bold\">(</span>self_attn<span style=\"font-weight: bold\">)</span>: <span style=\"color: #800080; text-decoration-color: #800080; font-weight: bold\">BartAttention</span><span style=\"font-weight: bold\">(</span>\n",
       "            <span style=\"font-weight: bold\">(</span>k_proj<span style=\"font-weight: bold\">)</span>: <span style=\"color: #800080; text-decoration-color: #800080; font-weight: bold\">Linear</span><span style=\"font-weight: bold\">(</span><span style=\"color: #808000; text-decoration-color: #808000\">in_features</span>=<span style=\"color: #008080; text-decoration-color: #008080; font-weight: bold\">1024</span>, <span style=\"color: #808000; text-decoration-color: #808000\">out_features</span>=<span style=\"color: #008080; text-decoration-color: #008080; font-weight: bold\">1024</span>, <span style=\"color: #808000; text-decoration-color: #808000\">bias</span>=<span style=\"color: #00ff00; text-decoration-color: #00ff00; font-style: italic\">True</span><span style=\"font-weight: bold\">)</span>\n",
       "            <span style=\"font-weight: bold\">(</span>v_proj<span style=\"font-weight: bold\">)</span>: <span style=\"color: #800080; text-decoration-color: #800080; font-weight: bold\">Linear</span><span style=\"font-weight: bold\">(</span><span style=\"color: #808000; text-decoration-color: #808000\">in_features</span>=<span style=\"color: #008080; text-decoration-color: #008080; font-weight: bold\">1024</span>, <span style=\"color: #808000; text-decoration-color: #808000\">out_features</span>=<span style=\"color: #008080; text-decoration-color: #008080; font-weight: bold\">1024</span>, <span style=\"color: #808000; text-decoration-color: #808000\">bias</span>=<span style=\"color: #00ff00; text-decoration-color: #00ff00; font-style: italic\">True</span><span style=\"font-weight: bold\">)</span>\n",
       "            <span style=\"font-weight: bold\">(</span>q_proj<span style=\"font-weight: bold\">)</span>: <span style=\"color: #800080; text-decoration-color: #800080; font-weight: bold\">Linear</span><span style=\"font-weight: bold\">(</span><span style=\"color: #808000; text-decoration-color: #808000\">in_features</span>=<span style=\"color: #008080; text-decoration-color: #008080; font-weight: bold\">1024</span>, <span style=\"color: #808000; text-decoration-color: #808000\">out_features</span>=<span style=\"color: #008080; text-decoration-color: #008080; font-weight: bold\">1024</span>, <span style=\"color: #808000; text-decoration-color: #808000\">bias</span>=<span style=\"color: #00ff00; text-decoration-color: #00ff00; font-style: italic\">True</span><span style=\"font-weight: bold\">)</span>\n",
       "            <span style=\"font-weight: bold\">(</span>out_proj<span style=\"font-weight: bold\">)</span>: <span style=\"color: #800080; text-decoration-color: #800080; font-weight: bold\">Linear</span><span style=\"font-weight: bold\">(</span><span style=\"color: #808000; text-decoration-color: #808000\">in_features</span>=<span style=\"color: #008080; text-decoration-color: #008080; font-weight: bold\">1024</span>, <span style=\"color: #808000; text-decoration-color: #808000\">out_features</span>=<span style=\"color: #008080; text-decoration-color: #008080; font-weight: bold\">1024</span>, <span style=\"color: #808000; text-decoration-color: #808000\">bias</span>=<span style=\"color: #00ff00; text-decoration-color: #00ff00; font-style: italic\">True</span><span style=\"font-weight: bold\">)</span>\n",
       "          <span style=\"font-weight: bold\">)</span>\n",
       "          <span style=\"font-weight: bold\">(</span>self_attn_layer_norm<span style=\"font-weight: bold\">)</span>: <span style=\"color: #800080; text-decoration-color: #800080; font-weight: bold\">LayerNorm</span><span style=\"font-weight: bold\">((</span><span style=\"color: #008080; text-decoration-color: #008080; font-weight: bold\">1024</span>,<span style=\"font-weight: bold\">)</span>, <span style=\"color: #808000; text-decoration-color: #808000\">eps</span>=<span style=\"color: #008080; text-decoration-color: #008080; font-weight: bold\">1e-05</span>, <span style=\"color: #808000; text-decoration-color: #808000\">elementwise_affine</span>=<span style=\"color: #00ff00; text-decoration-color: #00ff00; font-style: italic\">True</span><span style=\"font-weight: bold\">)</span>\n",
       "          <span style=\"font-weight: bold\">(</span>activation_fn<span style=\"font-weight: bold\">)</span>: <span style=\"color: #800080; text-decoration-color: #800080; font-weight: bold\">GELUActivation</span><span style=\"font-weight: bold\">()</span>\n",
       "          <span style=\"font-weight: bold\">(</span>fc1<span style=\"font-weight: bold\">)</span>: <span style=\"color: #800080; text-decoration-color: #800080; font-weight: bold\">Linear</span><span style=\"font-weight: bold\">(</span><span style=\"color: #808000; text-decoration-color: #808000\">in_features</span>=<span style=\"color: #008080; text-decoration-color: #008080; font-weight: bold\">1024</span>, <span style=\"color: #808000; text-decoration-color: #808000\">out_features</span>=<span style=\"color: #008080; text-decoration-color: #008080; font-weight: bold\">4096</span>, <span style=\"color: #808000; text-decoration-color: #808000\">bias</span>=<span style=\"color: #00ff00; text-decoration-color: #00ff00; font-style: italic\">True</span><span style=\"font-weight: bold\">)</span>\n",
       "          <span style=\"font-weight: bold\">(</span>fc2<span style=\"font-weight: bold\">)</span>: <span style=\"color: #800080; text-decoration-color: #800080; font-weight: bold\">Linear</span><span style=\"font-weight: bold\">(</span><span style=\"color: #808000; text-decoration-color: #808000\">in_features</span>=<span style=\"color: #008080; text-decoration-color: #008080; font-weight: bold\">4096</span>, <span style=\"color: #808000; text-decoration-color: #808000\">out_features</span>=<span style=\"color: #008080; text-decoration-color: #008080; font-weight: bold\">1024</span>, <span style=\"color: #808000; text-decoration-color: #808000\">bias</span>=<span style=\"color: #00ff00; text-decoration-color: #00ff00; font-style: italic\">True</span><span style=\"font-weight: bold\">)</span>\n",
       "          <span style=\"font-weight: bold\">(</span>final_layer_norm<span style=\"font-weight: bold\">)</span>: <span style=\"color: #800080; text-decoration-color: #800080; font-weight: bold\">LayerNorm</span><span style=\"font-weight: bold\">((</span><span style=\"color: #008080; text-decoration-color: #008080; font-weight: bold\">1024</span>,<span style=\"font-weight: bold\">)</span>, <span style=\"color: #808000; text-decoration-color: #808000\">eps</span>=<span style=\"color: #008080; text-decoration-color: #008080; font-weight: bold\">1e-05</span>, <span style=\"color: #808000; text-decoration-color: #808000\">elementwise_affine</span>=<span style=\"color: #00ff00; text-decoration-color: #00ff00; font-style: italic\">True</span><span style=\"font-weight: bold\">)</span>\n",
       "        <span style=\"font-weight: bold\">)</span>\n",
       "      <span style=\"font-weight: bold\">)</span>\n",
       "      <span style=\"font-weight: bold\">(</span>layernorm_embedding<span style=\"font-weight: bold\">)</span>: <span style=\"color: #800080; text-decoration-color: #800080; font-weight: bold\">LayerNorm</span><span style=\"font-weight: bold\">((</span><span style=\"color: #008080; text-decoration-color: #008080; font-weight: bold\">1024</span>,<span style=\"font-weight: bold\">)</span>, <span style=\"color: #808000; text-decoration-color: #808000\">eps</span>=<span style=\"color: #008080; text-decoration-color: #008080; font-weight: bold\">1e-05</span>, <span style=\"color: #808000; text-decoration-color: #808000\">elementwise_affine</span>=<span style=\"color: #00ff00; text-decoration-color: #00ff00; font-style: italic\">True</span><span style=\"font-weight: bold\">)</span>\n",
       "    <span style=\"font-weight: bold\">)</span>\n",
       "    <span style=\"font-weight: bold\">(</span>decoder<span style=\"font-weight: bold\">)</span>: <span style=\"color: #800080; text-decoration-color: #800080; font-weight: bold\">BartDecoder</span><span style=\"font-weight: bold\">(</span>\n",
       "      <span style=\"font-weight: bold\">(</span>embed_tokens<span style=\"font-weight: bold\">)</span>: <span style=\"color: #800080; text-decoration-color: #800080; font-weight: bold\">Embedding</span><span style=\"font-weight: bold\">(</span><span style=\"color: #008080; text-decoration-color: #008080; font-weight: bold\">50265</span>, <span style=\"color: #008080; text-decoration-color: #008080; font-weight: bold\">1024</span>, <span style=\"color: #808000; text-decoration-color: #808000\">padding_idx</span>=<span style=\"color: #008080; text-decoration-color: #008080; font-weight: bold\">1</span><span style=\"font-weight: bold\">)</span>\n",
       "      <span style=\"font-weight: bold\">(</span>embed_positions<span style=\"font-weight: bold\">)</span>: <span style=\"color: #800080; text-decoration-color: #800080; font-weight: bold\">BartLearnedPositionalEmbedding</span><span style=\"font-weight: bold\">(</span><span style=\"color: #008080; text-decoration-color: #008080; font-weight: bold\">1026</span>, <span style=\"color: #008080; text-decoration-color: #008080; font-weight: bold\">1024</span><span style=\"font-weight: bold\">)</span>\n",
       "      <span style=\"font-weight: bold\">(</span>layers<span style=\"font-weight: bold\">)</span>: <span style=\"color: #800080; text-decoration-color: #800080; font-weight: bold\">ModuleList</span><span style=\"font-weight: bold\">(</span>\n",
       "        <span style=\"font-weight: bold\">(</span><span style=\"color: #008080; text-decoration-color: #008080; font-weight: bold\">0</span>-<span style=\"color: #008080; text-decoration-color: #008080; font-weight: bold\">11</span><span style=\"font-weight: bold\">)</span>: <span style=\"color: #008080; text-decoration-color: #008080; font-weight: bold\">12</span> x <span style=\"color: #800080; text-decoration-color: #800080; font-weight: bold\">BartDecoderLayer</span><span style=\"font-weight: bold\">(</span>\n",
       "          <span style=\"font-weight: bold\">(</span>self_attn<span style=\"font-weight: bold\">)</span>: <span style=\"color: #800080; text-decoration-color: #800080; font-weight: bold\">BartAttention</span><span style=\"font-weight: bold\">(</span>\n",
       "            <span style=\"font-weight: bold\">(</span>k_proj<span style=\"font-weight: bold\">)</span>: <span style=\"color: #800080; text-decoration-color: #800080; font-weight: bold\">Linear</span><span style=\"font-weight: bold\">(</span><span style=\"color: #808000; text-decoration-color: #808000\">in_features</span>=<span style=\"color: #008080; text-decoration-color: #008080; font-weight: bold\">1024</span>, <span style=\"color: #808000; text-decoration-color: #808000\">out_features</span>=<span style=\"color: #008080; text-decoration-color: #008080; font-weight: bold\">1024</span>, <span style=\"color: #808000; text-decoration-color: #808000\">bias</span>=<span style=\"color: #00ff00; text-decoration-color: #00ff00; font-style: italic\">True</span><span style=\"font-weight: bold\">)</span>\n",
       "            <span style=\"font-weight: bold\">(</span>v_proj<span style=\"font-weight: bold\">)</span>: <span style=\"color: #800080; text-decoration-color: #800080; font-weight: bold\">Linear</span><span style=\"font-weight: bold\">(</span><span style=\"color: #808000; text-decoration-color: #808000\">in_features</span>=<span style=\"color: #008080; text-decoration-color: #008080; font-weight: bold\">1024</span>, <span style=\"color: #808000; text-decoration-color: #808000\">out_features</span>=<span style=\"color: #008080; text-decoration-color: #008080; font-weight: bold\">1024</span>, <span style=\"color: #808000; text-decoration-color: #808000\">bias</span>=<span style=\"color: #00ff00; text-decoration-color: #00ff00; font-style: italic\">True</span><span style=\"font-weight: bold\">)</span>\n",
       "            <span style=\"font-weight: bold\">(</span>q_proj<span style=\"font-weight: bold\">)</span>: <span style=\"color: #800080; text-decoration-color: #800080; font-weight: bold\">Linear</span><span style=\"font-weight: bold\">(</span><span style=\"color: #808000; text-decoration-color: #808000\">in_features</span>=<span style=\"color: #008080; text-decoration-color: #008080; font-weight: bold\">1024</span>, <span style=\"color: #808000; text-decoration-color: #808000\">out_features</span>=<span style=\"color: #008080; text-decoration-color: #008080; font-weight: bold\">1024</span>, <span style=\"color: #808000; text-decoration-color: #808000\">bias</span>=<span style=\"color: #00ff00; text-decoration-color: #00ff00; font-style: italic\">True</span><span style=\"font-weight: bold\">)</span>\n",
       "            <span style=\"font-weight: bold\">(</span>out_proj<span style=\"font-weight: bold\">)</span>: <span style=\"color: #800080; text-decoration-color: #800080; font-weight: bold\">Linear</span><span style=\"font-weight: bold\">(</span><span style=\"color: #808000; text-decoration-color: #808000\">in_features</span>=<span style=\"color: #008080; text-decoration-color: #008080; font-weight: bold\">1024</span>, <span style=\"color: #808000; text-decoration-color: #808000\">out_features</span>=<span style=\"color: #008080; text-decoration-color: #008080; font-weight: bold\">1024</span>, <span style=\"color: #808000; text-decoration-color: #808000\">bias</span>=<span style=\"color: #00ff00; text-decoration-color: #00ff00; font-style: italic\">True</span><span style=\"font-weight: bold\">)</span>\n",
       "          <span style=\"font-weight: bold\">)</span>\n",
       "          <span style=\"font-weight: bold\">(</span>activation_fn<span style=\"font-weight: bold\">)</span>: <span style=\"color: #800080; text-decoration-color: #800080; font-weight: bold\">GELUActivation</span><span style=\"font-weight: bold\">()</span>\n",
       "          <span style=\"font-weight: bold\">(</span>self_attn_layer_norm<span style=\"font-weight: bold\">)</span>: <span style=\"color: #800080; text-decoration-color: #800080; font-weight: bold\">LayerNorm</span><span style=\"font-weight: bold\">((</span><span style=\"color: #008080; text-decoration-color: #008080; font-weight: bold\">1024</span>,<span style=\"font-weight: bold\">)</span>, <span style=\"color: #808000; text-decoration-color: #808000\">eps</span>=<span style=\"color: #008080; text-decoration-color: #008080; font-weight: bold\">1e-05</span>, <span style=\"color: #808000; text-decoration-color: #808000\">elementwise_affine</span>=<span style=\"color: #00ff00; text-decoration-color: #00ff00; font-style: italic\">True</span><span style=\"font-weight: bold\">)</span>\n",
       "          <span style=\"font-weight: bold\">(</span>encoder_attn<span style=\"font-weight: bold\">)</span>: <span style=\"color: #800080; text-decoration-color: #800080; font-weight: bold\">BartAttention</span><span style=\"font-weight: bold\">(</span>\n",
       "            <span style=\"font-weight: bold\">(</span>k_proj<span style=\"font-weight: bold\">)</span>: <span style=\"color: #800080; text-decoration-color: #800080; font-weight: bold\">Linear</span><span style=\"font-weight: bold\">(</span><span style=\"color: #808000; text-decoration-color: #808000\">in_features</span>=<span style=\"color: #008080; text-decoration-color: #008080; font-weight: bold\">1024</span>, <span style=\"color: #808000; text-decoration-color: #808000\">out_features</span>=<span style=\"color: #008080; text-decoration-color: #008080; font-weight: bold\">1024</span>, <span style=\"color: #808000; text-decoration-color: #808000\">bias</span>=<span style=\"color: #00ff00; text-decoration-color: #00ff00; font-style: italic\">True</span><span style=\"font-weight: bold\">)</span>\n",
       "            <span style=\"font-weight: bold\">(</span>v_proj<span style=\"font-weight: bold\">)</span>: <span style=\"color: #800080; text-decoration-color: #800080; font-weight: bold\">Linear</span><span style=\"font-weight: bold\">(</span><span style=\"color: #808000; text-decoration-color: #808000\">in_features</span>=<span style=\"color: #008080; text-decoration-color: #008080; font-weight: bold\">1024</span>, <span style=\"color: #808000; text-decoration-color: #808000\">out_features</span>=<span style=\"color: #008080; text-decoration-color: #008080; font-weight: bold\">1024</span>, <span style=\"color: #808000; text-decoration-color: #808000\">bias</span>=<span style=\"color: #00ff00; text-decoration-color: #00ff00; font-style: italic\">True</span><span style=\"font-weight: bold\">)</span>\n",
       "            <span style=\"font-weight: bold\">(</span>q_proj<span style=\"font-weight: bold\">)</span>: <span style=\"color: #800080; text-decoration-color: #800080; font-weight: bold\">Linear</span><span style=\"font-weight: bold\">(</span><span style=\"color: #808000; text-decoration-color: #808000\">in_features</span>=<span style=\"color: #008080; text-decoration-color: #008080; font-weight: bold\">1024</span>, <span style=\"color: #808000; text-decoration-color: #808000\">out_features</span>=<span style=\"color: #008080; text-decoration-color: #008080; font-weight: bold\">1024</span>, <span style=\"color: #808000; text-decoration-color: #808000\">bias</span>=<span style=\"color: #00ff00; text-decoration-color: #00ff00; font-style: italic\">True</span><span style=\"font-weight: bold\">)</span>\n",
       "            <span style=\"font-weight: bold\">(</span>out_proj<span style=\"font-weight: bold\">)</span>: <span style=\"color: #800080; text-decoration-color: #800080; font-weight: bold\">Linear</span><span style=\"font-weight: bold\">(</span><span style=\"color: #808000; text-decoration-color: #808000\">in_features</span>=<span style=\"color: #008080; text-decoration-color: #008080; font-weight: bold\">1024</span>, <span style=\"color: #808000; text-decoration-color: #808000\">out_features</span>=<span style=\"color: #008080; text-decoration-color: #008080; font-weight: bold\">1024</span>, <span style=\"color: #808000; text-decoration-color: #808000\">bias</span>=<span style=\"color: #00ff00; text-decoration-color: #00ff00; font-style: italic\">True</span><span style=\"font-weight: bold\">)</span>\n",
       "          <span style=\"font-weight: bold\">)</span>\n",
       "          <span style=\"font-weight: bold\">(</span>encoder_attn_layer_norm<span style=\"font-weight: bold\">)</span>: <span style=\"color: #800080; text-decoration-color: #800080; font-weight: bold\">LayerNorm</span><span style=\"font-weight: bold\">((</span><span style=\"color: #008080; text-decoration-color: #008080; font-weight: bold\">1024</span>,<span style=\"font-weight: bold\">)</span>, <span style=\"color: #808000; text-decoration-color: #808000\">eps</span>=<span style=\"color: #008080; text-decoration-color: #008080; font-weight: bold\">1e-05</span>, <span style=\"color: #808000; text-decoration-color: #808000\">elementwise_affine</span>=<span style=\"color: #00ff00; text-decoration-color: #00ff00; font-style: italic\">True</span><span style=\"font-weight: bold\">)</span>\n",
       "          <span style=\"font-weight: bold\">(</span>fc1<span style=\"font-weight: bold\">)</span>: <span style=\"color: #800080; text-decoration-color: #800080; font-weight: bold\">Linear</span><span style=\"font-weight: bold\">(</span><span style=\"color: #808000; text-decoration-color: #808000\">in_features</span>=<span style=\"color: #008080; text-decoration-color: #008080; font-weight: bold\">1024</span>, <span style=\"color: #808000; text-decoration-color: #808000\">out_features</span>=<span style=\"color: #008080; text-decoration-color: #008080; font-weight: bold\">4096</span>, <span style=\"color: #808000; text-decoration-color: #808000\">bias</span>=<span style=\"color: #00ff00; text-decoration-color: #00ff00; font-style: italic\">True</span><span style=\"font-weight: bold\">)</span>\n",
       "          <span style=\"font-weight: bold\">(</span>fc2<span style=\"font-weight: bold\">)</span>: <span style=\"color: #800080; text-decoration-color: #800080; font-weight: bold\">Linear</span><span style=\"font-weight: bold\">(</span><span style=\"color: #808000; text-decoration-color: #808000\">in_features</span>=<span style=\"color: #008080; text-decoration-color: #008080; font-weight: bold\">4096</span>, <span style=\"color: #808000; text-decoration-color: #808000\">out_features</span>=<span style=\"color: #008080; text-decoration-color: #008080; font-weight: bold\">1024</span>, <span style=\"color: #808000; text-decoration-color: #808000\">bias</span>=<span style=\"color: #00ff00; text-decoration-color: #00ff00; font-style: italic\">True</span><span style=\"font-weight: bold\">)</span>\n",
       "          <span style=\"font-weight: bold\">(</span>final_layer_norm<span style=\"font-weight: bold\">)</span>: <span style=\"color: #800080; text-decoration-color: #800080; font-weight: bold\">LayerNorm</span><span style=\"font-weight: bold\">((</span><span style=\"color: #008080; text-decoration-color: #008080; font-weight: bold\">1024</span>,<span style=\"font-weight: bold\">)</span>, <span style=\"color: #808000; text-decoration-color: #808000\">eps</span>=<span style=\"color: #008080; text-decoration-color: #008080; font-weight: bold\">1e-05</span>, <span style=\"color: #808000; text-decoration-color: #808000\">elementwise_affine</span>=<span style=\"color: #00ff00; text-decoration-color: #00ff00; font-style: italic\">True</span><span style=\"font-weight: bold\">)</span>\n",
       "        <span style=\"font-weight: bold\">)</span>\n",
       "      <span style=\"font-weight: bold\">)</span>\n",
       "      <span style=\"font-weight: bold\">(</span>layernorm_embedding<span style=\"font-weight: bold\">)</span>: <span style=\"color: #800080; text-decoration-color: #800080; font-weight: bold\">LayerNorm</span><span style=\"font-weight: bold\">((</span><span style=\"color: #008080; text-decoration-color: #008080; font-weight: bold\">1024</span>,<span style=\"font-weight: bold\">)</span>, <span style=\"color: #808000; text-decoration-color: #808000\">eps</span>=<span style=\"color: #008080; text-decoration-color: #008080; font-weight: bold\">1e-05</span>, <span style=\"color: #808000; text-decoration-color: #808000\">elementwise_affine</span>=<span style=\"color: #00ff00; text-decoration-color: #00ff00; font-style: italic\">True</span><span style=\"font-weight: bold\">)</span>\n",
       "    <span style=\"font-weight: bold\">)</span>\n",
       "  <span style=\"font-weight: bold\">)</span>\n",
       "  <span style=\"font-weight: bold\">(</span>lm_head<span style=\"font-weight: bold\">)</span>: <span style=\"color: #800080; text-decoration-color: #800080; font-weight: bold\">Linear</span><span style=\"font-weight: bold\">(</span><span style=\"color: #808000; text-decoration-color: #808000\">in_features</span>=<span style=\"color: #008080; text-decoration-color: #008080; font-weight: bold\">1024</span>, <span style=\"color: #808000; text-decoration-color: #808000\">out_features</span>=<span style=\"color: #008080; text-decoration-color: #008080; font-weight: bold\">50265</span>, <span style=\"color: #808000; text-decoration-color: #808000\">bias</span>=<span style=\"color: #ff0000; text-decoration-color: #ff0000; font-style: italic\">False</span><span style=\"font-weight: bold\">)</span>\n",
       "<span style=\"font-weight: bold\">)</span>\n",
       "</pre>\n"
      ],
      "text/plain": [
       "\u001b[1;35mBartForConditionalGeneration\u001b[0m\u001b[1m(\u001b[0m\n",
       "  \u001b[1m(\u001b[0mmodel\u001b[1m)\u001b[0m: \u001b[1;35mBartModel\u001b[0m\u001b[1m(\u001b[0m\n",
       "    \u001b[1m(\u001b[0mshared\u001b[1m)\u001b[0m: \u001b[1;35mEmbedding\u001b[0m\u001b[1m(\u001b[0m\u001b[1;36m50265\u001b[0m, \u001b[1;36m1024\u001b[0m, \u001b[33mpadding_idx\u001b[0m=\u001b[1;36m1\u001b[0m\u001b[1m)\u001b[0m\n",
       "    \u001b[1m(\u001b[0mencoder\u001b[1m)\u001b[0m: \u001b[1;35mBartEncoder\u001b[0m\u001b[1m(\u001b[0m\n",
       "      \u001b[1m(\u001b[0membed_tokens\u001b[1m)\u001b[0m: \u001b[1;35mEmbedding\u001b[0m\u001b[1m(\u001b[0m\u001b[1;36m50265\u001b[0m, \u001b[1;36m1024\u001b[0m, \u001b[33mpadding_idx\u001b[0m=\u001b[1;36m1\u001b[0m\u001b[1m)\u001b[0m\n",
       "      \u001b[1m(\u001b[0membed_positions\u001b[1m)\u001b[0m: \u001b[1;35mBartLearnedPositionalEmbedding\u001b[0m\u001b[1m(\u001b[0m\u001b[1;36m1026\u001b[0m, \u001b[1;36m1024\u001b[0m\u001b[1m)\u001b[0m\n",
       "      \u001b[1m(\u001b[0mlayers\u001b[1m)\u001b[0m: \u001b[1;35mModuleList\u001b[0m\u001b[1m(\u001b[0m\n",
       "        \u001b[1m(\u001b[0m\u001b[1;36m0\u001b[0m-\u001b[1;36m11\u001b[0m\u001b[1m)\u001b[0m: \u001b[1;36m12\u001b[0m x \u001b[1;35mBartEncoderLayer\u001b[0m\u001b[1m(\u001b[0m\n",
       "          \u001b[1m(\u001b[0mself_attn\u001b[1m)\u001b[0m: \u001b[1;35mBartAttention\u001b[0m\u001b[1m(\u001b[0m\n",
       "            \u001b[1m(\u001b[0mk_proj\u001b[1m)\u001b[0m: \u001b[1;35mLinear\u001b[0m\u001b[1m(\u001b[0m\u001b[33min_features\u001b[0m=\u001b[1;36m1024\u001b[0m, \u001b[33mout_features\u001b[0m=\u001b[1;36m1024\u001b[0m, \u001b[33mbias\u001b[0m=\u001b[3;92mTrue\u001b[0m\u001b[1m)\u001b[0m\n",
       "            \u001b[1m(\u001b[0mv_proj\u001b[1m)\u001b[0m: \u001b[1;35mLinear\u001b[0m\u001b[1m(\u001b[0m\u001b[33min_features\u001b[0m=\u001b[1;36m1024\u001b[0m, \u001b[33mout_features\u001b[0m=\u001b[1;36m1024\u001b[0m, \u001b[33mbias\u001b[0m=\u001b[3;92mTrue\u001b[0m\u001b[1m)\u001b[0m\n",
       "            \u001b[1m(\u001b[0mq_proj\u001b[1m)\u001b[0m: \u001b[1;35mLinear\u001b[0m\u001b[1m(\u001b[0m\u001b[33min_features\u001b[0m=\u001b[1;36m1024\u001b[0m, \u001b[33mout_features\u001b[0m=\u001b[1;36m1024\u001b[0m, \u001b[33mbias\u001b[0m=\u001b[3;92mTrue\u001b[0m\u001b[1m)\u001b[0m\n",
       "            \u001b[1m(\u001b[0mout_proj\u001b[1m)\u001b[0m: \u001b[1;35mLinear\u001b[0m\u001b[1m(\u001b[0m\u001b[33min_features\u001b[0m=\u001b[1;36m1024\u001b[0m, \u001b[33mout_features\u001b[0m=\u001b[1;36m1024\u001b[0m, \u001b[33mbias\u001b[0m=\u001b[3;92mTrue\u001b[0m\u001b[1m)\u001b[0m\n",
       "          \u001b[1m)\u001b[0m\n",
       "          \u001b[1m(\u001b[0mself_attn_layer_norm\u001b[1m)\u001b[0m: \u001b[1;35mLayerNorm\u001b[0m\u001b[1m(\u001b[0m\u001b[1m(\u001b[0m\u001b[1;36m1024\u001b[0m,\u001b[1m)\u001b[0m, \u001b[33meps\u001b[0m=\u001b[1;36m1e\u001b[0m\u001b[1;36m-05\u001b[0m, \u001b[33melementwise_affine\u001b[0m=\u001b[3;92mTrue\u001b[0m\u001b[1m)\u001b[0m\n",
       "          \u001b[1m(\u001b[0mactivation_fn\u001b[1m)\u001b[0m: \u001b[1;35mGELUActivation\u001b[0m\u001b[1m(\u001b[0m\u001b[1m)\u001b[0m\n",
       "          \u001b[1m(\u001b[0mfc1\u001b[1m)\u001b[0m: \u001b[1;35mLinear\u001b[0m\u001b[1m(\u001b[0m\u001b[33min_features\u001b[0m=\u001b[1;36m1024\u001b[0m, \u001b[33mout_features\u001b[0m=\u001b[1;36m4096\u001b[0m, \u001b[33mbias\u001b[0m=\u001b[3;92mTrue\u001b[0m\u001b[1m)\u001b[0m\n",
       "          \u001b[1m(\u001b[0mfc2\u001b[1m)\u001b[0m: \u001b[1;35mLinear\u001b[0m\u001b[1m(\u001b[0m\u001b[33min_features\u001b[0m=\u001b[1;36m4096\u001b[0m, \u001b[33mout_features\u001b[0m=\u001b[1;36m1024\u001b[0m, \u001b[33mbias\u001b[0m=\u001b[3;92mTrue\u001b[0m\u001b[1m)\u001b[0m\n",
       "          \u001b[1m(\u001b[0mfinal_layer_norm\u001b[1m)\u001b[0m: \u001b[1;35mLayerNorm\u001b[0m\u001b[1m(\u001b[0m\u001b[1m(\u001b[0m\u001b[1;36m1024\u001b[0m,\u001b[1m)\u001b[0m, \u001b[33meps\u001b[0m=\u001b[1;36m1e\u001b[0m\u001b[1;36m-05\u001b[0m, \u001b[33melementwise_affine\u001b[0m=\u001b[3;92mTrue\u001b[0m\u001b[1m)\u001b[0m\n",
       "        \u001b[1m)\u001b[0m\n",
       "      \u001b[1m)\u001b[0m\n",
       "      \u001b[1m(\u001b[0mlayernorm_embedding\u001b[1m)\u001b[0m: \u001b[1;35mLayerNorm\u001b[0m\u001b[1m(\u001b[0m\u001b[1m(\u001b[0m\u001b[1;36m1024\u001b[0m,\u001b[1m)\u001b[0m, \u001b[33meps\u001b[0m=\u001b[1;36m1e\u001b[0m\u001b[1;36m-05\u001b[0m, \u001b[33melementwise_affine\u001b[0m=\u001b[3;92mTrue\u001b[0m\u001b[1m)\u001b[0m\n",
       "    \u001b[1m)\u001b[0m\n",
       "    \u001b[1m(\u001b[0mdecoder\u001b[1m)\u001b[0m: \u001b[1;35mBartDecoder\u001b[0m\u001b[1m(\u001b[0m\n",
       "      \u001b[1m(\u001b[0membed_tokens\u001b[1m)\u001b[0m: \u001b[1;35mEmbedding\u001b[0m\u001b[1m(\u001b[0m\u001b[1;36m50265\u001b[0m, \u001b[1;36m1024\u001b[0m, \u001b[33mpadding_idx\u001b[0m=\u001b[1;36m1\u001b[0m\u001b[1m)\u001b[0m\n",
       "      \u001b[1m(\u001b[0membed_positions\u001b[1m)\u001b[0m: \u001b[1;35mBartLearnedPositionalEmbedding\u001b[0m\u001b[1m(\u001b[0m\u001b[1;36m1026\u001b[0m, \u001b[1;36m1024\u001b[0m\u001b[1m)\u001b[0m\n",
       "      \u001b[1m(\u001b[0mlayers\u001b[1m)\u001b[0m: \u001b[1;35mModuleList\u001b[0m\u001b[1m(\u001b[0m\n",
       "        \u001b[1m(\u001b[0m\u001b[1;36m0\u001b[0m-\u001b[1;36m11\u001b[0m\u001b[1m)\u001b[0m: \u001b[1;36m12\u001b[0m x \u001b[1;35mBartDecoderLayer\u001b[0m\u001b[1m(\u001b[0m\n",
       "          \u001b[1m(\u001b[0mself_attn\u001b[1m)\u001b[0m: \u001b[1;35mBartAttention\u001b[0m\u001b[1m(\u001b[0m\n",
       "            \u001b[1m(\u001b[0mk_proj\u001b[1m)\u001b[0m: \u001b[1;35mLinear\u001b[0m\u001b[1m(\u001b[0m\u001b[33min_features\u001b[0m=\u001b[1;36m1024\u001b[0m, \u001b[33mout_features\u001b[0m=\u001b[1;36m1024\u001b[0m, \u001b[33mbias\u001b[0m=\u001b[3;92mTrue\u001b[0m\u001b[1m)\u001b[0m\n",
       "            \u001b[1m(\u001b[0mv_proj\u001b[1m)\u001b[0m: \u001b[1;35mLinear\u001b[0m\u001b[1m(\u001b[0m\u001b[33min_features\u001b[0m=\u001b[1;36m1024\u001b[0m, \u001b[33mout_features\u001b[0m=\u001b[1;36m1024\u001b[0m, \u001b[33mbias\u001b[0m=\u001b[3;92mTrue\u001b[0m\u001b[1m)\u001b[0m\n",
       "            \u001b[1m(\u001b[0mq_proj\u001b[1m)\u001b[0m: \u001b[1;35mLinear\u001b[0m\u001b[1m(\u001b[0m\u001b[33min_features\u001b[0m=\u001b[1;36m1024\u001b[0m, \u001b[33mout_features\u001b[0m=\u001b[1;36m1024\u001b[0m, \u001b[33mbias\u001b[0m=\u001b[3;92mTrue\u001b[0m\u001b[1m)\u001b[0m\n",
       "            \u001b[1m(\u001b[0mout_proj\u001b[1m)\u001b[0m: \u001b[1;35mLinear\u001b[0m\u001b[1m(\u001b[0m\u001b[33min_features\u001b[0m=\u001b[1;36m1024\u001b[0m, \u001b[33mout_features\u001b[0m=\u001b[1;36m1024\u001b[0m, \u001b[33mbias\u001b[0m=\u001b[3;92mTrue\u001b[0m\u001b[1m)\u001b[0m\n",
       "          \u001b[1m)\u001b[0m\n",
       "          \u001b[1m(\u001b[0mactivation_fn\u001b[1m)\u001b[0m: \u001b[1;35mGELUActivation\u001b[0m\u001b[1m(\u001b[0m\u001b[1m)\u001b[0m\n",
       "          \u001b[1m(\u001b[0mself_attn_layer_norm\u001b[1m)\u001b[0m: \u001b[1;35mLayerNorm\u001b[0m\u001b[1m(\u001b[0m\u001b[1m(\u001b[0m\u001b[1;36m1024\u001b[0m,\u001b[1m)\u001b[0m, \u001b[33meps\u001b[0m=\u001b[1;36m1e\u001b[0m\u001b[1;36m-05\u001b[0m, \u001b[33melementwise_affine\u001b[0m=\u001b[3;92mTrue\u001b[0m\u001b[1m)\u001b[0m\n",
       "          \u001b[1m(\u001b[0mencoder_attn\u001b[1m)\u001b[0m: \u001b[1;35mBartAttention\u001b[0m\u001b[1m(\u001b[0m\n",
       "            \u001b[1m(\u001b[0mk_proj\u001b[1m)\u001b[0m: \u001b[1;35mLinear\u001b[0m\u001b[1m(\u001b[0m\u001b[33min_features\u001b[0m=\u001b[1;36m1024\u001b[0m, \u001b[33mout_features\u001b[0m=\u001b[1;36m1024\u001b[0m, \u001b[33mbias\u001b[0m=\u001b[3;92mTrue\u001b[0m\u001b[1m)\u001b[0m\n",
       "            \u001b[1m(\u001b[0mv_proj\u001b[1m)\u001b[0m: \u001b[1;35mLinear\u001b[0m\u001b[1m(\u001b[0m\u001b[33min_features\u001b[0m=\u001b[1;36m1024\u001b[0m, \u001b[33mout_features\u001b[0m=\u001b[1;36m1024\u001b[0m, \u001b[33mbias\u001b[0m=\u001b[3;92mTrue\u001b[0m\u001b[1m)\u001b[0m\n",
       "            \u001b[1m(\u001b[0mq_proj\u001b[1m)\u001b[0m: \u001b[1;35mLinear\u001b[0m\u001b[1m(\u001b[0m\u001b[33min_features\u001b[0m=\u001b[1;36m1024\u001b[0m, \u001b[33mout_features\u001b[0m=\u001b[1;36m1024\u001b[0m, \u001b[33mbias\u001b[0m=\u001b[3;92mTrue\u001b[0m\u001b[1m)\u001b[0m\n",
       "            \u001b[1m(\u001b[0mout_proj\u001b[1m)\u001b[0m: \u001b[1;35mLinear\u001b[0m\u001b[1m(\u001b[0m\u001b[33min_features\u001b[0m=\u001b[1;36m1024\u001b[0m, \u001b[33mout_features\u001b[0m=\u001b[1;36m1024\u001b[0m, \u001b[33mbias\u001b[0m=\u001b[3;92mTrue\u001b[0m\u001b[1m)\u001b[0m\n",
       "          \u001b[1m)\u001b[0m\n",
       "          \u001b[1m(\u001b[0mencoder_attn_layer_norm\u001b[1m)\u001b[0m: \u001b[1;35mLayerNorm\u001b[0m\u001b[1m(\u001b[0m\u001b[1m(\u001b[0m\u001b[1;36m1024\u001b[0m,\u001b[1m)\u001b[0m, \u001b[33meps\u001b[0m=\u001b[1;36m1e\u001b[0m\u001b[1;36m-05\u001b[0m, \u001b[33melementwise_affine\u001b[0m=\u001b[3;92mTrue\u001b[0m\u001b[1m)\u001b[0m\n",
       "          \u001b[1m(\u001b[0mfc1\u001b[1m)\u001b[0m: \u001b[1;35mLinear\u001b[0m\u001b[1m(\u001b[0m\u001b[33min_features\u001b[0m=\u001b[1;36m1024\u001b[0m, \u001b[33mout_features\u001b[0m=\u001b[1;36m4096\u001b[0m, \u001b[33mbias\u001b[0m=\u001b[3;92mTrue\u001b[0m\u001b[1m)\u001b[0m\n",
       "          \u001b[1m(\u001b[0mfc2\u001b[1m)\u001b[0m: \u001b[1;35mLinear\u001b[0m\u001b[1m(\u001b[0m\u001b[33min_features\u001b[0m=\u001b[1;36m4096\u001b[0m, \u001b[33mout_features\u001b[0m=\u001b[1;36m1024\u001b[0m, \u001b[33mbias\u001b[0m=\u001b[3;92mTrue\u001b[0m\u001b[1m)\u001b[0m\n",
       "          \u001b[1m(\u001b[0mfinal_layer_norm\u001b[1m)\u001b[0m: \u001b[1;35mLayerNorm\u001b[0m\u001b[1m(\u001b[0m\u001b[1m(\u001b[0m\u001b[1;36m1024\u001b[0m,\u001b[1m)\u001b[0m, \u001b[33meps\u001b[0m=\u001b[1;36m1e\u001b[0m\u001b[1;36m-05\u001b[0m, \u001b[33melementwise_affine\u001b[0m=\u001b[3;92mTrue\u001b[0m\u001b[1m)\u001b[0m\n",
       "        \u001b[1m)\u001b[0m\n",
       "      \u001b[1m)\u001b[0m\n",
       "      \u001b[1m(\u001b[0mlayernorm_embedding\u001b[1m)\u001b[0m: \u001b[1;35mLayerNorm\u001b[0m\u001b[1m(\u001b[0m\u001b[1m(\u001b[0m\u001b[1;36m1024\u001b[0m,\u001b[1m)\u001b[0m, \u001b[33meps\u001b[0m=\u001b[1;36m1e\u001b[0m\u001b[1;36m-05\u001b[0m, \u001b[33melementwise_affine\u001b[0m=\u001b[3;92mTrue\u001b[0m\u001b[1m)\u001b[0m\n",
       "    \u001b[1m)\u001b[0m\n",
       "  \u001b[1m)\u001b[0m\n",
       "  \u001b[1m(\u001b[0mlm_head\u001b[1m)\u001b[0m: \u001b[1;35mLinear\u001b[0m\u001b[1m(\u001b[0m\u001b[33min_features\u001b[0m=\u001b[1;36m1024\u001b[0m, \u001b[33mout_features\u001b[0m=\u001b[1;36m50265\u001b[0m, \u001b[33mbias\u001b[0m=\u001b[3;91mFalse\u001b[0m\u001b[1m)\u001b[0m\n",
       "\u001b[1m)\u001b[0m\n"
      ]
     },
     "metadata": {},
     "output_type": "display_data"
    }
   ],
   "source": [
    "rich_print(init_model)"
   ]
  },
  {
   "cell_type": "code",
   "execution_count": null,
   "id": "32dd2111",
   "metadata": {},
   "outputs": [],
   "source": []
  },
  {
   "cell_type": "markdown",
   "id": "753056d2",
   "metadata": {},
   "source": [
    "***\n",
    "##### FYI\n",
    "\n",
    "Gaussian Error Linear Units (GELUs): https://arxiv.org/abs/1606.08415\n",
    "***"
   ]
  },
  {
   "cell_type": "code",
   "execution_count": 18,
   "id": "72a3c57b",
   "metadata": {
    "execution": {
     "iopub.execute_input": "2024-09-10T16:00:22.747190Z",
     "iopub.status.busy": "2024-09-10T16:00:22.746965Z",
     "iopub.status.idle": "2024-09-10T16:00:22.751957Z",
     "shell.execute_reply": "2024-09-10T16:00:22.751506Z"
    }
   },
   "outputs": [
    {
     "data": {
      "text/html": [
       "<pre style=\"white-space:pre;overflow-x:auto;line-height:normal;font-family:Menlo,'DejaVu Sans Mono',consolas,'Courier New',monospace\">Model Size: <span style=\"color: #008080; text-decoration-color: #008080; font-weight: bold\">406.3</span> Million parameters\n",
       "</pre>\n"
      ],
      "text/plain": [
       "Model Size: \u001b[1;36m406.3\u001b[0m Million parameters\n"
      ]
     },
     "metadata": {},
     "output_type": "display_data"
    }
   ],
   "source": [
    "rich_print(f\"Model Size: {np.round(init_model.num_parameters() / 1e6, 1)} Million parameters\")"
   ]
  },
  {
   "cell_type": "code",
   "execution_count": 19,
   "id": "f955a758",
   "metadata": {
    "execution": {
     "iopub.execute_input": "2024-09-10T16:00:22.754081Z",
     "iopub.status.busy": "2024-09-10T16:00:22.753859Z",
     "iopub.status.idle": "2024-09-10T16:00:22.759000Z",
     "shell.execute_reply": "2024-09-10T16:00:22.758553Z"
    }
   },
   "outputs": [
    {
     "data": {
      "text/html": [
       "<pre style=\"white-space:pre;overflow-x:auto;line-height:normal;font-family:Menlo,'DejaVu Sans Mono',consolas,'Courier New',monospace\">Memory Requirement: <span style=\"color: #008080; text-decoration-color: #008080; font-weight: bold\">1.63</span> GB\n",
       "</pre>\n"
      ],
      "text/plain": [
       "Memory Requirement: \u001b[1;36m1.63\u001b[0m GB\n"
      ]
     },
     "metadata": {},
     "output_type": "display_data"
    }
   ],
   "source": [
    "rich_print(f\"Memory Requirement: {np.round(init_model.get_memory_footprint() / 1e9, 2)} GB\")"
   ]
  },
  {
   "cell_type": "code",
   "execution_count": null,
   "id": "649c4910",
   "metadata": {},
   "outputs": [],
   "source": []
  },
  {
   "cell_type": "markdown",
   "id": "b0d7d2ff",
   "metadata": {},
   "source": [
    "## Explore some sample inputs"
   ]
  },
  {
   "cell_type": "markdown",
   "id": "81b9323f",
   "metadata": {},
   "source": [
    "#### A sample instruction"
   ]
  },
  {
   "cell_type": "code",
   "execution_count": 20,
   "id": "4642aea5",
   "metadata": {
    "execution": {
     "iopub.execute_input": "2024-09-10T16:00:22.761280Z",
     "iopub.status.busy": "2024-09-10T16:00:22.761059Z",
     "iopub.status.idle": "2024-09-10T16:00:22.763530Z",
     "shell.execute_reply": "2024-09-10T16:00:22.763076Z"
    }
   },
   "outputs": [],
   "source": [
    "sample_input = \"Provide a step by step recipe to make pasta.\""
   ]
  },
  {
   "cell_type": "code",
   "execution_count": 21,
   "id": "8e2ca39c",
   "metadata": {
    "execution": {
     "iopub.execute_input": "2024-09-10T16:00:22.765793Z",
     "iopub.status.busy": "2024-09-10T16:00:22.765412Z",
     "iopub.status.idle": "2024-09-10T16:00:22.770490Z",
     "shell.execute_reply": "2024-09-10T16:00:22.770008Z"
    }
   },
   "outputs": [
    {
     "name": "stdout",
     "output_type": "stream",
     "text": [
      "{'attention_mask': tensor([[1, 1, 1, 1, 1, 1, 1, 1, 1, 1, 1, 1, 1]]),\n",
      " 'input_ids': tensor([[    0, 35746,  1949,    10,  1149,    30,  1149, 10324,     7,   146,\n",
      "         18236,     4,     2]])}\n",
      "CPU times: user 1.63 ms, sys: 528 μs, total: 2.16 ms\n",
      "Wall time: 1.83 ms\n"
     ]
    }
   ],
   "source": [
    "%%time\n",
    "\n",
    "# tokenize/encode the sample input\n",
    "sample_input_ids = init_tokenizer(sample_input, return_tensors=\"pt\")\n",
    "\n",
    "if show_tokenizer_output:\n",
    "    pprint(sample_input_ids)"
   ]
  },
  {
   "cell_type": "code",
   "execution_count": 22,
   "id": "a7eeaf75",
   "metadata": {
    "execution": {
     "iopub.execute_input": "2024-09-10T16:00:22.772596Z",
     "iopub.status.busy": "2024-09-10T16:00:22.772372Z",
     "iopub.status.idle": "2024-09-10T16:00:23.556667Z",
     "shell.execute_reply": "2024-09-10T16:00:23.556060Z"
    }
   },
   "outputs": [
    {
     "name": "stdout",
     "output_type": "stream",
     "text": [
      "tensor([[    2,     0, 35746,  1949,    10,  1149,    30,  1149, 10324,     7,\n",
      "           146, 18236,     4,     2]])\n",
      "CPU times: user 18.6 s, sys: 0 ns, total: 18.6 s\n",
      "Wall time: 781 ms\n"
     ]
    }
   ],
   "source": [
    "%%time\n",
    "\n",
    "# generate text\n",
    "outputs = init_model.generate(sample_input_ids[\"input_ids\"], max_new_tokens=100)\n",
    "\n",
    "if show_tokenizer_output:\n",
    "    pprint(outputs)"
   ]
  },
  {
   "cell_type": "code",
   "execution_count": 23,
   "id": "56475c89",
   "metadata": {
    "execution": {
     "iopub.execute_input": "2024-09-10T16:00:23.559414Z",
     "iopub.status.busy": "2024-09-10T16:00:23.559144Z",
     "iopub.status.idle": "2024-09-10T16:00:23.563014Z",
     "shell.execute_reply": "2024-09-10T16:00:23.562485Z"
    }
   },
   "outputs": [
    {
     "name": "stdout",
     "output_type": "stream",
     "text": [
      "'Provide a step by step recipe to make pasta.'\n"
     ]
    }
   ],
   "source": [
    "pprint(init_tokenizer.batch_decode(outputs, skip_special_tokens=True)[0])"
   ]
  },
  {
   "cell_type": "code",
   "execution_count": null,
   "id": "fa10ea03",
   "metadata": {},
   "outputs": [],
   "source": []
  },
  {
   "cell_type": "markdown",
   "id": "980589be",
   "metadata": {},
   "source": [
    "#### A sample conversation"
   ]
  },
  {
   "cell_type": "code",
   "execution_count": 24,
   "id": "c6781ded",
   "metadata": {
    "execution": {
     "iopub.execute_input": "2024-09-10T16:00:23.565501Z",
     "iopub.status.busy": "2024-09-10T16:00:23.565268Z",
     "iopub.status.idle": "2024-09-10T16:00:23.568479Z",
     "shell.execute_reply": "2024-09-10T16:00:23.568027Z"
    }
   },
   "outputs": [],
   "source": [
    "### Sample: Generate Summary for sample conversation\n",
    "\n",
    "sample_dialogue = \"\"\"\n",
    "Jon: What time is it, Tom?\n",
    "Tom: Just a minute. It's ten to nine by my watch.\n",
    "Jon: Is it? I had no idea it was so late. I must be off now.\n",
    "Tom: What's the hurry?\n",
    "Jon: I must catch the nine-thirty train.\n",
    "Tom: You've plenty of time yet. The railway station is very close. It won't take more than twenty minutes to get there.\n",
    "\"\"\"\n",
    "\n",
    "sample_baseline_summary = \"Jon is in a hurry to catch a train. Tom tells Jon there is plenty of time.\""
   ]
  },
  {
   "cell_type": "code",
   "execution_count": 25,
   "id": "cbcf0cf1",
   "metadata": {
    "execution": {
     "iopub.execute_input": "2024-09-10T16:00:23.570620Z",
     "iopub.status.busy": "2024-09-10T16:00:23.570394Z",
     "iopub.status.idle": "2024-09-10T16:00:23.575344Z",
     "shell.execute_reply": "2024-09-10T16:00:23.574881Z"
    }
   },
   "outputs": [
    {
     "name": "stdout",
     "output_type": "stream",
     "text": [
      "{'attention_mask': tensor([[1, 1, 1,  ..., 0, 0, 0]]),\n",
      " 'input_ids': tensor([[    0, 50118, 27693,  ...,     1,     1,     1]])}\n"
     ]
    }
   ],
   "source": [
    "sample_input_ids = init_tokenizer(sample_dialogue, padding='max_length', truncation=True, return_tensors=\"pt\")\n",
    "\n",
    "if show_tokenizer_output:\n",
    "    pprint(sample_input_ids)"
   ]
  },
  {
   "cell_type": "code",
   "execution_count": 26,
   "id": "eafbb8c7",
   "metadata": {
    "execution": {
     "iopub.execute_input": "2024-09-10T16:00:23.577477Z",
     "iopub.status.busy": "2024-09-10T16:00:23.577251Z",
     "iopub.status.idle": "2024-09-10T16:00:27.438607Z",
     "shell.execute_reply": "2024-09-10T16:00:27.438037Z"
    }
   },
   "outputs": [
    {
     "name": "stdout",
     "output_type": "stream",
     "text": [
      "tensor([[    2,     0, 15691,    35,   653,    86,    16,    24,     6,  1560,\n",
      "           116, 15691,    35,  1801,    10,  2289,     4,    85,    18,  2724,\n",
      "             7,  1117,    30,   127,  1183,     4, 27693,    35,  1534,    24,\n",
      "           116,    38,    56,   117,  1114,    24,    21,    98,   628,     4,\n",
      "         15691,    35,   370,   348,  2710,     9,    86,   648,     4,    20,\n",
      "         10780,  1992,    16,   182,   593,     4,    85,   351,    75,   185,\n",
      "            55,    87, 10328,   728,     7,   120,    89,     4,    38,   531,\n",
      "            28,   160,   122,     4,    38,   581,    28,   124,    11,    41,\n",
      "          1946,    50,    98,     4, 48173, 15113, 48003,  5543, 37127,  3726,\n",
      "         18537, 48173, 15113, 36714,  4726, 12736, 48173, 15113, 37127,  3726,\n",
      "             2]])\n"
     ]
    }
   ],
   "source": [
    "outputs = init_model.generate(sample_input_ids[\"input_ids\"], max_new_tokens = 100)\n",
    "\n",
    "if show_tokenizer_output:\n",
    "    pprint(outputs)"
   ]
  },
  {
   "cell_type": "code",
   "execution_count": 27,
   "id": "ac42f459",
   "metadata": {
    "execution": {
     "iopub.execute_input": "2024-09-10T16:00:27.441171Z",
     "iopub.status.busy": "2024-09-10T16:00:27.440888Z",
     "iopub.status.idle": "2024-09-10T16:00:27.444776Z",
     "shell.execute_reply": "2024-09-10T16:00:27.444293Z"
    }
   },
   "outputs": [
    {
     "name": "stdout",
     "output_type": "stream",
     "text": [
      "(\"Tom: What time is it, Tom?Tom: Just a minute. It's ten to nine by my \"\n",
      " \"watch.Jon: Is it? I had no idea it was so late.Tom: You've plenty of time \"\n",
      " \"yet. The railway station is very close. It won't take more than twenty \"\n",
      " \"minutes to get there. I must be off now. I'll be back in an hour or \"\n",
      " 'so.通信書通美通�')\n"
     ]
    }
   ],
   "source": [
    "pprint(init_tokenizer.decode(outputs[0], skip_special_tokens=True))"
   ]
  },
  {
   "cell_type": "code",
   "execution_count": null,
   "id": "d6e55f8f",
   "metadata": {},
   "outputs": [],
   "source": []
  },
  {
   "cell_type": "markdown",
   "id": "145c71af",
   "metadata": {},
   "source": [
    "## Prompt Engineering: Prompt Templates\n",
    "### Prompt 1: 'Summarize the following conversation'"
   ]
  },
  {
   "cell_type": "code",
   "execution_count": 28,
   "id": "cfc3398a",
   "metadata": {
    "execution": {
     "iopub.execute_input": "2024-09-10T16:00:27.447152Z",
     "iopub.status.busy": "2024-09-10T16:00:27.446918Z",
     "iopub.status.idle": "2024-09-10T16:00:27.450089Z",
     "shell.execute_reply": "2024-09-10T16:00:27.449638Z"
    }
   },
   "outputs": [
    {
     "name": "stdout",
     "output_type": "stream",
     "text": [
      "Summarize the following conversation.\n",
      "\n",
      "Jon: What time is it, Tom?\n",
      "Tom: Just a minute. It's ten to nine by my watch.\n",
      "Jon: Is it? I had no idea it was so late. I must be off now.\n",
      "Tom: What's the hurry?\n",
      "Jon: I must catch the nine-thirty train.\n",
      "Tom: You've plenty of time yet. The railway station is very close. It won't take more than twenty minutes to get there.\n",
      "\n",
      "\n",
      "Summary: \n"
     ]
    }
   ],
   "source": [
    "start_prompt = \"Summarize the following conversation.\\n\"\n",
    "end_prompt = \"\\n\\nSummary: \"\n",
    "\n",
    "sample_prompt = f'{start_prompt}{sample_dialogue}{end_prompt}'\n",
    "\n",
    "print(sample_prompt)"
   ]
  },
  {
   "cell_type": "code",
   "execution_count": 29,
   "id": "ff4b4893",
   "metadata": {
    "execution": {
     "iopub.execute_input": "2024-09-10T16:00:27.452213Z",
     "iopub.status.busy": "2024-09-10T16:00:27.451984Z",
     "iopub.status.idle": "2024-09-10T16:00:27.457261Z",
     "shell.execute_reply": "2024-09-10T16:00:27.456795Z"
    }
   },
   "outputs": [
    {
     "name": "stdout",
     "output_type": "stream",
     "text": [
      "{'attention_mask': tensor([[1, 1, 1,  ..., 0, 0, 0]]),\n",
      " 'input_ids': tensor([[    0, 50118, 27693,  ...,     1,     1,     1]])}\n"
     ]
    }
   ],
   "source": [
    "sample_input_ids = init_tokenizer(sample_dialogue, padding='max_length', truncation=True, return_tensors=\"pt\")\n",
    "\n",
    "if show_tokenizer_output:\n",
    "    pprint(sample_input_ids)"
   ]
  },
  {
   "cell_type": "code",
   "execution_count": 30,
   "id": "60984871",
   "metadata": {
    "execution": {
     "iopub.execute_input": "2024-09-10T16:00:27.459377Z",
     "iopub.status.busy": "2024-09-10T16:00:27.459156Z",
     "iopub.status.idle": "2024-09-10T16:00:31.299934Z",
     "shell.execute_reply": "2024-09-10T16:00:31.299397Z"
    }
   },
   "outputs": [
    {
     "name": "stdout",
     "output_type": "stream",
     "text": [
      "tensor([[    2,     0, 15691,    35,   653,    86,    16,    24,     6,  1560,\n",
      "           116, 15691,    35,  1801,    10,  2289,     4,    85,    18,  2724,\n",
      "             7,  1117,    30,   127,  1183,     4, 27693,    35,  1534,    24,\n",
      "           116,    38,    56,   117,  1114,    24,    21,    98,   628,     4,\n",
      "         15691,    35,   370,   348,  2710,     9,    86,   648,     4,    20,\n",
      "         10780,  1992,    16,   182,   593,     4,    85,   351,    75,   185,\n",
      "            55,    87, 10328,   728,     7,   120,    89,     4,    38,   531,\n",
      "            28,   160,   122,     4,    38,   581,    28,   124,    11,    41,\n",
      "          1946,    50,    98,     4, 48173, 15113, 48003,  5543, 37127,  3726,\n",
      "         18537, 48173, 15113, 36714,  4726, 12736, 48173, 15113, 37127,  3726,\n",
      "             2]])\n"
     ]
    }
   ],
   "source": [
    "outputs = init_model.generate(sample_input_ids[\"input_ids\"], max_new_tokens = 100)\n",
    "\n",
    "if show_tokenizer_output:\n",
    "    pprint(outputs)"
   ]
  },
  {
   "cell_type": "code",
   "execution_count": 31,
   "id": "8b685985",
   "metadata": {
    "execution": {
     "iopub.execute_input": "2024-09-10T16:00:31.302476Z",
     "iopub.status.busy": "2024-09-10T16:00:31.302174Z",
     "iopub.status.idle": "2024-09-10T16:00:31.305459Z",
     "shell.execute_reply": "2024-09-10T16:00:31.304969Z"
    }
   },
   "outputs": [],
   "source": [
    "generated_summary = init_tokenizer.decode(outputs[0], skip_special_tokens=True)"
   ]
  },
  {
   "cell_type": "code",
   "execution_count": 32,
   "id": "b8f0224d",
   "metadata": {
    "execution": {
     "iopub.execute_input": "2024-09-10T16:00:31.307781Z",
     "iopub.status.busy": "2024-09-10T16:00:31.307397Z",
     "iopub.status.idle": "2024-09-10T16:00:31.311082Z",
     "shell.execute_reply": "2024-09-10T16:00:31.310617Z"
    }
   },
   "outputs": [
    {
     "name": "stdout",
     "output_type": "stream",
     "text": [
      "----------------------------------------------------------------------------------------------------\n",
      "Input Prompt:\n",
      "Summarize the following conversation.\n",
      "\n",
      "Jon: What time is it, Tom?\n",
      "Tom: Just a minute. It's ten to nine by my watch.\n",
      "Jon: Is it? I had no idea it was so late. I must be off now.\n",
      "Tom: What's the hurry?\n",
      "Jon: I must catch the nine-thirty train.\n",
      "Tom: You've plenty of time yet. The railway station is very close. It won't take more than twenty minutes to get there.\n",
      "\n",
      "\n",
      "Summary: \n",
      "\n",
      "----------------------------------------------------------------------------------------------------\n",
      "Model Generated Summary:\n",
      "Tom: What time is it, Tom?Tom: Just a minute. It's ten to nine by my watch.Jon: Is it? I had no idea it was so late.Tom: You've plenty of time yet. The railway station is very close. It won't take more than twenty minutes to get there. I must be off now. I'll be back in an hour or so.通信書通美通�\n",
      "\n",
      "----------------------------------------------------------------------------------------------------\n",
      "Baseline Summary:\n",
      "Jon is in a hurry to catch a train. Tom tells Jon there is plenty of time.\n",
      "\n",
      "----------------------------------------------------------------------------------------------------\n"
     ]
    }
   ],
   "source": [
    "print(\"-\" * 100)\n",
    "print(f\"Input Prompt:\\n{sample_prompt}\\n\")\n",
    "print(\"-\" * 100)\n",
    "print(f\"Model Generated Summary:\\n{generated_summary}\\n\")\n",
    "print(\"-\" * 100)\n",
    "print(f\"Baseline Summary:\\n{sample_baseline_summary}\\n\")\n",
    "print(\"-\" * 100)"
   ]
  },
  {
   "cell_type": "code",
   "execution_count": null,
   "id": "4aa0f296",
   "metadata": {},
   "outputs": [],
   "source": []
  },
  {
   "cell_type": "markdown",
   "id": "b4e11a26",
   "metadata": {},
   "source": [
    "## Prompt Engineering: Prompt Templates\n",
    "### Prompt 2 : 'What's going on prompt'"
   ]
  },
  {
   "cell_type": "code",
   "execution_count": 33,
   "id": "08791a33",
   "metadata": {
    "execution": {
     "iopub.execute_input": "2024-09-10T16:00:31.313321Z",
     "iopub.status.busy": "2024-09-10T16:00:31.313099Z",
     "iopub.status.idle": "2024-09-10T16:00:31.316165Z",
     "shell.execute_reply": "2024-09-10T16:00:31.315714Z"
    }
   },
   "outputs": [
    {
     "name": "stdout",
     "output_type": "stream",
     "text": [
      "Dialogue:\n",
      "\n",
      "Jon: What time is it, Tom?\n",
      "Tom: Just a minute. It's ten to nine by my watch.\n",
      "Jon: Is it? I had no idea it was so late. I must be off now.\n",
      "Tom: What's the hurry?\n",
      "Jon: I must catch the nine-thirty train.\n",
      "Tom: You've plenty of time yet. The railway station is very close. It won't take more than twenty minutes to get there.\n",
      "\n",
      "What was going on? \n"
     ]
    }
   ],
   "source": [
    "start_prompt = \"Dialogue:\\n\"\n",
    "end_prompt = \"\\nWhat was going on? \"\n",
    "\n",
    "sample_prompt = f'{start_prompt}{sample_dialogue}{end_prompt}'\n",
    "\n",
    "print(sample_prompt)"
   ]
  },
  {
   "cell_type": "code",
   "execution_count": 34,
   "id": "f5901f9b",
   "metadata": {
    "execution": {
     "iopub.execute_input": "2024-09-10T16:00:31.318288Z",
     "iopub.status.busy": "2024-09-10T16:00:31.318063Z",
     "iopub.status.idle": "2024-09-10T16:00:31.322259Z",
     "shell.execute_reply": "2024-09-10T16:00:31.321803Z"
    }
   },
   "outputs": [
    {
     "name": "stdout",
     "output_type": "stream",
     "text": [
      "{'input_ids': tensor([[    0, 48201,    35, 50118, 50118, 27693,    35,   653,    86,    16,\n",
      "            24,     6,  1560,   116, 50118, 15691,    35,  1801,    10,  2289,\n",
      "             4,    85,    18,  2724,     7,  1117,    30,   127,  1183,     4,\n",
      "         50118, 27693,    35,  1534,    24,   116,    38,    56,   117,  1114,\n",
      "            24,    21,    98,   628,     4,    38,   531,    28,   160,   122,\n",
      "             4, 50118, 15691,    35,   653,    18,     5, 20607,   116, 50118,\n",
      "         27693,    35,    38,   531,  2916,     5,  1117,    12,   212, 32430,\n",
      "          2341,     4, 50118, 15691,    35,   370,   348,  2710,     9,    86,\n",
      "           648,     4,    20, 10780,  1992,    16,   182,   593,     4,    85,\n",
      "           351,    75,   185,    55,    87, 10328,   728,     7,   120,    89,\n",
      "             4, 50118, 50118,  2264,    21,   164,    15,   116,  1437,     2]]), 'attention_mask': tensor([[1, 1, 1, 1, 1, 1, 1, 1, 1, 1, 1, 1, 1, 1, 1, 1, 1, 1, 1, 1, 1, 1, 1, 1,\n",
      "         1, 1, 1, 1, 1, 1, 1, 1, 1, 1, 1, 1, 1, 1, 1, 1, 1, 1, 1, 1, 1, 1, 1, 1,\n",
      "         1, 1, 1, 1, 1, 1, 1, 1, 1, 1, 1, 1, 1, 1, 1, 1, 1, 1, 1, 1, 1, 1, 1, 1,\n",
      "         1, 1, 1, 1, 1, 1, 1, 1, 1, 1, 1, 1, 1, 1, 1, 1, 1, 1, 1, 1, 1, 1, 1, 1,\n",
      "         1, 1, 1, 1, 1, 1, 1, 1, 1, 1, 1, 1, 1, 1]])}\n"
     ]
    }
   ],
   "source": [
    "sample_input_ids = init_tokenizer(sample_prompt, return_tensors=\"pt\")\n",
    "\n",
    "if show_tokenizer_output:\n",
    "    print(sample_input_ids)"
   ]
  },
  {
   "cell_type": "code",
   "execution_count": 35,
   "id": "d9d0f065",
   "metadata": {
    "execution": {
     "iopub.execute_input": "2024-09-10T16:00:31.324398Z",
     "iopub.status.busy": "2024-09-10T16:00:31.324176Z",
     "iopub.status.idle": "2024-09-10T16:00:34.370098Z",
     "shell.execute_reply": "2024-09-10T16:00:34.369514Z"
    }
   },
   "outputs": [
    {
     "name": "stdout",
     "output_type": "stream",
     "text": [
      "tensor([[    2,     0, 48201,    35, 48201,    35, 27693,    35,   653,    86,\n",
      "            16,    24,     6,  1560,   116, 50242, 15691,    35,  1801,    10,\n",
      "          2289,     4,    20, 10780,  1992,    16,   182,   593,     4,    85,\n",
      "           351,    75,   185,    55,    87, 10328,   728,     7,   120,    89,\n",
      "             4,    38,   531,    28,   160,   122,     4,    85,    18,  2724,\n",
      "             7,  1117,    30,   127,  1183,     4, 50249, 15691,    35,    85,\n",
      "            18,    45,    14,   628,     6,    16,    24,   116,    85,    18,\n",
      "           129,   799,    12,   212, 32430,     4, 50249, 27693,    35,  5534,\n",
      "             6,  4420,     4,    85,    16,     4,    38,   437,  6661,     4,\n",
      "         50249,   243,    18,    45,   350,   628,     6,  1560,     4, 50249,\n",
      "             2]])\n"
     ]
    }
   ],
   "source": [
    "outputs = init_model.generate(sample_input_ids[\"input_ids\"], max_new_tokens = 100)\n",
    "\n",
    "if show_tokenizer_output:\n",
    "    print(outputs)"
   ]
  },
  {
   "cell_type": "code",
   "execution_count": 36,
   "id": "56cf80cd",
   "metadata": {
    "execution": {
     "iopub.execute_input": "2024-09-10T16:00:34.372833Z",
     "iopub.status.busy": "2024-09-10T16:00:34.372536Z",
     "iopub.status.idle": "2024-09-10T16:00:34.375910Z",
     "shell.execute_reply": "2024-09-10T16:00:34.375404Z"
    }
   },
   "outputs": [],
   "source": [
    "generated_summary = init_tokenizer.decode(outputs[0], skip_special_tokens=True)"
   ]
  },
  {
   "cell_type": "code",
   "execution_count": 37,
   "id": "923fb280",
   "metadata": {
    "execution": {
     "iopub.execute_input": "2024-09-10T16:00:34.378366Z",
     "iopub.status.busy": "2024-09-10T16:00:34.378113Z",
     "iopub.status.idle": "2024-09-10T16:00:34.381910Z",
     "shell.execute_reply": "2024-09-10T16:00:34.381452Z"
    }
   },
   "outputs": [
    {
     "name": "stdout",
     "output_type": "stream",
     "text": [
      "----------------------------------------------------------------------------------------------------\n",
      "Input Prompt:\n",
      "Dialogue:\n",
      "\n",
      "Jon: What time is it, Tom?\n",
      "Tom: Just a minute. It's ten to nine by my watch.\n",
      "Jon: Is it? I had no idea it was so late. I must be off now.\n",
      "Tom: What's the hurry?\n",
      "Jon: I must catch the nine-thirty train.\n",
      "Tom: You've plenty of time yet. The railway station is very close. It won't take more than twenty minutes to get there.\n",
      "\n",
      "What was going on? \n",
      "\n",
      "----------------------------------------------------------------------------------------------------\n",
      "Model Generated Summary:\n",
      "Dialogue:Dialogue:Jon: What time is it, Tom?ゼウスTom: Just a minute. The railway station is very close. It won't take more than twenty minutes to get there. I must be off now. It's ten to nine by my watch.                Tom: It's not that late, is it? It's only eight-thirty.                Jon: Oh, yes. It is. I'm sorry.                It's not too late, Tom.                \n",
      "\n",
      "----------------------------------------------------------------------------------------------------\n",
      "Baseline Summary:\n",
      "Jon is in a hurry to catch a train. Tom tells Jon there is plenty of time.\n",
      "\n",
      "----------------------------------------------------------------------------------------------------\n"
     ]
    }
   ],
   "source": [
    "print(\"-\" * 100)\n",
    "print(f\"Input Prompt:\\n{sample_prompt}\\n\")\n",
    "print(\"-\" * 100)\n",
    "print(f\"Model Generated Summary:\\n{generated_summary}\\n\")\n",
    "print(\"-\" * 100)\n",
    "print(f\"Baseline Summary:\\n{sample_baseline_summary}\\n\")\n",
    "print(\"-\" * 100)"
   ]
  },
  {
   "cell_type": "code",
   "execution_count": null,
   "id": "16afac3c",
   "metadata": {},
   "outputs": [],
   "source": []
  },
  {
   "cell_type": "markdown",
   "id": "94b49bac",
   "metadata": {},
   "source": [
    "## Prompt Engineering: Prompt Templates\n",
    "### Few-shot Inference 1"
   ]
  },
  {
   "cell_type": "code",
   "execution_count": 38,
   "id": "93b01d8a",
   "metadata": {
    "execution": {
     "iopub.execute_input": "2024-09-10T16:00:34.384193Z",
     "iopub.status.busy": "2024-09-10T16:00:34.383971Z",
     "iopub.status.idle": "2024-09-10T16:00:34.386576Z",
     "shell.execute_reply": "2024-09-10T16:00:34.386110Z"
    }
   },
   "outputs": [],
   "source": [
    "start_prompt = \"Dialogue:\\n\"\n",
    "end_prompt = \"\\nWhat was going on? \"\n",
    "stop_sequence = \"\\n\\n\\n\""
   ]
  },
  {
   "cell_type": "code",
   "execution_count": 39,
   "id": "5a4781df",
   "metadata": {
    "execution": {
     "iopub.execute_input": "2024-09-10T16:00:34.388829Z",
     "iopub.status.busy": "2024-09-10T16:00:34.388466Z",
     "iopub.status.idle": "2024-09-10T16:00:34.391164Z",
     "shell.execute_reply": "2024-09-10T16:00:34.390712Z"
    }
   },
   "outputs": [],
   "source": [
    "another_sample_dialogue = \"\"\"\n",
    "Adam: What are you waiting for? Get on that bus quickly.\n",
    "Max: But where do I get a ticket?\n",
    "Adam: On the bus. The driver collects the fares. You'll have to take your luggage on board.\n",
    "Max: Oh, I wish I didn't have so much to carry.\n",
    "\"\"\"\n",
    "\n",
    "another_sample_baseline_summary = \"Adam urges Max to get on the bus.\""
   ]
  },
  {
   "cell_type": "code",
   "execution_count": 40,
   "id": "652dd172",
   "metadata": {
    "execution": {
     "iopub.execute_input": "2024-09-10T16:00:34.393387Z",
     "iopub.status.busy": "2024-09-10T16:00:34.393056Z",
     "iopub.status.idle": "2024-09-10T16:00:34.396156Z",
     "shell.execute_reply": "2024-09-10T16:00:34.395697Z"
    }
   },
   "outputs": [
    {
     "name": "stdout",
     "output_type": "stream",
     "text": [
      "Dialogue:\n",
      "\n",
      "Adam: What are you waiting for? Get on that bus quickly.\n",
      "Max: But where do I get a ticket?\n",
      "Adam: On the bus. The driver collects the fares. You'll have to take your luggage on board.\n",
      "Max: Oh, I wish I didn't have so much to carry.\n",
      "\n",
      "What was going on? \n",
      "Adam urges Max to get on the bus.\n",
      "\n",
      "\n",
      "Dialogue:\n",
      "\n",
      "Jon: What time is it, Tom?\n",
      "Tom: Just a minute. It's ten to nine by my watch.\n",
      "Jon: Is it? I had no idea it was so late. I must be off now.\n",
      "Tom: What's the hurry?\n",
      "Jon: I must catch the nine-thirty train.\n",
      "Tom: You've plenty of time yet. The railway station is very close. It won't take more than twenty minutes to get there.\n",
      "\n",
      "What was going on? \n"
     ]
    }
   ],
   "source": [
    "few_shot_prompt = start_prompt + another_sample_dialogue + end_prompt + \"\\n\" + another_sample_baseline_summary + \"\\n\\n\\n\" + \\\n",
    "                    start_prompt + sample_dialogue + end_prompt\n",
    "\n",
    "\n",
    "print(few_shot_prompt)"
   ]
  },
  {
   "cell_type": "code",
   "execution_count": 41,
   "id": "964f17c2",
   "metadata": {
    "execution": {
     "iopub.execute_input": "2024-09-10T16:00:34.398384Z",
     "iopub.status.busy": "2024-09-10T16:00:34.398137Z",
     "iopub.status.idle": "2024-09-10T16:00:34.403081Z",
     "shell.execute_reply": "2024-09-10T16:00:34.402617Z"
    }
   },
   "outputs": [
    {
     "name": "stdout",
     "output_type": "stream",
     "text": [
      "{'input_ids': tensor([[    0, 48201,    35, 50118, 50118, 24671,    35,   653,    32,    47,\n",
      "          2445,    13,   116,  2315,    15,    14,  2353,  1335,     4, 50118,\n",
      "         19854,    35,   125,   147,   109,    38,   120,    10,  3682,   116,\n",
      "         50118, 24671,    35,   374,     5,  2353,     4,    20,  1393, 22671,\n",
      "             5, 18688,     4,   370,   581,    33,     7,   185,   110, 19607,\n",
      "            15,   792,     4, 50118, 19854,    35,  5534,     6,    38,  2813,\n",
      "            38,   399,    75,    33,    98,   203,     7,  2324,     4, 50118,\n",
      "         50118,  2264,    21,   164,    15,   116,  1437, 50118, 24671, 19288,\n",
      "          4471,     7,   120,    15,     5,  2353,     4, 50140, 50118, 48201,\n",
      "            35, 50118, 50118, 27693,    35,   653,    86,    16,    24,     6,\n",
      "          1560,   116, 50118, 15691,    35,  1801,    10,  2289,     4,    85,\n",
      "            18,  2724,     7,  1117,    30,   127,  1183,     4, 50118, 27693,\n",
      "            35,  1534,    24,   116,    38,    56,   117,  1114,    24,    21,\n",
      "            98,   628,     4,    38,   531,    28,   160,   122,     4, 50118,\n",
      "         15691,    35,   653,    18,     5, 20607,   116, 50118, 27693,    35,\n",
      "            38,   531,  2916,     5,  1117,    12,   212, 32430,  2341,     4,\n",
      "         50118, 15691,    35,   370,   348,  2710,     9,    86,   648,     4,\n",
      "            20, 10780,  1992,    16,   182,   593,     4,    85,   351,    75,\n",
      "           185,    55,    87, 10328,   728,     7,   120,    89,     4, 50118,\n",
      "         50118,  2264,    21,   164,    15,   116,  1437,     2]]), 'attention_mask': tensor([[1, 1, 1, 1, 1, 1, 1, 1, 1, 1, 1, 1, 1, 1, 1, 1, 1, 1, 1, 1, 1, 1, 1, 1,\n",
      "         1, 1, 1, 1, 1, 1, 1, 1, 1, 1, 1, 1, 1, 1, 1, 1, 1, 1, 1, 1, 1, 1, 1, 1,\n",
      "         1, 1, 1, 1, 1, 1, 1, 1, 1, 1, 1, 1, 1, 1, 1, 1, 1, 1, 1, 1, 1, 1, 1, 1,\n",
      "         1, 1, 1, 1, 1, 1, 1, 1, 1, 1, 1, 1, 1, 1, 1, 1, 1, 1, 1, 1, 1, 1, 1, 1,\n",
      "         1, 1, 1, 1, 1, 1, 1, 1, 1, 1, 1, 1, 1, 1, 1, 1, 1, 1, 1, 1, 1, 1, 1, 1,\n",
      "         1, 1, 1, 1, 1, 1, 1, 1, 1, 1, 1, 1, 1, 1, 1, 1, 1, 1, 1, 1, 1, 1, 1, 1,\n",
      "         1, 1, 1, 1, 1, 1, 1, 1, 1, 1, 1, 1, 1, 1, 1, 1, 1, 1, 1, 1, 1, 1, 1, 1,\n",
      "         1, 1, 1, 1, 1, 1, 1, 1, 1, 1, 1, 1, 1, 1, 1, 1, 1, 1, 1, 1, 1, 1, 1, 1,\n",
      "         1, 1, 1, 1, 1, 1]])}\n"
     ]
    }
   ],
   "source": [
    "sample_input_ids = init_tokenizer(few_shot_prompt, return_tensors=\"pt\")\n",
    "\n",
    "if show_tokenizer_output:\n",
    "    print(sample_input_ids)"
   ]
  },
  {
   "cell_type": "code",
   "execution_count": 42,
   "id": "f0e18ae5",
   "metadata": {
    "execution": {
     "iopub.execute_input": "2024-09-10T16:00:34.405205Z",
     "iopub.status.busy": "2024-09-10T16:00:34.404978Z",
     "iopub.status.idle": "2024-09-10T16:00:37.541772Z",
     "shell.execute_reply": "2024-09-10T16:00:37.541183Z"
    }
   },
   "outputs": [
    {
     "name": "stdout",
     "output_type": "stream",
     "text": [
      "tensor([[    2,     0,     0,     0, 48201,    35, 48201,    35, 13635, 48201,\n",
      "            35,  5514,  5514,  5514,    12,  5514,  5514,   578,  5514,  5514,\n",
      "          2383,  5514,  5514,    93,  5514,  5514, 13635,  5514,   578,   578,\n",
      "          5514,  2383,   578,  5514,   578,  2383,  5514,   578,    12,  5514,\n",
      "           578,    93,  5514,   578, 13635,   578,  5514,    12,   578,   578,\n",
      "          2383,   578,   578,   578,    12,   578,  2383,  2383,   578,    12,\n",
      "          2383,   578,  2383,    12,   578,    12,    12,  5514,  2383,  2383,\n",
      "          5514,  2383,    12,  2383,  2383,  2383,    12,  5514,    12,  2383,\n",
      "            12, 13635,   578,  2383, 13635,   578,   578, 13635,  5514,  5514,\n",
      "         28629,   578,   578,    93,  2383,   578,    93,   578,  2383,    93,\n",
      "             2]])\n"
     ]
    }
   ],
   "source": [
    "outputs = init_model.generate(sample_input_ids[\"input_ids\"], max_new_tokens = 100)\n",
    "\n",
    "if show_tokenizer_output:\n",
    "    print(outputs)"
   ]
  },
  {
   "cell_type": "code",
   "execution_count": 43,
   "id": "237a4bf5",
   "metadata": {
    "execution": {
     "iopub.execute_input": "2024-09-10T16:00:37.544517Z",
     "iopub.status.busy": "2024-09-10T16:00:37.544234Z",
     "iopub.status.idle": "2024-09-10T16:00:37.547568Z",
     "shell.execute_reply": "2024-09-10T16:00:37.547065Z"
    }
   },
   "outputs": [],
   "source": [
    "generated_summary = init_tokenizer.decode(outputs[0], skip_special_tokens=True)"
   ]
  },
  {
   "cell_type": "code",
   "execution_count": 44,
   "id": "6c9c1f4c",
   "metadata": {
    "execution": {
     "iopub.execute_input": "2024-09-10T16:00:37.550092Z",
     "iopub.status.busy": "2024-09-10T16:00:37.549680Z",
     "iopub.status.idle": "2024-09-10T16:00:37.553495Z",
     "shell.execute_reply": "2024-09-10T16:00:37.553021Z"
    }
   },
   "outputs": [
    {
     "name": "stdout",
     "output_type": "stream",
     "text": [
      "----------------------------------------------------------------------------------------------------\n",
      "Input Prompt:\n",
      "Dialogue:\n",
      "\n",
      "Adam: What are you waiting for? Get on that bus quickly.\n",
      "Max: But where do I get a ticket?\n",
      "Adam: On the bus. The driver collects the fares. You'll have to take your luggage on board.\n",
      "Max: Oh, I wish I didn't have so much to carry.\n",
      "\n",
      "What was going on? \n",
      "Adam urges Max to get on the bus.\n",
      "\n",
      "\n",
      "Dialogue:\n",
      "\n",
      "Jon: What time is it, Tom?\n",
      "Tom: Just a minute. It's ten to nine by my watch.\n",
      "Jon: Is it? I had no idea it was so late. I must be off now.\n",
      "Tom: What's the hurry?\n",
      "Jon: I must catch the nine-thirty train.\n",
      "Tom: You've plenty of time yet. The railway station is very close. It won't take more than twenty minutes to get there.\n",
      "\n",
      "What was going on? \n",
      "\n",
      "----------------------------------------------------------------------------------------------------\n",
      "Model Generated Summary:\n",
      "Dialogue:Dialogue:​Dialogue:­­­-­­—­­–­­ —­­​­——­–—­—–­—-­— —­—​—­-——–———-—––—-–—–-—--­––­–-–––-­-–-​—–​——​­­‑—— —–— ——– —\n",
      "\n",
      "----------------------------------------------------------------------------------------------------\n",
      "Baseline Summary:\n",
      "Jon is in a hurry to catch a train. Tom tells Jon there is plenty of time.\n",
      "\n",
      "----------------------------------------------------------------------------------------------------\n"
     ]
    }
   ],
   "source": [
    "print(\"-\" * 100)\n",
    "print(f\"Input Prompt:\\n{few_shot_prompt}\\n\")\n",
    "print(\"-\" * 100)\n",
    "print(f\"Model Generated Summary:\\n{generated_summary}\\n\")\n",
    "print(\"-\" * 100)\n",
    "print(f\"Baseline Summary:\\n{sample_baseline_summary}\\n\")\n",
    "print(\"-\" * 100)"
   ]
  },
  {
   "cell_type": "code",
   "execution_count": null,
   "id": "34843816",
   "metadata": {},
   "outputs": [],
   "source": []
  },
  {
   "cell_type": "markdown",
   "id": "c694714e",
   "metadata": {},
   "source": [
    "## Prompt Engineering: Prompt Templates\n",
    "### Few-shot Inference 2"
   ]
  },
  {
   "cell_type": "code",
   "execution_count": 45,
   "id": "8bc53cfd",
   "metadata": {
    "execution": {
     "iopub.execute_input": "2024-09-10T16:00:37.555800Z",
     "iopub.status.busy": "2024-09-10T16:00:37.555577Z",
     "iopub.status.idle": "2024-09-10T16:00:37.558247Z",
     "shell.execute_reply": "2024-09-10T16:00:37.557797Z"
    }
   },
   "outputs": [],
   "source": [
    "start_prompt = \"Here is a conversation between two friends:\\n\"\n",
    "end_prompt = \"\\nProvide a summary of the conversation: \"\n",
    "stop_sequence = \"\\n\\n\\n\""
   ]
  },
  {
   "cell_type": "code",
   "execution_count": 46,
   "id": "67396202",
   "metadata": {
    "execution": {
     "iopub.execute_input": "2024-09-10T16:00:37.560383Z",
     "iopub.status.busy": "2024-09-10T16:00:37.560163Z",
     "iopub.status.idle": "2024-09-10T16:00:37.563344Z",
     "shell.execute_reply": "2024-09-10T16:00:37.562883Z"
    }
   },
   "outputs": [
    {
     "name": "stdout",
     "output_type": "stream",
     "text": [
      "Here is a conversation between two friends:\n",
      "\n",
      "Adam: What are you waiting for? Get on that bus quickly.\n",
      "Max: But where do I get a ticket?\n",
      "Adam: On the bus. The driver collects the fares. You'll have to take your luggage on board.\n",
      "Max: Oh, I wish I didn't have so much to carry.\n",
      "\n",
      "Provide a summary of the conversation: Adam urges Max to get on the bus.\n",
      "\n",
      "\n",
      "Here is a conversation between two friends:\n",
      "\n",
      "Jon: What time is it, Tom?\n",
      "Tom: Just a minute. It's ten to nine by my watch.\n",
      "Jon: Is it? I had no idea it was so late. I must be off now.\n",
      "Tom: What's the hurry?\n",
      "Jon: I must catch the nine-thirty train.\n",
      "Tom: You've plenty of time yet. The railway station is very close. It won't take more than twenty minutes to get there.\n",
      "\n",
      "Provide a summary of the conversation: \n"
     ]
    }
   ],
   "source": [
    "few_shot_prompt = start_prompt + another_sample_dialogue + end_prompt + another_sample_baseline_summary + \"\\n\\n\\n\" + \\\n",
    "                    start_prompt + sample_dialogue + end_prompt\n",
    "\n",
    "\n",
    "print(few_shot_prompt)"
   ]
  },
  {
   "cell_type": "code",
   "execution_count": 47,
   "id": "b34d776d",
   "metadata": {
    "execution": {
     "iopub.execute_input": "2024-09-10T16:00:37.565570Z",
     "iopub.status.busy": "2024-09-10T16:00:37.565223Z",
     "iopub.status.idle": "2024-09-10T16:00:37.570382Z",
     "shell.execute_reply": "2024-09-10T16:00:37.569897Z"
    }
   },
   "outputs": [
    {
     "name": "stdout",
     "output_type": "stream",
     "text": [
      "{'input_ids': tensor([[    0, 11773,    16,    10,  1607,   227,    80,   964,    35, 50118,\n",
      "         50118, 24671,    35,   653,    32,    47,  2445,    13,   116,  2315,\n",
      "            15,    14,  2353,  1335,     4, 50118, 19854,    35,   125,   147,\n",
      "           109,    38,   120,    10,  3682,   116, 50118, 24671,    35,   374,\n",
      "             5,  2353,     4,    20,  1393, 22671,     5, 18688,     4,   370,\n",
      "           581,    33,     7,   185,   110, 19607,    15,   792,     4, 50118,\n",
      "         19854,    35,  5534,     6,    38,  2813,    38,   399,    75,    33,\n",
      "            98,   203,     7,  2324,     4, 50118, 50118, 35746,  1949,    10,\n",
      "          4819,     9,     5,  1607,    35,  3086, 19288,  4471,     7,   120,\n",
      "            15,     5,  2353,     4, 50140, 50118, 11773,    16,    10,  1607,\n",
      "           227,    80,   964,    35, 50118, 50118, 27693,    35,   653,    86,\n",
      "            16,    24,     6,  1560,   116, 50118, 15691,    35,  1801,    10,\n",
      "          2289,     4,    85,    18,  2724,     7,  1117,    30,   127,  1183,\n",
      "             4, 50118, 27693,    35,  1534,    24,   116,    38,    56,   117,\n",
      "          1114,    24,    21,    98,   628,     4,    38,   531,    28,   160,\n",
      "           122,     4, 50118, 15691,    35,   653,    18,     5, 20607,   116,\n",
      "         50118, 27693,    35,    38,   531,  2916,     5,  1117,    12,   212,\n",
      "         32430,  2341,     4, 50118, 15691,    35,   370,   348,  2710,     9,\n",
      "            86,   648,     4,    20, 10780,  1992,    16,   182,   593,     4,\n",
      "            85,   351,    75,   185,    55,    87, 10328,   728,     7,   120,\n",
      "            89,     4, 50118, 50118, 35746,  1949,    10,  4819,     9,     5,\n",
      "          1607,    35,  1437,     2]]), 'attention_mask': tensor([[1, 1, 1, 1, 1, 1, 1, 1, 1, 1, 1, 1, 1, 1, 1, 1, 1, 1, 1, 1, 1, 1, 1, 1,\n",
      "         1, 1, 1, 1, 1, 1, 1, 1, 1, 1, 1, 1, 1, 1, 1, 1, 1, 1, 1, 1, 1, 1, 1, 1,\n",
      "         1, 1, 1, 1, 1, 1, 1, 1, 1, 1, 1, 1, 1, 1, 1, 1, 1, 1, 1, 1, 1, 1, 1, 1,\n",
      "         1, 1, 1, 1, 1, 1, 1, 1, 1, 1, 1, 1, 1, 1, 1, 1, 1, 1, 1, 1, 1, 1, 1, 1,\n",
      "         1, 1, 1, 1, 1, 1, 1, 1, 1, 1, 1, 1, 1, 1, 1, 1, 1, 1, 1, 1, 1, 1, 1, 1,\n",
      "         1, 1, 1, 1, 1, 1, 1, 1, 1, 1, 1, 1, 1, 1, 1, 1, 1, 1, 1, 1, 1, 1, 1, 1,\n",
      "         1, 1, 1, 1, 1, 1, 1, 1, 1, 1, 1, 1, 1, 1, 1, 1, 1, 1, 1, 1, 1, 1, 1, 1,\n",
      "         1, 1, 1, 1, 1, 1, 1, 1, 1, 1, 1, 1, 1, 1, 1, 1, 1, 1, 1, 1, 1, 1, 1, 1,\n",
      "         1, 1, 1, 1, 1, 1, 1, 1, 1, 1, 1, 1, 1, 1, 1, 1, 1, 1, 1, 1, 1, 1]])}\n"
     ]
    }
   ],
   "source": [
    "sample_input_ids = init_tokenizer(few_shot_prompt, return_tensors=\"pt\")\n",
    "\n",
    "if show_tokenizer_output:\n",
    "    print(sample_input_ids)"
   ]
  },
  {
   "cell_type": "code",
   "execution_count": 48,
   "id": "22ceb904",
   "metadata": {
    "execution": {
     "iopub.execute_input": "2024-09-10T16:00:37.572490Z",
     "iopub.status.busy": "2024-09-10T16:00:37.572271Z",
     "iopub.status.idle": "2024-09-10T16:00:40.704941Z",
     "shell.execute_reply": "2024-09-10T16:00:40.704326Z"
    }
   },
   "outputs": [
    {
     "name": "stdout",
     "output_type": "stream",
     "text": [
      "tensor([[    2,     0, 11773,    16,    10,  1607,   227,    80,   964,    35,\n",
      "         50024, 50028, 50019, 48771, 50024, 50028, 48771, 50024, 50019, 48771,\n",
      "         50019, 48771, 48771, 50024, 50024, 50028,  5214, 50024, 50028,  5457,\n",
      "         50024, 50024, 50019,  5214, 50024, 50024, 50024,  5214, 50024, 48771,\n",
      "         50024, 48771, 50028, 48771, 48771, 48771, 50028,  5214, 50019, 48771,\n",
      "          5214, 50024,  5214, 48771, 50024,  5214, 50019,  5214, 48771, 48771,\n",
      "          1215, 48771, 48771,  5214, 48771, 50019,  5214,  5214, 48771,  5214,\n",
      "          5214,  1215, 48771,  5214,    12, 48771, 48771, 43292, 48771, 48771,\n",
      "         48613, 48771, 48771, 49310, 48771, 48771, 49915, 48771, 48771,   328,\n",
      "         48771, 48771,   207, 48771, 48771, 15483, 48771, 48771, 49085, 48771,\n",
      "             2]])\n"
     ]
    }
   ],
   "source": [
    "outputs = init_model.generate(sample_input_ids[\"input_ids\"], max_new_tokens = 100)\n",
    "\n",
    "if show_tokenizer_output:\n",
    "    print(outputs)"
   ]
  },
  {
   "cell_type": "code",
   "execution_count": 49,
   "id": "dbbb5a27",
   "metadata": {
    "execution": {
     "iopub.execute_input": "2024-09-10T16:00:40.707741Z",
     "iopub.status.busy": "2024-09-10T16:00:40.707460Z",
     "iopub.status.idle": "2024-09-10T16:00:40.710808Z",
     "shell.execute_reply": "2024-09-10T16:00:40.710277Z"
    }
   },
   "outputs": [],
   "source": [
    "generated_summary = init_tokenizer.decode(outputs[0], skip_special_tokens=True)"
   ]
  },
  {
   "cell_type": "code",
   "execution_count": 50,
   "id": "9af1deda",
   "metadata": {
    "execution": {
     "iopub.execute_input": "2024-09-10T16:00:40.713160Z",
     "iopub.status.busy": "2024-09-10T16:00:40.712921Z",
     "iopub.status.idle": "2024-09-10T16:00:40.716747Z",
     "shell.execute_reply": "2024-09-10T16:00:40.716272Z"
    }
   },
   "outputs": [
    {
     "name": "stdout",
     "output_type": "stream",
     "text": [
      "----------------------------------------------------------------------------------------------------\n",
      "Input Prompt:\n",
      "Here is a conversation between two friends:\n",
      "\n",
      "Adam: What are you waiting for? Get on that bus quickly.\n",
      "Max: But where do I get a ticket?\n",
      "Adam: On the bus. The driver collects the fares. You'll have to take your luggage on board.\n",
      "Max: Oh, I wish I didn't have so much to carry.\n",
      "\n",
      "Provide a summary of the conversation: Adam urges Max to get on the bus.\n",
      "\n",
      "\n",
      "Here is a conversation between two friends:\n",
      "\n",
      "Jon: What time is it, Tom?\n",
      "Tom: Just a minute. It's ten to nine by my watch.\n",
      "Jon: Is it? I had no idea it was so late. I must be off now.\n",
      "Tom: What's the hurry?\n",
      "Jon: I must catch the nine-thirty train.\n",
      "Tom: You've plenty of time yet. The railway station is very close. It won't take more than twenty minutes to get there.\n",
      "\n",
      "Provide a summary of the conversation: \n",
      "\n",
      "----------------------------------------------------------------------------------------------------\n",
      "Model Generated Summary:\n",
      "Here is a conversation between two friends:=-=-=-=-=-=-=-=-=-=-=-=-=-=-=-=-=-=-=-=-=-=-=-=-=-=-=-=-=-=-=-=-=-=-=-=-=-=-=-=-=-=-=-=-=-=-=-=-=-=-=-=-=-=-=-=-=-=-=-=-=-=-=-==-=-=-=-=-=-=-=-=-=-=-=- ==-=-=-=-=-=-=-=-=-=-=-=-=-=-=-=-=-=-==-=-=-=-=-=-=-=-=-=-=-=-=-=-=-=-=-=-=-=-=-=-=-=-==-=-=-=-=-=-=-=-=-=-=-=-=-=-=-=-=-=-=-=-=-=-=-=-=-=-=-=-=-==-=-=-==-=-=-=-=-=-=-=-==-=-=-=-=-=-=-=-=-==-=-==-=-_=-=-==-=-=-===-==_=-=-=-=-===-=-=======-=-=[=-=-=]=-=-!=-=-%=-=-|=-=-||=-\n",
      "\n",
      "----------------------------------------------------------------------------------------------------\n",
      "Baseline Summary:\n",
      "Jon is in a hurry to catch a train. Tom tells Jon there is plenty of time.\n",
      "\n",
      "----------------------------------------------------------------------------------------------------\n"
     ]
    }
   ],
   "source": [
    "print(\"-\" * 100)\n",
    "print(f\"Input Prompt:\\n{few_shot_prompt}\\n\")\n",
    "print(\"-\" * 100)\n",
    "print(f\"Model Generated Summary:\\n{generated_summary}\\n\")\n",
    "print(\"-\" * 100)\n",
    "print(f\"Baseline Summary:\\n{sample_baseline_summary}\\n\")\n",
    "print(\"-\" * 100)"
   ]
  },
  {
   "cell_type": "code",
   "execution_count": null,
   "id": "fe8f5d20",
   "metadata": {},
   "outputs": [],
   "source": []
  },
  {
   "cell_type": "markdown",
   "id": "c03dd26a",
   "metadata": {},
   "source": [
    "---\n",
    "\n",
    "# Datasets\n",
    "\n",
    "### Conversation dataset used:\n",
    "- DialogSum\n",
    "- SAMSum\n",
    "\n",
    "To load the datasets, use the load_dataset() method from the HuggingFace Datasets library.\n",
    "\n",
    "After loading these datasets, we will clean and merge them, to create a custom training dataset for the model fine-tuning process.\n",
    "\n",
    "---"
   ]
  },
  {
   "cell_type": "markdown",
   "id": "2b40a9a5",
   "metadata": {},
   "source": [
    "## Load the 'DialogSum' dataset\n",
    "\n",
    "https://github.com/cylnlp/dialogsum (DialogSum: A Real-life Scenario Dialogue Summarization Dataset)"
   ]
  },
  {
   "cell_type": "code",
   "execution_count": 51,
   "id": "eae7353b",
   "metadata": {
    "execution": {
     "iopub.execute_input": "2024-09-10T16:00:40.719107Z",
     "iopub.status.busy": "2024-09-10T16:00:40.718886Z",
     "iopub.status.idle": "2024-09-10T16:00:42.237279Z",
     "shell.execute_reply": "2024-09-10T16:00:42.236737Z"
    }
   },
   "outputs": [
    {
     "name": "stdout",
     "output_type": "stream",
     "text": [
      "CPU times: user 80.7 ms, sys: 3.86 ms, total: 84.5 ms\n",
      "Wall time: 1.52 s\n"
     ]
    }
   ],
   "source": [
    "%%time\n",
    "\n",
    "hf_dataset_1_name = \"knkarthick/dialogsum\"\n",
    "hf_dataset_1_dict = load_dataset(hf_dataset_1_name)"
   ]
  },
  {
   "cell_type": "code",
   "execution_count": 52,
   "id": "378317cb",
   "metadata": {
    "execution": {
     "iopub.execute_input": "2024-09-10T16:00:42.239765Z",
     "iopub.status.busy": "2024-09-10T16:00:42.239506Z",
     "iopub.status.idle": "2024-09-10T16:00:42.243383Z",
     "shell.execute_reply": "2024-09-10T16:00:42.242931Z"
    }
   },
   "outputs": [
    {
     "data": {
      "text/plain": [
       "{'train': (12460, 4), 'validation': (500, 4), 'test': (1500, 4)}"
      ]
     },
     "execution_count": 52,
     "metadata": {},
     "output_type": "execute_result"
    }
   ],
   "source": [
    "hf_dataset_1_dict.shape"
   ]
  },
  {
   "cell_type": "code",
   "execution_count": 53,
   "id": "cb092483",
   "metadata": {
    "execution": {
     "iopub.execute_input": "2024-09-10T16:00:42.245570Z",
     "iopub.status.busy": "2024-09-10T16:00:42.245343Z",
     "iopub.status.idle": "2024-09-10T16:00:42.249157Z",
     "shell.execute_reply": "2024-09-10T16:00:42.248672Z"
    }
   },
   "outputs": [
    {
     "name": "stdout",
     "output_type": "stream",
     "text": [
      "{'dialogue': \"#Person1#: Hi, Mr. Smith. I'm Doctor Hawkins. Why are you here \"\n",
      "             'today?\\n'\n",
      "             '#Person2#: I found it would be a good idea to get a check-up.\\n'\n",
      "             \"#Person1#: Yes, well, you haven't had one for 5 years. You \"\n",
      "             'should have one every year.\\n'\n",
      "             '#Person2#: I know. I figure as long as there is nothing wrong, '\n",
      "             'why go see the doctor?\\n'\n",
      "             '#Person1#: Well, the best way to avoid serious illnesses is to '\n",
      "             'find out about them early. So try to come at least once a year '\n",
      "             'for your own good.\\n'\n",
      "             '#Person2#: Ok.\\n'\n",
      "             '#Person1#: Let me see here. Your eyes and ears look fine. Take a '\n",
      "             'deep breath, please. Do you smoke, Mr. Smith?\\n'\n",
      "             '#Person2#: Yes.\\n'\n",
      "             '#Person1#: Smoking is the leading cause of lung cancer and heart '\n",
      "             'disease, you know. You really should quit.\\n'\n",
      "             \"#Person2#: I've tried hundreds of times, but I just can't seem \"\n",
      "             'to kick the habit.\\n'\n",
      "             '#Person1#: Well, we have classes and some medications that might '\n",
      "             \"help. I'll give you more information before you leave.\\n\"\n",
      "             '#Person2#: Ok, thanks doctor.',\n",
      " 'id': 'train_0',\n",
      " 'summary': \"Mr. Smith's getting a check-up, and Doctor Hawkins advises him to \"\n",
      "            \"have one every year. Hawkins'll give some information about their \"\n",
      "            'classes and medications to help Mr. Smith quit smoking.',\n",
      " 'topic': 'get a check-up'}\n"
     ]
    }
   ],
   "source": [
    "pprint(hf_dataset_1_dict[\"train\"][0])"
   ]
  },
  {
   "cell_type": "markdown",
   "id": "409336cf",
   "metadata": {},
   "source": [
    "#### Load sample conversation and run through the model"
   ]
  },
  {
   "cell_type": "code",
   "execution_count": 54,
   "id": "98ed5985",
   "metadata": {
    "execution": {
     "iopub.execute_input": "2024-09-10T16:00:42.251382Z",
     "iopub.status.busy": "2024-09-10T16:00:42.251161Z",
     "iopub.status.idle": "2024-09-10T16:00:42.255246Z",
     "shell.execute_reply": "2024-09-10T16:00:42.254779Z"
    }
   },
   "outputs": [
    {
     "name": "stdout",
     "output_type": "stream",
     "text": [
      "----------------------------------------------------------------------------------------------------\n",
      "Sample Dialog:\n",
      "#Person1#: What time is it, Tom?\n",
      "#Person2#: Just a minute. It's ten to nine by my watch.\n",
      "#Person1#: Is it? I had no idea it was so late. I must be off now.\n",
      "#Person2#: What's the hurry?\n",
      "#Person1#: I must catch the nine-thirty train.\n",
      "#Person2#: You've plenty of time yet. The railway station is very close. It won't take more than twenty minutes to get there.\n",
      "\n",
      "----------------------------------------------------------------------------------------------------\n",
      "Baseline Summary:\n",
      "#Person1# is in a hurry to catch a train. Tom tells #Person1# there is plenty of time.\n"
     ]
    }
   ],
   "source": [
    "example_index = 40\n",
    "\n",
    "sample_dialogue = hf_dataset_1_dict[\"test\"][example_index][\"dialogue\"]\n",
    "print(\"-\" * 100)\n",
    "print(\"Sample Dialog:\")\n",
    "print(sample_dialogue)\n",
    "\n",
    "print()\n",
    "\n",
    "sample_baseline_summary = hf_dataset_1_dict[\"test\"][example_index][\"summary\"]\n",
    "print(\"-\" * 100)\n",
    "print(\"Baseline Summary:\")\n",
    "print(sample_baseline_summary)"
   ]
  },
  {
   "cell_type": "code",
   "execution_count": 55,
   "id": "21ddf24a",
   "metadata": {
    "execution": {
     "iopub.execute_input": "2024-09-10T16:00:42.257397Z",
     "iopub.status.busy": "2024-09-10T16:00:42.257178Z",
     "iopub.status.idle": "2024-09-10T16:00:42.263119Z",
     "shell.execute_reply": "2024-09-10T16:00:42.262652Z"
    }
   },
   "outputs": [
    {
     "name": "stdout",
     "output_type": "stream",
     "text": [
      "{'attention_mask': tensor([[1, 1, 1, 1, 1, 1, 1, 1, 1, 1, 1, 1, 1, 1, 1, 1, 1, 1, 1, 1, 1, 1, 1, 1,\n",
      "         1, 1, 1, 1, 1, 1, 1, 1, 1, 1, 1, 1, 1, 1, 1, 1, 1, 1, 1, 1, 1, 1, 1, 1,\n",
      "         1, 1, 1, 1, 1, 1, 1, 1, 1, 1, 1, 1, 1, 1, 1, 1, 1, 1, 1, 1, 1, 1, 1, 1,\n",
      "         1, 1, 1, 1, 1, 1, 1, 1, 1, 1, 1, 1, 1, 1, 1, 1, 1, 1, 1, 1, 1, 1, 1, 1,\n",
      "         1, 1, 1, 1, 1, 1, 1, 1, 1, 1, 1, 1, 1, 1, 1, 1, 1, 1, 1, 1]]),\n",
      " 'input_ids': tensor([[    0, 10431, 41761,   134, 10431,    35,   653,    86,    16,    24,\n",
      "             6,  1560,   116, 50118, 10431, 41761,   176, 10431,    35,  1801,\n",
      "            10,  2289,     4,    85,    18,  2724,     7,  1117,    30,   127,\n",
      "          1183,     4, 50118, 10431, 41761,   134, 10431,    35,  1534,    24,\n",
      "           116,    38,    56,   117,  1114,    24,    21,    98,   628,     4,\n",
      "            38,   531,    28,   160,   122,     4, 50118, 10431, 41761,   176,\n",
      "         10431,    35,   653,    18,     5, 20607,   116, 50118, 10431, 41761,\n",
      "           134, 10431,    35,    38,   531,  2916,     5,  1117,    12,   212,\n",
      "         32430,  2341,     4, 50118, 10431, 41761,   176, 10431,    35,   370,\n",
      "           348,  2710,     9,    86,   648,     4,    20, 10780,  1992,    16,\n",
      "           182,   593,     4,    85,   351,    75,   185,    55,    87, 10328,\n",
      "           728,     7,   120,    89,     4,     2]])}\n"
     ]
    }
   ],
   "source": [
    "sample_input_ids = init_tokenizer(sample_dialogue, return_tensors=\"pt\")\n",
    "\n",
    "if show_tokenizer_output:\n",
    "    pprint(sample_input_ids)"
   ]
  },
  {
   "cell_type": "code",
   "execution_count": 56,
   "id": "800b973a",
   "metadata": {
    "execution": {
     "iopub.execute_input": "2024-09-10T16:00:42.265283Z",
     "iopub.status.busy": "2024-09-10T16:00:42.265063Z",
     "iopub.status.idle": "2024-09-10T16:00:45.415188Z",
     "shell.execute_reply": "2024-09-10T16:00:45.414580Z"
    }
   },
   "outputs": [
    {
     "name": "stdout",
     "output_type": "stream",
     "text": [
      "tensor([[    2,     0, 10431, 41761,   134, 10431,    35,   653,    86,    16,\n",
      "            24,     6,  1560,   116, 10431, 41761,   176, 10431,    35,  1801,\n",
      "            10,  2289,     4,    85,    18,  2724,     7,  1117,    30,   127,\n",
      "          1183,     4,    38,   531,    28,   160,   122,     4,    20, 10780,\n",
      "          1992,    16,   182,   593,     4,    85,   351,    75,   185,    55,\n",
      "            87, 10328,   728,     7,   120,    89,     4,    38,   581,   972,\n",
      "            47,    89,    23,  1117,    12,   212, 32430,     6,   114,    47,\n",
      "           218,    75,  1508,     4, 10431, 41761,   288, 10431,    35,    85,\n",
      "            18,   350,   628,     6,  1560,     6,    38,   437,  6661,    59,\n",
      "            14,     4,    38,    56,   117,  1114,    24,    21,    98,   628,\n",
      "             2]])\n"
     ]
    }
   ],
   "source": [
    "outputs = init_model.generate(sample_input_ids[\"input_ids\"], max_new_tokens = 100)\n",
    "\n",
    "if show_tokenizer_output:\n",
    "    print(outputs)"
   ]
  },
  {
   "cell_type": "code",
   "execution_count": 57,
   "id": "5ad64ba1",
   "metadata": {
    "execution": {
     "iopub.execute_input": "2024-09-10T16:00:45.417906Z",
     "iopub.status.busy": "2024-09-10T16:00:45.417621Z",
     "iopub.status.idle": "2024-09-10T16:00:45.421415Z",
     "shell.execute_reply": "2024-09-10T16:00:45.420888Z"
    }
   },
   "outputs": [
    {
     "name": "stdout",
     "output_type": "stream",
     "text": [
      "#Person1#: What time is it, Tom?#Person2#: Just a minute. It's ten to nine by my watch. I must be off now. The railway station is very close. It won't take more than twenty minutes to get there. I'll meet you there at nine-thirty, if you don't mind.#Person0#: It's too late, Tom, I'm sorry about that. I had no idea it was so late\n"
     ]
    }
   ],
   "source": [
    "print(init_tokenizer.decode(outputs[0], skip_special_tokens=True))"
   ]
  },
  {
   "cell_type": "code",
   "execution_count": null,
   "id": "a2ec79a5",
   "metadata": {},
   "outputs": [],
   "source": []
  },
  {
   "cell_type": "markdown",
   "id": "471735df",
   "metadata": {},
   "source": [
    "## Load the 'SAMSum' dataset\n",
    "\n",
    "https://github.com/tensorflow/datasets/blob/master/docs/catalog/samsum.md (SAMSum Corpus contains over 16k chat dialogues with manually annotated summaries.)"
   ]
  },
  {
   "cell_type": "code",
   "execution_count": 58,
   "id": "b068c4e3",
   "metadata": {
    "execution": {
     "iopub.execute_input": "2024-09-10T16:00:45.423948Z",
     "iopub.status.busy": "2024-09-10T16:00:45.423716Z",
     "iopub.status.idle": "2024-09-10T16:00:46.769554Z",
     "shell.execute_reply": "2024-09-10T16:00:46.769028Z"
    }
   },
   "outputs": [
    {
     "name": "stdout",
     "output_type": "stream",
     "text": [
      "CPU times: user 166 ms, sys: 4.6 ms, total: 171 ms\n",
      "Wall time: 1.34 s\n"
     ]
    }
   ],
   "source": [
    "%%time\n",
    "\n",
    "hf_dataset_2_name = \"knkarthick/samsum\"\n",
    "hf_dataset_2_dict = load_dataset(hf_dataset_2_name)"
   ]
  },
  {
   "cell_type": "code",
   "execution_count": 59,
   "id": "dfaa4394",
   "metadata": {
    "execution": {
     "iopub.execute_input": "2024-09-10T16:00:46.772016Z",
     "iopub.status.busy": "2024-09-10T16:00:46.771751Z",
     "iopub.status.idle": "2024-09-10T16:00:46.775599Z",
     "shell.execute_reply": "2024-09-10T16:00:46.775153Z"
    }
   },
   "outputs": [
    {
     "data": {
      "text/plain": [
       "{'train': (14732, 3), 'validation': (818, 3), 'test': (819, 3)}"
      ]
     },
     "execution_count": 59,
     "metadata": {},
     "output_type": "execute_result"
    }
   ],
   "source": [
    "hf_dataset_2_dict.shape"
   ]
  },
  {
   "cell_type": "code",
   "execution_count": 60,
   "id": "828e71e6",
   "metadata": {
    "execution": {
     "iopub.execute_input": "2024-09-10T16:00:46.777736Z",
     "iopub.status.busy": "2024-09-10T16:00:46.777516Z",
     "iopub.status.idle": "2024-09-10T16:00:46.780913Z",
     "shell.execute_reply": "2024-09-10T16:00:46.780444Z"
    }
   },
   "outputs": [
    {
     "name": "stdout",
     "output_type": "stream",
     "text": [
      "{'dialogue': 'Amanda: I baked  cookies. Do you want some?\\n'\n",
      "             'Jerry: Sure!\\n'\n",
      "             \"Amanda: I'll bring you tomorrow :-)\",\n",
      " 'id': '13818513',\n",
      " 'summary': 'Amanda baked cookies and will bring Jerry some tomorrow.'}\n"
     ]
    }
   ],
   "source": [
    "pprint(hf_dataset_2_dict[\"train\"][0])"
   ]
  },
  {
   "cell_type": "markdown",
   "id": "5e2a8f96",
   "metadata": {},
   "source": [
    "#### Load sample conversation and run through the model"
   ]
  },
  {
   "cell_type": "code",
   "execution_count": 61,
   "id": "7dc26cc8",
   "metadata": {
    "execution": {
     "iopub.execute_input": "2024-09-10T16:00:46.783103Z",
     "iopub.status.busy": "2024-09-10T16:00:46.782886Z",
     "iopub.status.idle": "2024-09-10T16:00:46.787123Z",
     "shell.execute_reply": "2024-09-10T16:00:46.786658Z"
    }
   },
   "outputs": [
    {
     "name": "stdout",
     "output_type": "stream",
     "text": [
      "----------------------------------------------------------------------------------------------------\n",
      "Sample Dialog:\n",
      "Sebastian: It's been already a year since we moved here.\n",
      "Sebastian: This is totally the best time of my life.\n",
      "Kevin: Really? \n",
      "Sebastian: Yeah! Totally maaan.\n",
      "Sebastian: During this 1 year I learned more than ever. \n",
      "Sebastian: I learned how to be resourceful, I'm learning responsibility, and I literally have the power to make my dreams come true.\n",
      "Kevin: It's great to hear that.\n",
      "Kevin: It's great that you are satisfied with your decisions.\n",
      "Kevin: And above all it's great to see that you have someone you love by your side :)\n",
      "Sebastian: Exactly!\n",
      "Sebastian: That's another part of my life that is going great.\n",
      "Kevin: I wish I had such a person by my side.\n",
      "Sebastian: Don't worry about it.\n",
      "Sebastian: I have a feeling this day will come shortly.\n",
      "Kevin: Haha. I don' think so, but thanks.\n",
      "Sebastian: This one year proved to me that when you want something really badly, you can achieve it.\n",
      "Kevin: I want to win lottery and I never did :D\n",
      "Sebastian: If you devoted your life to analyze all of the winning numbers, and with your math skills you could win.\n",
      "Kevin: Devote myself and million dollars for lottery tickets.\n",
      "Sebastian: Something like that xD\n",
      "Kevin: I'm happy for you man.\n",
      "Kevin: I really am\n",
      "Sebastian: Thanks. It means a lot my friend :)\n",
      "\n",
      "----------------------------------------------------------------------------------------------------\n",
      "Baseline Summary:\n",
      "Sebastian is very happy with his life, and shares this happiness with Kevin.\n"
     ]
    }
   ],
   "source": [
    "example_index = 40\n",
    "\n",
    "sample_dialogue = hf_dataset_2_dict[\"test\"][example_index][\"dialogue\"]\n",
    "print(\"-\" * 100)\n",
    "print(\"Sample Dialog:\")\n",
    "print(sample_dialogue)\n",
    "\n",
    "print()\n",
    "\n",
    "sample_baseline_summary = hf_dataset_2_dict[\"test\"][example_index][\"summary\"]\n",
    "print(\"-\" * 100)\n",
    "print(\"Baseline Summary:\")\n",
    "print(sample_baseline_summary)"
   ]
  },
  {
   "cell_type": "code",
   "execution_count": 62,
   "id": "a5afe603",
   "metadata": {
    "execution": {
     "iopub.execute_input": "2024-09-10T16:00:46.789228Z",
     "iopub.status.busy": "2024-09-10T16:00:46.789010Z",
     "iopub.status.idle": "2024-09-10T16:00:46.799443Z",
     "shell.execute_reply": "2024-09-10T16:00:46.798983Z"
    }
   },
   "outputs": [
    {
     "name": "stdout",
     "output_type": "stream",
     "text": [
      "{'attention_mask': tensor([[1, 1, 1, 1, 1, 1, 1, 1, 1, 1, 1, 1, 1, 1, 1, 1, 1, 1, 1, 1, 1, 1, 1, 1,\n",
      "         1, 1, 1, 1, 1, 1, 1, 1, 1, 1, 1, 1, 1, 1, 1, 1, 1, 1, 1, 1, 1, 1, 1, 1,\n",
      "         1, 1, 1, 1, 1, 1, 1, 1, 1, 1, 1, 1, 1, 1, 1, 1, 1, 1, 1, 1, 1, 1, 1, 1,\n",
      "         1, 1, 1, 1, 1, 1, 1, 1, 1, 1, 1, 1, 1, 1, 1, 1, 1, 1, 1, 1, 1, 1, 1, 1,\n",
      "         1, 1, 1, 1, 1, 1, 1, 1, 1, 1, 1, 1, 1, 1, 1, 1, 1, 1, 1, 1, 1, 1, 1, 1,\n",
      "         1, 1, 1, 1, 1, 1, 1, 1, 1, 1, 1, 1, 1, 1, 1, 1, 1, 1, 1, 1, 1, 1, 1, 1,\n",
      "         1, 1, 1, 1, 1, 1, 1, 1, 1, 1, 1, 1, 1, 1, 1, 1, 1, 1, 1, 1, 1, 1, 1, 1,\n",
      "         1, 1, 1, 1, 1, 1, 1, 1, 1, 1, 1, 1, 1, 1, 1, 1, 1, 1, 1, 1, 1, 1, 1, 1,\n",
      "         1, 1, 1, 1, 1, 1, 1, 1, 1, 1, 1, 1, 1, 1, 1, 1, 1, 1, 1, 1, 1, 1, 1, 1,\n",
      "         1, 1, 1, 1, 1, 1, 1, 1, 1, 1, 1, 1, 1, 1, 1, 1, 1, 1, 1, 1, 1, 1, 1, 1,\n",
      "         1, 1, 1, 1, 1, 1, 1, 1, 1, 1, 1, 1, 1, 1, 1, 1, 1, 1, 1, 1, 1, 1, 1, 1,\n",
      "         1, 1, 1, 1, 1, 1, 1, 1, 1, 1, 1, 1, 1, 1, 1, 1, 1, 1, 1, 1, 1, 1, 1, 1,\n",
      "         1, 1, 1, 1, 1, 1, 1, 1, 1, 1, 1, 1, 1, 1, 1, 1, 1, 1, 1, 1, 1, 1, 1, 1,\n",
      "         1, 1, 1, 1, 1, 1, 1, 1, 1, 1, 1, 1, 1, 1, 1, 1, 1, 1, 1, 1, 1, 1, 1, 1,\n",
      "         1, 1, 1, 1, 1, 1, 1, 1, 1, 1, 1, 1, 1, 1, 1, 1]]),\n",
      " 'input_ids': tensor([[    0,   104,  3209,  1988,   811,    35,    85,    18,    57,   416,\n",
      "            10,    76,   187,    52,  1410,   259,     4, 50118,   104,  3209,\n",
      "          1988,   811,    35,   152,    16,  4940,     5,   275,    86,     9,\n",
      "           127,   301,     4, 50118, 21910,    35, 16923,   116,  1437, 50118,\n",
      "           104,  3209,  1988,   811,    35,  8976,   328, 41380,   475,  6621,\n",
      "           260,     4, 50118,   104,  3209,  1988,   811,    35,  1590,    42,\n",
      "           112,    76,    38,  2435,    55,    87,   655,     4,  1437, 50118,\n",
      "           104,  3209,  1988,   811,    35,    38,  2435,   141,     7,    28,\n",
      "          5799,  2650,     6,    38,   437,  2239,  2640,     6,     8,    38,\n",
      "          5909,    33,     5,   476,     7,   146,   127,  7416,   283,  1528,\n",
      "             4, 50118, 21910,    35,    85,    18,   372,     7,  1798,    14,\n",
      "             4, 50118, 21910,    35,    85,    18,   372,    14,    47,    32,\n",
      "         10028,    19,   110,  2390,     4, 50118, 21910,    35,   178,  1065,\n",
      "            70,    24,    18,   372,     7,   192,    14,    47,    33,   951,\n",
      "            47,   657,    30,   110,   526, 44660, 50118,   104,  3209,  1988,\n",
      "           811,    35, 31804,   328, 50118,   104,  3209,  1988,   811,    35,\n",
      "           280,    18,   277,   233,     9,   127,   301,    14,    16,   164,\n",
      "           372,     4, 50118, 21910,    35,    38,  2813,    38,    56,   215,\n",
      "            10,   621,    30,   127,   526,     4, 50118,   104,  3209,  1988,\n",
      "           811,    35,  1599,    75,  4022,    59,    24,     4, 50118,   104,\n",
      "          3209,  1988,   811,    35,    38,    33,    10,  2157,    42,   183,\n",
      "            40,   283,  3691,     4, 50118, 21910,    35,   289, 11695,     4,\n",
      "            38,   218,   108,   206,    98,     6,    53,  2446,     4, 50118,\n",
      "           104,  3209,  1988,   811,    35,   152,    65,    76,  4362,     7,\n",
      "           162,    14,    77,    47,   236,   402,   269,  7340,     6,    47,\n",
      "            64,  3042,    24,     4, 50118, 21910,    35,    38,   236,     7,\n",
      "           339, 11395,     8,    38,   393,   222,  4832,   495, 50118,   104,\n",
      "          3209,  1988,   811,    35,   318,    47, 11213,   110,   301,     7,\n",
      "         11526,    70,     9,     5,  1298,  1530,     6,     8,    19,   110,\n",
      "         10638,  2417,    47,   115,   339,     4, 50118, 21910,    35,  7439,\n",
      "          6457,  2185,     8,   153,  1932,    13, 11395,  3308,     4, 50118,\n",
      "           104,  3209,  1988,   811,    35, 13676,   101,    14,  3023,   495,\n",
      "         50118, 21910,    35,    38,   437,  1372,    13,    47,   313,     4,\n",
      "         50118, 21910,    35,    38,   269,   524, 50118,   104,  3209,  1988,\n",
      "           811,    35,  4557,     4,    85,   839,    10,   319,   127,  1441,\n",
      "         44660,     2]])}\n"
     ]
    }
   ],
   "source": [
    "sample_input_ids = init_tokenizer(sample_dialogue, return_tensors=\"pt\")\n",
    "\n",
    "if show_tokenizer_output:\n",
    "    pprint(sample_input_ids)"
   ]
  },
  {
   "cell_type": "code",
   "execution_count": 63,
   "id": "77a31227",
   "metadata": {
    "execution": {
     "iopub.execute_input": "2024-09-10T16:00:46.801544Z",
     "iopub.status.busy": "2024-09-10T16:00:46.801321Z",
     "iopub.status.idle": "2024-09-10T16:00:50.062521Z",
     "shell.execute_reply": "2024-09-10T16:00:50.061915Z"
    }
   },
   "outputs": [
    {
     "name": "stdout",
     "output_type": "stream",
     "text": [
      "tensor([[    2,     0,     0,   104,  3209,  1988,   811,    35,    85,    18,\n",
      "            57,   416,    10,    76,   187,    52,  1410,   259,     4,    38,\n",
      "           218,   108,   206,    98,     6,    53,  2446,     4,    38,   437,\n",
      "            98,  1372,     7,    28,   259,     8,    38,   437,   269,  1372,\n",
      "            19,   127,   301,   259,     4, 50095, 10172,  8906, 21910,    35,\n",
      "            38,   437,  1372,    13,    47,     6,   350,     4,    38,  1034,\n",
      "            47,    33,    10,   372,    86,   259,     4,   104, 19928,   225,\n",
      "         21910,    35,  3837,    47,    98,   203,     4,    38,   269,  5478,\n",
      "            24,     4,    38,   216,    24,    18,    57,    10,   251,    86,\n",
      "             6,    53,    38,   437,  7785,    47,   214,  1372,   259,     4,\n",
      "             2]])\n"
     ]
    }
   ],
   "source": [
    "outputs = init_model.generate(sample_input_ids[\"input_ids\"], max_new_tokens = 100)\n",
    "\n",
    "if show_tokenizer_output:\n",
    "    print(outputs)"
   ]
  },
  {
   "cell_type": "code",
   "execution_count": 64,
   "id": "6f5e6ac3",
   "metadata": {
    "execution": {
     "iopub.execute_input": "2024-09-10T16:00:50.065222Z",
     "iopub.status.busy": "2024-09-10T16:00:50.064944Z",
     "iopub.status.idle": "2024-09-10T16:00:50.068822Z",
     "shell.execute_reply": "2024-09-10T16:00:50.068305Z"
    }
   },
   "outputs": [
    {
     "name": "stdout",
     "output_type": "stream",
     "text": [
      "(\"Sebastian: It's been already a year since we moved here. I don' think so, \"\n",
      " \"but thanks. I'm so happy to be here and I'm really happy with my life \"\n",
      " \"here.�Kevin: I'm happy for you, too. I hope you have a great time \"\n",
      " \"here.SeadenKevin: Thank you so much. I really appreciate it. I know it's \"\n",
      " \"been a long time, but I'm glad you're happy here.\")\n"
     ]
    }
   ],
   "source": [
    "pprint(init_tokenizer.decode(outputs[0], skip_special_tokens=True))"
   ]
  },
  {
   "cell_type": "code",
   "execution_count": null,
   "id": "93215c38",
   "metadata": {},
   "outputs": [],
   "source": []
  },
  {
   "cell_type": "markdown",
   "id": "6addc8ec",
   "metadata": {},
   "source": [
    "---\n",
    "\n",
    "# Preprocessing Step\n",
    "\n",
    "---"
   ]
  },
  {
   "cell_type": "markdown",
   "id": "3d66b483",
   "metadata": {},
   "source": [
    "### Merge different sets in 'DialogSum' \n",
    "\n",
    "There are 3 sets, namely, 'train', 'validation', and 'test' in the 'DialogSum' dataset. We will merge them for model fine-tuning.\n",
    "\n",
    "You can view the data here: https://huggingface.co/datasets/knkarthick/dialogsum"
   ]
  },
  {
   "cell_type": "code",
   "execution_count": 65,
   "id": "3d1c34a5",
   "metadata": {
    "execution": {
     "iopub.execute_input": "2024-09-10T16:00:50.071489Z",
     "iopub.status.busy": "2024-09-10T16:00:50.071262Z",
     "iopub.status.idle": "2024-09-10T16:00:50.082323Z",
     "shell.execute_reply": "2024-09-10T16:00:50.081886Z"
    }
   },
   "outputs": [
    {
     "data": {
      "text/html": [
       "<pre style=\"white-space:pre;overflow-x:auto;line-height:normal;font-family:Menlo,'DejaVu Sans Mono',consolas,'Courier New',monospace\"><span style=\"font-weight: bold\">{</span>\n",
       "    <span style=\"color: #008000; text-decoration-color: #008000\">'id'</span>: <span style=\"color: #800080; text-decoration-color: #800080; font-weight: bold\">Value</span><span style=\"font-weight: bold\">(</span><span style=\"color: #808000; text-decoration-color: #808000\">dtype</span>=<span style=\"color: #008000; text-decoration-color: #008000\">'string'</span>, <span style=\"color: #808000; text-decoration-color: #808000\">id</span>=<span style=\"color: #800080; text-decoration-color: #800080; font-style: italic\">None</span><span style=\"font-weight: bold\">)</span>,\n",
       "    <span style=\"color: #008000; text-decoration-color: #008000\">'dialogue'</span>: <span style=\"color: #800080; text-decoration-color: #800080; font-weight: bold\">Value</span><span style=\"font-weight: bold\">(</span><span style=\"color: #808000; text-decoration-color: #808000\">dtype</span>=<span style=\"color: #008000; text-decoration-color: #008000\">'string'</span>, <span style=\"color: #808000; text-decoration-color: #808000\">id</span>=<span style=\"color: #800080; text-decoration-color: #800080; font-style: italic\">None</span><span style=\"font-weight: bold\">)</span>,\n",
       "    <span style=\"color: #008000; text-decoration-color: #008000\">'summary'</span>: <span style=\"color: #800080; text-decoration-color: #800080; font-weight: bold\">Value</span><span style=\"font-weight: bold\">(</span><span style=\"color: #808000; text-decoration-color: #808000\">dtype</span>=<span style=\"color: #008000; text-decoration-color: #008000\">'string'</span>, <span style=\"color: #808000; text-decoration-color: #808000\">id</span>=<span style=\"color: #800080; text-decoration-color: #800080; font-style: italic\">None</span><span style=\"font-weight: bold\">)</span>,\n",
       "    <span style=\"color: #008000; text-decoration-color: #008000\">'topic'</span>: <span style=\"color: #800080; text-decoration-color: #800080; font-weight: bold\">Value</span><span style=\"font-weight: bold\">(</span><span style=\"color: #808000; text-decoration-color: #808000\">dtype</span>=<span style=\"color: #008000; text-decoration-color: #008000\">'string'</span>, <span style=\"color: #808000; text-decoration-color: #808000\">id</span>=<span style=\"color: #800080; text-decoration-color: #800080; font-style: italic\">None</span><span style=\"font-weight: bold\">)</span>\n",
       "<span style=\"font-weight: bold\">}</span>\n",
       "</pre>\n"
      ],
      "text/plain": [
       "\u001b[1m{\u001b[0m\n",
       "    \u001b[32m'id'\u001b[0m: \u001b[1;35mValue\u001b[0m\u001b[1m(\u001b[0m\u001b[33mdtype\u001b[0m=\u001b[32m'string'\u001b[0m, \u001b[33mid\u001b[0m=\u001b[3;35mNone\u001b[0m\u001b[1m)\u001b[0m,\n",
       "    \u001b[32m'dialogue'\u001b[0m: \u001b[1;35mValue\u001b[0m\u001b[1m(\u001b[0m\u001b[33mdtype\u001b[0m=\u001b[32m'string'\u001b[0m, \u001b[33mid\u001b[0m=\u001b[3;35mNone\u001b[0m\u001b[1m)\u001b[0m,\n",
       "    \u001b[32m'summary'\u001b[0m: \u001b[1;35mValue\u001b[0m\u001b[1m(\u001b[0m\u001b[33mdtype\u001b[0m=\u001b[32m'string'\u001b[0m, \u001b[33mid\u001b[0m=\u001b[3;35mNone\u001b[0m\u001b[1m)\u001b[0m,\n",
       "    \u001b[32m'topic'\u001b[0m: \u001b[1;35mValue\u001b[0m\u001b[1m(\u001b[0m\u001b[33mdtype\u001b[0m=\u001b[32m'string'\u001b[0m, \u001b[33mid\u001b[0m=\u001b[3;35mNone\u001b[0m\u001b[1m)\u001b[0m\n",
       "\u001b[1m}\u001b[0m\n"
      ]
     },
     "metadata": {},
     "output_type": "display_data"
    },
    {
     "data": {
      "text/html": [
       "<pre style=\"white-space:pre;overflow-x:auto;line-height:normal;font-family:Menlo,'DejaVu Sans Mono',consolas,'Courier New',monospace\"><span style=\"font-weight: bold\">{</span>\n",
       "    <span style=\"color: #008000; text-decoration-color: #008000\">'id'</span>: <span style=\"color: #800080; text-decoration-color: #800080; font-weight: bold\">Value</span><span style=\"font-weight: bold\">(</span><span style=\"color: #808000; text-decoration-color: #808000\">dtype</span>=<span style=\"color: #008000; text-decoration-color: #008000\">'string'</span>, <span style=\"color: #808000; text-decoration-color: #808000\">id</span>=<span style=\"color: #800080; text-decoration-color: #800080; font-style: italic\">None</span><span style=\"font-weight: bold\">)</span>,\n",
       "    <span style=\"color: #008000; text-decoration-color: #008000\">'dialogue'</span>: <span style=\"color: #800080; text-decoration-color: #800080; font-weight: bold\">Value</span><span style=\"font-weight: bold\">(</span><span style=\"color: #808000; text-decoration-color: #808000\">dtype</span>=<span style=\"color: #008000; text-decoration-color: #008000\">'string'</span>, <span style=\"color: #808000; text-decoration-color: #808000\">id</span>=<span style=\"color: #800080; text-decoration-color: #800080; font-style: italic\">None</span><span style=\"font-weight: bold\">)</span>,\n",
       "    <span style=\"color: #008000; text-decoration-color: #008000\">'summary'</span>: <span style=\"color: #800080; text-decoration-color: #800080; font-weight: bold\">Value</span><span style=\"font-weight: bold\">(</span><span style=\"color: #808000; text-decoration-color: #808000\">dtype</span>=<span style=\"color: #008000; text-decoration-color: #008000\">'string'</span>, <span style=\"color: #808000; text-decoration-color: #808000\">id</span>=<span style=\"color: #800080; text-decoration-color: #800080; font-style: italic\">None</span><span style=\"font-weight: bold\">)</span>,\n",
       "    <span style=\"color: #008000; text-decoration-color: #008000\">'topic'</span>: <span style=\"color: #800080; text-decoration-color: #800080; font-weight: bold\">Value</span><span style=\"font-weight: bold\">(</span><span style=\"color: #808000; text-decoration-color: #808000\">dtype</span>=<span style=\"color: #008000; text-decoration-color: #008000\">'string'</span>, <span style=\"color: #808000; text-decoration-color: #808000\">id</span>=<span style=\"color: #800080; text-decoration-color: #800080; font-style: italic\">None</span><span style=\"font-weight: bold\">)</span>\n",
       "<span style=\"font-weight: bold\">}</span>\n",
       "</pre>\n"
      ],
      "text/plain": [
       "\u001b[1m{\u001b[0m\n",
       "    \u001b[32m'id'\u001b[0m: \u001b[1;35mValue\u001b[0m\u001b[1m(\u001b[0m\u001b[33mdtype\u001b[0m=\u001b[32m'string'\u001b[0m, \u001b[33mid\u001b[0m=\u001b[3;35mNone\u001b[0m\u001b[1m)\u001b[0m,\n",
       "    \u001b[32m'dialogue'\u001b[0m: \u001b[1;35mValue\u001b[0m\u001b[1m(\u001b[0m\u001b[33mdtype\u001b[0m=\u001b[32m'string'\u001b[0m, \u001b[33mid\u001b[0m=\u001b[3;35mNone\u001b[0m\u001b[1m)\u001b[0m,\n",
       "    \u001b[32m'summary'\u001b[0m: \u001b[1;35mValue\u001b[0m\u001b[1m(\u001b[0m\u001b[33mdtype\u001b[0m=\u001b[32m'string'\u001b[0m, \u001b[33mid\u001b[0m=\u001b[3;35mNone\u001b[0m\u001b[1m)\u001b[0m,\n",
       "    \u001b[32m'topic'\u001b[0m: \u001b[1;35mValue\u001b[0m\u001b[1m(\u001b[0m\u001b[33mdtype\u001b[0m=\u001b[32m'string'\u001b[0m, \u001b[33mid\u001b[0m=\u001b[3;35mNone\u001b[0m\u001b[1m)\u001b[0m\n",
       "\u001b[1m}\u001b[0m\n"
      ]
     },
     "metadata": {},
     "output_type": "display_data"
    },
    {
     "data": {
      "text/html": [
       "<pre style=\"white-space:pre;overflow-x:auto;line-height:normal;font-family:Menlo,'DejaVu Sans Mono',consolas,'Courier New',monospace\"><span style=\"font-weight: bold\">{</span>\n",
       "    <span style=\"color: #008000; text-decoration-color: #008000\">'id'</span>: <span style=\"color: #800080; text-decoration-color: #800080; font-weight: bold\">Value</span><span style=\"font-weight: bold\">(</span><span style=\"color: #808000; text-decoration-color: #808000\">dtype</span>=<span style=\"color: #008000; text-decoration-color: #008000\">'string'</span>, <span style=\"color: #808000; text-decoration-color: #808000\">id</span>=<span style=\"color: #800080; text-decoration-color: #800080; font-style: italic\">None</span><span style=\"font-weight: bold\">)</span>,\n",
       "    <span style=\"color: #008000; text-decoration-color: #008000\">'dialogue'</span>: <span style=\"color: #800080; text-decoration-color: #800080; font-weight: bold\">Value</span><span style=\"font-weight: bold\">(</span><span style=\"color: #808000; text-decoration-color: #808000\">dtype</span>=<span style=\"color: #008000; text-decoration-color: #008000\">'string'</span>, <span style=\"color: #808000; text-decoration-color: #808000\">id</span>=<span style=\"color: #800080; text-decoration-color: #800080; font-style: italic\">None</span><span style=\"font-weight: bold\">)</span>,\n",
       "    <span style=\"color: #008000; text-decoration-color: #008000\">'summary'</span>: <span style=\"color: #800080; text-decoration-color: #800080; font-weight: bold\">Value</span><span style=\"font-weight: bold\">(</span><span style=\"color: #808000; text-decoration-color: #808000\">dtype</span>=<span style=\"color: #008000; text-decoration-color: #008000\">'string'</span>, <span style=\"color: #808000; text-decoration-color: #808000\">id</span>=<span style=\"color: #800080; text-decoration-color: #800080; font-style: italic\">None</span><span style=\"font-weight: bold\">)</span>,\n",
       "    <span style=\"color: #008000; text-decoration-color: #008000\">'topic'</span>: <span style=\"color: #800080; text-decoration-color: #800080; font-weight: bold\">Value</span><span style=\"font-weight: bold\">(</span><span style=\"color: #808000; text-decoration-color: #808000\">dtype</span>=<span style=\"color: #008000; text-decoration-color: #008000\">'string'</span>, <span style=\"color: #808000; text-decoration-color: #808000\">id</span>=<span style=\"color: #800080; text-decoration-color: #800080; font-style: italic\">None</span><span style=\"font-weight: bold\">)</span>\n",
       "<span style=\"font-weight: bold\">}</span>\n",
       "</pre>\n"
      ],
      "text/plain": [
       "\u001b[1m{\u001b[0m\n",
       "    \u001b[32m'id'\u001b[0m: \u001b[1;35mValue\u001b[0m\u001b[1m(\u001b[0m\u001b[33mdtype\u001b[0m=\u001b[32m'string'\u001b[0m, \u001b[33mid\u001b[0m=\u001b[3;35mNone\u001b[0m\u001b[1m)\u001b[0m,\n",
       "    \u001b[32m'dialogue'\u001b[0m: \u001b[1;35mValue\u001b[0m\u001b[1m(\u001b[0m\u001b[33mdtype\u001b[0m=\u001b[32m'string'\u001b[0m, \u001b[33mid\u001b[0m=\u001b[3;35mNone\u001b[0m\u001b[1m)\u001b[0m,\n",
       "    \u001b[32m'summary'\u001b[0m: \u001b[1;35mValue\u001b[0m\u001b[1m(\u001b[0m\u001b[33mdtype\u001b[0m=\u001b[32m'string'\u001b[0m, \u001b[33mid\u001b[0m=\u001b[3;35mNone\u001b[0m\u001b[1m)\u001b[0m,\n",
       "    \u001b[32m'topic'\u001b[0m: \u001b[1;35mValue\u001b[0m\u001b[1m(\u001b[0m\u001b[33mdtype\u001b[0m=\u001b[32m'string'\u001b[0m, \u001b[33mid\u001b[0m=\u001b[3;35mNone\u001b[0m\u001b[1m)\u001b[0m\n",
       "\u001b[1m}\u001b[0m\n"
      ]
     },
     "metadata": {},
     "output_type": "display_data"
    }
   ],
   "source": [
    "from datasets import concatenate_datasets\n",
    "from datasets import DatasetDict\n",
    "\n",
    "rich_print(hf_dataset_1_dict[\"train\"].features)\n",
    "rich_print(hf_dataset_1_dict[\"test\"].features)\n",
    "rich_print(hf_dataset_1_dict[\"validation\"].features)"
   ]
  },
  {
   "cell_type": "code",
   "execution_count": 66,
   "id": "120cfdc6",
   "metadata": {
    "execution": {
     "iopub.execute_input": "2024-09-10T16:00:50.084461Z",
     "iopub.status.busy": "2024-09-10T16:00:50.084237Z",
     "iopub.status.idle": "2024-09-10T16:00:50.092595Z",
     "shell.execute_reply": "2024-09-10T16:00:50.092149Z"
    }
   },
   "outputs": [
    {
     "name": "stderr",
     "output_type": "stream",
     "text": [
      "/home/ec2-user/anaconda3/envs/pytorch_p310/lib/python3.10/site-packages/datasets/table.py:1421: FutureWarning: promote has been superseded by promote_options='default'.\n",
      "  table = cls._concat_blocks(blocks, axis=0)\n"
     ]
    },
    {
     "data": {
      "text/html": [
       "<pre style=\"white-space:pre;overflow-x:auto;line-height:normal;font-family:Menlo,'DejaVu Sans Mono',consolas,'Courier New',monospace\"><span style=\"color: #800080; text-decoration-color: #800080; font-weight: bold\">Dataset</span><span style=\"font-weight: bold\">({</span>\n",
       "    features: <span style=\"font-weight: bold\">[</span><span style=\"color: #008000; text-decoration-color: #008000\">'id'</span>, <span style=\"color: #008000; text-decoration-color: #008000\">'dialogue'</span>, <span style=\"color: #008000; text-decoration-color: #008000\">'summary'</span>, <span style=\"color: #008000; text-decoration-color: #008000\">'topic'</span><span style=\"font-weight: bold\">]</span>,\n",
       "    num_rows: <span style=\"color: #008080; text-decoration-color: #008080; font-weight: bold\">14460</span>\n",
       "<span style=\"font-weight: bold\">})</span>\n",
       "</pre>\n"
      ],
      "text/plain": [
       "\u001b[1;35mDataset\u001b[0m\u001b[1m(\u001b[0m\u001b[1m{\u001b[0m\n",
       "    features: \u001b[1m[\u001b[0m\u001b[32m'id'\u001b[0m, \u001b[32m'dialogue'\u001b[0m, \u001b[32m'summary'\u001b[0m, \u001b[32m'topic'\u001b[0m\u001b[1m]\u001b[0m,\n",
       "    num_rows: \u001b[1;36m14460\u001b[0m\n",
       "\u001b[1m}\u001b[0m\u001b[1m)\u001b[0m\n"
      ]
     },
     "metadata": {},
     "output_type": "display_data"
    },
    {
     "name": "stdout",
     "output_type": "stream",
     "text": [
      "CPU times: user 5.54 ms, sys: 0 ns, total: 5.54 ms\n",
      "Wall time: 5.05 ms\n"
     ]
    }
   ],
   "source": [
    "%%time\n",
    "\n",
    "# Merge / Concatenate datasets\n",
    "hf_dataset_1_dict_merged = concatenate_datasets([hf_dataset_1_dict[\"train\"]\n",
    "                                                 , hf_dataset_1_dict[\"test\"]\n",
    "                                                 , hf_dataset_1_dict[\"validation\"]], axis=0)\n",
    "\n",
    "rich_print(hf_dataset_1_dict_merged)"
   ]
  },
  {
   "cell_type": "code",
   "execution_count": 67,
   "id": "a0941994",
   "metadata": {
    "execution": {
     "iopub.execute_input": "2024-09-10T16:00:50.094886Z",
     "iopub.status.busy": "2024-09-10T16:00:50.094670Z",
     "iopub.status.idle": "2024-09-10T16:00:50.100566Z",
     "shell.execute_reply": "2024-09-10T16:00:50.100131Z"
    }
   },
   "outputs": [
    {
     "data": {
      "text/html": [
       "<pre style=\"white-space:pre;overflow-x:auto;line-height:normal;font-family:Menlo,'DejaVu Sans Mono',consolas,'Courier New',monospace\"><span style=\"color: #800080; text-decoration-color: #800080; font-weight: bold\">Dataset</span><span style=\"font-weight: bold\">({</span>\n",
       "    features: <span style=\"font-weight: bold\">[</span><span style=\"color: #008000; text-decoration-color: #008000\">'id'</span>, <span style=\"color: #008000; text-decoration-color: #008000\">'dialogue'</span>, <span style=\"color: #008000; text-decoration-color: #008000\">'summary'</span>, <span style=\"color: #008000; text-decoration-color: #008000\">'topic'</span><span style=\"font-weight: bold\">]</span>,\n",
       "    num_rows: <span style=\"color: #008080; text-decoration-color: #008080; font-weight: bold\">14460</span>\n",
       "<span style=\"font-weight: bold\">})</span>\n",
       "</pre>\n"
      ],
      "text/plain": [
       "\u001b[1;35mDataset\u001b[0m\u001b[1m(\u001b[0m\u001b[1m{\u001b[0m\n",
       "    features: \u001b[1m[\u001b[0m\u001b[32m'id'\u001b[0m, \u001b[32m'dialogue'\u001b[0m, \u001b[32m'summary'\u001b[0m, \u001b[32m'topic'\u001b[0m\u001b[1m]\u001b[0m,\n",
       "    num_rows: \u001b[1;36m14460\u001b[0m\n",
       "\u001b[1m}\u001b[0m\u001b[1m)\u001b[0m\n"
      ]
     },
     "metadata": {},
     "output_type": "display_data"
    }
   ],
   "source": [
    "# shuffle\n",
    "\n",
    "hf_dataset_1_dict_merged = hf_dataset_1_dict_merged.shuffle(seed=var_seed)\n",
    "rich_print(hf_dataset_1_dict_merged)"
   ]
  },
  {
   "cell_type": "code",
   "execution_count": 68,
   "id": "d49fa52c",
   "metadata": {
    "execution": {
     "iopub.execute_input": "2024-09-10T16:00:50.102717Z",
     "iopub.status.busy": "2024-09-10T16:00:50.102498Z",
     "iopub.status.idle": "2024-09-10T16:00:50.422879Z",
     "shell.execute_reply": "2024-09-10T16:00:50.422372Z"
    }
   },
   "outputs": [
    {
     "data": {
      "text/html": [
       "<pre style=\"white-space:pre;overflow-x:auto;line-height:normal;font-family:Menlo,'DejaVu Sans Mono',consolas,'Courier New',monospace\">   length_input  length_output\n",
       "<span style=\"color: #008080; text-decoration-color: #008080; font-weight: bold\">0</span>           <span style=\"color: #008080; text-decoration-color: #008080; font-weight: bold\">246</span>             <span style=\"color: #008080; text-decoration-color: #008080; font-weight: bold\">49</span>\n",
       "<span style=\"color: #008080; text-decoration-color: #008080; font-weight: bold\">1</span>           <span style=\"color: #008080; text-decoration-color: #008080; font-weight: bold\">607</span>            <span style=\"color: #008080; text-decoration-color: #008080; font-weight: bold\">105</span>\n",
       "<span style=\"color: #008080; text-decoration-color: #008080; font-weight: bold\">2</span>          <span style=\"color: #008080; text-decoration-color: #008080; font-weight: bold\">1307</span>            <span style=\"color: #008080; text-decoration-color: #008080; font-weight: bold\">281</span>\n",
       "<span style=\"color: #008080; text-decoration-color: #008080; font-weight: bold\">3</span>           <span style=\"color: #008080; text-decoration-color: #008080; font-weight: bold\">672</span>            <span style=\"color: #008080; text-decoration-color: #008080; font-weight: bold\">114</span>\n",
       "<span style=\"color: #008080; text-decoration-color: #008080; font-weight: bold\">4</span>          <span style=\"color: #008080; text-decoration-color: #008080; font-weight: bold\">1429</span>            <span style=\"color: #008080; text-decoration-color: #008080; font-weight: bold\">292</span>\n",
       "<span style=\"color: #008080; text-decoration-color: #008080; font-weight: bold\">5</span>           <span style=\"color: #008080; text-decoration-color: #008080; font-weight: bold\">554</span>            <span style=\"color: #008080; text-decoration-color: #008080; font-weight: bold\">142</span>\n",
       "<span style=\"color: #008080; text-decoration-color: #008080; font-weight: bold\">6</span>           <span style=\"color: #008080; text-decoration-color: #008080; font-weight: bold\">864</span>            <span style=\"color: #008080; text-decoration-color: #008080; font-weight: bold\">144</span>\n",
       "<span style=\"color: #008080; text-decoration-color: #008080; font-weight: bold\">7</span>           <span style=\"color: #008080; text-decoration-color: #008080; font-weight: bold\">238</span>             <span style=\"color: #008080; text-decoration-color: #008080; font-weight: bold\">50</span>\n",
       "<span style=\"color: #008080; text-decoration-color: #008080; font-weight: bold\">8</span>           <span style=\"color: #008080; text-decoration-color: #008080; font-weight: bold\">610</span>            <span style=\"color: #008080; text-decoration-color: #008080; font-weight: bold\">130</span>\n",
       "<span style=\"color: #008080; text-decoration-color: #008080; font-weight: bold\">9</span>           <span style=\"color: #008080; text-decoration-color: #008080; font-weight: bold\">461</span>            <span style=\"color: #008080; text-decoration-color: #008080; font-weight: bold\">124</span>\n",
       "</pre>\n"
      ],
      "text/plain": [
       "   length_input  length_output\n",
       "\u001b[1;36m0\u001b[0m           \u001b[1;36m246\u001b[0m             \u001b[1;36m49\u001b[0m\n",
       "\u001b[1;36m1\u001b[0m           \u001b[1;36m607\u001b[0m            \u001b[1;36m105\u001b[0m\n",
       "\u001b[1;36m2\u001b[0m          \u001b[1;36m1307\u001b[0m            \u001b[1;36m281\u001b[0m\n",
       "\u001b[1;36m3\u001b[0m           \u001b[1;36m672\u001b[0m            \u001b[1;36m114\u001b[0m\n",
       "\u001b[1;36m4\u001b[0m          \u001b[1;36m1429\u001b[0m            \u001b[1;36m292\u001b[0m\n",
       "\u001b[1;36m5\u001b[0m           \u001b[1;36m554\u001b[0m            \u001b[1;36m142\u001b[0m\n",
       "\u001b[1;36m6\u001b[0m           \u001b[1;36m864\u001b[0m            \u001b[1;36m144\u001b[0m\n",
       "\u001b[1;36m7\u001b[0m           \u001b[1;36m238\u001b[0m             \u001b[1;36m50\u001b[0m\n",
       "\u001b[1;36m8\u001b[0m           \u001b[1;36m610\u001b[0m            \u001b[1;36m130\u001b[0m\n",
       "\u001b[1;36m9\u001b[0m           \u001b[1;36m461\u001b[0m            \u001b[1;36m124\u001b[0m\n"
      ]
     },
     "metadata": {},
     "output_type": "display_data"
    }
   ],
   "source": [
    "# check the length of input and output texts\n",
    "all_input_length_1 = [len(diag) for diag in hf_dataset_1_dict_merged[\"dialogue\"]]\n",
    "all_output_length_1 = [len(diag) for diag in hf_dataset_1_dict_merged[\"summary\"]]\n",
    "\n",
    "df_all_length_1 = pd.DataFrame([all_input_length_1, all_output_length_1]).T\n",
    "df_all_length_1.columns = [\"length_input\", \"length_output\"]\n",
    "rich_print(df_all_length_1.head(10))"
   ]
  },
  {
   "cell_type": "code",
   "execution_count": 69,
   "id": "8508e70e",
   "metadata": {
    "execution": {
     "iopub.execute_input": "2024-09-10T16:00:50.425246Z",
     "iopub.status.busy": "2024-09-10T16:00:50.424986Z",
     "iopub.status.idle": "2024-09-10T16:00:50.431029Z",
     "shell.execute_reply": "2024-09-10T16:00:50.430577Z"
    }
   },
   "outputs": [
    {
     "data": {
      "text/plain": [
       "(5178, 1039)"
      ]
     },
     "execution_count": 69,
     "metadata": {},
     "output_type": "execute_result"
    }
   ],
   "source": [
    "# maximum length of the input conversation and the output summary \n",
    "max(df_all_length_1[\"length_input\"]), max(df_all_length_1[\"length_output\"])"
   ]
  },
  {
   "cell_type": "code",
   "execution_count": 70,
   "id": "b0d2af21",
   "metadata": {
    "execution": {
     "iopub.execute_input": "2024-09-10T16:00:50.433257Z",
     "iopub.status.busy": "2024-09-10T16:00:50.433029Z",
     "iopub.status.idle": "2024-09-10T16:00:50.647311Z",
     "shell.execute_reply": "2024-09-10T16:00:50.646845Z"
    }
   },
   "outputs": [
    {
     "data": {
      "image/png": "[encoded data removed]",
      "text/plain": [
       "<Figure size 1000x600 with 1 Axes>"
      ]
     },
     "metadata": {},
     "output_type": "display_data"
    }
   ],
   "source": [
    "plt.figure(figsize=(10, 6))\n",
    "plt.hist(df_all_length_1[\"length_input\"], bins=30)\n",
    "plt.xlabel(\"Input Text Length ->\")\n",
    "plt.ylabel(\"Frequency ->\")\n",
    "plt.title(\"Histogram for 'Input Text Length'\")\n",
    "plt.show()"
   ]
  },
  {
   "cell_type": "code",
   "execution_count": 71,
   "id": "83736120",
   "metadata": {
    "execution": {
     "iopub.execute_input": "2024-09-10T16:00:50.649507Z",
     "iopub.status.busy": "2024-09-10T16:00:50.649269Z",
     "iopub.status.idle": "2024-09-10T16:00:50.807816Z",
     "shell.execute_reply": "2024-09-10T16:00:50.807361Z"
    }
   },
   "outputs": [
    {
     "data": {
      "image/png": "[encoded data removed]",
      "text/plain": [
       "<Figure size 1000x600 with 1 Axes>"
      ]
     },
     "metadata": {},
     "output_type": "display_data"
    }
   ],
   "source": [
    "plt.figure(figsize=(10, 6))\n",
    "plt.hist(df_all_length_1[\"length_output\"], bins=30)\n",
    "plt.xlabel(\"Output Text Length ->\")\n",
    "plt.ylabel(\"Frequency ->\")\n",
    "plt.title(\"Histogram for 'Output Text Length'\")\n",
    "plt.show()"
   ]
  },
  {
   "cell_type": "code",
   "execution_count": 72,
   "id": "df338bcd",
   "metadata": {
    "execution": {
     "iopub.execute_input": "2024-09-10T16:00:50.810002Z",
     "iopub.status.busy": "2024-09-10T16:00:50.809771Z",
     "iopub.status.idle": "2024-09-10T16:00:50.813780Z",
     "shell.execute_reply": "2024-09-10T16:00:50.813314Z"
    }
   },
   "outputs": [
    {
     "name": "stdout",
     "output_type": "stream",
     "text": [
      "1228.0\n",
      "340.8199999999997\n"
     ]
    }
   ],
   "source": [
    "print(np.percentile(df_all_length_1[\"length_input\"], 90))\n",
    "print(np.percentile(df_all_length_1[\"length_output\"], 99))"
   ]
  },
  {
   "cell_type": "code",
   "execution_count": 73,
   "id": "5f603561",
   "metadata": {
    "execution": {
     "iopub.execute_input": "2024-09-10T16:00:50.816000Z",
     "iopub.status.busy": "2024-09-10T16:00:50.815781Z",
     "iopub.status.idle": "2024-09-10T16:00:50.818289Z",
     "shell.execute_reply": "2024-09-10T16:00:50.817841Z"
    }
   },
   "outputs": [],
   "source": [
    "# set the maximum length for the Input Conversation (training data) and the Output Summary (target)\n",
    "max_input = 1024\n",
    "max_target = 256"
   ]
  },
  {
   "cell_type": "code",
   "execution_count": 74,
   "id": "84642cd5",
   "metadata": {
    "execution": {
     "iopub.execute_input": "2024-09-10T16:00:50.820454Z",
     "iopub.status.busy": "2024-09-10T16:00:50.820236Z",
     "iopub.status.idle": "2024-09-10T16:00:50.822825Z",
     "shell.execute_reply": "2024-09-10T16:00:50.822369Z"
    }
   },
   "outputs": [],
   "source": [
    "# train/validation/test split ratio\n",
    "processing_train_split = 0.92\n",
    "processing_valid_split = 0.04\n",
    "processing_test_split = 0.04"
   ]
  },
  {
   "cell_type": "code",
   "execution_count": 75,
   "id": "733f7a6e",
   "metadata": {
    "execution": {
     "iopub.execute_input": "2024-09-10T16:00:50.824980Z",
     "iopub.status.busy": "2024-09-10T16:00:50.824750Z",
     "iopub.status.idle": "2024-09-10T16:00:50.833950Z",
     "shell.execute_reply": "2024-09-10T16:00:50.833497Z"
    }
   },
   "outputs": [],
   "source": [
    "hf1_t1 = hf_dataset_1_dict_merged.train_test_split(1 - processing_train_split, seed=var_seed)\n",
    "\n",
    "hf1_t2 = hf1_t1['test'].train_test_split(\n",
    "    processing_test_split / (processing_valid_split + processing_test_split), seed=var_seed)\n",
    "\n",
    "hf1_t3 = DatasetDict(\n",
    "    {\n",
    "        \"train\": hf1_t1[\"train\"],\n",
    "        \"validation\": hf1_t2[\"train\"],\n",
    "        \"test\": hf1_t2[\"test\"]\n",
    "    }\n",
    ")"
   ]
  },
  {
   "cell_type": "code",
   "execution_count": 76,
   "id": "f9fe78c2",
   "metadata": {
    "execution": {
     "iopub.execute_input": "2024-09-10T16:00:50.836058Z",
     "iopub.status.busy": "2024-09-10T16:00:50.835841Z",
     "iopub.status.idle": "2024-09-10T16:00:50.841173Z",
     "shell.execute_reply": "2024-09-10T16:00:50.840717Z"
    }
   },
   "outputs": [
    {
     "data": {
      "text/html": [
       "<pre style=\"white-space:pre;overflow-x:auto;line-height:normal;font-family:Menlo,'DejaVu Sans Mono',consolas,'Courier New',monospace\"><span style=\"color: #800080; text-decoration-color: #800080; font-weight: bold\">DatasetDict</span><span style=\"font-weight: bold\">({</span>\n",
       "    train: <span style=\"color: #800080; text-decoration-color: #800080; font-weight: bold\">Dataset</span><span style=\"font-weight: bold\">({</span>\n",
       "        features: <span style=\"font-weight: bold\">[</span><span style=\"color: #008000; text-decoration-color: #008000\">'id'</span>, <span style=\"color: #008000; text-decoration-color: #008000\">'dialogue'</span>, <span style=\"color: #008000; text-decoration-color: #008000\">'summary'</span>, <span style=\"color: #008000; text-decoration-color: #008000\">'topic'</span><span style=\"font-weight: bold\">]</span>,\n",
       "        num_rows: <span style=\"color: #008080; text-decoration-color: #008080; font-weight: bold\">13303</span>\n",
       "    <span style=\"font-weight: bold\">})</span>\n",
       "    validation: <span style=\"color: #800080; text-decoration-color: #800080; font-weight: bold\">Dataset</span><span style=\"font-weight: bold\">({</span>\n",
       "        features: <span style=\"font-weight: bold\">[</span><span style=\"color: #008000; text-decoration-color: #008000\">'id'</span>, <span style=\"color: #008000; text-decoration-color: #008000\">'dialogue'</span>, <span style=\"color: #008000; text-decoration-color: #008000\">'summary'</span>, <span style=\"color: #008000; text-decoration-color: #008000\">'topic'</span><span style=\"font-weight: bold\">]</span>,\n",
       "        num_rows: <span style=\"color: #008080; text-decoration-color: #008080; font-weight: bold\">578</span>\n",
       "    <span style=\"font-weight: bold\">})</span>\n",
       "    test: <span style=\"color: #800080; text-decoration-color: #800080; font-weight: bold\">Dataset</span><span style=\"font-weight: bold\">({</span>\n",
       "        features: <span style=\"font-weight: bold\">[</span><span style=\"color: #008000; text-decoration-color: #008000\">'id'</span>, <span style=\"color: #008000; text-decoration-color: #008000\">'dialogue'</span>, <span style=\"color: #008000; text-decoration-color: #008000\">'summary'</span>, <span style=\"color: #008000; text-decoration-color: #008000\">'topic'</span><span style=\"font-weight: bold\">]</span>,\n",
       "        num_rows: <span style=\"color: #008080; text-decoration-color: #008080; font-weight: bold\">579</span>\n",
       "    <span style=\"font-weight: bold\">})</span>\n",
       "<span style=\"font-weight: bold\">})</span>\n",
       "</pre>\n"
      ],
      "text/plain": [
       "\u001b[1;35mDatasetDict\u001b[0m\u001b[1m(\u001b[0m\u001b[1m{\u001b[0m\n",
       "    train: \u001b[1;35mDataset\u001b[0m\u001b[1m(\u001b[0m\u001b[1m{\u001b[0m\n",
       "        features: \u001b[1m[\u001b[0m\u001b[32m'id'\u001b[0m, \u001b[32m'dialogue'\u001b[0m, \u001b[32m'summary'\u001b[0m, \u001b[32m'topic'\u001b[0m\u001b[1m]\u001b[0m,\n",
       "        num_rows: \u001b[1;36m13303\u001b[0m\n",
       "    \u001b[1m}\u001b[0m\u001b[1m)\u001b[0m\n",
       "    validation: \u001b[1;35mDataset\u001b[0m\u001b[1m(\u001b[0m\u001b[1m{\u001b[0m\n",
       "        features: \u001b[1m[\u001b[0m\u001b[32m'id'\u001b[0m, \u001b[32m'dialogue'\u001b[0m, \u001b[32m'summary'\u001b[0m, \u001b[32m'topic'\u001b[0m\u001b[1m]\u001b[0m,\n",
       "        num_rows: \u001b[1;36m578\u001b[0m\n",
       "    \u001b[1m}\u001b[0m\u001b[1m)\u001b[0m\n",
       "    test: \u001b[1;35mDataset\u001b[0m\u001b[1m(\u001b[0m\u001b[1m{\u001b[0m\n",
       "        features: \u001b[1m[\u001b[0m\u001b[32m'id'\u001b[0m, \u001b[32m'dialogue'\u001b[0m, \u001b[32m'summary'\u001b[0m, \u001b[32m'topic'\u001b[0m\u001b[1m]\u001b[0m,\n",
       "        num_rows: \u001b[1;36m579\u001b[0m\n",
       "    \u001b[1m}\u001b[0m\u001b[1m)\u001b[0m\n",
       "\u001b[1m}\u001b[0m\u001b[1m)\u001b[0m\n"
      ]
     },
     "metadata": {},
     "output_type": "display_data"
    }
   ],
   "source": [
    "rich_print(hf1_t3)"
   ]
  },
  {
   "cell_type": "markdown",
   "id": "5d17b9f0",
   "metadata": {},
   "source": [
    "#### Load sample conversation before tokenization"
   ]
  },
  {
   "cell_type": "code",
   "execution_count": 77,
   "id": "bcfbab68",
   "metadata": {
    "execution": {
     "iopub.execute_input": "2024-09-10T16:00:50.843407Z",
     "iopub.status.busy": "2024-09-10T16:00:50.843189Z",
     "iopub.status.idle": "2024-09-10T16:00:50.847293Z",
     "shell.execute_reply": "2024-09-10T16:00:50.846829Z"
    }
   },
   "outputs": [
    {
     "name": "stdout",
     "output_type": "stream",
     "text": [
      "----------------------------------------------------------------------------------------------------\n",
      "Sample Dialog:\n",
      "#Person1#: I've never met anyone like Clyde before.\n",
      "#Person2#: He's such a buppie-a black yuppie. Black people come in all shapes and sizes. Just check out the party.\n",
      "#Person1#: Wow! There are so many different people here. I expected mostly athletes and rappers.\n",
      "#Person2#: You'll find some of those here, too. But not if you don't shake it up! There's an African saying, ' If you can talk, you can sing! If you can walk, you can dance! '\n",
      "#Person1#: Then I'll just shut up and sit down!\n",
      "\n",
      "----------------------------------------------------------------------------------------------------\n",
      "Baseline Summary:\n",
      "#Person1# and #Person2# talk about black people at the party who are born to be good at singing and dancing.\n"
     ]
    }
   ],
   "source": [
    "example_index = 40\n",
    "\n",
    "sample_dialogue = hf1_t3[\"test\"][example_index][\"dialogue\"]\n",
    "print(\"-\" * 100)\n",
    "print(\"Sample Dialog:\")\n",
    "print(sample_dialogue)\n",
    "\n",
    "print()\n",
    "\n",
    "sample_baseline_summary = hf1_t3[\"test\"][example_index][\"summary\"]\n",
    "print(\"-\" * 100)\n",
    "print(\"Baseline Summary:\")\n",
    "print(sample_baseline_summary)"
   ]
  },
  {
   "cell_type": "code",
   "execution_count": 78,
   "id": "b92656c7",
   "metadata": {
    "execution": {
     "iopub.execute_input": "2024-09-10T16:00:50.849440Z",
     "iopub.status.busy": "2024-09-10T16:00:50.849224Z",
     "iopub.status.idle": "2024-09-10T16:00:51.611106Z",
     "shell.execute_reply": "2024-09-10T16:00:51.610587Z"
    }
   },
   "outputs": [
    {
     "data": {
      "application/vnd.jupyter.widget-view+json": {
       "model_id": "8f9c1e59eb2541f7a2d0ae94ca929cff",
       "version_major": 2,
       "version_minor": 0
      },
      "text/plain": [
       "Map:   0%|          | 0/579 [00:00<?, ? examples/s]"
      ]
     },
     "metadata": {},
     "output_type": "display_data"
    },
    {
     "name": "stdout",
     "output_type": "stream",
     "text": [
      "CPU times: user 747 ms, sys: 12 ms, total: 759 ms\n",
      "Wall time: 757 ms\n"
     ]
    }
   ],
   "source": [
    "%%time\n",
    "\n",
    "# tokenize the data batches\n",
    "def hf_tokenize_dialogsum_data(sample_batch, padding=\"max_length\"):\n",
    "    # generate prompts for training\n",
    "    start_prompt = \"Summarize the following conversation.\\n\\n\"\n",
    "    end_prompt = \"\\n\\nSummary: \"\n",
    "    \n",
    "    # model inputs\n",
    "    model_inputs = [start_prompt + sample + end_prompt for sample in sample_batch[\"dialogue\"]]\n",
    "    \n",
    "    # Input Conversation\n",
    "    model_inputs = init_tokenizer(\n",
    "        model_inputs, \n",
    "        max_length=max_input, \n",
    "        padding=padding, \n",
    "        truncation=True)\n",
    "        \n",
    "    # Output Summary\n",
    "    # Tokenize labels with the `text_target` argument\n",
    "    labels = init_tokenizer(\n",
    "        text_target=sample_batch[\"summary\"], \n",
    "        padding=\"max_length\", \n",
    "        max_length=max_target, \n",
    "        truncation=True)\n",
    "    \n",
    "    # replace all tokenizer.pad_token_id in the labels by -100\n",
    "    if padding == \"max_length\":\n",
    "        labels[\"input_ids\"] = [\n",
    "            [(l if l != init_tokenizer.pad_token_id else -100) for l in temp_label] \n",
    "            for temp_label in labels[\"input_ids\"]\n",
    "        ]\n",
    "    \n",
    "    model_inputs[\"labels\"] = labels[\"input_ids\"]\n",
    "    \n",
    "    return model_inputs\n",
    "    \n",
    "    \n",
    "tokenized_hf1_t3 = hf1_t3.map(hf_tokenize_dialogsum_data, batched=True)\n",
    "tokenized_hf1_t3 = tokenized_hf1_t3.remove_columns(['id', 'topic', 'dialogue', 'summary'])"
   ]
  },
  {
   "cell_type": "code",
   "execution_count": 79,
   "id": "c427e906",
   "metadata": {
    "execution": {
     "iopub.execute_input": "2024-09-10T16:00:51.613517Z",
     "iopub.status.busy": "2024-09-10T16:00:51.613254Z",
     "iopub.status.idle": "2024-09-10T16:00:51.618584Z",
     "shell.execute_reply": "2024-09-10T16:00:51.618117Z"
    }
   },
   "outputs": [
    {
     "data": {
      "text/html": [
       "<pre style=\"white-space:pre;overflow-x:auto;line-height:normal;font-family:Menlo,'DejaVu Sans Mono',consolas,'Courier New',monospace\"><span style=\"color: #800080; text-decoration-color: #800080; font-weight: bold\">DatasetDict</span><span style=\"font-weight: bold\">({</span>\n",
       "    train: <span style=\"color: #800080; text-decoration-color: #800080; font-weight: bold\">Dataset</span><span style=\"font-weight: bold\">({</span>\n",
       "        features: <span style=\"font-weight: bold\">[</span><span style=\"color: #008000; text-decoration-color: #008000\">'input_ids'</span>, <span style=\"color: #008000; text-decoration-color: #008000\">'attention_mask'</span>, <span style=\"color: #008000; text-decoration-color: #008000\">'labels'</span><span style=\"font-weight: bold\">]</span>,\n",
       "        num_rows: <span style=\"color: #008080; text-decoration-color: #008080; font-weight: bold\">13303</span>\n",
       "    <span style=\"font-weight: bold\">})</span>\n",
       "    validation: <span style=\"color: #800080; text-decoration-color: #800080; font-weight: bold\">Dataset</span><span style=\"font-weight: bold\">({</span>\n",
       "        features: <span style=\"font-weight: bold\">[</span><span style=\"color: #008000; text-decoration-color: #008000\">'input_ids'</span>, <span style=\"color: #008000; text-decoration-color: #008000\">'attention_mask'</span>, <span style=\"color: #008000; text-decoration-color: #008000\">'labels'</span><span style=\"font-weight: bold\">]</span>,\n",
       "        num_rows: <span style=\"color: #008080; text-decoration-color: #008080; font-weight: bold\">578</span>\n",
       "    <span style=\"font-weight: bold\">})</span>\n",
       "    test: <span style=\"color: #800080; text-decoration-color: #800080; font-weight: bold\">Dataset</span><span style=\"font-weight: bold\">({</span>\n",
       "        features: <span style=\"font-weight: bold\">[</span><span style=\"color: #008000; text-decoration-color: #008000\">'input_ids'</span>, <span style=\"color: #008000; text-decoration-color: #008000\">'attention_mask'</span>, <span style=\"color: #008000; text-decoration-color: #008000\">'labels'</span><span style=\"font-weight: bold\">]</span>,\n",
       "        num_rows: <span style=\"color: #008080; text-decoration-color: #008080; font-weight: bold\">579</span>\n",
       "    <span style=\"font-weight: bold\">})</span>\n",
       "<span style=\"font-weight: bold\">})</span>\n",
       "</pre>\n"
      ],
      "text/plain": [
       "\u001b[1;35mDatasetDict\u001b[0m\u001b[1m(\u001b[0m\u001b[1m{\u001b[0m\n",
       "    train: \u001b[1;35mDataset\u001b[0m\u001b[1m(\u001b[0m\u001b[1m{\u001b[0m\n",
       "        features: \u001b[1m[\u001b[0m\u001b[32m'input_ids'\u001b[0m, \u001b[32m'attention_mask'\u001b[0m, \u001b[32m'labels'\u001b[0m\u001b[1m]\u001b[0m,\n",
       "        num_rows: \u001b[1;36m13303\u001b[0m\n",
       "    \u001b[1m}\u001b[0m\u001b[1m)\u001b[0m\n",
       "    validation: \u001b[1;35mDataset\u001b[0m\u001b[1m(\u001b[0m\u001b[1m{\u001b[0m\n",
       "        features: \u001b[1m[\u001b[0m\u001b[32m'input_ids'\u001b[0m, \u001b[32m'attention_mask'\u001b[0m, \u001b[32m'labels'\u001b[0m\u001b[1m]\u001b[0m,\n",
       "        num_rows: \u001b[1;36m578\u001b[0m\n",
       "    \u001b[1m}\u001b[0m\u001b[1m)\u001b[0m\n",
       "    test: \u001b[1;35mDataset\u001b[0m\u001b[1m(\u001b[0m\u001b[1m{\u001b[0m\n",
       "        features: \u001b[1m[\u001b[0m\u001b[32m'input_ids'\u001b[0m, \u001b[32m'attention_mask'\u001b[0m, \u001b[32m'labels'\u001b[0m\u001b[1m]\u001b[0m,\n",
       "        num_rows: \u001b[1;36m579\u001b[0m\n",
       "    \u001b[1m}\u001b[0m\u001b[1m)\u001b[0m\n",
       "\u001b[1m}\u001b[0m\u001b[1m)\u001b[0m\n"
      ]
     },
     "metadata": {},
     "output_type": "display_data"
    }
   ],
   "source": [
    "rich_print(tokenized_hf1_t3)"
   ]
  },
  {
   "cell_type": "markdown",
   "id": "3493447b",
   "metadata": {},
   "source": [
    "#### Load sample conversation after tokenization"
   ]
  },
  {
   "cell_type": "code",
   "execution_count": 80,
   "id": "da9d1c37",
   "metadata": {
    "execution": {
     "iopub.execute_input": "2024-09-10T16:00:51.620905Z",
     "iopub.status.busy": "2024-09-10T16:00:51.620673Z",
     "iopub.status.idle": "2024-09-10T16:00:51.626774Z",
     "shell.execute_reply": "2024-09-10T16:00:51.626293Z"
    }
   },
   "outputs": [
    {
     "name": "stdout",
     "output_type": "stream",
     "text": [
      "----------------------------------------------------------------------------------------------------\n",
      "Sample Dialog Length:\n",
      "1024\n",
      "\n",
      "----------------------------------------------------------------------------------------------------\n",
      "Baseline Summary Length:\n",
      "256\n"
     ]
    }
   ],
   "source": [
    "example_index = 40\n",
    "\n",
    "sample_dialogue = tokenized_hf1_t3[\"test\"][example_index][\"input_ids\"]\n",
    "print(\"-\" * 100)\n",
    "print(\"Sample Dialog Length:\")\n",
    "print(len(sample_dialogue))\n",
    "\n",
    "print()\n",
    "\n",
    "sample_baseline_summary = tokenized_hf1_t3[\"test\"][example_index][\"labels\"]\n",
    "print(\"-\" * 100)\n",
    "print(\"Baseline Summary Length:\")\n",
    "print(len(sample_baseline_summary))"
   ]
  },
  {
   "cell_type": "code",
   "execution_count": null,
   "id": "1514ecca",
   "metadata": {},
   "outputs": [],
   "source": []
  },
  {
   "cell_type": "code",
   "execution_count": 81,
   "id": "2efaefc5",
   "metadata": {
    "execution": {
     "iopub.execute_input": "2024-09-10T16:00:51.629024Z",
     "iopub.status.busy": "2024-09-10T16:00:51.628806Z",
     "iopub.status.idle": "2024-09-10T16:00:51.631270Z",
     "shell.execute_reply": "2024-09-10T16:00:51.630821Z"
    }
   },
   "outputs": [],
   "source": [
    "train_sample_percentage = 1.00"
   ]
  },
  {
   "cell_type": "code",
   "execution_count": 82,
   "id": "8f6056a0",
   "metadata": {
    "execution": {
     "iopub.execute_input": "2024-09-10T16:00:51.633444Z",
     "iopub.status.busy": "2024-09-10T16:00:51.633230Z",
     "iopub.status.idle": "2024-09-10T16:00:52.189515Z",
     "shell.execute_reply": "2024-09-10T16:00:52.189024Z"
    }
   },
   "outputs": [
    {
     "data": {
      "application/vnd.jupyter.widget-view+json": {
       "model_id": "b6aaa7d4578340679eb3fbbb7e2b544a",
       "version_major": 2,
       "version_minor": 0
      },
      "text/plain": [
       "Filter:   0%|          | 0/579 [00:00<?, ? examples/s]"
      ]
     },
     "metadata": {},
     "output_type": "display_data"
    },
    {
     "name": "stdout",
     "output_type": "stream",
     "text": [
      "CPU times: user 547 ms, sys: 8 ms, total: 555 ms\n",
      "Wall time: 553 ms\n"
     ]
    }
   ],
   "source": [
    "%%time\n",
    "\n",
    "# sample the dataset for training\n",
    "skip_inds = int(1 / train_sample_percentage)\n",
    "sample_tokenized_hf1_dataset = tokenized_hf1_t3.filter(\n",
    "    lambda example, indice: indice % skip_inds == 0, with_indices=True)"
   ]
  },
  {
   "cell_type": "code",
   "execution_count": 83,
   "id": "cfc69bd5",
   "metadata": {
    "execution": {
     "iopub.execute_input": "2024-09-10T16:00:52.191840Z",
     "iopub.status.busy": "2024-09-10T16:00:52.191597Z",
     "iopub.status.idle": "2024-09-10T16:00:52.196739Z",
     "shell.execute_reply": "2024-09-10T16:00:52.196296Z"
    }
   },
   "outputs": [
    {
     "data": {
      "text/html": [
       "<pre style=\"white-space:pre;overflow-x:auto;line-height:normal;font-family:Menlo,'DejaVu Sans Mono',consolas,'Courier New',monospace\"><span style=\"color: #800080; text-decoration-color: #800080; font-weight: bold\">DatasetDict</span><span style=\"font-weight: bold\">({</span>\n",
       "    train: <span style=\"color: #800080; text-decoration-color: #800080; font-weight: bold\">Dataset</span><span style=\"font-weight: bold\">({</span>\n",
       "        features: <span style=\"font-weight: bold\">[</span><span style=\"color: #008000; text-decoration-color: #008000\">'input_ids'</span>, <span style=\"color: #008000; text-decoration-color: #008000\">'attention_mask'</span>, <span style=\"color: #008000; text-decoration-color: #008000\">'labels'</span><span style=\"font-weight: bold\">]</span>,\n",
       "        num_rows: <span style=\"color: #008080; text-decoration-color: #008080; font-weight: bold\">13303</span>\n",
       "    <span style=\"font-weight: bold\">})</span>\n",
       "    validation: <span style=\"color: #800080; text-decoration-color: #800080; font-weight: bold\">Dataset</span><span style=\"font-weight: bold\">({</span>\n",
       "        features: <span style=\"font-weight: bold\">[</span><span style=\"color: #008000; text-decoration-color: #008000\">'input_ids'</span>, <span style=\"color: #008000; text-decoration-color: #008000\">'attention_mask'</span>, <span style=\"color: #008000; text-decoration-color: #008000\">'labels'</span><span style=\"font-weight: bold\">]</span>,\n",
       "        num_rows: <span style=\"color: #008080; text-decoration-color: #008080; font-weight: bold\">578</span>\n",
       "    <span style=\"font-weight: bold\">})</span>\n",
       "    test: <span style=\"color: #800080; text-decoration-color: #800080; font-weight: bold\">Dataset</span><span style=\"font-weight: bold\">({</span>\n",
       "        features: <span style=\"font-weight: bold\">[</span><span style=\"color: #008000; text-decoration-color: #008000\">'input_ids'</span>, <span style=\"color: #008000; text-decoration-color: #008000\">'attention_mask'</span>, <span style=\"color: #008000; text-decoration-color: #008000\">'labels'</span><span style=\"font-weight: bold\">]</span>,\n",
       "        num_rows: <span style=\"color: #008080; text-decoration-color: #008080; font-weight: bold\">579</span>\n",
       "    <span style=\"font-weight: bold\">})</span>\n",
       "<span style=\"font-weight: bold\">})</span>\n",
       "</pre>\n"
      ],
      "text/plain": [
       "\u001b[1;35mDatasetDict\u001b[0m\u001b[1m(\u001b[0m\u001b[1m{\u001b[0m\n",
       "    train: \u001b[1;35mDataset\u001b[0m\u001b[1m(\u001b[0m\u001b[1m{\u001b[0m\n",
       "        features: \u001b[1m[\u001b[0m\u001b[32m'input_ids'\u001b[0m, \u001b[32m'attention_mask'\u001b[0m, \u001b[32m'labels'\u001b[0m\u001b[1m]\u001b[0m,\n",
       "        num_rows: \u001b[1;36m13303\u001b[0m\n",
       "    \u001b[1m}\u001b[0m\u001b[1m)\u001b[0m\n",
       "    validation: \u001b[1;35mDataset\u001b[0m\u001b[1m(\u001b[0m\u001b[1m{\u001b[0m\n",
       "        features: \u001b[1m[\u001b[0m\u001b[32m'input_ids'\u001b[0m, \u001b[32m'attention_mask'\u001b[0m, \u001b[32m'labels'\u001b[0m\u001b[1m]\u001b[0m,\n",
       "        num_rows: \u001b[1;36m578\u001b[0m\n",
       "    \u001b[1m}\u001b[0m\u001b[1m)\u001b[0m\n",
       "    test: \u001b[1;35mDataset\u001b[0m\u001b[1m(\u001b[0m\u001b[1m{\u001b[0m\n",
       "        features: \u001b[1m[\u001b[0m\u001b[32m'input_ids'\u001b[0m, \u001b[32m'attention_mask'\u001b[0m, \u001b[32m'labels'\u001b[0m\u001b[1m]\u001b[0m,\n",
       "        num_rows: \u001b[1;36m579\u001b[0m\n",
       "    \u001b[1m}\u001b[0m\u001b[1m)\u001b[0m\n",
       "\u001b[1m}\u001b[0m\u001b[1m)\u001b[0m\n"
      ]
     },
     "metadata": {},
     "output_type": "display_data"
    }
   ],
   "source": [
    "rich_print(sample_tokenized_hf1_dataset)"
   ]
  },
  {
   "cell_type": "code",
   "execution_count": null,
   "id": "66225c68",
   "metadata": {},
   "outputs": [],
   "source": []
  },
  {
   "cell_type": "markdown",
   "id": "c1b074d5",
   "metadata": {},
   "source": [
    "### Merge different sets in 'SAMSum'. \n",
    "\n",
    "There are 3 sets, namely, 'train', 'validation', and 'test' in the 'SAMSum' dataset. We will merge them for model fine-tuning.\n",
    "\n",
    "You can view the data here: https://huggingface.co/datasets/knkarthick/samsum"
   ]
  },
  {
   "cell_type": "code",
   "execution_count": 84,
   "id": "c3b578d3",
   "metadata": {
    "execution": {
     "iopub.execute_input": "2024-09-10T16:00:52.199140Z",
     "iopub.status.busy": "2024-09-10T16:00:52.198921Z",
     "iopub.status.idle": "2024-09-10T16:00:52.207731Z",
     "shell.execute_reply": "2024-09-10T16:00:52.207294Z"
    }
   },
   "outputs": [
    {
     "data": {
      "text/html": [
       "<pre style=\"white-space:pre;overflow-x:auto;line-height:normal;font-family:Menlo,'DejaVu Sans Mono',consolas,'Courier New',monospace\"><span style=\"font-weight: bold\">{</span>\n",
       "    <span style=\"color: #008000; text-decoration-color: #008000\">'id'</span>: <span style=\"color: #800080; text-decoration-color: #800080; font-weight: bold\">Value</span><span style=\"font-weight: bold\">(</span><span style=\"color: #808000; text-decoration-color: #808000\">dtype</span>=<span style=\"color: #008000; text-decoration-color: #008000\">'string'</span>, <span style=\"color: #808000; text-decoration-color: #808000\">id</span>=<span style=\"color: #800080; text-decoration-color: #800080; font-style: italic\">None</span><span style=\"font-weight: bold\">)</span>,\n",
       "    <span style=\"color: #008000; text-decoration-color: #008000\">'dialogue'</span>: <span style=\"color: #800080; text-decoration-color: #800080; font-weight: bold\">Value</span><span style=\"font-weight: bold\">(</span><span style=\"color: #808000; text-decoration-color: #808000\">dtype</span>=<span style=\"color: #008000; text-decoration-color: #008000\">'string'</span>, <span style=\"color: #808000; text-decoration-color: #808000\">id</span>=<span style=\"color: #800080; text-decoration-color: #800080; font-style: italic\">None</span><span style=\"font-weight: bold\">)</span>,\n",
       "    <span style=\"color: #008000; text-decoration-color: #008000\">'summary'</span>: <span style=\"color: #800080; text-decoration-color: #800080; font-weight: bold\">Value</span><span style=\"font-weight: bold\">(</span><span style=\"color: #808000; text-decoration-color: #808000\">dtype</span>=<span style=\"color: #008000; text-decoration-color: #008000\">'string'</span>, <span style=\"color: #808000; text-decoration-color: #808000\">id</span>=<span style=\"color: #800080; text-decoration-color: #800080; font-style: italic\">None</span><span style=\"font-weight: bold\">)</span>\n",
       "<span style=\"font-weight: bold\">}</span>\n",
       "</pre>\n"
      ],
      "text/plain": [
       "\u001b[1m{\u001b[0m\n",
       "    \u001b[32m'id'\u001b[0m: \u001b[1;35mValue\u001b[0m\u001b[1m(\u001b[0m\u001b[33mdtype\u001b[0m=\u001b[32m'string'\u001b[0m, \u001b[33mid\u001b[0m=\u001b[3;35mNone\u001b[0m\u001b[1m)\u001b[0m,\n",
       "    \u001b[32m'dialogue'\u001b[0m: \u001b[1;35mValue\u001b[0m\u001b[1m(\u001b[0m\u001b[33mdtype\u001b[0m=\u001b[32m'string'\u001b[0m, \u001b[33mid\u001b[0m=\u001b[3;35mNone\u001b[0m\u001b[1m)\u001b[0m,\n",
       "    \u001b[32m'summary'\u001b[0m: \u001b[1;35mValue\u001b[0m\u001b[1m(\u001b[0m\u001b[33mdtype\u001b[0m=\u001b[32m'string'\u001b[0m, \u001b[33mid\u001b[0m=\u001b[3;35mNone\u001b[0m\u001b[1m)\u001b[0m\n",
       "\u001b[1m}\u001b[0m\n"
      ]
     },
     "metadata": {},
     "output_type": "display_data"
    },
    {
     "data": {
      "text/html": [
       "<pre style=\"white-space:pre;overflow-x:auto;line-height:normal;font-family:Menlo,'DejaVu Sans Mono',consolas,'Courier New',monospace\"><span style=\"font-weight: bold\">{</span>\n",
       "    <span style=\"color: #008000; text-decoration-color: #008000\">'id'</span>: <span style=\"color: #800080; text-decoration-color: #800080; font-weight: bold\">Value</span><span style=\"font-weight: bold\">(</span><span style=\"color: #808000; text-decoration-color: #808000\">dtype</span>=<span style=\"color: #008000; text-decoration-color: #008000\">'string'</span>, <span style=\"color: #808000; text-decoration-color: #808000\">id</span>=<span style=\"color: #800080; text-decoration-color: #800080; font-style: italic\">None</span><span style=\"font-weight: bold\">)</span>,\n",
       "    <span style=\"color: #008000; text-decoration-color: #008000\">'dialogue'</span>: <span style=\"color: #800080; text-decoration-color: #800080; font-weight: bold\">Value</span><span style=\"font-weight: bold\">(</span><span style=\"color: #808000; text-decoration-color: #808000\">dtype</span>=<span style=\"color: #008000; text-decoration-color: #008000\">'string'</span>, <span style=\"color: #808000; text-decoration-color: #808000\">id</span>=<span style=\"color: #800080; text-decoration-color: #800080; font-style: italic\">None</span><span style=\"font-weight: bold\">)</span>,\n",
       "    <span style=\"color: #008000; text-decoration-color: #008000\">'summary'</span>: <span style=\"color: #800080; text-decoration-color: #800080; font-weight: bold\">Value</span><span style=\"font-weight: bold\">(</span><span style=\"color: #808000; text-decoration-color: #808000\">dtype</span>=<span style=\"color: #008000; text-decoration-color: #008000\">'string'</span>, <span style=\"color: #808000; text-decoration-color: #808000\">id</span>=<span style=\"color: #800080; text-decoration-color: #800080; font-style: italic\">None</span><span style=\"font-weight: bold\">)</span>\n",
       "<span style=\"font-weight: bold\">}</span>\n",
       "</pre>\n"
      ],
      "text/plain": [
       "\u001b[1m{\u001b[0m\n",
       "    \u001b[32m'id'\u001b[0m: \u001b[1;35mValue\u001b[0m\u001b[1m(\u001b[0m\u001b[33mdtype\u001b[0m=\u001b[32m'string'\u001b[0m, \u001b[33mid\u001b[0m=\u001b[3;35mNone\u001b[0m\u001b[1m)\u001b[0m,\n",
       "    \u001b[32m'dialogue'\u001b[0m: \u001b[1;35mValue\u001b[0m\u001b[1m(\u001b[0m\u001b[33mdtype\u001b[0m=\u001b[32m'string'\u001b[0m, \u001b[33mid\u001b[0m=\u001b[3;35mNone\u001b[0m\u001b[1m)\u001b[0m,\n",
       "    \u001b[32m'summary'\u001b[0m: \u001b[1;35mValue\u001b[0m\u001b[1m(\u001b[0m\u001b[33mdtype\u001b[0m=\u001b[32m'string'\u001b[0m, \u001b[33mid\u001b[0m=\u001b[3;35mNone\u001b[0m\u001b[1m)\u001b[0m\n",
       "\u001b[1m}\u001b[0m\n"
      ]
     },
     "metadata": {},
     "output_type": "display_data"
    },
    {
     "data": {
      "text/html": [
       "<pre style=\"white-space:pre;overflow-x:auto;line-height:normal;font-family:Menlo,'DejaVu Sans Mono',consolas,'Courier New',monospace\"><span style=\"font-weight: bold\">{</span>\n",
       "    <span style=\"color: #008000; text-decoration-color: #008000\">'id'</span>: <span style=\"color: #800080; text-decoration-color: #800080; font-weight: bold\">Value</span><span style=\"font-weight: bold\">(</span><span style=\"color: #808000; text-decoration-color: #808000\">dtype</span>=<span style=\"color: #008000; text-decoration-color: #008000\">'string'</span>, <span style=\"color: #808000; text-decoration-color: #808000\">id</span>=<span style=\"color: #800080; text-decoration-color: #800080; font-style: italic\">None</span><span style=\"font-weight: bold\">)</span>,\n",
       "    <span style=\"color: #008000; text-decoration-color: #008000\">'dialogue'</span>: <span style=\"color: #800080; text-decoration-color: #800080; font-weight: bold\">Value</span><span style=\"font-weight: bold\">(</span><span style=\"color: #808000; text-decoration-color: #808000\">dtype</span>=<span style=\"color: #008000; text-decoration-color: #008000\">'string'</span>, <span style=\"color: #808000; text-decoration-color: #808000\">id</span>=<span style=\"color: #800080; text-decoration-color: #800080; font-style: italic\">None</span><span style=\"font-weight: bold\">)</span>,\n",
       "    <span style=\"color: #008000; text-decoration-color: #008000\">'summary'</span>: <span style=\"color: #800080; text-decoration-color: #800080; font-weight: bold\">Value</span><span style=\"font-weight: bold\">(</span><span style=\"color: #808000; text-decoration-color: #808000\">dtype</span>=<span style=\"color: #008000; text-decoration-color: #008000\">'string'</span>, <span style=\"color: #808000; text-decoration-color: #808000\">id</span>=<span style=\"color: #800080; text-decoration-color: #800080; font-style: italic\">None</span><span style=\"font-weight: bold\">)</span>\n",
       "<span style=\"font-weight: bold\">}</span>\n",
       "</pre>\n"
      ],
      "text/plain": [
       "\u001b[1m{\u001b[0m\n",
       "    \u001b[32m'id'\u001b[0m: \u001b[1;35mValue\u001b[0m\u001b[1m(\u001b[0m\u001b[33mdtype\u001b[0m=\u001b[32m'string'\u001b[0m, \u001b[33mid\u001b[0m=\u001b[3;35mNone\u001b[0m\u001b[1m)\u001b[0m,\n",
       "    \u001b[32m'dialogue'\u001b[0m: \u001b[1;35mValue\u001b[0m\u001b[1m(\u001b[0m\u001b[33mdtype\u001b[0m=\u001b[32m'string'\u001b[0m, \u001b[33mid\u001b[0m=\u001b[3;35mNone\u001b[0m\u001b[1m)\u001b[0m,\n",
       "    \u001b[32m'summary'\u001b[0m: \u001b[1;35mValue\u001b[0m\u001b[1m(\u001b[0m\u001b[33mdtype\u001b[0m=\u001b[32m'string'\u001b[0m, \u001b[33mid\u001b[0m=\u001b[3;35mNone\u001b[0m\u001b[1m)\u001b[0m\n",
       "\u001b[1m}\u001b[0m\n"
      ]
     },
     "metadata": {},
     "output_type": "display_data"
    }
   ],
   "source": [
    "from datasets import concatenate_datasets\n",
    "from datasets import DatasetDict\n",
    "\n",
    "rich_print(hf_dataset_2_dict[\"train\"].features)\n",
    "rich_print(hf_dataset_2_dict[\"test\"].features)\n",
    "rich_print(hf_dataset_2_dict[\"validation\"].features)"
   ]
  },
  {
   "cell_type": "code",
   "execution_count": 85,
   "id": "eb6cb4e4",
   "metadata": {
    "execution": {
     "iopub.execute_input": "2024-09-10T16:00:52.209853Z",
     "iopub.status.busy": "2024-09-10T16:00:52.209638Z",
     "iopub.status.idle": "2024-09-10T16:00:52.217192Z",
     "shell.execute_reply": "2024-09-10T16:00:52.216720Z"
    }
   },
   "outputs": [
    {
     "name": "stderr",
     "output_type": "stream",
     "text": [
      "/home/ec2-user/anaconda3/envs/pytorch_p310/lib/python3.10/site-packages/datasets/table.py:1421: FutureWarning: promote has been superseded by promote_options='default'.\n",
      "  table = cls._concat_blocks(blocks, axis=0)\n"
     ]
    },
    {
     "data": {
      "text/html": [
       "<pre style=\"white-space:pre;overflow-x:auto;line-height:normal;font-family:Menlo,'DejaVu Sans Mono',consolas,'Courier New',monospace\"><span style=\"color: #800080; text-decoration-color: #800080; font-weight: bold\">Dataset</span><span style=\"font-weight: bold\">({</span>\n",
       "    features: <span style=\"font-weight: bold\">[</span><span style=\"color: #008000; text-decoration-color: #008000\">'id'</span>, <span style=\"color: #008000; text-decoration-color: #008000\">'dialogue'</span>, <span style=\"color: #008000; text-decoration-color: #008000\">'summary'</span><span style=\"font-weight: bold\">]</span>,\n",
       "    num_rows: <span style=\"color: #008080; text-decoration-color: #008080; font-weight: bold\">16369</span>\n",
       "<span style=\"font-weight: bold\">})</span>\n",
       "</pre>\n"
      ],
      "text/plain": [
       "\u001b[1;35mDataset\u001b[0m\u001b[1m(\u001b[0m\u001b[1m{\u001b[0m\n",
       "    features: \u001b[1m[\u001b[0m\u001b[32m'id'\u001b[0m, \u001b[32m'dialogue'\u001b[0m, \u001b[32m'summary'\u001b[0m\u001b[1m]\u001b[0m,\n",
       "    num_rows: \u001b[1;36m16369\u001b[0m\n",
       "\u001b[1m}\u001b[0m\u001b[1m)\u001b[0m\n"
      ]
     },
     "metadata": {},
     "output_type": "display_data"
    },
    {
     "name": "stdout",
     "output_type": "stream",
     "text": [
      "CPU times: user 4.67 ms, sys: 9 μs, total: 4.68 ms\n",
      "Wall time: 4.23 ms\n"
     ]
    }
   ],
   "source": [
    "%%time\n",
    "\n",
    "# Merge / Concatenate datasets\n",
    "hf_dataset_2_dict_merged = concatenate_datasets([hf_dataset_2_dict[\"train\"]\n",
    "                                                 , hf_dataset_2_dict[\"test\"]\n",
    "                                                 , hf_dataset_2_dict[\"validation\"]], axis=0)\n",
    "\n",
    "rich_print(hf_dataset_2_dict_merged)"
   ]
  },
  {
   "cell_type": "code",
   "execution_count": 86,
   "id": "1a4be304",
   "metadata": {
    "execution": {
     "iopub.execute_input": "2024-09-10T16:00:52.219498Z",
     "iopub.status.busy": "2024-09-10T16:00:52.219274Z",
     "iopub.status.idle": "2024-09-10T16:00:52.224932Z",
     "shell.execute_reply": "2024-09-10T16:00:52.224479Z"
    }
   },
   "outputs": [
    {
     "data": {
      "text/html": [
       "<pre style=\"white-space:pre;overflow-x:auto;line-height:normal;font-family:Menlo,'DejaVu Sans Mono',consolas,'Courier New',monospace\"><span style=\"color: #800080; text-decoration-color: #800080; font-weight: bold\">Dataset</span><span style=\"font-weight: bold\">({</span>\n",
       "    features: <span style=\"font-weight: bold\">[</span><span style=\"color: #008000; text-decoration-color: #008000\">'id'</span>, <span style=\"color: #008000; text-decoration-color: #008000\">'dialogue'</span>, <span style=\"color: #008000; text-decoration-color: #008000\">'summary'</span><span style=\"font-weight: bold\">]</span>,\n",
       "    num_rows: <span style=\"color: #008080; text-decoration-color: #008080; font-weight: bold\">16369</span>\n",
       "<span style=\"font-weight: bold\">})</span>\n",
       "</pre>\n"
      ],
      "text/plain": [
       "\u001b[1;35mDataset\u001b[0m\u001b[1m(\u001b[0m\u001b[1m{\u001b[0m\n",
       "    features: \u001b[1m[\u001b[0m\u001b[32m'id'\u001b[0m, \u001b[32m'dialogue'\u001b[0m, \u001b[32m'summary'\u001b[0m\u001b[1m]\u001b[0m,\n",
       "    num_rows: \u001b[1;36m16369\u001b[0m\n",
       "\u001b[1m}\u001b[0m\u001b[1m)\u001b[0m\n"
      ]
     },
     "metadata": {},
     "output_type": "display_data"
    }
   ],
   "source": [
    "# shuffle\n",
    "hf_dataset_2_dict_merged = hf_dataset_2_dict_merged.shuffle(seed=var_seed)\n",
    "\n",
    "rich_print(hf_dataset_2_dict_merged)"
   ]
  },
  {
   "cell_type": "code",
   "execution_count": 87,
   "id": "ceb1ecc4",
   "metadata": {
    "execution": {
     "iopub.execute_input": "2024-09-10T16:00:52.227074Z",
     "iopub.status.busy": "2024-09-10T16:00:52.226859Z",
     "iopub.status.idle": "2024-09-10T16:00:53.616755Z",
     "shell.execute_reply": "2024-09-10T16:00:53.616243Z"
    }
   },
   "outputs": [
    {
     "name": "stdout",
     "output_type": "stream",
     "text": [
      "13828807\n"
     ]
    },
    {
     "data": {
      "text/html": [
       "<pre style=\"white-space:pre;overflow-x:auto;line-height:normal;font-family:Menlo,'DejaVu Sans Mono',consolas,'Courier New',monospace\">   length_input  length_output\n",
       "<span style=\"color: #008080; text-decoration-color: #008080; font-weight: bold\">0</span>           <span style=\"color: #008080; text-decoration-color: #008080; font-weight: bold\">120</span>             <span style=\"color: #008080; text-decoration-color: #008080; font-weight: bold\">66</span>\n",
       "<span style=\"color: #008080; text-decoration-color: #008080; font-weight: bold\">1</span>           <span style=\"color: #008080; text-decoration-color: #008080; font-weight: bold\">194</span>             <span style=\"color: #008080; text-decoration-color: #008080; font-weight: bold\">99</span>\n",
       "<span style=\"color: #008080; text-decoration-color: #008080; font-weight: bold\">2</span>           <span style=\"color: #008080; text-decoration-color: #008080; font-weight: bold\">675</span>            <span style=\"color: #008080; text-decoration-color: #008080; font-weight: bold\">225</span>\n",
       "<span style=\"color: #008080; text-decoration-color: #008080; font-weight: bold\">3</span>           <span style=\"color: #008080; text-decoration-color: #008080; font-weight: bold\">510</span>            <span style=\"color: #008080; text-decoration-color: #008080; font-weight: bold\">136</span>\n",
       "<span style=\"color: #008080; text-decoration-color: #008080; font-weight: bold\">4</span>           <span style=\"color: #008080; text-decoration-color: #008080; font-weight: bold\">408</span>             <span style=\"color: #008080; text-decoration-color: #008080; font-weight: bold\">67</span>\n",
       "<span style=\"color: #008080; text-decoration-color: #008080; font-weight: bold\">5</span>           <span style=\"color: #008080; text-decoration-color: #008080; font-weight: bold\">154</span>             <span style=\"color: #008080; text-decoration-color: #008080; font-weight: bold\">43</span>\n",
       "<span style=\"color: #008080; text-decoration-color: #008080; font-weight: bold\">6</span>           <span style=\"color: #008080; text-decoration-color: #008080; font-weight: bold\">740</span>            <span style=\"color: #008080; text-decoration-color: #008080; font-weight: bold\">140</span>\n",
       "<span style=\"color: #008080; text-decoration-color: #008080; font-weight: bold\">7</span>           <span style=\"color: #008080; text-decoration-color: #008080; font-weight: bold\">236</span>             <span style=\"color: #008080; text-decoration-color: #008080; font-weight: bold\">46</span>\n",
       "<span style=\"color: #008080; text-decoration-color: #008080; font-weight: bold\">8</span>          <span style=\"color: #008080; text-decoration-color: #008080; font-weight: bold\">1470</span>            <span style=\"color: #008080; text-decoration-color: #008080; font-weight: bold\">133</span>\n",
       "<span style=\"color: #008080; text-decoration-color: #008080; font-weight: bold\">9</span>          <span style=\"color: #008080; text-decoration-color: #008080; font-weight: bold\">1219</span>            <span style=\"color: #008080; text-decoration-color: #008080; font-weight: bold\">177</span>\n",
       "</pre>\n"
      ],
      "text/plain": [
       "   length_input  length_output\n",
       "\u001b[1;36m0\u001b[0m           \u001b[1;36m120\u001b[0m             \u001b[1;36m66\u001b[0m\n",
       "\u001b[1;36m1\u001b[0m           \u001b[1;36m194\u001b[0m             \u001b[1;36m99\u001b[0m\n",
       "\u001b[1;36m2\u001b[0m           \u001b[1;36m675\u001b[0m            \u001b[1;36m225\u001b[0m\n",
       "\u001b[1;36m3\u001b[0m           \u001b[1;36m510\u001b[0m            \u001b[1;36m136\u001b[0m\n",
       "\u001b[1;36m4\u001b[0m           \u001b[1;36m408\u001b[0m             \u001b[1;36m67\u001b[0m\n",
       "\u001b[1;36m5\u001b[0m           \u001b[1;36m154\u001b[0m             \u001b[1;36m43\u001b[0m\n",
       "\u001b[1;36m6\u001b[0m           \u001b[1;36m740\u001b[0m            \u001b[1;36m140\u001b[0m\n",
       "\u001b[1;36m7\u001b[0m           \u001b[1;36m236\u001b[0m             \u001b[1;36m46\u001b[0m\n",
       "\u001b[1;36m8\u001b[0m          \u001b[1;36m1470\u001b[0m            \u001b[1;36m133\u001b[0m\n",
       "\u001b[1;36m9\u001b[0m          \u001b[1;36m1219\u001b[0m            \u001b[1;36m177\u001b[0m\n"
      ]
     },
     "metadata": {},
     "output_type": "display_data"
    }
   ],
   "source": [
    "# check the length of input and output texts\n",
    "all_input_length_2 = []\n",
    "all_output_length_2 = []\n",
    "\n",
    "# there is one sample where either the dialogue or the summary is missing\n",
    "for sample in hf_dataset_2_dict_merged:\n",
    "    if sample[\"dialogue\"] is None or sample[\"summary\"] is None:\n",
    "        print(sample[\"id\"])\n",
    "    \n",
    "    if sample[\"dialogue\"] is not None and sample[\"summary\"] is not None:\n",
    "        all_input_length_2.append(len(sample[\"dialogue\"]))\n",
    "        all_output_length_2.append(len(sample[\"summary\"]))\n",
    "        \n",
    "df_all_length_2 = pd.DataFrame([all_input_length_2, all_output_length_2]).T\n",
    "df_all_length_2.columns = [\"length_input\", \"length_output\"]\n",
    "rich_print(df_all_length_2.head(10))"
   ]
  },
  {
   "cell_type": "code",
   "execution_count": 88,
   "id": "7c198970",
   "metadata": {
    "execution": {
     "iopub.execute_input": "2024-09-10T16:00:53.619088Z",
     "iopub.status.busy": "2024-09-10T16:00:53.618838Z",
     "iopub.status.idle": "2024-09-10T16:00:53.625094Z",
     "shell.execute_reply": "2024-09-10T16:00:53.624635Z"
    }
   },
   "outputs": [
    {
     "data": {
      "text/plain": [
       "(5474, 300)"
      ]
     },
     "execution_count": 88,
     "metadata": {},
     "output_type": "execute_result"
    }
   ],
   "source": [
    "# maximum length of the input conversation and the output summary\n",
    "max(df_all_length_2[\"length_input\"]), max(df_all_length_2[\"length_output\"])"
   ]
  },
  {
   "cell_type": "code",
   "execution_count": 89,
   "id": "e84bf74f",
   "metadata": {
    "execution": {
     "iopub.execute_input": "2024-09-10T16:00:53.627268Z",
     "iopub.status.busy": "2024-09-10T16:00:53.627043Z",
     "iopub.status.idle": "2024-09-10T16:00:53.789847Z",
     "shell.execute_reply": "2024-09-10T16:00:53.789383Z"
    }
   },
   "outputs": [
    {
     "data": {
      "image/png": "[encoded data removed]",
      "text/plain": [
       "<Figure size 1000x600 with 1 Axes>"
      ]
     },
     "metadata": {},
     "output_type": "display_data"
    }
   ],
   "source": [
    "plt.figure(figsize=(10, 6))\n",
    "plt.hist(df_all_length_2[\"length_input\"], bins=30)\n",
    "plt.xlabel(\"Input Text Length ->\")\n",
    "plt.ylabel(\"Frequency ->\")\n",
    "plt.title(\"Histogram for 'Input Text Length'\")\n",
    "plt.show()"
   ]
  },
  {
   "cell_type": "code",
   "execution_count": 90,
   "id": "be34b918",
   "metadata": {
    "execution": {
     "iopub.execute_input": "2024-09-10T16:00:53.792030Z",
     "iopub.status.busy": "2024-09-10T16:00:53.791799Z",
     "iopub.status.idle": "2024-09-10T16:00:53.953289Z",
     "shell.execute_reply": "2024-09-10T16:00:53.952822Z"
    }
   },
   "outputs": [
    {
     "data": {
      "image/png": "[encoded data removed]",
      "text/plain": [
       "<Figure size 1000x600 with 1 Axes>"
      ]
     },
     "metadata": {},
     "output_type": "display_data"
    }
   ],
   "source": [
    "plt.figure(figsize=(10, 6))\n",
    "plt.hist(df_all_length_2[\"length_output\"], bins=30)\n",
    "plt.xlabel(\"Output Text Length ->\")\n",
    "plt.ylabel(\"Frequency ->\")\n",
    "plt.title(\"Histogram for 'Output Text Length'\")\n",
    "plt.show()"
   ]
  },
  {
   "cell_type": "code",
   "execution_count": 91,
   "id": "0d7b4a84",
   "metadata": {
    "execution": {
     "iopub.execute_input": "2024-09-10T16:00:53.955492Z",
     "iopub.status.busy": "2024-09-10T16:00:53.955259Z",
     "iopub.status.idle": "2024-09-10T16:00:53.959185Z",
     "shell.execute_reply": "2024-09-10T16:00:53.958719Z"
    }
   },
   "outputs": [
    {
     "name": "stdout",
     "output_type": "stream",
     "text": [
      "1017.0\n",
      "290.0\n"
     ]
    }
   ],
   "source": [
    "print(np.percentile(df_all_length_2[\"length_input\"], 90))\n",
    "print(np.percentile(df_all_length_2[\"length_output\"], 99))"
   ]
  },
  {
   "cell_type": "code",
   "execution_count": 92,
   "id": "94a940e6",
   "metadata": {
    "execution": {
     "iopub.execute_input": "2024-09-10T16:00:53.961326Z",
     "iopub.status.busy": "2024-09-10T16:00:53.961105Z",
     "iopub.status.idle": "2024-09-10T16:00:53.963641Z",
     "shell.execute_reply": "2024-09-10T16:00:53.963189Z"
    }
   },
   "outputs": [],
   "source": [
    "# set the maximum length for the Input Conversation (training data) and the Output Summary (target)\n",
    "max_input = 1024\n",
    "max_target = 256"
   ]
  },
  {
   "cell_type": "code",
   "execution_count": 93,
   "id": "734bbd41",
   "metadata": {
    "execution": {
     "iopub.execute_input": "2024-09-10T16:00:53.965796Z",
     "iopub.status.busy": "2024-09-10T16:00:53.965575Z",
     "iopub.status.idle": "2024-09-10T16:00:53.968157Z",
     "shell.execute_reply": "2024-09-10T16:00:53.967704Z"
    }
   },
   "outputs": [],
   "source": [
    "# train/validation/test split ratio\n",
    "processing_train_split = 0.92\n",
    "processing_valid_split = 0.04\n",
    "processing_test_split = 0.04"
   ]
  },
  {
   "cell_type": "code",
   "execution_count": 94,
   "id": "e0b8077b",
   "metadata": {
    "execution": {
     "iopub.execute_input": "2024-09-10T16:00:53.970324Z",
     "iopub.status.busy": "2024-09-10T16:00:53.970107Z",
     "iopub.status.idle": "2024-09-10T16:00:55.298896Z",
     "shell.execute_reply": "2024-09-10T16:00:55.298370Z"
    }
   },
   "outputs": [
    {
     "name": "stdout",
     "output_type": "stream",
     "text": [
      "CPU times: user 1.32 s, sys: 8 ms, total: 1.33 s\n",
      "Wall time: 1.33 s\n"
     ]
    }
   ],
   "source": [
    "%%time\n",
    "\n",
    "hf_dataset_2_df_merged = pd.DataFrame(hf_dataset_2_dict_merged)\n",
    "hf_dataset_2_df_merged.fillna(\"\", inplace=True)"
   ]
  },
  {
   "cell_type": "code",
   "execution_count": 95,
   "id": "a91920ff",
   "metadata": {
    "execution": {
     "iopub.execute_input": "2024-09-10T16:00:55.301361Z",
     "iopub.status.busy": "2024-09-10T16:00:55.301095Z",
     "iopub.status.idle": "2024-09-10T16:00:55.304773Z",
     "shell.execute_reply": "2024-09-10T16:00:55.304317Z"
    }
   },
   "outputs": [
    {
     "data": {
      "text/plain": [
       "(16369, 3)"
      ]
     },
     "execution_count": 95,
     "metadata": {},
     "output_type": "execute_result"
    }
   ],
   "source": [
    "hf_dataset_2_df_merged.shape"
   ]
  },
  {
   "cell_type": "code",
   "execution_count": 96,
   "id": "abf911b0",
   "metadata": {
    "execution": {
     "iopub.execute_input": "2024-09-10T16:00:55.306979Z",
     "iopub.status.busy": "2024-09-10T16:00:55.306759Z",
     "iopub.status.idle": "2024-09-10T16:00:55.313723Z",
     "shell.execute_reply": "2024-09-10T16:00:55.313253Z"
    }
   },
   "outputs": [
    {
     "data": {
      "text/html": [
       "<div>\n",
       "<style scoped>\n",
       "    .dataframe tbody tr th:only-of-type {\n",
       "        vertical-align: middle;\n",
       "    }\n",
       "\n",
       "    .dataframe tbody tr th {\n",
       "        vertical-align: top;\n",
       "    }\n",
       "\n",
       "    .dataframe thead th {\n",
       "        text-align: right;\n",
       "    }\n",
       "</style>\n",
       "<table border=\"1\" class=\"dataframe\">\n",
       "  <thead>\n",
       "    <tr style=\"text-align: right;\">\n",
       "      <th></th>\n",
       "      <th>id</th>\n",
       "      <th>dialogue</th>\n",
       "      <th>summary</th>\n",
       "    </tr>\n",
       "  </thead>\n",
       "  <tbody>\n",
       "    <tr>\n",
       "      <th>0</th>\n",
       "      <td>13864627</td>\n",
       "      <td>Mary: Are you going by car or train?\\nTom: Ell...</td>\n",
       "      <td>Ella rented a car, this makes things much fast...</td>\n",
       "    </tr>\n",
       "    <tr>\n",
       "      <th>1</th>\n",
       "      <td>13730660</td>\n",
       "      <td>Linden: Hi Litia, this is my new email linden@...</td>\n",
       "      <td>Linden has a new e-mail address linden@gmail.b...</td>\n",
       "    </tr>\n",
       "    <tr>\n",
       "      <th>2</th>\n",
       "      <td>13828264</td>\n",
       "      <td>Julie: How was Rome??\\nJulie: I saw some pictu...</td>\n",
       "      <td>Martha had a hen party in Rome. She was there ...</td>\n",
       "    </tr>\n",
       "    <tr>\n",
       "      <th>3</th>\n",
       "      <td>13682264</td>\n",
       "      <td>Damian: Have a situation and need your help ma...</td>\n",
       "      <td>Damian's got a flat tyre on the corner of Coll...</td>\n",
       "    </tr>\n",
       "    <tr>\n",
       "      <th>4</th>\n",
       "      <td>13716803</td>\n",
       "      <td>Bob: Have you been to this new exhibition?\\nDa...</td>\n",
       "      <td>Bob, Daryl and Greg are going to the National ...</td>\n",
       "    </tr>\n",
       "  </tbody>\n",
       "</table>\n",
       "</div>"
      ],
      "text/plain": [
       "         id                                           dialogue  \\\n",
       "0  13864627  Mary: Are you going by car or train?\\nTom: Ell...   \n",
       "1  13730660  Linden: Hi Litia, this is my new email linden@...   \n",
       "2  13828264  Julie: How was Rome??\\nJulie: I saw some pictu...   \n",
       "3  13682264  Damian: Have a situation and need your help ma...   \n",
       "4  13716803  Bob: Have you been to this new exhibition?\\nDa...   \n",
       "\n",
       "                                             summary  \n",
       "0  Ella rented a car, this makes things much fast...  \n",
       "1  Linden has a new e-mail address linden@gmail.b...  \n",
       "2  Martha had a hen party in Rome. She was there ...  \n",
       "3  Damian's got a flat tyre on the corner of Coll...  \n",
       "4  Bob, Daryl and Greg are going to the National ...  "
      ]
     },
     "execution_count": 96,
     "metadata": {},
     "output_type": "execute_result"
    }
   ],
   "source": [
    "hf_dataset_2_df_merged.head()"
   ]
  },
  {
   "cell_type": "code",
   "execution_count": 97,
   "id": "142b2184",
   "metadata": {
    "execution": {
     "iopub.execute_input": "2024-09-10T16:00:55.315895Z",
     "iopub.status.busy": "2024-09-10T16:00:55.315676Z",
     "iopub.status.idle": "2024-09-10T16:00:55.325771Z",
     "shell.execute_reply": "2024-09-10T16:00:55.325302Z"
    }
   },
   "outputs": [
    {
     "data": {
      "text/html": [
       "<div>\n",
       "<style scoped>\n",
       "    .dataframe tbody tr th:only-of-type {\n",
       "        vertical-align: middle;\n",
       "    }\n",
       "\n",
       "    .dataframe tbody tr th {\n",
       "        vertical-align: top;\n",
       "    }\n",
       "\n",
       "    .dataframe thead th {\n",
       "        text-align: right;\n",
       "    }\n",
       "</style>\n",
       "<table border=\"1\" class=\"dataframe\">\n",
       "  <thead>\n",
       "    <tr style=\"text-align: right;\">\n",
       "      <th></th>\n",
       "      <th>id</th>\n",
       "      <th>dialogue</th>\n",
       "      <th>summary</th>\n",
       "    </tr>\n",
       "  </thead>\n",
       "  <tbody>\n",
       "    <tr>\n",
       "      <th>8278</th>\n",
       "      <td>13828807</td>\n",
       "      <td></td>\n",
       "      <td>problem with visualization of the content</td>\n",
       "    </tr>\n",
       "  </tbody>\n",
       "</table>\n",
       "</div>"
      ],
      "text/plain": [
       "            id dialogue                                    summary\n",
       "8278  13828807           problem with visualization of the content"
      ]
     },
     "execution_count": 97,
     "metadata": {},
     "output_type": "execute_result"
    }
   ],
   "source": [
    "# invalid sample. needs to be removed before tokenization\n",
    "hf_dataset_2_df_merged[(hf_dataset_2_df_merged[\"dialogue\"] == \"\") | (hf_dataset_2_df_merged[\"summary\"] == \"\")]"
   ]
  },
  {
   "cell_type": "code",
   "execution_count": 98,
   "id": "adec5589",
   "metadata": {
    "execution": {
     "iopub.execute_input": "2024-09-10T16:00:55.327933Z",
     "iopub.status.busy": "2024-09-10T16:00:55.327718Z",
     "iopub.status.idle": "2024-09-10T16:00:55.334304Z",
     "shell.execute_reply": "2024-09-10T16:00:55.333823Z"
    }
   },
   "outputs": [],
   "source": [
    "hf_dataset_2_df_merged = hf_dataset_2_df_merged[hf_dataset_2_df_merged[\"dialogue\"] != \"\"]\n",
    "# hf_dataset_2_df_merged.reset_index(drop=True, inplace=True)\n",
    "hf_dataset_2_df_merged.index = hf_dataset_2_df_merged.id\n",
    "hf_dataset_2_df_merged.drop(columns=[\"id\"], inplace=True)"
   ]
  },
  {
   "cell_type": "code",
   "execution_count": 99,
   "id": "ddb33478",
   "metadata": {
    "execution": {
     "iopub.execute_input": "2024-09-10T16:00:55.336426Z",
     "iopub.status.busy": "2024-09-10T16:00:55.336211Z",
     "iopub.status.idle": "2024-09-10T16:00:55.341845Z",
     "shell.execute_reply": "2024-09-10T16:00:55.341379Z"
    }
   },
   "outputs": [
    {
     "data": {
      "text/html": [
       "<div>\n",
       "<style scoped>\n",
       "    .dataframe tbody tr th:only-of-type {\n",
       "        vertical-align: middle;\n",
       "    }\n",
       "\n",
       "    .dataframe tbody tr th {\n",
       "        vertical-align: top;\n",
       "    }\n",
       "\n",
       "    .dataframe thead th {\n",
       "        text-align: right;\n",
       "    }\n",
       "</style>\n",
       "<table border=\"1\" class=\"dataframe\">\n",
       "  <thead>\n",
       "    <tr style=\"text-align: right;\">\n",
       "      <th></th>\n",
       "      <th>dialogue</th>\n",
       "      <th>summary</th>\n",
       "    </tr>\n",
       "    <tr>\n",
       "      <th>id</th>\n",
       "      <th></th>\n",
       "      <th></th>\n",
       "    </tr>\n",
       "  </thead>\n",
       "  <tbody>\n",
       "    <tr>\n",
       "      <th>13864627</th>\n",
       "      <td>Mary: Are you going by car or train?\\nTom: Ell...</td>\n",
       "      <td>Ella rented a car, this makes things much fast...</td>\n",
       "    </tr>\n",
       "    <tr>\n",
       "      <th>13730660</th>\n",
       "      <td>Linden: Hi Litia, this is my new email linden@...</td>\n",
       "      <td>Linden has a new e-mail address linden@gmail.b...</td>\n",
       "    </tr>\n",
       "    <tr>\n",
       "      <th>13828264</th>\n",
       "      <td>Julie: How was Rome??\\nJulie: I saw some pictu...</td>\n",
       "      <td>Martha had a hen party in Rome. She was there ...</td>\n",
       "    </tr>\n",
       "    <tr>\n",
       "      <th>13682264</th>\n",
       "      <td>Damian: Have a situation and need your help ma...</td>\n",
       "      <td>Damian's got a flat tyre on the corner of Coll...</td>\n",
       "    </tr>\n",
       "    <tr>\n",
       "      <th>13716803</th>\n",
       "      <td>Bob: Have you been to this new exhibition?\\nDa...</td>\n",
       "      <td>Bob, Daryl and Greg are going to the National ...</td>\n",
       "    </tr>\n",
       "  </tbody>\n",
       "</table>\n",
       "</div>"
      ],
      "text/plain": [
       "                                                   dialogue  \\\n",
       "id                                                            \n",
       "13864627  Mary: Are you going by car or train?\\nTom: Ell...   \n",
       "13730660  Linden: Hi Litia, this is my new email linden@...   \n",
       "13828264  Julie: How was Rome??\\nJulie: I saw some pictu...   \n",
       "13682264  Damian: Have a situation and need your help ma...   \n",
       "13716803  Bob: Have you been to this new exhibition?\\nDa...   \n",
       "\n",
       "                                                    summary  \n",
       "id                                                           \n",
       "13864627  Ella rented a car, this makes things much fast...  \n",
       "13730660  Linden has a new e-mail address linden@gmail.b...  \n",
       "13828264  Martha had a hen party in Rome. She was there ...  \n",
       "13682264  Damian's got a flat tyre on the corner of Coll...  \n",
       "13716803  Bob, Daryl and Greg are going to the National ...  "
      ]
     },
     "execution_count": 99,
     "metadata": {},
     "output_type": "execute_result"
    }
   ],
   "source": [
    "hf_dataset_2_df_merged.head()"
   ]
  },
  {
   "cell_type": "code",
   "execution_count": 100,
   "id": "769ffc18",
   "metadata": {
    "execution": {
     "iopub.execute_input": "2024-09-10T16:00:55.343997Z",
     "iopub.status.busy": "2024-09-10T16:00:55.343782Z",
     "iopub.status.idle": "2024-09-10T16:00:55.347036Z",
     "shell.execute_reply": "2024-09-10T16:00:55.346600Z"
    }
   },
   "outputs": [
    {
     "data": {
      "text/plain": [
       "(16368, 2)"
      ]
     },
     "execution_count": 100,
     "metadata": {},
     "output_type": "execute_result"
    }
   ],
   "source": [
    "hf_dataset_2_df_merged.shape"
   ]
  },
  {
   "cell_type": "code",
   "execution_count": null,
   "id": "c923846a",
   "metadata": {},
   "outputs": [],
   "source": []
  },
  {
   "cell_type": "code",
   "execution_count": 101,
   "id": "6e1c0e3f",
   "metadata": {
    "execution": {
     "iopub.execute_input": "2024-09-10T16:00:55.349238Z",
     "iopub.status.busy": "2024-09-10T16:00:55.349024Z",
     "iopub.status.idle": "2024-09-10T16:00:55.375613Z",
     "shell.execute_reply": "2024-09-10T16:00:55.375065Z"
    }
   },
   "outputs": [],
   "source": [
    "from datasets import Dataset\n",
    "\n",
    "# convert dataframe to transformers Dataset format\n",
    "hf_dataset_2_dict_merged = Dataset.from_pandas(hf_dataset_2_df_merged, info=None)"
   ]
  },
  {
   "cell_type": "code",
   "execution_count": 102,
   "id": "dd55e466",
   "metadata": {
    "execution": {
     "iopub.execute_input": "2024-09-10T16:00:55.377853Z",
     "iopub.status.busy": "2024-09-10T16:00:55.377617Z",
     "iopub.status.idle": "2024-09-10T16:00:55.381114Z",
     "shell.execute_reply": "2024-09-10T16:00:55.380658Z"
    }
   },
   "outputs": [
    {
     "data": {
      "text/plain": [
       "Dataset({\n",
       "    features: ['dialogue', 'summary', 'id'],\n",
       "    num_rows: 16368\n",
       "})"
      ]
     },
     "execution_count": 102,
     "metadata": {},
     "output_type": "execute_result"
    }
   ],
   "source": [
    "hf_dataset_2_dict_merged"
   ]
  },
  {
   "cell_type": "code",
   "execution_count": 103,
   "id": "5e9ebc6d",
   "metadata": {
    "execution": {
     "iopub.execute_input": "2024-09-10T16:00:55.383318Z",
     "iopub.status.busy": "2024-09-10T16:00:55.383102Z",
     "iopub.status.idle": "2024-09-10T16:00:55.395722Z",
     "shell.execute_reply": "2024-09-10T16:00:55.395271Z"
    }
   },
   "outputs": [],
   "source": [
    "hf2_t1 = hf_dataset_2_dict_merged.train_test_split(1 - processing_train_split, seed=var_seed)\n",
    "\n",
    "hf2_t2 = hf2_t1['test'].train_test_split(\n",
    "    processing_test_split / (processing_valid_split + processing_test_split), seed=var_seed)\n",
    "\n",
    "hf2_t3 = DatasetDict(\n",
    "    {\n",
    "        \"train\": hf2_t1[\"train\"],\n",
    "        \"validation\": hf2_t2[\"train\"],\n",
    "        \"test\": hf2_t2[\"test\"]\n",
    "    }\n",
    ")"
   ]
  },
  {
   "cell_type": "code",
   "execution_count": 104,
   "id": "6521fa0e",
   "metadata": {
    "execution": {
     "iopub.execute_input": "2024-09-10T16:00:55.397859Z",
     "iopub.status.busy": "2024-09-10T16:00:55.397640Z",
     "iopub.status.idle": "2024-09-10T16:00:55.402596Z",
     "shell.execute_reply": "2024-09-10T16:00:55.402142Z"
    }
   },
   "outputs": [
    {
     "data": {
      "text/html": [
       "<pre style=\"white-space:pre;overflow-x:auto;line-height:normal;font-family:Menlo,'DejaVu Sans Mono',consolas,'Courier New',monospace\"><span style=\"color: #800080; text-decoration-color: #800080; font-weight: bold\">DatasetDict</span><span style=\"font-weight: bold\">({</span>\n",
       "    train: <span style=\"color: #800080; text-decoration-color: #800080; font-weight: bold\">Dataset</span><span style=\"font-weight: bold\">({</span>\n",
       "        features: <span style=\"font-weight: bold\">[</span><span style=\"color: #008000; text-decoration-color: #008000\">'dialogue'</span>, <span style=\"color: #008000; text-decoration-color: #008000\">'summary'</span>, <span style=\"color: #008000; text-decoration-color: #008000\">'id'</span><span style=\"font-weight: bold\">]</span>,\n",
       "        num_rows: <span style=\"color: #008080; text-decoration-color: #008080; font-weight: bold\">15058</span>\n",
       "    <span style=\"font-weight: bold\">})</span>\n",
       "    validation: <span style=\"color: #800080; text-decoration-color: #800080; font-weight: bold\">Dataset</span><span style=\"font-weight: bold\">({</span>\n",
       "        features: <span style=\"font-weight: bold\">[</span><span style=\"color: #008000; text-decoration-color: #008000\">'dialogue'</span>, <span style=\"color: #008000; text-decoration-color: #008000\">'summary'</span>, <span style=\"color: #008000; text-decoration-color: #008000\">'id'</span><span style=\"font-weight: bold\">]</span>,\n",
       "        num_rows: <span style=\"color: #008080; text-decoration-color: #008080; font-weight: bold\">655</span>\n",
       "    <span style=\"font-weight: bold\">})</span>\n",
       "    test: <span style=\"color: #800080; text-decoration-color: #800080; font-weight: bold\">Dataset</span><span style=\"font-weight: bold\">({</span>\n",
       "        features: <span style=\"font-weight: bold\">[</span><span style=\"color: #008000; text-decoration-color: #008000\">'dialogue'</span>, <span style=\"color: #008000; text-decoration-color: #008000\">'summary'</span>, <span style=\"color: #008000; text-decoration-color: #008000\">'id'</span><span style=\"font-weight: bold\">]</span>,\n",
       "        num_rows: <span style=\"color: #008080; text-decoration-color: #008080; font-weight: bold\">655</span>\n",
       "    <span style=\"font-weight: bold\">})</span>\n",
       "<span style=\"font-weight: bold\">})</span>\n",
       "</pre>\n"
      ],
      "text/plain": [
       "\u001b[1;35mDatasetDict\u001b[0m\u001b[1m(\u001b[0m\u001b[1m{\u001b[0m\n",
       "    train: \u001b[1;35mDataset\u001b[0m\u001b[1m(\u001b[0m\u001b[1m{\u001b[0m\n",
       "        features: \u001b[1m[\u001b[0m\u001b[32m'dialogue'\u001b[0m, \u001b[32m'summary'\u001b[0m, \u001b[32m'id'\u001b[0m\u001b[1m]\u001b[0m,\n",
       "        num_rows: \u001b[1;36m15058\u001b[0m\n",
       "    \u001b[1m}\u001b[0m\u001b[1m)\u001b[0m\n",
       "    validation: \u001b[1;35mDataset\u001b[0m\u001b[1m(\u001b[0m\u001b[1m{\u001b[0m\n",
       "        features: \u001b[1m[\u001b[0m\u001b[32m'dialogue'\u001b[0m, \u001b[32m'summary'\u001b[0m, \u001b[32m'id'\u001b[0m\u001b[1m]\u001b[0m,\n",
       "        num_rows: \u001b[1;36m655\u001b[0m\n",
       "    \u001b[1m}\u001b[0m\u001b[1m)\u001b[0m\n",
       "    test: \u001b[1;35mDataset\u001b[0m\u001b[1m(\u001b[0m\u001b[1m{\u001b[0m\n",
       "        features: \u001b[1m[\u001b[0m\u001b[32m'dialogue'\u001b[0m, \u001b[32m'summary'\u001b[0m, \u001b[32m'id'\u001b[0m\u001b[1m]\u001b[0m,\n",
       "        num_rows: \u001b[1;36m655\u001b[0m\n",
       "    \u001b[1m}\u001b[0m\u001b[1m)\u001b[0m\n",
       "\u001b[1m}\u001b[0m\u001b[1m)\u001b[0m\n"
      ]
     },
     "metadata": {},
     "output_type": "display_data"
    }
   ],
   "source": [
    "rich_print(hf2_t3)"
   ]
  },
  {
   "cell_type": "markdown",
   "id": "a7b3bfb9",
   "metadata": {},
   "source": [
    "#### Load sample conversation before tokenization"
   ]
  },
  {
   "cell_type": "code",
   "execution_count": 105,
   "id": "704d35b7",
   "metadata": {
    "execution": {
     "iopub.execute_input": "2024-09-10T16:00:55.404798Z",
     "iopub.status.busy": "2024-09-10T16:00:55.404568Z",
     "iopub.status.idle": "2024-09-10T16:00:55.408677Z",
     "shell.execute_reply": "2024-09-10T16:00:55.408217Z"
    }
   },
   "outputs": [
    {
     "name": "stdout",
     "output_type": "stream",
     "text": [
      "----------------------------------------------------------------------------------------------------\n",
      "Sample Dialog:\n",
      "Terry: Are you coming to the pub with us tonight?\n",
      "Doris: I can't.\n",
      "Terry: Why?\n",
      "Doris: I'm studying. I have an exam tomorrow.\n",
      "Terry: Right, you told me, I forgot. Sorry.\n",
      "Doris: It's fine :)\n",
      "Terry: OK, so I let you study then!\n",
      "Doris: Thx and have a good time!\n",
      "Terry: Thank you! Good luck tomorrow!\n",
      "Doris: Thx!\n",
      "Terry: Hi, how was the exam?\n",
      "Doris: Fine. \n",
      "Terry: Did you pass?\n",
      "Doris: YES!!!!!!\n",
      "Terry: Congratulations! \n",
      "Terry: We have to celebrate it! How about a beer or two? ;)\n",
      "Doris: Sounds perfect!...\n",
      "Terry: :) What time are you free?\n",
      "Doris: In an hour or so in fact :) And you?\n",
      "Terry: I can meet in two hours.\n",
      "Doris: Great! Usual place?\n",
      "Terry: Yes. Unless you want to try something new?\n",
      "Doris: Oh no! The last \"let's try somethign new\" was such a disaster...\n",
      "Terry: You've got a point there. \n",
      "Terry: So see you at 7:00?\n",
      "Doris: see u!\n",
      "\n",
      "----------------------------------------------------------------------------------------------------\n",
      "Baseline Summary:\n",
      "Doris will meet Terry at 7 for a couple of beers to celebrate she passed her exam. \n"
     ]
    }
   ],
   "source": [
    "example_index = 40\n",
    "\n",
    "sample_dialogue = hf2_t3[\"test\"][example_index][\"dialogue\"]\n",
    "print(\"-\" * 100)\n",
    "print(\"Sample Dialog:\")\n",
    "print(sample_dialogue)\n",
    "\n",
    "print()\n",
    "\n",
    "sample_baseline_summary = hf2_t3[\"test\"][example_index][\"summary\"]\n",
    "print(\"-\" * 100)\n",
    "print(\"Baseline Summary:\")\n",
    "print(sample_baseline_summary)"
   ]
  },
  {
   "cell_type": "code",
   "execution_count": 106,
   "id": "c3bd0623",
   "metadata": {
    "execution": {
     "iopub.execute_input": "2024-09-10T16:00:55.410860Z",
     "iopub.status.busy": "2024-09-10T16:00:55.410645Z",
     "iopub.status.idle": "2024-09-10T16:01:13.037133Z",
     "shell.execute_reply": "2024-09-10T16:01:13.036591Z"
    }
   },
   "outputs": [
    {
     "data": {
      "application/vnd.jupyter.widget-view+json": {
       "model_id": "ca02ad4c73d749aa8d2e737b25fcd03c",
       "version_major": 2,
       "version_minor": 0
      },
      "text/plain": [
       "Map:   0%|          | 0/15058 [00:00<?, ? examples/s]"
      ]
     },
     "metadata": {},
     "output_type": "display_data"
    },
    {
     "data": {
      "application/vnd.jupyter.widget-view+json": {
       "model_id": "23de964615734d138bb46f8e854f91d6",
       "version_major": 2,
       "version_minor": 0
      },
      "text/plain": [
       "Map:   0%|          | 0/655 [00:00<?, ? examples/s]"
      ]
     },
     "metadata": {},
     "output_type": "display_data"
    },
    {
     "data": {
      "application/vnd.jupyter.widget-view+json": {
       "model_id": "aa9b5513ca8e441fafab450ca890e473",
       "version_major": 2,
       "version_minor": 0
      },
      "text/plain": [
       "Map:   0%|          | 0/655 [00:00<?, ? examples/s]"
      ]
     },
     "metadata": {},
     "output_type": "display_data"
    },
    {
     "name": "stdout",
     "output_type": "stream",
     "text": [
      "CPU times: user 17.2 s, sys: 416 ms, total: 17.6 s\n",
      "Wall time: 17.6 s\n"
     ]
    }
   ],
   "source": [
    "%%time\n",
    "\n",
    "# tokenize the data batches\n",
    "def hf_tokenize_samsum_data(sample_batch, padding=\"max_length\"):\n",
    "    # generate prompts for training\n",
    "    start_prompt = \"Summarize the following conversation.\\n\\n\"\n",
    "    end_prompt = \"\\n\\nSummary: \"\n",
    "    \n",
    "    # model inputs\n",
    "    model_inputs = [start_prompt + sample + end_prompt for sample in sample_batch[\"dialogue\"]]\n",
    "    \n",
    "    # Input Conversation\n",
    "    model_inputs = init_tokenizer(\n",
    "        model_inputs, \n",
    "        max_length=max_input, \n",
    "        padding=padding, \n",
    "        truncation=True)\n",
    "        \n",
    "    # Output Summary\n",
    "    # Tokenize labels with the `text_target` argument\n",
    "    labels = init_tokenizer(\n",
    "        text_target=sample_batch[\"summary\"], \n",
    "        padding=\"max_length\", \n",
    "        max_length=max_target, \n",
    "        truncation=True)\n",
    "    \n",
    "    # replace all tokenizer.pad_token_id in the labels by -100\n",
    "    if padding == \"max_length\":\n",
    "        labels[\"input_ids\"] = [\n",
    "            [(l if l != init_tokenizer.pad_token_id else -100) for l in temp_label] \n",
    "            for temp_label in labels[\"input_ids\"]\n",
    "        ]\n",
    "    \n",
    "    model_inputs[\"labels\"] = labels[\"input_ids\"]\n",
    "    \n",
    "    return model_inputs\n",
    "    \n",
    "    \n",
    "tokenized_hf2_t3 = hf2_t3.map(hf_tokenize_samsum_data, batched=True)\n",
    "tokenized_hf2_t3 = tokenized_hf2_t3.remove_columns(['id', 'dialogue', 'summary'])"
   ]
  },
  {
   "cell_type": "code",
   "execution_count": 107,
   "id": "da952e68",
   "metadata": {
    "execution": {
     "iopub.execute_input": "2024-09-10T16:01:13.039562Z",
     "iopub.status.busy": "2024-09-10T16:01:13.039295Z",
     "iopub.status.idle": "2024-09-10T16:01:13.044613Z",
     "shell.execute_reply": "2024-09-10T16:01:13.044168Z"
    }
   },
   "outputs": [
    {
     "data": {
      "text/html": [
       "<pre style=\"white-space:pre;overflow-x:auto;line-height:normal;font-family:Menlo,'DejaVu Sans Mono',consolas,'Courier New',monospace\"><span style=\"color: #800080; text-decoration-color: #800080; font-weight: bold\">DatasetDict</span><span style=\"font-weight: bold\">({</span>\n",
       "    train: <span style=\"color: #800080; text-decoration-color: #800080; font-weight: bold\">Dataset</span><span style=\"font-weight: bold\">({</span>\n",
       "        features: <span style=\"font-weight: bold\">[</span><span style=\"color: #008000; text-decoration-color: #008000\">'input_ids'</span>, <span style=\"color: #008000; text-decoration-color: #008000\">'attention_mask'</span>, <span style=\"color: #008000; text-decoration-color: #008000\">'labels'</span><span style=\"font-weight: bold\">]</span>,\n",
       "        num_rows: <span style=\"color: #008080; text-decoration-color: #008080; font-weight: bold\">15058</span>\n",
       "    <span style=\"font-weight: bold\">})</span>\n",
       "    validation: <span style=\"color: #800080; text-decoration-color: #800080; font-weight: bold\">Dataset</span><span style=\"font-weight: bold\">({</span>\n",
       "        features: <span style=\"font-weight: bold\">[</span><span style=\"color: #008000; text-decoration-color: #008000\">'input_ids'</span>, <span style=\"color: #008000; text-decoration-color: #008000\">'attention_mask'</span>, <span style=\"color: #008000; text-decoration-color: #008000\">'labels'</span><span style=\"font-weight: bold\">]</span>,\n",
       "        num_rows: <span style=\"color: #008080; text-decoration-color: #008080; font-weight: bold\">655</span>\n",
       "    <span style=\"font-weight: bold\">})</span>\n",
       "    test: <span style=\"color: #800080; text-decoration-color: #800080; font-weight: bold\">Dataset</span><span style=\"font-weight: bold\">({</span>\n",
       "        features: <span style=\"font-weight: bold\">[</span><span style=\"color: #008000; text-decoration-color: #008000\">'input_ids'</span>, <span style=\"color: #008000; text-decoration-color: #008000\">'attention_mask'</span>, <span style=\"color: #008000; text-decoration-color: #008000\">'labels'</span><span style=\"font-weight: bold\">]</span>,\n",
       "        num_rows: <span style=\"color: #008080; text-decoration-color: #008080; font-weight: bold\">655</span>\n",
       "    <span style=\"font-weight: bold\">})</span>\n",
       "<span style=\"font-weight: bold\">})</span>\n",
       "</pre>\n"
      ],
      "text/plain": [
       "\u001b[1;35mDatasetDict\u001b[0m\u001b[1m(\u001b[0m\u001b[1m{\u001b[0m\n",
       "    train: \u001b[1;35mDataset\u001b[0m\u001b[1m(\u001b[0m\u001b[1m{\u001b[0m\n",
       "        features: \u001b[1m[\u001b[0m\u001b[32m'input_ids'\u001b[0m, \u001b[32m'attention_mask'\u001b[0m, \u001b[32m'labels'\u001b[0m\u001b[1m]\u001b[0m,\n",
       "        num_rows: \u001b[1;36m15058\u001b[0m\n",
       "    \u001b[1m}\u001b[0m\u001b[1m)\u001b[0m\n",
       "    validation: \u001b[1;35mDataset\u001b[0m\u001b[1m(\u001b[0m\u001b[1m{\u001b[0m\n",
       "        features: \u001b[1m[\u001b[0m\u001b[32m'input_ids'\u001b[0m, \u001b[32m'attention_mask'\u001b[0m, \u001b[32m'labels'\u001b[0m\u001b[1m]\u001b[0m,\n",
       "        num_rows: \u001b[1;36m655\u001b[0m\n",
       "    \u001b[1m}\u001b[0m\u001b[1m)\u001b[0m\n",
       "    test: \u001b[1;35mDataset\u001b[0m\u001b[1m(\u001b[0m\u001b[1m{\u001b[0m\n",
       "        features: \u001b[1m[\u001b[0m\u001b[32m'input_ids'\u001b[0m, \u001b[32m'attention_mask'\u001b[0m, \u001b[32m'labels'\u001b[0m\u001b[1m]\u001b[0m,\n",
       "        num_rows: \u001b[1;36m655\u001b[0m\n",
       "    \u001b[1m}\u001b[0m\u001b[1m)\u001b[0m\n",
       "\u001b[1m}\u001b[0m\u001b[1m)\u001b[0m\n"
      ]
     },
     "metadata": {},
     "output_type": "display_data"
    }
   ],
   "source": [
    "rich_print(tokenized_hf2_t3)"
   ]
  },
  {
   "cell_type": "markdown",
   "id": "924d63a4",
   "metadata": {},
   "source": [
    "#### Load sample conversation after tokenization"
   ]
  },
  {
   "cell_type": "code",
   "execution_count": 108,
   "id": "b08b507c",
   "metadata": {
    "execution": {
     "iopub.execute_input": "2024-09-10T16:01:13.046980Z",
     "iopub.status.busy": "2024-09-10T16:01:13.046759Z",
     "iopub.status.idle": "2024-09-10T16:01:13.052815Z",
     "shell.execute_reply": "2024-09-10T16:01:13.052343Z"
    }
   },
   "outputs": [
    {
     "name": "stdout",
     "output_type": "stream",
     "text": [
      "----------------------------------------------------------------------------------------------------\n",
      "Sample Dialog Length:\n",
      "1024\n",
      "\n",
      "----------------------------------------------------------------------------------------------------\n",
      "Baseline Summary Length:\n",
      "256\n"
     ]
    }
   ],
   "source": [
    "example_index = 40\n",
    "\n",
    "sample_dialogue = tokenized_hf2_t3[\"test\"][example_index][\"input_ids\"]\n",
    "print(\"-\" * 100)\n",
    "print(\"Sample Dialog Length:\")\n",
    "print(len(sample_dialogue))\n",
    "\n",
    "print()\n",
    "\n",
    "sample_baseline_summary = tokenized_hf2_t3[\"test\"][example_index][\"labels\"]\n",
    "print(\"-\" * 100)\n",
    "print(\"Baseline Summary Length:\")\n",
    "print(len(sample_baseline_summary))"
   ]
  },
  {
   "cell_type": "code",
   "execution_count": null,
   "id": "8f8e4c0c",
   "metadata": {},
   "outputs": [],
   "source": []
  },
  {
   "cell_type": "code",
   "execution_count": 109,
   "id": "75e4ef43",
   "metadata": {
    "execution": {
     "iopub.execute_input": "2024-09-10T16:01:13.055080Z",
     "iopub.status.busy": "2024-09-10T16:01:13.054863Z",
     "iopub.status.idle": "2024-09-10T16:01:13.057311Z",
     "shell.execute_reply": "2024-09-10T16:01:13.056866Z"
    }
   },
   "outputs": [],
   "source": [
    "train_sample_percentage = 1.00"
   ]
  },
  {
   "cell_type": "code",
   "execution_count": 110,
   "id": "56bd6255",
   "metadata": {
    "execution": {
     "iopub.execute_input": "2024-09-10T16:01:13.059474Z",
     "iopub.status.busy": "2024-09-10T16:01:13.059252Z",
     "iopub.status.idle": "2024-09-10T16:01:27.819394Z",
     "shell.execute_reply": "2024-09-10T16:01:27.818873Z"
    }
   },
   "outputs": [
    {
     "data": {
      "application/vnd.jupyter.widget-view+json": {
       "model_id": "6be96fc4c6384bfda5109fe5887f0494",
       "version_major": 2,
       "version_minor": 0
      },
      "text/plain": [
       "Filter:   0%|          | 0/15058 [00:00<?, ? examples/s]"
      ]
     },
     "metadata": {},
     "output_type": "display_data"
    },
    {
     "data": {
      "application/vnd.jupyter.widget-view+json": {
       "model_id": "8db305a141c04069b0a4c64822e007dd",
       "version_major": 2,
       "version_minor": 0
      },
      "text/plain": [
       "Filter:   0%|          | 0/655 [00:00<?, ? examples/s]"
      ]
     },
     "metadata": {},
     "output_type": "display_data"
    },
    {
     "data": {
      "application/vnd.jupyter.widget-view+json": {
       "model_id": "ce2afb4ab466445f84880d83f2474037",
       "version_major": 2,
       "version_minor": 0
      },
      "text/plain": [
       "Filter:   0%|          | 0/655 [00:00<?, ? examples/s]"
      ]
     },
     "metadata": {},
     "output_type": "display_data"
    },
    {
     "name": "stdout",
     "output_type": "stream",
     "text": [
      "CPU times: user 14.7 s, sys: 56.2 ms, total: 14.8 s\n",
      "Wall time: 14.8 s\n"
     ]
    }
   ],
   "source": [
    "%%time\n",
    "\n",
    "# sample the dataset for training\n",
    "skip_inds = int(1 / train_sample_percentage)\n",
    "sample_tokenized_hf2_dataset = tokenized_hf2_t3.filter(\n",
    "    lambda example, indice: indice % skip_inds == 0, with_indices=True)"
   ]
  },
  {
   "cell_type": "code",
   "execution_count": 111,
   "id": "7d849043",
   "metadata": {
    "execution": {
     "iopub.execute_input": "2024-09-10T16:01:27.821778Z",
     "iopub.status.busy": "2024-09-10T16:01:27.821516Z",
     "iopub.status.idle": "2024-09-10T16:01:27.826813Z",
     "shell.execute_reply": "2024-09-10T16:01:27.826365Z"
    }
   },
   "outputs": [
    {
     "data": {
      "text/html": [
       "<pre style=\"white-space:pre;overflow-x:auto;line-height:normal;font-family:Menlo,'DejaVu Sans Mono',consolas,'Courier New',monospace\"><span style=\"color: #800080; text-decoration-color: #800080; font-weight: bold\">DatasetDict</span><span style=\"font-weight: bold\">({</span>\n",
       "    train: <span style=\"color: #800080; text-decoration-color: #800080; font-weight: bold\">Dataset</span><span style=\"font-weight: bold\">({</span>\n",
       "        features: <span style=\"font-weight: bold\">[</span><span style=\"color: #008000; text-decoration-color: #008000\">'input_ids'</span>, <span style=\"color: #008000; text-decoration-color: #008000\">'attention_mask'</span>, <span style=\"color: #008000; text-decoration-color: #008000\">'labels'</span><span style=\"font-weight: bold\">]</span>,\n",
       "        num_rows: <span style=\"color: #008080; text-decoration-color: #008080; font-weight: bold\">15058</span>\n",
       "    <span style=\"font-weight: bold\">})</span>\n",
       "    validation: <span style=\"color: #800080; text-decoration-color: #800080; font-weight: bold\">Dataset</span><span style=\"font-weight: bold\">({</span>\n",
       "        features: <span style=\"font-weight: bold\">[</span><span style=\"color: #008000; text-decoration-color: #008000\">'input_ids'</span>, <span style=\"color: #008000; text-decoration-color: #008000\">'attention_mask'</span>, <span style=\"color: #008000; text-decoration-color: #008000\">'labels'</span><span style=\"font-weight: bold\">]</span>,\n",
       "        num_rows: <span style=\"color: #008080; text-decoration-color: #008080; font-weight: bold\">655</span>\n",
       "    <span style=\"font-weight: bold\">})</span>\n",
       "    test: <span style=\"color: #800080; text-decoration-color: #800080; font-weight: bold\">Dataset</span><span style=\"font-weight: bold\">({</span>\n",
       "        features: <span style=\"font-weight: bold\">[</span><span style=\"color: #008000; text-decoration-color: #008000\">'input_ids'</span>, <span style=\"color: #008000; text-decoration-color: #008000\">'attention_mask'</span>, <span style=\"color: #008000; text-decoration-color: #008000\">'labels'</span><span style=\"font-weight: bold\">]</span>,\n",
       "        num_rows: <span style=\"color: #008080; text-decoration-color: #008080; font-weight: bold\">655</span>\n",
       "    <span style=\"font-weight: bold\">})</span>\n",
       "<span style=\"font-weight: bold\">})</span>\n",
       "</pre>\n"
      ],
      "text/plain": [
       "\u001b[1;35mDatasetDict\u001b[0m\u001b[1m(\u001b[0m\u001b[1m{\u001b[0m\n",
       "    train: \u001b[1;35mDataset\u001b[0m\u001b[1m(\u001b[0m\u001b[1m{\u001b[0m\n",
       "        features: \u001b[1m[\u001b[0m\u001b[32m'input_ids'\u001b[0m, \u001b[32m'attention_mask'\u001b[0m, \u001b[32m'labels'\u001b[0m\u001b[1m]\u001b[0m,\n",
       "        num_rows: \u001b[1;36m15058\u001b[0m\n",
       "    \u001b[1m}\u001b[0m\u001b[1m)\u001b[0m\n",
       "    validation: \u001b[1;35mDataset\u001b[0m\u001b[1m(\u001b[0m\u001b[1m{\u001b[0m\n",
       "        features: \u001b[1m[\u001b[0m\u001b[32m'input_ids'\u001b[0m, \u001b[32m'attention_mask'\u001b[0m, \u001b[32m'labels'\u001b[0m\u001b[1m]\u001b[0m,\n",
       "        num_rows: \u001b[1;36m655\u001b[0m\n",
       "    \u001b[1m}\u001b[0m\u001b[1m)\u001b[0m\n",
       "    test: \u001b[1;35mDataset\u001b[0m\u001b[1m(\u001b[0m\u001b[1m{\u001b[0m\n",
       "        features: \u001b[1m[\u001b[0m\u001b[32m'input_ids'\u001b[0m, \u001b[32m'attention_mask'\u001b[0m, \u001b[32m'labels'\u001b[0m\u001b[1m]\u001b[0m,\n",
       "        num_rows: \u001b[1;36m655\u001b[0m\n",
       "    \u001b[1m}\u001b[0m\u001b[1m)\u001b[0m\n",
       "\u001b[1m}\u001b[0m\u001b[1m)\u001b[0m\n"
      ]
     },
     "metadata": {},
     "output_type": "display_data"
    }
   ],
   "source": [
    "rich_print(sample_tokenized_hf2_dataset)"
   ]
  },
  {
   "cell_type": "code",
   "execution_count": null,
   "id": "db654ed8",
   "metadata": {},
   "outputs": [],
   "source": []
  },
  {
   "cell_type": "markdown",
   "id": "dff3b3eb",
   "metadata": {},
   "source": [
    "---\n",
    "\n",
    "# Merge datasets: 'DialogSum' and 'SAMSum'\n",
    "\n",
    "---"
   ]
  },
  {
   "cell_type": "code",
   "execution_count": 112,
   "id": "210986a3",
   "metadata": {
    "execution": {
     "iopub.execute_input": "2024-09-10T16:01:27.829207Z",
     "iopub.status.busy": "2024-09-10T16:01:27.828980Z",
     "iopub.status.idle": "2024-09-10T16:01:27.833960Z",
     "shell.execute_reply": "2024-09-10T16:01:27.833525Z"
    }
   },
   "outputs": [
    {
     "data": {
      "text/html": [
       "<pre style=\"white-space:pre;overflow-x:auto;line-height:normal;font-family:Menlo,'DejaVu Sans Mono',consolas,'Courier New',monospace\"><span style=\"color: #800080; text-decoration-color: #800080; font-weight: bold\">DatasetDict</span><span style=\"font-weight: bold\">({</span>\n",
       "    train: <span style=\"color: #800080; text-decoration-color: #800080; font-weight: bold\">Dataset</span><span style=\"font-weight: bold\">({</span>\n",
       "        features: <span style=\"font-weight: bold\">[</span><span style=\"color: #008000; text-decoration-color: #008000\">'input_ids'</span>, <span style=\"color: #008000; text-decoration-color: #008000\">'attention_mask'</span>, <span style=\"color: #008000; text-decoration-color: #008000\">'labels'</span><span style=\"font-weight: bold\">]</span>,\n",
       "        num_rows: <span style=\"color: #008080; text-decoration-color: #008080; font-weight: bold\">13303</span>\n",
       "    <span style=\"font-weight: bold\">})</span>\n",
       "    validation: <span style=\"color: #800080; text-decoration-color: #800080; font-weight: bold\">Dataset</span><span style=\"font-weight: bold\">({</span>\n",
       "        features: <span style=\"font-weight: bold\">[</span><span style=\"color: #008000; text-decoration-color: #008000\">'input_ids'</span>, <span style=\"color: #008000; text-decoration-color: #008000\">'attention_mask'</span>, <span style=\"color: #008000; text-decoration-color: #008000\">'labels'</span><span style=\"font-weight: bold\">]</span>,\n",
       "        num_rows: <span style=\"color: #008080; text-decoration-color: #008080; font-weight: bold\">578</span>\n",
       "    <span style=\"font-weight: bold\">})</span>\n",
       "    test: <span style=\"color: #800080; text-decoration-color: #800080; font-weight: bold\">Dataset</span><span style=\"font-weight: bold\">({</span>\n",
       "        features: <span style=\"font-weight: bold\">[</span><span style=\"color: #008000; text-decoration-color: #008000\">'input_ids'</span>, <span style=\"color: #008000; text-decoration-color: #008000\">'attention_mask'</span>, <span style=\"color: #008000; text-decoration-color: #008000\">'labels'</span><span style=\"font-weight: bold\">]</span>,\n",
       "        num_rows: <span style=\"color: #008080; text-decoration-color: #008080; font-weight: bold\">579</span>\n",
       "    <span style=\"font-weight: bold\">})</span>\n",
       "<span style=\"font-weight: bold\">})</span>\n",
       "</pre>\n"
      ],
      "text/plain": [
       "\u001b[1;35mDatasetDict\u001b[0m\u001b[1m(\u001b[0m\u001b[1m{\u001b[0m\n",
       "    train: \u001b[1;35mDataset\u001b[0m\u001b[1m(\u001b[0m\u001b[1m{\u001b[0m\n",
       "        features: \u001b[1m[\u001b[0m\u001b[32m'input_ids'\u001b[0m, \u001b[32m'attention_mask'\u001b[0m, \u001b[32m'labels'\u001b[0m\u001b[1m]\u001b[0m,\n",
       "        num_rows: \u001b[1;36m13303\u001b[0m\n",
       "    \u001b[1m}\u001b[0m\u001b[1m)\u001b[0m\n",
       "    validation: \u001b[1;35mDataset\u001b[0m\u001b[1m(\u001b[0m\u001b[1m{\u001b[0m\n",
       "        features: \u001b[1m[\u001b[0m\u001b[32m'input_ids'\u001b[0m, \u001b[32m'attention_mask'\u001b[0m, \u001b[32m'labels'\u001b[0m\u001b[1m]\u001b[0m,\n",
       "        num_rows: \u001b[1;36m578\u001b[0m\n",
       "    \u001b[1m}\u001b[0m\u001b[1m)\u001b[0m\n",
       "    test: \u001b[1;35mDataset\u001b[0m\u001b[1m(\u001b[0m\u001b[1m{\u001b[0m\n",
       "        features: \u001b[1m[\u001b[0m\u001b[32m'input_ids'\u001b[0m, \u001b[32m'attention_mask'\u001b[0m, \u001b[32m'labels'\u001b[0m\u001b[1m]\u001b[0m,\n",
       "        num_rows: \u001b[1;36m579\u001b[0m\n",
       "    \u001b[1m}\u001b[0m\u001b[1m)\u001b[0m\n",
       "\u001b[1m}\u001b[0m\u001b[1m)\u001b[0m\n"
      ]
     },
     "metadata": {},
     "output_type": "display_data"
    }
   ],
   "source": [
    "# DialogSum\n",
    "rich_print(sample_tokenized_hf1_dataset)"
   ]
  },
  {
   "cell_type": "code",
   "execution_count": 113,
   "id": "0697f87b",
   "metadata": {
    "execution": {
     "iopub.execute_input": "2024-09-10T16:01:27.836123Z",
     "iopub.status.busy": "2024-09-10T16:01:27.835909Z",
     "iopub.status.idle": "2024-09-10T16:01:27.840626Z",
     "shell.execute_reply": "2024-09-10T16:01:27.840194Z"
    }
   },
   "outputs": [
    {
     "data": {
      "text/html": [
       "<pre style=\"white-space:pre;overflow-x:auto;line-height:normal;font-family:Menlo,'DejaVu Sans Mono',consolas,'Courier New',monospace\"><span style=\"color: #800080; text-decoration-color: #800080; font-weight: bold\">DatasetDict</span><span style=\"font-weight: bold\">({</span>\n",
       "    train: <span style=\"color: #800080; text-decoration-color: #800080; font-weight: bold\">Dataset</span><span style=\"font-weight: bold\">({</span>\n",
       "        features: <span style=\"font-weight: bold\">[</span><span style=\"color: #008000; text-decoration-color: #008000\">'input_ids'</span>, <span style=\"color: #008000; text-decoration-color: #008000\">'attention_mask'</span>, <span style=\"color: #008000; text-decoration-color: #008000\">'labels'</span><span style=\"font-weight: bold\">]</span>,\n",
       "        num_rows: <span style=\"color: #008080; text-decoration-color: #008080; font-weight: bold\">15058</span>\n",
       "    <span style=\"font-weight: bold\">})</span>\n",
       "    validation: <span style=\"color: #800080; text-decoration-color: #800080; font-weight: bold\">Dataset</span><span style=\"font-weight: bold\">({</span>\n",
       "        features: <span style=\"font-weight: bold\">[</span><span style=\"color: #008000; text-decoration-color: #008000\">'input_ids'</span>, <span style=\"color: #008000; text-decoration-color: #008000\">'attention_mask'</span>, <span style=\"color: #008000; text-decoration-color: #008000\">'labels'</span><span style=\"font-weight: bold\">]</span>,\n",
       "        num_rows: <span style=\"color: #008080; text-decoration-color: #008080; font-weight: bold\">655</span>\n",
       "    <span style=\"font-weight: bold\">})</span>\n",
       "    test: <span style=\"color: #800080; text-decoration-color: #800080; font-weight: bold\">Dataset</span><span style=\"font-weight: bold\">({</span>\n",
       "        features: <span style=\"font-weight: bold\">[</span><span style=\"color: #008000; text-decoration-color: #008000\">'input_ids'</span>, <span style=\"color: #008000; text-decoration-color: #008000\">'attention_mask'</span>, <span style=\"color: #008000; text-decoration-color: #008000\">'labels'</span><span style=\"font-weight: bold\">]</span>,\n",
       "        num_rows: <span style=\"color: #008080; text-decoration-color: #008080; font-weight: bold\">655</span>\n",
       "    <span style=\"font-weight: bold\">})</span>\n",
       "<span style=\"font-weight: bold\">})</span>\n",
       "</pre>\n"
      ],
      "text/plain": [
       "\u001b[1;35mDatasetDict\u001b[0m\u001b[1m(\u001b[0m\u001b[1m{\u001b[0m\n",
       "    train: \u001b[1;35mDataset\u001b[0m\u001b[1m(\u001b[0m\u001b[1m{\u001b[0m\n",
       "        features: \u001b[1m[\u001b[0m\u001b[32m'input_ids'\u001b[0m, \u001b[32m'attention_mask'\u001b[0m, \u001b[32m'labels'\u001b[0m\u001b[1m]\u001b[0m,\n",
       "        num_rows: \u001b[1;36m15058\u001b[0m\n",
       "    \u001b[1m}\u001b[0m\u001b[1m)\u001b[0m\n",
       "    validation: \u001b[1;35mDataset\u001b[0m\u001b[1m(\u001b[0m\u001b[1m{\u001b[0m\n",
       "        features: \u001b[1m[\u001b[0m\u001b[32m'input_ids'\u001b[0m, \u001b[32m'attention_mask'\u001b[0m, \u001b[32m'labels'\u001b[0m\u001b[1m]\u001b[0m,\n",
       "        num_rows: \u001b[1;36m655\u001b[0m\n",
       "    \u001b[1m}\u001b[0m\u001b[1m)\u001b[0m\n",
       "    test: \u001b[1;35mDataset\u001b[0m\u001b[1m(\u001b[0m\u001b[1m{\u001b[0m\n",
       "        features: \u001b[1m[\u001b[0m\u001b[32m'input_ids'\u001b[0m, \u001b[32m'attention_mask'\u001b[0m, \u001b[32m'labels'\u001b[0m\u001b[1m]\u001b[0m,\n",
       "        num_rows: \u001b[1;36m655\u001b[0m\n",
       "    \u001b[1m}\u001b[0m\u001b[1m)\u001b[0m\n",
       "\u001b[1m}\u001b[0m\u001b[1m)\u001b[0m\n"
      ]
     },
     "metadata": {},
     "output_type": "display_data"
    }
   ],
   "source": [
    "# SAMSum\n",
    "rich_print(sample_tokenized_hf2_dataset)"
   ]
  },
  {
   "cell_type": "code",
   "execution_count": 114,
   "id": "60438e27",
   "metadata": {
    "execution": {
     "iopub.execute_input": "2024-09-10T16:01:27.842802Z",
     "iopub.status.busy": "2024-09-10T16:01:27.842582Z",
     "iopub.status.idle": "2024-09-10T16:01:27.851571Z",
     "shell.execute_reply": "2024-09-10T16:01:27.851128Z"
    }
   },
   "outputs": [
    {
     "name": "stderr",
     "output_type": "stream",
     "text": [
      "/home/ec2-user/anaconda3/envs/pytorch_p310/lib/python3.10/site-packages/datasets/table.py:1395: FutureWarning: promote has been superseded by promote_options='default'.\n",
      "  block_group = [InMemoryTable(cls._concat_blocks(list(block_group), axis=axis))]\n",
      "/home/ec2-user/anaconda3/envs/pytorch_p310/lib/python3.10/site-packages/datasets/table.py:1421: FutureWarning: promote has been superseded by promote_options='default'.\n",
      "  table = cls._concat_blocks(blocks, axis=0)\n"
     ]
    },
    {
     "data": {
      "text/html": [
       "<pre style=\"white-space:pre;overflow-x:auto;line-height:normal;font-family:Menlo,'DejaVu Sans Mono',consolas,'Courier New',monospace\"><span style=\"color: #800080; text-decoration-color: #800080; font-weight: bold\">Dataset</span><span style=\"font-weight: bold\">({</span>\n",
       "    features: <span style=\"font-weight: bold\">[</span><span style=\"color: #008000; text-decoration-color: #008000\">'input_ids'</span>, <span style=\"color: #008000; text-decoration-color: #008000\">'attention_mask'</span>, <span style=\"color: #008000; text-decoration-color: #008000\">'labels'</span><span style=\"font-weight: bold\">]</span>,\n",
       "    num_rows: <span style=\"color: #008080; text-decoration-color: #008080; font-weight: bold\">28361</span>\n",
       "<span style=\"font-weight: bold\">})</span>\n",
       "</pre>\n"
      ],
      "text/plain": [
       "\u001b[1;35mDataset\u001b[0m\u001b[1m(\u001b[0m\u001b[1m{\u001b[0m\n",
       "    features: \u001b[1m[\u001b[0m\u001b[32m'input_ids'\u001b[0m, \u001b[32m'attention_mask'\u001b[0m, \u001b[32m'labels'\u001b[0m\u001b[1m]\u001b[0m,\n",
       "    num_rows: \u001b[1;36m28361\u001b[0m\n",
       "\u001b[1m}\u001b[0m\u001b[1m)\u001b[0m\n"
      ]
     },
     "metadata": {},
     "output_type": "display_data"
    }
   ],
   "source": [
    "# Merge / Concatenate train sets from both datasets\n",
    "sample_tokenized_hf_dataset_train = concatenate_datasets([sample_tokenized_hf1_dataset[\"train\"]\n",
    "                                                    , sample_tokenized_hf2_dataset[\"train\"]\n",
    "                                                   ], axis=0)\n",
    "\n",
    "sample_tokenized_hf_dataset_train = sample_tokenized_hf_dataset_train.shuffle(seed=var_seed)\n",
    "\n",
    "rich_print(sample_tokenized_hf_dataset_train)"
   ]
  },
  {
   "cell_type": "code",
   "execution_count": 115,
   "id": "b12d440c",
   "metadata": {
    "execution": {
     "iopub.execute_input": "2024-09-10T16:01:27.853670Z",
     "iopub.status.busy": "2024-09-10T16:01:27.853456Z",
     "iopub.status.idle": "2024-09-10T16:01:27.861138Z",
     "shell.execute_reply": "2024-09-10T16:01:27.860685Z"
    }
   },
   "outputs": [
    {
     "data": {
      "text/html": [
       "<pre style=\"white-space:pre;overflow-x:auto;line-height:normal;font-family:Menlo,'DejaVu Sans Mono',consolas,'Courier New',monospace\"><span style=\"color: #800080; text-decoration-color: #800080; font-weight: bold\">Dataset</span><span style=\"font-weight: bold\">({</span>\n",
       "    features: <span style=\"font-weight: bold\">[</span><span style=\"color: #008000; text-decoration-color: #008000\">'input_ids'</span>, <span style=\"color: #008000; text-decoration-color: #008000\">'attention_mask'</span>, <span style=\"color: #008000; text-decoration-color: #008000\">'labels'</span><span style=\"font-weight: bold\">]</span>,\n",
       "    num_rows: <span style=\"color: #008080; text-decoration-color: #008080; font-weight: bold\">1233</span>\n",
       "<span style=\"font-weight: bold\">})</span>\n",
       "</pre>\n"
      ],
      "text/plain": [
       "\u001b[1;35mDataset\u001b[0m\u001b[1m(\u001b[0m\u001b[1m{\u001b[0m\n",
       "    features: \u001b[1m[\u001b[0m\u001b[32m'input_ids'\u001b[0m, \u001b[32m'attention_mask'\u001b[0m, \u001b[32m'labels'\u001b[0m\u001b[1m]\u001b[0m,\n",
       "    num_rows: \u001b[1;36m1233\u001b[0m\n",
       "\u001b[1m}\u001b[0m\u001b[1m)\u001b[0m\n"
      ]
     },
     "metadata": {},
     "output_type": "display_data"
    }
   ],
   "source": [
    "# Merge / Concatenate validation sets from both datasets\n",
    "sample_tokenized_hf_dataset_valid = concatenate_datasets([sample_tokenized_hf1_dataset[\"validation\"]\n",
    "                                                    , sample_tokenized_hf2_dataset[\"validation\"]\n",
    "                                                   ], axis=0)\n",
    "\n",
    "sample_tokenized_hf_dataset_valid = sample_tokenized_hf_dataset_valid.shuffle(seed=var_seed)\n",
    "\n",
    "rich_print(sample_tokenized_hf_dataset_valid)"
   ]
  },
  {
   "cell_type": "code",
   "execution_count": 116,
   "id": "ed0a38dd",
   "metadata": {
    "execution": {
     "iopub.execute_input": "2024-09-10T16:01:27.863253Z",
     "iopub.status.busy": "2024-09-10T16:01:27.863039Z",
     "iopub.status.idle": "2024-09-10T16:01:27.871792Z",
     "shell.execute_reply": "2024-09-10T16:01:27.871349Z"
    }
   },
   "outputs": [
    {
     "data": {
      "text/html": [
       "<pre style=\"white-space:pre;overflow-x:auto;line-height:normal;font-family:Menlo,'DejaVu Sans Mono',consolas,'Courier New',monospace\"><span style=\"color: #800080; text-decoration-color: #800080; font-weight: bold\">Dataset</span><span style=\"font-weight: bold\">({</span>\n",
       "    features: <span style=\"font-weight: bold\">[</span><span style=\"color: #008000; text-decoration-color: #008000\">'input_ids'</span>, <span style=\"color: #008000; text-decoration-color: #008000\">'attention_mask'</span>, <span style=\"color: #008000; text-decoration-color: #008000\">'labels'</span><span style=\"font-weight: bold\">]</span>,\n",
       "    num_rows: <span style=\"color: #008080; text-decoration-color: #008080; font-weight: bold\">1234</span>\n",
       "<span style=\"font-weight: bold\">})</span>\n",
       "</pre>\n"
      ],
      "text/plain": [
       "\u001b[1;35mDataset\u001b[0m\u001b[1m(\u001b[0m\u001b[1m{\u001b[0m\n",
       "    features: \u001b[1m[\u001b[0m\u001b[32m'input_ids'\u001b[0m, \u001b[32m'attention_mask'\u001b[0m, \u001b[32m'labels'\u001b[0m\u001b[1m]\u001b[0m,\n",
       "    num_rows: \u001b[1;36m1234\u001b[0m\n",
       "\u001b[1m}\u001b[0m\u001b[1m)\u001b[0m\n"
      ]
     },
     "metadata": {},
     "output_type": "display_data"
    }
   ],
   "source": [
    "# Merge / Concatenate test sets from both datasets\n",
    "sample_tokenized_hf_dataset_test = concatenate_datasets([sample_tokenized_hf1_dataset[\"test\"]\n",
    "                                                    , sample_tokenized_hf2_dataset[\"test\"]\n",
    "                                                   ], axis=0)\n",
    "\n",
    "sample_tokenized_hf_dataset_test = sample_tokenized_hf_dataset_test.shuffle(seed=var_seed)\n",
    "\n",
    "rich_print(sample_tokenized_hf_dataset_test)"
   ]
  },
  {
   "cell_type": "markdown",
   "id": "b496cd48",
   "metadata": {},
   "source": [
    "#### Prepare the final Dataset Dictionary for train/validation/test sets"
   ]
  },
  {
   "cell_type": "code",
   "execution_count": 117,
   "id": "b52292af",
   "metadata": {
    "execution": {
     "iopub.execute_input": "2024-09-10T16:01:27.873952Z",
     "iopub.status.busy": "2024-09-10T16:01:27.873736Z",
     "iopub.status.idle": "2024-09-10T16:01:27.882357Z",
     "shell.execute_reply": "2024-09-10T16:01:27.881870Z"
    }
   },
   "outputs": [
    {
     "name": "stdout",
     "output_type": "stream",
     "text": [
      "CPU times: user 5.75 ms, sys: 0 ns, total: 5.75 ms\n",
      "Wall time: 5.31 ms\n"
     ]
    }
   ],
   "source": [
    "%%time\n",
    "\n",
    "sample_tokenized_hf_dataset = datasets.DatasetDict({\"train\": sample_tokenized_hf_dataset_train\n",
    "                                                    , \"validation\": sample_tokenized_hf_dataset_valid\n",
    "                                                    , \"test\": sample_tokenized_hf_dataset_test})\n",
    "\n",
    "# shuffle\n",
    "sample_tokenized_hf_dataset = sample_tokenized_hf_dataset.shuffle(seed=var_seed)"
   ]
  },
  {
   "cell_type": "code",
   "execution_count": 118,
   "id": "5813470d",
   "metadata": {
    "execution": {
     "iopub.execute_input": "2024-09-10T16:01:27.884448Z",
     "iopub.status.busy": "2024-09-10T16:01:27.884231Z",
     "iopub.status.idle": "2024-09-10T16:01:27.889041Z",
     "shell.execute_reply": "2024-09-10T16:01:27.888588Z"
    }
   },
   "outputs": [
    {
     "data": {
      "text/html": [
       "<pre style=\"white-space:pre;overflow-x:auto;line-height:normal;font-family:Menlo,'DejaVu Sans Mono',consolas,'Courier New',monospace\"><span style=\"color: #800080; text-decoration-color: #800080; font-weight: bold\">DatasetDict</span><span style=\"font-weight: bold\">({</span>\n",
       "    train: <span style=\"color: #800080; text-decoration-color: #800080; font-weight: bold\">Dataset</span><span style=\"font-weight: bold\">({</span>\n",
       "        features: <span style=\"font-weight: bold\">[</span><span style=\"color: #008000; text-decoration-color: #008000\">'input_ids'</span>, <span style=\"color: #008000; text-decoration-color: #008000\">'attention_mask'</span>, <span style=\"color: #008000; text-decoration-color: #008000\">'labels'</span><span style=\"font-weight: bold\">]</span>,\n",
       "        num_rows: <span style=\"color: #008080; text-decoration-color: #008080; font-weight: bold\">28361</span>\n",
       "    <span style=\"font-weight: bold\">})</span>\n",
       "    validation: <span style=\"color: #800080; text-decoration-color: #800080; font-weight: bold\">Dataset</span><span style=\"font-weight: bold\">({</span>\n",
       "        features: <span style=\"font-weight: bold\">[</span><span style=\"color: #008000; text-decoration-color: #008000\">'input_ids'</span>, <span style=\"color: #008000; text-decoration-color: #008000\">'attention_mask'</span>, <span style=\"color: #008000; text-decoration-color: #008000\">'labels'</span><span style=\"font-weight: bold\">]</span>,\n",
       "        num_rows: <span style=\"color: #008080; text-decoration-color: #008080; font-weight: bold\">1233</span>\n",
       "    <span style=\"font-weight: bold\">})</span>\n",
       "    test: <span style=\"color: #800080; text-decoration-color: #800080; font-weight: bold\">Dataset</span><span style=\"font-weight: bold\">({</span>\n",
       "        features: <span style=\"font-weight: bold\">[</span><span style=\"color: #008000; text-decoration-color: #008000\">'input_ids'</span>, <span style=\"color: #008000; text-decoration-color: #008000\">'attention_mask'</span>, <span style=\"color: #008000; text-decoration-color: #008000\">'labels'</span><span style=\"font-weight: bold\">]</span>,\n",
       "        num_rows: <span style=\"color: #008080; text-decoration-color: #008080; font-weight: bold\">1234</span>\n",
       "    <span style=\"font-weight: bold\">})</span>\n",
       "<span style=\"font-weight: bold\">})</span>\n",
       "</pre>\n"
      ],
      "text/plain": [
       "\u001b[1;35mDatasetDict\u001b[0m\u001b[1m(\u001b[0m\u001b[1m{\u001b[0m\n",
       "    train: \u001b[1;35mDataset\u001b[0m\u001b[1m(\u001b[0m\u001b[1m{\u001b[0m\n",
       "        features: \u001b[1m[\u001b[0m\u001b[32m'input_ids'\u001b[0m, \u001b[32m'attention_mask'\u001b[0m, \u001b[32m'labels'\u001b[0m\u001b[1m]\u001b[0m,\n",
       "        num_rows: \u001b[1;36m28361\u001b[0m\n",
       "    \u001b[1m}\u001b[0m\u001b[1m)\u001b[0m\n",
       "    validation: \u001b[1;35mDataset\u001b[0m\u001b[1m(\u001b[0m\u001b[1m{\u001b[0m\n",
       "        features: \u001b[1m[\u001b[0m\u001b[32m'input_ids'\u001b[0m, \u001b[32m'attention_mask'\u001b[0m, \u001b[32m'labels'\u001b[0m\u001b[1m]\u001b[0m,\n",
       "        num_rows: \u001b[1;36m1233\u001b[0m\n",
       "    \u001b[1m}\u001b[0m\u001b[1m)\u001b[0m\n",
       "    test: \u001b[1;35mDataset\u001b[0m\u001b[1m(\u001b[0m\u001b[1m{\u001b[0m\n",
       "        features: \u001b[1m[\u001b[0m\u001b[32m'input_ids'\u001b[0m, \u001b[32m'attention_mask'\u001b[0m, \u001b[32m'labels'\u001b[0m\u001b[1m]\u001b[0m,\n",
       "        num_rows: \u001b[1;36m1234\u001b[0m\n",
       "    \u001b[1m}\u001b[0m\u001b[1m)\u001b[0m\n",
       "\u001b[1m}\u001b[0m\u001b[1m)\u001b[0m\n"
      ]
     },
     "metadata": {},
     "output_type": "display_data"
    }
   ],
   "source": [
    "rich_print(sample_tokenized_hf_dataset)"
   ]
  },
  {
   "cell_type": "code",
   "execution_count": null,
   "id": "c75a929f",
   "metadata": {},
   "outputs": [],
   "source": []
  },
  {
   "cell_type": "markdown",
   "id": "15cdc284",
   "metadata": {},
   "source": [
    "---\n",
    "\n",
    "# Model Fine-tuning\n",
    "\n",
    "---"
   ]
  },
  {
   "cell_type": "code",
   "execution_count": 119,
   "id": "991d8f1d",
   "metadata": {
    "execution": {
     "iopub.execute_input": "2024-09-10T16:01:27.891299Z",
     "iopub.status.busy": "2024-09-10T16:01:27.891085Z",
     "iopub.status.idle": "2024-09-10T16:01:27.893839Z",
     "shell.execute_reply": "2024-09-10T16:01:27.893389Z"
    }
   },
   "outputs": [],
   "source": [
    "# model parameters\n",
    "epochs = 5\n",
    "learning_rate = 2e-5\n",
    "weight_decay = 0.01\n",
    "train_batch_size = 4\n",
    "valid_batch_size = 4\n",
    "test_batch_size = 4\n",
    "batch_size = 1"
   ]
  },
  {
   "cell_type": "code",
   "execution_count": 120,
   "id": "c45cc286",
   "metadata": {
    "execution": {
     "iopub.execute_input": "2024-09-10T16:01:27.896004Z",
     "iopub.status.busy": "2024-09-10T16:01:27.895791Z",
     "iopub.status.idle": "2024-09-10T16:01:27.898693Z",
     "shell.execute_reply": "2024-09-10T16:01:27.898224Z"
    }
   },
   "outputs": [],
   "source": [
    "# ignore tokenizer pad token in the loss\n",
    "label_pad_token_id = -100\n",
    "\n",
    "data_collator = transformers.DataCollatorForSeq2Seq(\n",
    "    init_tokenizer, \n",
    "    model=init_model,\n",
    "    label_pad_token_id=label_pad_token_id,\n",
    "    # pad_to_multiple_of=8\n",
    ")"
   ]
  },
  {
   "cell_type": "code",
   "execution_count": null,
   "id": "a6cdf572",
   "metadata": {},
   "outputs": [],
   "source": []
  },
  {
   "cell_type": "code",
   "execution_count": 121,
   "id": "7018a7fa",
   "metadata": {
    "execution": {
     "iopub.execute_input": "2024-09-10T16:01:27.900890Z",
     "iopub.status.busy": "2024-09-10T16:01:27.900665Z",
     "iopub.status.idle": "2024-09-10T16:01:27.911605Z",
     "shell.execute_reply": "2024-09-10T16:01:27.911143Z"
    }
   },
   "outputs": [],
   "source": [
    "from transformers import Trainer, TrainingArguments\n",
    "\n",
    "training_args = TrainingArguments(\n",
    "    output_dir=model_save_local_dir + \"/checkpoints\",\n",
    "    overwrite_output_dir=True,\n",
    "    # fp16=True,\n",
    "    logging_strategy=\"epoch\",\n",
    "    evaluation_strategy=\"epoch\",\n",
    "    save_strategy=\"epoch\",\n",
    "    learning_rate=learning_rate,\n",
    "    num_train_epochs=epochs,\n",
    "    per_device_train_batch_size=train_batch_size,\n",
    "    per_device_eval_batch_size=valid_batch_size,\n",
    "    weight_decay=weight_decay, \n",
    "    report_to=\"tensorboard\"\n",
    ")"
   ]
  },
  {
   "cell_type": "code",
   "execution_count": 122,
   "id": "c6e78c45",
   "metadata": {
    "execution": {
     "iopub.execute_input": "2024-09-10T16:01:27.913719Z",
     "iopub.status.busy": "2024-09-10T16:01:27.913500Z",
     "iopub.status.idle": "2024-09-10T16:01:27.922953Z",
     "shell.execute_reply": "2024-09-10T16:01:27.922491Z"
    }
   },
   "outputs": [],
   "source": [
    "trainer = Trainer(\n",
    "    model=init_model,\n",
    "    tokenizer=init_tokenizer,\n",
    "    args=training_args,\n",
    "    train_dataset=sample_tokenized_hf_dataset[\"train\"],\n",
    "    eval_dataset=sample_tokenized_hf_dataset[\"validation\"],\n",
    "    data_collator=data_collator\n",
    ")"
   ]
  },
  {
   "cell_type": "code",
   "execution_count": 123,
   "id": "5281577f",
   "metadata": {
    "execution": {
     "iopub.execute_input": "2024-09-10T16:01:27.925055Z",
     "iopub.status.busy": "2024-09-10T16:01:27.924829Z",
     "iopub.status.idle": "2024-09-10T16:01:27.929446Z",
     "shell.execute_reply": "2024-09-10T16:01:27.928985Z"
    }
   },
   "outputs": [
    {
     "name": "stdout",
     "output_type": "stream",
     "text": [
      "Memory Requirement: 1.63 GB\n"
     ]
    }
   ],
   "source": [
    "print(f\"Memory Requirement: {np.round(init_model.get_memory_footprint() / 1e9, 2)} GB\")"
   ]
  },
  {
   "cell_type": "code",
   "execution_count": 124,
   "id": "627aa4da",
   "metadata": {
    "execution": {
     "iopub.execute_input": "2024-09-10T16:01:27.931601Z",
     "iopub.status.busy": "2024-09-10T16:01:27.931386Z",
     "iopub.status.idle": "2024-09-10T16:01:27.935454Z",
     "shell.execute_reply": "2024-09-10T16:01:27.934996Z"
    }
   },
   "outputs": [
    {
     "name": "stdout",
     "output_type": "stream",
     "text": [
      "Model Size: 406.3 Million paramters\n"
     ]
    }
   ],
   "source": [
    "print(f\"Model Size: {np.round(init_model.num_parameters() / 1e6, 1)} Million paramters\")"
   ]
  },
  {
   "cell_type": "code",
   "execution_count": 125,
   "id": "4de8a8d7",
   "metadata": {
    "execution": {
     "iopub.execute_input": "2024-09-10T16:01:27.937620Z",
     "iopub.status.busy": "2024-09-10T16:01:27.937407Z",
     "iopub.status.idle": "2024-09-10T16:01:27.942071Z",
     "shell.execute_reply": "2024-09-10T16:01:27.941615Z"
    }
   },
   "outputs": [
    {
     "name": "stdout",
     "output_type": "stream",
     "text": [
      "GFLOPs:  2167.104602112\n"
     ]
    }
   ],
   "source": [
    "model_flops = (\n",
    "    init_model.floating_point_ops(\n",
    "        {\n",
    "            \"input_ids\": torch.zeros(\n",
    "                (1, max_input)\n",
    "            )\n",
    "        }\n",
    "    ) * training_args.gradient_accumulation_steps\n",
    ")\n",
    "\n",
    "print(f\"GFLOPs:  {model_flops / 1e9}\")"
   ]
  },
  {
   "cell_type": "markdown",
   "id": "647e15d7",
   "metadata": {},
   "source": [
    "## Start training"
   ]
  },
  {
   "cell_type": "code",
   "execution_count": 126,
   "id": "c4481b03",
   "metadata": {
    "execution": {
     "iopub.execute_input": "2024-09-10T16:01:27.944251Z",
     "iopub.status.busy": "2024-09-10T16:01:27.944035Z",
     "iopub.status.idle": "2024-09-13T03:30:04.069525Z",
     "shell.execute_reply": "2024-09-13T03:30:04.069002Z"
    }
   },
   "outputs": [
    {
     "name": "stderr",
     "output_type": "stream",
     "text": [
      "You're using a BartTokenizerFast tokenizer. Please note that with a fast tokenizer, using the `__call__` method is faster than using a method to encode the text followed by a call to the `pad` method to get a padded encoding.\n"
     ]
    },
    {
     "data": {
      "text/html": [
       "\n",
       "    <div>\n",
       "      \n",
       "      <progress value='35455' max='35455' style='width:300px; height:20px; vertical-align: middle;'></progress>\n",
       "      [35455/35455 59:28:27, Epoch 5/5]\n",
       "    </div>\n",
       "    <table border=\"1\" class=\"dataframe\">\n",
       "  <thead>\n",
       " <tr style=\"text-align: left;\">\n",
       "      <th>Epoch</th>\n",
       "      <th>Training Loss</th>\n",
       "      <th>Validation Loss</th>\n",
       "    </tr>\n",
       "  </thead>\n",
       "  <tbody>\n",
       "    <tr>\n",
       "      <td>1</td>\n",
       "      <td>1.388800</td>\n",
       "      <td>1.278956</td>\n",
       "    </tr>\n",
       "    <tr>\n",
       "      <td>2</td>\n",
       "      <td>1.111700</td>\n",
       "      <td>1.235430</td>\n",
       "    </tr>\n",
       "    <tr>\n",
       "      <td>3</td>\n",
       "      <td>0.941500</td>\n",
       "      <td>1.234632</td>\n",
       "    </tr>\n",
       "    <tr>\n",
       "      <td>4</td>\n",
       "      <td>0.812000</td>\n",
       "      <td>1.254412</td>\n",
       "    </tr>\n",
       "    <tr>\n",
       "      <td>5</td>\n",
       "      <td>0.718200</td>\n",
       "      <td>1.278811</td>\n",
       "    </tr>\n",
       "  </tbody>\n",
       "</table><p>"
      ],
      "text/plain": [
       "<IPython.core.display.HTML object>"
      ]
     },
     "metadata": {},
     "output_type": "display_data"
    },
    {
     "name": "stdout",
     "output_type": "stream",
     "text": [
      "CPU times: user 53d 33min 31s, sys: 4d 15h 12min 29s, total: 57d 15h 46min\n",
      "Wall time: 2d 11h 28min 36s\n"
     ]
    },
    {
     "data": {
      "text/plain": [
       "TrainOutput(global_step=35455, training_loss=0.9944392952994994, metrics={'train_runtime': 214115.9602, 'train_samples_per_second': 0.662, 'train_steps_per_second': 0.166, 'total_flos': 3.0730626810249216e+17, 'train_loss': 0.9944392952994994, 'epoch': 5.0})"
      ]
     },
     "execution_count": 126,
     "metadata": {},
     "output_type": "execute_result"
    }
   ],
   "source": [
    "%%time\n",
    "\n",
    "trainer.train()"
   ]
  },
  {
   "cell_type": "markdown",
   "id": "226f7d20",
   "metadata": {},
   "source": [
    "## Save the fine-tuned model"
   ]
  },
  {
   "cell_type": "code",
   "execution_count": 127,
   "id": "4a7eb3f7",
   "metadata": {
    "execution": {
     "iopub.execute_input": "2024-09-13T03:30:04.072083Z",
     "iopub.status.busy": "2024-09-13T03:30:04.071796Z",
     "iopub.status.idle": "2024-09-13T03:30:04.075028Z",
     "shell.execute_reply": "2024-09-13T03:30:04.074545Z"
    }
   },
   "outputs": [
    {
     "name": "stdout",
     "output_type": "stream",
     "text": [
      "HF-LLM-FINETUNE/facebook_bart-large_dialogsum_samsum\n"
     ]
    }
   ],
   "source": [
    "print(model_save_local_dir)"
   ]
  },
  {
   "cell_type": "code",
   "execution_count": 128,
   "id": "34a7abec",
   "metadata": {
    "execution": {
     "iopub.execute_input": "2024-09-13T03:30:04.077203Z",
     "iopub.status.busy": "2024-09-13T03:30:04.076967Z",
     "iopub.status.idle": "2024-09-13T03:30:05.680010Z",
     "shell.execute_reply": "2024-09-13T03:30:05.679448Z"
    }
   },
   "outputs": [
    {
     "name": "stdout",
     "output_type": "stream",
     "text": [
      "CPU times: user 640 ms, sys: 960 ms, total: 1.6 s\n",
      "Wall time: 1.6 s\n"
     ]
    }
   ],
   "source": [
    "%%time\n",
    "\n",
    "trainer.save_model(model_save_local_dir + \"/fine_tuned_full\")\n",
    "# trainer.model.config.save_pretrained(model_save_local_dir)"
   ]
  },
  {
   "cell_type": "markdown",
   "id": "e9852168",
   "metadata": {},
   "source": [
    "## Load the fine-tuned model"
   ]
  },
  {
   "cell_type": "code",
   "execution_count": 129,
   "id": "65c5e191",
   "metadata": {
    "execution": {
     "iopub.execute_input": "2024-09-13T03:30:05.682579Z",
     "iopub.status.busy": "2024-09-13T03:30:05.682258Z",
     "iopub.status.idle": "2024-09-13T03:30:09.512758Z",
     "shell.execute_reply": "2024-09-13T03:30:09.512172Z"
    }
   },
   "outputs": [
    {
     "name": "stdout",
     "output_type": "stream",
     "text": [
      "CPU times: user 6.42 s, sys: 352 ms, total: 6.77 s\n",
      "Wall time: 3.83 s\n"
     ]
    }
   ],
   "source": [
    "%%time\n",
    "\n",
    "ft_model = AutoModelForSeq2SeqLM.from_pretrained(model_save_local_dir + \"/fine_tuned_full\", local_files_only=True)"
   ]
  },
  {
   "cell_type": "code",
   "execution_count": 130,
   "id": "3329aeac",
   "metadata": {
    "execution": {
     "iopub.execute_input": "2024-09-13T03:30:09.515487Z",
     "iopub.status.busy": "2024-09-13T03:30:09.515203Z",
     "iopub.status.idle": "2024-09-13T03:30:09.530783Z",
     "shell.execute_reply": "2024-09-13T03:30:09.530295Z"
    }
   },
   "outputs": [
    {
     "data": {
      "text/html": [
       "<pre style=\"white-space:pre;overflow-x:auto;line-height:normal;font-family:Menlo,'DejaVu Sans Mono',consolas,'Courier New',monospace\"><span style=\"color: #800080; text-decoration-color: #800080; font-weight: bold\">BartForConditionalGeneration</span><span style=\"font-weight: bold\">(</span>\n",
       "  <span style=\"font-weight: bold\">(</span>model<span style=\"font-weight: bold\">)</span>: <span style=\"color: #800080; text-decoration-color: #800080; font-weight: bold\">BartModel</span><span style=\"font-weight: bold\">(</span>\n",
       "    <span style=\"font-weight: bold\">(</span>shared<span style=\"font-weight: bold\">)</span>: <span style=\"color: #800080; text-decoration-color: #800080; font-weight: bold\">Embedding</span><span style=\"font-weight: bold\">(</span><span style=\"color: #008080; text-decoration-color: #008080; font-weight: bold\">50265</span>, <span style=\"color: #008080; text-decoration-color: #008080; font-weight: bold\">1024</span>, <span style=\"color: #808000; text-decoration-color: #808000\">padding_idx</span>=<span style=\"color: #008080; text-decoration-color: #008080; font-weight: bold\">1</span><span style=\"font-weight: bold\">)</span>\n",
       "    <span style=\"font-weight: bold\">(</span>encoder<span style=\"font-weight: bold\">)</span>: <span style=\"color: #800080; text-decoration-color: #800080; font-weight: bold\">BartEncoder</span><span style=\"font-weight: bold\">(</span>\n",
       "      <span style=\"font-weight: bold\">(</span>embed_tokens<span style=\"font-weight: bold\">)</span>: <span style=\"color: #800080; text-decoration-color: #800080; font-weight: bold\">Embedding</span><span style=\"font-weight: bold\">(</span><span style=\"color: #008080; text-decoration-color: #008080; font-weight: bold\">50265</span>, <span style=\"color: #008080; text-decoration-color: #008080; font-weight: bold\">1024</span>, <span style=\"color: #808000; text-decoration-color: #808000\">padding_idx</span>=<span style=\"color: #008080; text-decoration-color: #008080; font-weight: bold\">1</span><span style=\"font-weight: bold\">)</span>\n",
       "      <span style=\"font-weight: bold\">(</span>embed_positions<span style=\"font-weight: bold\">)</span>: <span style=\"color: #800080; text-decoration-color: #800080; font-weight: bold\">BartLearnedPositionalEmbedding</span><span style=\"font-weight: bold\">(</span><span style=\"color: #008080; text-decoration-color: #008080; font-weight: bold\">1026</span>, <span style=\"color: #008080; text-decoration-color: #008080; font-weight: bold\">1024</span><span style=\"font-weight: bold\">)</span>\n",
       "      <span style=\"font-weight: bold\">(</span>layers<span style=\"font-weight: bold\">)</span>: <span style=\"color: #800080; text-decoration-color: #800080; font-weight: bold\">ModuleList</span><span style=\"font-weight: bold\">(</span>\n",
       "        <span style=\"font-weight: bold\">(</span><span style=\"color: #008080; text-decoration-color: #008080; font-weight: bold\">0</span>-<span style=\"color: #008080; text-decoration-color: #008080; font-weight: bold\">11</span><span style=\"font-weight: bold\">)</span>: <span style=\"color: #008080; text-decoration-color: #008080; font-weight: bold\">12</span> x <span style=\"color: #800080; text-decoration-color: #800080; font-weight: bold\">BartEncoderLayer</span><span style=\"font-weight: bold\">(</span>\n",
       "          <span style=\"font-weight: bold\">(</span>self_attn<span style=\"font-weight: bold\">)</span>: <span style=\"color: #800080; text-decoration-color: #800080; font-weight: bold\">BartAttention</span><span style=\"font-weight: bold\">(</span>\n",
       "            <span style=\"font-weight: bold\">(</span>k_proj<span style=\"font-weight: bold\">)</span>: <span style=\"color: #800080; text-decoration-color: #800080; font-weight: bold\">Linear</span><span style=\"font-weight: bold\">(</span><span style=\"color: #808000; text-decoration-color: #808000\">in_features</span>=<span style=\"color: #008080; text-decoration-color: #008080; font-weight: bold\">1024</span>, <span style=\"color: #808000; text-decoration-color: #808000\">out_features</span>=<span style=\"color: #008080; text-decoration-color: #008080; font-weight: bold\">1024</span>, <span style=\"color: #808000; text-decoration-color: #808000\">bias</span>=<span style=\"color: #00ff00; text-decoration-color: #00ff00; font-style: italic\">True</span><span style=\"font-weight: bold\">)</span>\n",
       "            <span style=\"font-weight: bold\">(</span>v_proj<span style=\"font-weight: bold\">)</span>: <span style=\"color: #800080; text-decoration-color: #800080; font-weight: bold\">Linear</span><span style=\"font-weight: bold\">(</span><span style=\"color: #808000; text-decoration-color: #808000\">in_features</span>=<span style=\"color: #008080; text-decoration-color: #008080; font-weight: bold\">1024</span>, <span style=\"color: #808000; text-decoration-color: #808000\">out_features</span>=<span style=\"color: #008080; text-decoration-color: #008080; font-weight: bold\">1024</span>, <span style=\"color: #808000; text-decoration-color: #808000\">bias</span>=<span style=\"color: #00ff00; text-decoration-color: #00ff00; font-style: italic\">True</span><span style=\"font-weight: bold\">)</span>\n",
       "            <span style=\"font-weight: bold\">(</span>q_proj<span style=\"font-weight: bold\">)</span>: <span style=\"color: #800080; text-decoration-color: #800080; font-weight: bold\">Linear</span><span style=\"font-weight: bold\">(</span><span style=\"color: #808000; text-decoration-color: #808000\">in_features</span>=<span style=\"color: #008080; text-decoration-color: #008080; font-weight: bold\">1024</span>, <span style=\"color: #808000; text-decoration-color: #808000\">out_features</span>=<span style=\"color: #008080; text-decoration-color: #008080; font-weight: bold\">1024</span>, <span style=\"color: #808000; text-decoration-color: #808000\">bias</span>=<span style=\"color: #00ff00; text-decoration-color: #00ff00; font-style: italic\">True</span><span style=\"font-weight: bold\">)</span>\n",
       "            <span style=\"font-weight: bold\">(</span>out_proj<span style=\"font-weight: bold\">)</span>: <span style=\"color: #800080; text-decoration-color: #800080; font-weight: bold\">Linear</span><span style=\"font-weight: bold\">(</span><span style=\"color: #808000; text-decoration-color: #808000\">in_features</span>=<span style=\"color: #008080; text-decoration-color: #008080; font-weight: bold\">1024</span>, <span style=\"color: #808000; text-decoration-color: #808000\">out_features</span>=<span style=\"color: #008080; text-decoration-color: #008080; font-weight: bold\">1024</span>, <span style=\"color: #808000; text-decoration-color: #808000\">bias</span>=<span style=\"color: #00ff00; text-decoration-color: #00ff00; font-style: italic\">True</span><span style=\"font-weight: bold\">)</span>\n",
       "          <span style=\"font-weight: bold\">)</span>\n",
       "          <span style=\"font-weight: bold\">(</span>self_attn_layer_norm<span style=\"font-weight: bold\">)</span>: <span style=\"color: #800080; text-decoration-color: #800080; font-weight: bold\">LayerNorm</span><span style=\"font-weight: bold\">((</span><span style=\"color: #008080; text-decoration-color: #008080; font-weight: bold\">1024</span>,<span style=\"font-weight: bold\">)</span>, <span style=\"color: #808000; text-decoration-color: #808000\">eps</span>=<span style=\"color: #008080; text-decoration-color: #008080; font-weight: bold\">1e-05</span>, <span style=\"color: #808000; text-decoration-color: #808000\">elementwise_affine</span>=<span style=\"color: #00ff00; text-decoration-color: #00ff00; font-style: italic\">True</span><span style=\"font-weight: bold\">)</span>\n",
       "          <span style=\"font-weight: bold\">(</span>activation_fn<span style=\"font-weight: bold\">)</span>: <span style=\"color: #800080; text-decoration-color: #800080; font-weight: bold\">GELUActivation</span><span style=\"font-weight: bold\">()</span>\n",
       "          <span style=\"font-weight: bold\">(</span>fc1<span style=\"font-weight: bold\">)</span>: <span style=\"color: #800080; text-decoration-color: #800080; font-weight: bold\">Linear</span><span style=\"font-weight: bold\">(</span><span style=\"color: #808000; text-decoration-color: #808000\">in_features</span>=<span style=\"color: #008080; text-decoration-color: #008080; font-weight: bold\">1024</span>, <span style=\"color: #808000; text-decoration-color: #808000\">out_features</span>=<span style=\"color: #008080; text-decoration-color: #008080; font-weight: bold\">4096</span>, <span style=\"color: #808000; text-decoration-color: #808000\">bias</span>=<span style=\"color: #00ff00; text-decoration-color: #00ff00; font-style: italic\">True</span><span style=\"font-weight: bold\">)</span>\n",
       "          <span style=\"font-weight: bold\">(</span>fc2<span style=\"font-weight: bold\">)</span>: <span style=\"color: #800080; text-decoration-color: #800080; font-weight: bold\">Linear</span><span style=\"font-weight: bold\">(</span><span style=\"color: #808000; text-decoration-color: #808000\">in_features</span>=<span style=\"color: #008080; text-decoration-color: #008080; font-weight: bold\">4096</span>, <span style=\"color: #808000; text-decoration-color: #808000\">out_features</span>=<span style=\"color: #008080; text-decoration-color: #008080; font-weight: bold\">1024</span>, <span style=\"color: #808000; text-decoration-color: #808000\">bias</span>=<span style=\"color: #00ff00; text-decoration-color: #00ff00; font-style: italic\">True</span><span style=\"font-weight: bold\">)</span>\n",
       "          <span style=\"font-weight: bold\">(</span>final_layer_norm<span style=\"font-weight: bold\">)</span>: <span style=\"color: #800080; text-decoration-color: #800080; font-weight: bold\">LayerNorm</span><span style=\"font-weight: bold\">((</span><span style=\"color: #008080; text-decoration-color: #008080; font-weight: bold\">1024</span>,<span style=\"font-weight: bold\">)</span>, <span style=\"color: #808000; text-decoration-color: #808000\">eps</span>=<span style=\"color: #008080; text-decoration-color: #008080; font-weight: bold\">1e-05</span>, <span style=\"color: #808000; text-decoration-color: #808000\">elementwise_affine</span>=<span style=\"color: #00ff00; text-decoration-color: #00ff00; font-style: italic\">True</span><span style=\"font-weight: bold\">)</span>\n",
       "        <span style=\"font-weight: bold\">)</span>\n",
       "      <span style=\"font-weight: bold\">)</span>\n",
       "      <span style=\"font-weight: bold\">(</span>layernorm_embedding<span style=\"font-weight: bold\">)</span>: <span style=\"color: #800080; text-decoration-color: #800080; font-weight: bold\">LayerNorm</span><span style=\"font-weight: bold\">((</span><span style=\"color: #008080; text-decoration-color: #008080; font-weight: bold\">1024</span>,<span style=\"font-weight: bold\">)</span>, <span style=\"color: #808000; text-decoration-color: #808000\">eps</span>=<span style=\"color: #008080; text-decoration-color: #008080; font-weight: bold\">1e-05</span>, <span style=\"color: #808000; text-decoration-color: #808000\">elementwise_affine</span>=<span style=\"color: #00ff00; text-decoration-color: #00ff00; font-style: italic\">True</span><span style=\"font-weight: bold\">)</span>\n",
       "    <span style=\"font-weight: bold\">)</span>\n",
       "    <span style=\"font-weight: bold\">(</span>decoder<span style=\"font-weight: bold\">)</span>: <span style=\"color: #800080; text-decoration-color: #800080; font-weight: bold\">BartDecoder</span><span style=\"font-weight: bold\">(</span>\n",
       "      <span style=\"font-weight: bold\">(</span>embed_tokens<span style=\"font-weight: bold\">)</span>: <span style=\"color: #800080; text-decoration-color: #800080; font-weight: bold\">Embedding</span><span style=\"font-weight: bold\">(</span><span style=\"color: #008080; text-decoration-color: #008080; font-weight: bold\">50265</span>, <span style=\"color: #008080; text-decoration-color: #008080; font-weight: bold\">1024</span>, <span style=\"color: #808000; text-decoration-color: #808000\">padding_idx</span>=<span style=\"color: #008080; text-decoration-color: #008080; font-weight: bold\">1</span><span style=\"font-weight: bold\">)</span>\n",
       "      <span style=\"font-weight: bold\">(</span>embed_positions<span style=\"font-weight: bold\">)</span>: <span style=\"color: #800080; text-decoration-color: #800080; font-weight: bold\">BartLearnedPositionalEmbedding</span><span style=\"font-weight: bold\">(</span><span style=\"color: #008080; text-decoration-color: #008080; font-weight: bold\">1026</span>, <span style=\"color: #008080; text-decoration-color: #008080; font-weight: bold\">1024</span><span style=\"font-weight: bold\">)</span>\n",
       "      <span style=\"font-weight: bold\">(</span>layers<span style=\"font-weight: bold\">)</span>: <span style=\"color: #800080; text-decoration-color: #800080; font-weight: bold\">ModuleList</span><span style=\"font-weight: bold\">(</span>\n",
       "        <span style=\"font-weight: bold\">(</span><span style=\"color: #008080; text-decoration-color: #008080; font-weight: bold\">0</span>-<span style=\"color: #008080; text-decoration-color: #008080; font-weight: bold\">11</span><span style=\"font-weight: bold\">)</span>: <span style=\"color: #008080; text-decoration-color: #008080; font-weight: bold\">12</span> x <span style=\"color: #800080; text-decoration-color: #800080; font-weight: bold\">BartDecoderLayer</span><span style=\"font-weight: bold\">(</span>\n",
       "          <span style=\"font-weight: bold\">(</span>self_attn<span style=\"font-weight: bold\">)</span>: <span style=\"color: #800080; text-decoration-color: #800080; font-weight: bold\">BartAttention</span><span style=\"font-weight: bold\">(</span>\n",
       "            <span style=\"font-weight: bold\">(</span>k_proj<span style=\"font-weight: bold\">)</span>: <span style=\"color: #800080; text-decoration-color: #800080; font-weight: bold\">Linear</span><span style=\"font-weight: bold\">(</span><span style=\"color: #808000; text-decoration-color: #808000\">in_features</span>=<span style=\"color: #008080; text-decoration-color: #008080; font-weight: bold\">1024</span>, <span style=\"color: #808000; text-decoration-color: #808000\">out_features</span>=<span style=\"color: #008080; text-decoration-color: #008080; font-weight: bold\">1024</span>, <span style=\"color: #808000; text-decoration-color: #808000\">bias</span>=<span style=\"color: #00ff00; text-decoration-color: #00ff00; font-style: italic\">True</span><span style=\"font-weight: bold\">)</span>\n",
       "            <span style=\"font-weight: bold\">(</span>v_proj<span style=\"font-weight: bold\">)</span>: <span style=\"color: #800080; text-decoration-color: #800080; font-weight: bold\">Linear</span><span style=\"font-weight: bold\">(</span><span style=\"color: #808000; text-decoration-color: #808000\">in_features</span>=<span style=\"color: #008080; text-decoration-color: #008080; font-weight: bold\">1024</span>, <span style=\"color: #808000; text-decoration-color: #808000\">out_features</span>=<span style=\"color: #008080; text-decoration-color: #008080; font-weight: bold\">1024</span>, <span style=\"color: #808000; text-decoration-color: #808000\">bias</span>=<span style=\"color: #00ff00; text-decoration-color: #00ff00; font-style: italic\">True</span><span style=\"font-weight: bold\">)</span>\n",
       "            <span style=\"font-weight: bold\">(</span>q_proj<span style=\"font-weight: bold\">)</span>: <span style=\"color: #800080; text-decoration-color: #800080; font-weight: bold\">Linear</span><span style=\"font-weight: bold\">(</span><span style=\"color: #808000; text-decoration-color: #808000\">in_features</span>=<span style=\"color: #008080; text-decoration-color: #008080; font-weight: bold\">1024</span>, <span style=\"color: #808000; text-decoration-color: #808000\">out_features</span>=<span style=\"color: #008080; text-decoration-color: #008080; font-weight: bold\">1024</span>, <span style=\"color: #808000; text-decoration-color: #808000\">bias</span>=<span style=\"color: #00ff00; text-decoration-color: #00ff00; font-style: italic\">True</span><span style=\"font-weight: bold\">)</span>\n",
       "            <span style=\"font-weight: bold\">(</span>out_proj<span style=\"font-weight: bold\">)</span>: <span style=\"color: #800080; text-decoration-color: #800080; font-weight: bold\">Linear</span><span style=\"font-weight: bold\">(</span><span style=\"color: #808000; text-decoration-color: #808000\">in_features</span>=<span style=\"color: #008080; text-decoration-color: #008080; font-weight: bold\">1024</span>, <span style=\"color: #808000; text-decoration-color: #808000\">out_features</span>=<span style=\"color: #008080; text-decoration-color: #008080; font-weight: bold\">1024</span>, <span style=\"color: #808000; text-decoration-color: #808000\">bias</span>=<span style=\"color: #00ff00; text-decoration-color: #00ff00; font-style: italic\">True</span><span style=\"font-weight: bold\">)</span>\n",
       "          <span style=\"font-weight: bold\">)</span>\n",
       "          <span style=\"font-weight: bold\">(</span>activation_fn<span style=\"font-weight: bold\">)</span>: <span style=\"color: #800080; text-decoration-color: #800080; font-weight: bold\">GELUActivation</span><span style=\"font-weight: bold\">()</span>\n",
       "          <span style=\"font-weight: bold\">(</span>self_attn_layer_norm<span style=\"font-weight: bold\">)</span>: <span style=\"color: #800080; text-decoration-color: #800080; font-weight: bold\">LayerNorm</span><span style=\"font-weight: bold\">((</span><span style=\"color: #008080; text-decoration-color: #008080; font-weight: bold\">1024</span>,<span style=\"font-weight: bold\">)</span>, <span style=\"color: #808000; text-decoration-color: #808000\">eps</span>=<span style=\"color: #008080; text-decoration-color: #008080; font-weight: bold\">1e-05</span>, <span style=\"color: #808000; text-decoration-color: #808000\">elementwise_affine</span>=<span style=\"color: #00ff00; text-decoration-color: #00ff00; font-style: italic\">True</span><span style=\"font-weight: bold\">)</span>\n",
       "          <span style=\"font-weight: bold\">(</span>encoder_attn<span style=\"font-weight: bold\">)</span>: <span style=\"color: #800080; text-decoration-color: #800080; font-weight: bold\">BartAttention</span><span style=\"font-weight: bold\">(</span>\n",
       "            <span style=\"font-weight: bold\">(</span>k_proj<span style=\"font-weight: bold\">)</span>: <span style=\"color: #800080; text-decoration-color: #800080; font-weight: bold\">Linear</span><span style=\"font-weight: bold\">(</span><span style=\"color: #808000; text-decoration-color: #808000\">in_features</span>=<span style=\"color: #008080; text-decoration-color: #008080; font-weight: bold\">1024</span>, <span style=\"color: #808000; text-decoration-color: #808000\">out_features</span>=<span style=\"color: #008080; text-decoration-color: #008080; font-weight: bold\">1024</span>, <span style=\"color: #808000; text-decoration-color: #808000\">bias</span>=<span style=\"color: #00ff00; text-decoration-color: #00ff00; font-style: italic\">True</span><span style=\"font-weight: bold\">)</span>\n",
       "            <span style=\"font-weight: bold\">(</span>v_proj<span style=\"font-weight: bold\">)</span>: <span style=\"color: #800080; text-decoration-color: #800080; font-weight: bold\">Linear</span><span style=\"font-weight: bold\">(</span><span style=\"color: #808000; text-decoration-color: #808000\">in_features</span>=<span style=\"color: #008080; text-decoration-color: #008080; font-weight: bold\">1024</span>, <span style=\"color: #808000; text-decoration-color: #808000\">out_features</span>=<span style=\"color: #008080; text-decoration-color: #008080; font-weight: bold\">1024</span>, <span style=\"color: #808000; text-decoration-color: #808000\">bias</span>=<span style=\"color: #00ff00; text-decoration-color: #00ff00; font-style: italic\">True</span><span style=\"font-weight: bold\">)</span>\n",
       "            <span style=\"font-weight: bold\">(</span>q_proj<span style=\"font-weight: bold\">)</span>: <span style=\"color: #800080; text-decoration-color: #800080; font-weight: bold\">Linear</span><span style=\"font-weight: bold\">(</span><span style=\"color: #808000; text-decoration-color: #808000\">in_features</span>=<span style=\"color: #008080; text-decoration-color: #008080; font-weight: bold\">1024</span>, <span style=\"color: #808000; text-decoration-color: #808000\">out_features</span>=<span style=\"color: #008080; text-decoration-color: #008080; font-weight: bold\">1024</span>, <span style=\"color: #808000; text-decoration-color: #808000\">bias</span>=<span style=\"color: #00ff00; text-decoration-color: #00ff00; font-style: italic\">True</span><span style=\"font-weight: bold\">)</span>\n",
       "            <span style=\"font-weight: bold\">(</span>out_proj<span style=\"font-weight: bold\">)</span>: <span style=\"color: #800080; text-decoration-color: #800080; font-weight: bold\">Linear</span><span style=\"font-weight: bold\">(</span><span style=\"color: #808000; text-decoration-color: #808000\">in_features</span>=<span style=\"color: #008080; text-decoration-color: #008080; font-weight: bold\">1024</span>, <span style=\"color: #808000; text-decoration-color: #808000\">out_features</span>=<span style=\"color: #008080; text-decoration-color: #008080; font-weight: bold\">1024</span>, <span style=\"color: #808000; text-decoration-color: #808000\">bias</span>=<span style=\"color: #00ff00; text-decoration-color: #00ff00; font-style: italic\">True</span><span style=\"font-weight: bold\">)</span>\n",
       "          <span style=\"font-weight: bold\">)</span>\n",
       "          <span style=\"font-weight: bold\">(</span>encoder_attn_layer_norm<span style=\"font-weight: bold\">)</span>: <span style=\"color: #800080; text-decoration-color: #800080; font-weight: bold\">LayerNorm</span><span style=\"font-weight: bold\">((</span><span style=\"color: #008080; text-decoration-color: #008080; font-weight: bold\">1024</span>,<span style=\"font-weight: bold\">)</span>, <span style=\"color: #808000; text-decoration-color: #808000\">eps</span>=<span style=\"color: #008080; text-decoration-color: #008080; font-weight: bold\">1e-05</span>, <span style=\"color: #808000; text-decoration-color: #808000\">elementwise_affine</span>=<span style=\"color: #00ff00; text-decoration-color: #00ff00; font-style: italic\">True</span><span style=\"font-weight: bold\">)</span>\n",
       "          <span style=\"font-weight: bold\">(</span>fc1<span style=\"font-weight: bold\">)</span>: <span style=\"color: #800080; text-decoration-color: #800080; font-weight: bold\">Linear</span><span style=\"font-weight: bold\">(</span><span style=\"color: #808000; text-decoration-color: #808000\">in_features</span>=<span style=\"color: #008080; text-decoration-color: #008080; font-weight: bold\">1024</span>, <span style=\"color: #808000; text-decoration-color: #808000\">out_features</span>=<span style=\"color: #008080; text-decoration-color: #008080; font-weight: bold\">4096</span>, <span style=\"color: #808000; text-decoration-color: #808000\">bias</span>=<span style=\"color: #00ff00; text-decoration-color: #00ff00; font-style: italic\">True</span><span style=\"font-weight: bold\">)</span>\n",
       "          <span style=\"font-weight: bold\">(</span>fc2<span style=\"font-weight: bold\">)</span>: <span style=\"color: #800080; text-decoration-color: #800080; font-weight: bold\">Linear</span><span style=\"font-weight: bold\">(</span><span style=\"color: #808000; text-decoration-color: #808000\">in_features</span>=<span style=\"color: #008080; text-decoration-color: #008080; font-weight: bold\">4096</span>, <span style=\"color: #808000; text-decoration-color: #808000\">out_features</span>=<span style=\"color: #008080; text-decoration-color: #008080; font-weight: bold\">1024</span>, <span style=\"color: #808000; text-decoration-color: #808000\">bias</span>=<span style=\"color: #00ff00; text-decoration-color: #00ff00; font-style: italic\">True</span><span style=\"font-weight: bold\">)</span>\n",
       "          <span style=\"font-weight: bold\">(</span>final_layer_norm<span style=\"font-weight: bold\">)</span>: <span style=\"color: #800080; text-decoration-color: #800080; font-weight: bold\">LayerNorm</span><span style=\"font-weight: bold\">((</span><span style=\"color: #008080; text-decoration-color: #008080; font-weight: bold\">1024</span>,<span style=\"font-weight: bold\">)</span>, <span style=\"color: #808000; text-decoration-color: #808000\">eps</span>=<span style=\"color: #008080; text-decoration-color: #008080; font-weight: bold\">1e-05</span>, <span style=\"color: #808000; text-decoration-color: #808000\">elementwise_affine</span>=<span style=\"color: #00ff00; text-decoration-color: #00ff00; font-style: italic\">True</span><span style=\"font-weight: bold\">)</span>\n",
       "        <span style=\"font-weight: bold\">)</span>\n",
       "      <span style=\"font-weight: bold\">)</span>\n",
       "      <span style=\"font-weight: bold\">(</span>layernorm_embedding<span style=\"font-weight: bold\">)</span>: <span style=\"color: #800080; text-decoration-color: #800080; font-weight: bold\">LayerNorm</span><span style=\"font-weight: bold\">((</span><span style=\"color: #008080; text-decoration-color: #008080; font-weight: bold\">1024</span>,<span style=\"font-weight: bold\">)</span>, <span style=\"color: #808000; text-decoration-color: #808000\">eps</span>=<span style=\"color: #008080; text-decoration-color: #008080; font-weight: bold\">1e-05</span>, <span style=\"color: #808000; text-decoration-color: #808000\">elementwise_affine</span>=<span style=\"color: #00ff00; text-decoration-color: #00ff00; font-style: italic\">True</span><span style=\"font-weight: bold\">)</span>\n",
       "    <span style=\"font-weight: bold\">)</span>\n",
       "  <span style=\"font-weight: bold\">)</span>\n",
       "  <span style=\"font-weight: bold\">(</span>lm_head<span style=\"font-weight: bold\">)</span>: <span style=\"color: #800080; text-decoration-color: #800080; font-weight: bold\">Linear</span><span style=\"font-weight: bold\">(</span><span style=\"color: #808000; text-decoration-color: #808000\">in_features</span>=<span style=\"color: #008080; text-decoration-color: #008080; font-weight: bold\">1024</span>, <span style=\"color: #808000; text-decoration-color: #808000\">out_features</span>=<span style=\"color: #008080; text-decoration-color: #008080; font-weight: bold\">50265</span>, <span style=\"color: #808000; text-decoration-color: #808000\">bias</span>=<span style=\"color: #ff0000; text-decoration-color: #ff0000; font-style: italic\">False</span><span style=\"font-weight: bold\">)</span>\n",
       "<span style=\"font-weight: bold\">)</span>\n",
       "</pre>\n"
      ],
      "text/plain": [
       "\u001b[1;35mBartForConditionalGeneration\u001b[0m\u001b[1m(\u001b[0m\n",
       "  \u001b[1m(\u001b[0mmodel\u001b[1m)\u001b[0m: \u001b[1;35mBartModel\u001b[0m\u001b[1m(\u001b[0m\n",
       "    \u001b[1m(\u001b[0mshared\u001b[1m)\u001b[0m: \u001b[1;35mEmbedding\u001b[0m\u001b[1m(\u001b[0m\u001b[1;36m50265\u001b[0m, \u001b[1;36m1024\u001b[0m, \u001b[33mpadding_idx\u001b[0m=\u001b[1;36m1\u001b[0m\u001b[1m)\u001b[0m\n",
       "    \u001b[1m(\u001b[0mencoder\u001b[1m)\u001b[0m: \u001b[1;35mBartEncoder\u001b[0m\u001b[1m(\u001b[0m\n",
       "      \u001b[1m(\u001b[0membed_tokens\u001b[1m)\u001b[0m: \u001b[1;35mEmbedding\u001b[0m\u001b[1m(\u001b[0m\u001b[1;36m50265\u001b[0m, \u001b[1;36m1024\u001b[0m, \u001b[33mpadding_idx\u001b[0m=\u001b[1;36m1\u001b[0m\u001b[1m)\u001b[0m\n",
       "      \u001b[1m(\u001b[0membed_positions\u001b[1m)\u001b[0m: \u001b[1;35mBartLearnedPositionalEmbedding\u001b[0m\u001b[1m(\u001b[0m\u001b[1;36m1026\u001b[0m, \u001b[1;36m1024\u001b[0m\u001b[1m)\u001b[0m\n",
       "      \u001b[1m(\u001b[0mlayers\u001b[1m)\u001b[0m: \u001b[1;35mModuleList\u001b[0m\u001b[1m(\u001b[0m\n",
       "        \u001b[1m(\u001b[0m\u001b[1;36m0\u001b[0m-\u001b[1;36m11\u001b[0m\u001b[1m)\u001b[0m: \u001b[1;36m12\u001b[0m x \u001b[1;35mBartEncoderLayer\u001b[0m\u001b[1m(\u001b[0m\n",
       "          \u001b[1m(\u001b[0mself_attn\u001b[1m)\u001b[0m: \u001b[1;35mBartAttention\u001b[0m\u001b[1m(\u001b[0m\n",
       "            \u001b[1m(\u001b[0mk_proj\u001b[1m)\u001b[0m: \u001b[1;35mLinear\u001b[0m\u001b[1m(\u001b[0m\u001b[33min_features\u001b[0m=\u001b[1;36m1024\u001b[0m, \u001b[33mout_features\u001b[0m=\u001b[1;36m1024\u001b[0m, \u001b[33mbias\u001b[0m=\u001b[3;92mTrue\u001b[0m\u001b[1m)\u001b[0m\n",
       "            \u001b[1m(\u001b[0mv_proj\u001b[1m)\u001b[0m: \u001b[1;35mLinear\u001b[0m\u001b[1m(\u001b[0m\u001b[33min_features\u001b[0m=\u001b[1;36m1024\u001b[0m, \u001b[33mout_features\u001b[0m=\u001b[1;36m1024\u001b[0m, \u001b[33mbias\u001b[0m=\u001b[3;92mTrue\u001b[0m\u001b[1m)\u001b[0m\n",
       "            \u001b[1m(\u001b[0mq_proj\u001b[1m)\u001b[0m: \u001b[1;35mLinear\u001b[0m\u001b[1m(\u001b[0m\u001b[33min_features\u001b[0m=\u001b[1;36m1024\u001b[0m, \u001b[33mout_features\u001b[0m=\u001b[1;36m1024\u001b[0m, \u001b[33mbias\u001b[0m=\u001b[3;92mTrue\u001b[0m\u001b[1m)\u001b[0m\n",
       "            \u001b[1m(\u001b[0mout_proj\u001b[1m)\u001b[0m: \u001b[1;35mLinear\u001b[0m\u001b[1m(\u001b[0m\u001b[33min_features\u001b[0m=\u001b[1;36m1024\u001b[0m, \u001b[33mout_features\u001b[0m=\u001b[1;36m1024\u001b[0m, \u001b[33mbias\u001b[0m=\u001b[3;92mTrue\u001b[0m\u001b[1m)\u001b[0m\n",
       "          \u001b[1m)\u001b[0m\n",
       "          \u001b[1m(\u001b[0mself_attn_layer_norm\u001b[1m)\u001b[0m: \u001b[1;35mLayerNorm\u001b[0m\u001b[1m(\u001b[0m\u001b[1m(\u001b[0m\u001b[1;36m1024\u001b[0m,\u001b[1m)\u001b[0m, \u001b[33meps\u001b[0m=\u001b[1;36m1e\u001b[0m\u001b[1;36m-05\u001b[0m, \u001b[33melementwise_affine\u001b[0m=\u001b[3;92mTrue\u001b[0m\u001b[1m)\u001b[0m\n",
       "          \u001b[1m(\u001b[0mactivation_fn\u001b[1m)\u001b[0m: \u001b[1;35mGELUActivation\u001b[0m\u001b[1m(\u001b[0m\u001b[1m)\u001b[0m\n",
       "          \u001b[1m(\u001b[0mfc1\u001b[1m)\u001b[0m: \u001b[1;35mLinear\u001b[0m\u001b[1m(\u001b[0m\u001b[33min_features\u001b[0m=\u001b[1;36m1024\u001b[0m, \u001b[33mout_features\u001b[0m=\u001b[1;36m4096\u001b[0m, \u001b[33mbias\u001b[0m=\u001b[3;92mTrue\u001b[0m\u001b[1m)\u001b[0m\n",
       "          \u001b[1m(\u001b[0mfc2\u001b[1m)\u001b[0m: \u001b[1;35mLinear\u001b[0m\u001b[1m(\u001b[0m\u001b[33min_features\u001b[0m=\u001b[1;36m4096\u001b[0m, \u001b[33mout_features\u001b[0m=\u001b[1;36m1024\u001b[0m, \u001b[33mbias\u001b[0m=\u001b[3;92mTrue\u001b[0m\u001b[1m)\u001b[0m\n",
       "          \u001b[1m(\u001b[0mfinal_layer_norm\u001b[1m)\u001b[0m: \u001b[1;35mLayerNorm\u001b[0m\u001b[1m(\u001b[0m\u001b[1m(\u001b[0m\u001b[1;36m1024\u001b[0m,\u001b[1m)\u001b[0m, \u001b[33meps\u001b[0m=\u001b[1;36m1e\u001b[0m\u001b[1;36m-05\u001b[0m, \u001b[33melementwise_affine\u001b[0m=\u001b[3;92mTrue\u001b[0m\u001b[1m)\u001b[0m\n",
       "        \u001b[1m)\u001b[0m\n",
       "      \u001b[1m)\u001b[0m\n",
       "      \u001b[1m(\u001b[0mlayernorm_embedding\u001b[1m)\u001b[0m: \u001b[1;35mLayerNorm\u001b[0m\u001b[1m(\u001b[0m\u001b[1m(\u001b[0m\u001b[1;36m1024\u001b[0m,\u001b[1m)\u001b[0m, \u001b[33meps\u001b[0m=\u001b[1;36m1e\u001b[0m\u001b[1;36m-05\u001b[0m, \u001b[33melementwise_affine\u001b[0m=\u001b[3;92mTrue\u001b[0m\u001b[1m)\u001b[0m\n",
       "    \u001b[1m)\u001b[0m\n",
       "    \u001b[1m(\u001b[0mdecoder\u001b[1m)\u001b[0m: \u001b[1;35mBartDecoder\u001b[0m\u001b[1m(\u001b[0m\n",
       "      \u001b[1m(\u001b[0membed_tokens\u001b[1m)\u001b[0m: \u001b[1;35mEmbedding\u001b[0m\u001b[1m(\u001b[0m\u001b[1;36m50265\u001b[0m, \u001b[1;36m1024\u001b[0m, \u001b[33mpadding_idx\u001b[0m=\u001b[1;36m1\u001b[0m\u001b[1m)\u001b[0m\n",
       "      \u001b[1m(\u001b[0membed_positions\u001b[1m)\u001b[0m: \u001b[1;35mBartLearnedPositionalEmbedding\u001b[0m\u001b[1m(\u001b[0m\u001b[1;36m1026\u001b[0m, \u001b[1;36m1024\u001b[0m\u001b[1m)\u001b[0m\n",
       "      \u001b[1m(\u001b[0mlayers\u001b[1m)\u001b[0m: \u001b[1;35mModuleList\u001b[0m\u001b[1m(\u001b[0m\n",
       "        \u001b[1m(\u001b[0m\u001b[1;36m0\u001b[0m-\u001b[1;36m11\u001b[0m\u001b[1m)\u001b[0m: \u001b[1;36m12\u001b[0m x \u001b[1;35mBartDecoderLayer\u001b[0m\u001b[1m(\u001b[0m\n",
       "          \u001b[1m(\u001b[0mself_attn\u001b[1m)\u001b[0m: \u001b[1;35mBartAttention\u001b[0m\u001b[1m(\u001b[0m\n",
       "            \u001b[1m(\u001b[0mk_proj\u001b[1m)\u001b[0m: \u001b[1;35mLinear\u001b[0m\u001b[1m(\u001b[0m\u001b[33min_features\u001b[0m=\u001b[1;36m1024\u001b[0m, \u001b[33mout_features\u001b[0m=\u001b[1;36m1024\u001b[0m, \u001b[33mbias\u001b[0m=\u001b[3;92mTrue\u001b[0m\u001b[1m)\u001b[0m\n",
       "            \u001b[1m(\u001b[0mv_proj\u001b[1m)\u001b[0m: \u001b[1;35mLinear\u001b[0m\u001b[1m(\u001b[0m\u001b[33min_features\u001b[0m=\u001b[1;36m1024\u001b[0m, \u001b[33mout_features\u001b[0m=\u001b[1;36m1024\u001b[0m, \u001b[33mbias\u001b[0m=\u001b[3;92mTrue\u001b[0m\u001b[1m)\u001b[0m\n",
       "            \u001b[1m(\u001b[0mq_proj\u001b[1m)\u001b[0m: \u001b[1;35mLinear\u001b[0m\u001b[1m(\u001b[0m\u001b[33min_features\u001b[0m=\u001b[1;36m1024\u001b[0m, \u001b[33mout_features\u001b[0m=\u001b[1;36m1024\u001b[0m, \u001b[33mbias\u001b[0m=\u001b[3;92mTrue\u001b[0m\u001b[1m)\u001b[0m\n",
       "            \u001b[1m(\u001b[0mout_proj\u001b[1m)\u001b[0m: \u001b[1;35mLinear\u001b[0m\u001b[1m(\u001b[0m\u001b[33min_features\u001b[0m=\u001b[1;36m1024\u001b[0m, \u001b[33mout_features\u001b[0m=\u001b[1;36m1024\u001b[0m, \u001b[33mbias\u001b[0m=\u001b[3;92mTrue\u001b[0m\u001b[1m)\u001b[0m\n",
       "          \u001b[1m)\u001b[0m\n",
       "          \u001b[1m(\u001b[0mactivation_fn\u001b[1m)\u001b[0m: \u001b[1;35mGELUActivation\u001b[0m\u001b[1m(\u001b[0m\u001b[1m)\u001b[0m\n",
       "          \u001b[1m(\u001b[0mself_attn_layer_norm\u001b[1m)\u001b[0m: \u001b[1;35mLayerNorm\u001b[0m\u001b[1m(\u001b[0m\u001b[1m(\u001b[0m\u001b[1;36m1024\u001b[0m,\u001b[1m)\u001b[0m, \u001b[33meps\u001b[0m=\u001b[1;36m1e\u001b[0m\u001b[1;36m-05\u001b[0m, \u001b[33melementwise_affine\u001b[0m=\u001b[3;92mTrue\u001b[0m\u001b[1m)\u001b[0m\n",
       "          \u001b[1m(\u001b[0mencoder_attn\u001b[1m)\u001b[0m: \u001b[1;35mBartAttention\u001b[0m\u001b[1m(\u001b[0m\n",
       "            \u001b[1m(\u001b[0mk_proj\u001b[1m)\u001b[0m: \u001b[1;35mLinear\u001b[0m\u001b[1m(\u001b[0m\u001b[33min_features\u001b[0m=\u001b[1;36m1024\u001b[0m, \u001b[33mout_features\u001b[0m=\u001b[1;36m1024\u001b[0m, \u001b[33mbias\u001b[0m=\u001b[3;92mTrue\u001b[0m\u001b[1m)\u001b[0m\n",
       "            \u001b[1m(\u001b[0mv_proj\u001b[1m)\u001b[0m: \u001b[1;35mLinear\u001b[0m\u001b[1m(\u001b[0m\u001b[33min_features\u001b[0m=\u001b[1;36m1024\u001b[0m, \u001b[33mout_features\u001b[0m=\u001b[1;36m1024\u001b[0m, \u001b[33mbias\u001b[0m=\u001b[3;92mTrue\u001b[0m\u001b[1m)\u001b[0m\n",
       "            \u001b[1m(\u001b[0mq_proj\u001b[1m)\u001b[0m: \u001b[1;35mLinear\u001b[0m\u001b[1m(\u001b[0m\u001b[33min_features\u001b[0m=\u001b[1;36m1024\u001b[0m, \u001b[33mout_features\u001b[0m=\u001b[1;36m1024\u001b[0m, \u001b[33mbias\u001b[0m=\u001b[3;92mTrue\u001b[0m\u001b[1m)\u001b[0m\n",
       "            \u001b[1m(\u001b[0mout_proj\u001b[1m)\u001b[0m: \u001b[1;35mLinear\u001b[0m\u001b[1m(\u001b[0m\u001b[33min_features\u001b[0m=\u001b[1;36m1024\u001b[0m, \u001b[33mout_features\u001b[0m=\u001b[1;36m1024\u001b[0m, \u001b[33mbias\u001b[0m=\u001b[3;92mTrue\u001b[0m\u001b[1m)\u001b[0m\n",
       "          \u001b[1m)\u001b[0m\n",
       "          \u001b[1m(\u001b[0mencoder_attn_layer_norm\u001b[1m)\u001b[0m: \u001b[1;35mLayerNorm\u001b[0m\u001b[1m(\u001b[0m\u001b[1m(\u001b[0m\u001b[1;36m1024\u001b[0m,\u001b[1m)\u001b[0m, \u001b[33meps\u001b[0m=\u001b[1;36m1e\u001b[0m\u001b[1;36m-05\u001b[0m, \u001b[33melementwise_affine\u001b[0m=\u001b[3;92mTrue\u001b[0m\u001b[1m)\u001b[0m\n",
       "          \u001b[1m(\u001b[0mfc1\u001b[1m)\u001b[0m: \u001b[1;35mLinear\u001b[0m\u001b[1m(\u001b[0m\u001b[33min_features\u001b[0m=\u001b[1;36m1024\u001b[0m, \u001b[33mout_features\u001b[0m=\u001b[1;36m4096\u001b[0m, \u001b[33mbias\u001b[0m=\u001b[3;92mTrue\u001b[0m\u001b[1m)\u001b[0m\n",
       "          \u001b[1m(\u001b[0mfc2\u001b[1m)\u001b[0m: \u001b[1;35mLinear\u001b[0m\u001b[1m(\u001b[0m\u001b[33min_features\u001b[0m=\u001b[1;36m4096\u001b[0m, \u001b[33mout_features\u001b[0m=\u001b[1;36m1024\u001b[0m, \u001b[33mbias\u001b[0m=\u001b[3;92mTrue\u001b[0m\u001b[1m)\u001b[0m\n",
       "          \u001b[1m(\u001b[0mfinal_layer_norm\u001b[1m)\u001b[0m: \u001b[1;35mLayerNorm\u001b[0m\u001b[1m(\u001b[0m\u001b[1m(\u001b[0m\u001b[1;36m1024\u001b[0m,\u001b[1m)\u001b[0m, \u001b[33meps\u001b[0m=\u001b[1;36m1e\u001b[0m\u001b[1;36m-05\u001b[0m, \u001b[33melementwise_affine\u001b[0m=\u001b[3;92mTrue\u001b[0m\u001b[1m)\u001b[0m\n",
       "        \u001b[1m)\u001b[0m\n",
       "      \u001b[1m)\u001b[0m\n",
       "      \u001b[1m(\u001b[0mlayernorm_embedding\u001b[1m)\u001b[0m: \u001b[1;35mLayerNorm\u001b[0m\u001b[1m(\u001b[0m\u001b[1m(\u001b[0m\u001b[1;36m1024\u001b[0m,\u001b[1m)\u001b[0m, \u001b[33meps\u001b[0m=\u001b[1;36m1e\u001b[0m\u001b[1;36m-05\u001b[0m, \u001b[33melementwise_affine\u001b[0m=\u001b[3;92mTrue\u001b[0m\u001b[1m)\u001b[0m\n",
       "    \u001b[1m)\u001b[0m\n",
       "  \u001b[1m)\u001b[0m\n",
       "  \u001b[1m(\u001b[0mlm_head\u001b[1m)\u001b[0m: \u001b[1;35mLinear\u001b[0m\u001b[1m(\u001b[0m\u001b[33min_features\u001b[0m=\u001b[1;36m1024\u001b[0m, \u001b[33mout_features\u001b[0m=\u001b[1;36m50265\u001b[0m, \u001b[33mbias\u001b[0m=\u001b[3;91mFalse\u001b[0m\u001b[1m)\u001b[0m\n",
       "\u001b[1m)\u001b[0m\n"
      ]
     },
     "metadata": {},
     "output_type": "display_data"
    }
   ],
   "source": [
    "rich_print(ft_model)"
   ]
  },
  {
   "cell_type": "markdown",
   "id": "add60e47",
   "metadata": {},
   "source": [
    "### Load the base model again"
   ]
  },
  {
   "cell_type": "code",
   "execution_count": 131,
   "id": "b07bb6fc",
   "metadata": {
    "execution": {
     "iopub.execute_input": "2024-09-13T03:30:09.533082Z",
     "iopub.status.busy": "2024-09-13T03:30:09.532846Z",
     "iopub.status.idle": "2024-09-13T03:30:13.671081Z",
     "shell.execute_reply": "2024-09-13T03:30:13.670524Z"
    }
   },
   "outputs": [
    {
     "name": "stderr",
     "output_type": "stream",
     "text": [
      "/home/ec2-user/anaconda3/envs/pytorch_p310/lib/python3.10/site-packages/huggingface_hub/file_download.py:1150: FutureWarning: `resume_download` is deprecated and will be removed in version 1.0.0. Downloads always resume when possible. If you want to force a new download, use `force_download=True`.\n",
      "  warnings.warn(\n"
     ]
    },
    {
     "name": "stdout",
     "output_type": "stream",
     "text": [
      "CPU times: user 7.01 s, sys: 232 ms, total: 7.24 s\n",
      "Wall time: 4.13 s\n"
     ]
    }
   ],
   "source": [
    "%%time\n",
    "\n",
    "# Load the tokenizer\n",
    "init_tokenizer = AutoTokenizer.from_pretrained(model_checkpoint)\n",
    "\n",
    "# Load the model\n",
    "init_model = AutoModelForSeq2SeqLM.from_pretrained(model_checkpoint)"
   ]
  },
  {
   "cell_type": "code",
   "execution_count": 132,
   "id": "12e709eb",
   "metadata": {
    "execution": {
     "iopub.execute_input": "2024-09-13T03:30:13.673545Z",
     "iopub.status.busy": "2024-09-13T03:30:13.673263Z",
     "iopub.status.idle": "2024-09-13T03:30:13.678590Z",
     "shell.execute_reply": "2024-09-13T03:30:13.678106Z"
    }
   },
   "outputs": [
    {
     "data": {
      "text/html": [
       "<pre style=\"white-space:pre;overflow-x:auto;line-height:normal;font-family:Menlo,'DejaVu Sans Mono',consolas,'Courier New',monospace\"><span style=\"color: #800080; text-decoration-color: #800080; font-weight: bold\">BartTokenizerFast</span><span style=\"font-weight: bold\">(</span><span style=\"color: #808000; text-decoration-color: #808000\">name_or_path</span>=<span style=\"color: #008000; text-decoration-color: #008000\">'facebook/bart-large'</span>, <span style=\"color: #808000; text-decoration-color: #808000\">vocab_size</span>=<span style=\"color: #008080; text-decoration-color: #008080; font-weight: bold\">50265</span>, <span style=\"color: #808000; text-decoration-color: #808000\">model_max_length</span>=<span style=\"color: #008080; text-decoration-color: #008080; font-weight: bold\">1024</span>, <span style=\"color: #808000; text-decoration-color: #808000\">is_fast</span>=<span style=\"color: #00ff00; text-decoration-color: #00ff00; font-style: italic\">True</span>, \n",
       "<span style=\"color: #808000; text-decoration-color: #808000\">padding_side</span>=<span style=\"color: #008000; text-decoration-color: #008000\">'right'</span>, <span style=\"color: #808000; text-decoration-color: #808000\">truncation_side</span>=<span style=\"color: #008000; text-decoration-color: #008000\">'right'</span>, <span style=\"color: #808000; text-decoration-color: #808000\">special_tokens</span>=<span style=\"font-weight: bold\">{</span><span style=\"color: #008000; text-decoration-color: #008000\">'bos_token'</span>: <span style=\"color: #008000; text-decoration-color: #008000\">'&lt;s&gt;'</span><span style=\"color: #000000; text-decoration-color: #000000\">, </span><span style=\"color: #008000; text-decoration-color: #008000\">'eos_token'</span><span style=\"color: #000000; text-decoration-color: #000000\">: </span><span style=\"color: #008000; text-decoration-color: #008000\">'&lt;/s&gt;'</span><span style=\"color: #000000; text-decoration-color: #000000\">, </span>\n",
       "<span style=\"color: #008000; text-decoration-color: #008000\">'unk_token'</span><span style=\"color: #000000; text-decoration-color: #000000\">: </span><span style=\"color: #008000; text-decoration-color: #008000\">'&lt;unk&gt;'</span><span style=\"color: #000000; text-decoration-color: #000000\">, </span><span style=\"color: #008000; text-decoration-color: #008000\">'sep_token'</span><span style=\"color: #000000; text-decoration-color: #000000\">: </span><span style=\"color: #008000; text-decoration-color: #008000\">'&lt;/s&gt;'</span><span style=\"color: #000000; text-decoration-color: #000000\">, </span><span style=\"color: #008000; text-decoration-color: #008000\">'pad_token'</span><span style=\"color: #000000; text-decoration-color: #000000\">: </span><span style=\"color: #008000; text-decoration-color: #008000\">'&lt;pad&gt;'</span><span style=\"color: #000000; text-decoration-color: #000000\">, </span><span style=\"color: #008000; text-decoration-color: #008000\">'cls_token'</span><span style=\"color: #000000; text-decoration-color: #000000\">: </span><span style=\"color: #008000; text-decoration-color: #008000\">'&lt;s&gt;'</span><span style=\"color: #000000; text-decoration-color: #000000\">, </span><span style=\"color: #008000; text-decoration-color: #008000\">'mask_token'</span><span style=\"color: #000000; text-decoration-color: #000000\">: </span>\n",
       "<span style=\"color: #800080; text-decoration-color: #800080; font-weight: bold\">AddedToken</span><span style=\"color: #000000; text-decoration-color: #000000; font-weight: bold\">(</span><span style=\"color: #008000; text-decoration-color: #008000\">\"&lt;mask&gt;\"</span>, <span style=\"color: #808000; text-decoration-color: #808000\">rstrip</span>=<span style=\"color: #ff0000; text-decoration-color: #ff0000; font-style: italic\">False</span>, <span style=\"color: #808000; text-decoration-color: #808000\">lstrip</span>=<span style=\"color: #00ff00; text-decoration-color: #00ff00; font-style: italic\">True</span>, <span style=\"color: #808000; text-decoration-color: #808000\">single_word</span>=<span style=\"color: #ff0000; text-decoration-color: #ff0000; font-style: italic\">False</span>, <span style=\"color: #808000; text-decoration-color: #808000\">normalized</span>=<span style=\"color: #ff0000; text-decoration-color: #ff0000; font-style: italic\">False</span><span style=\"font-weight: bold\">)}</span>, \n",
       "<span style=\"color: #808000; text-decoration-color: #808000\">clean_up_tokenization_spaces</span>=<span style=\"color: #00ff00; text-decoration-color: #00ff00; font-style: italic\">True</span><span style=\"font-weight: bold\">)</span>\n",
       "</pre>\n"
      ],
      "text/plain": [
       "\u001b[1;35mBartTokenizerFast\u001b[0m\u001b[1m(\u001b[0m\u001b[33mname_or_path\u001b[0m=\u001b[32m'facebook/bart-large'\u001b[0m, \u001b[33mvocab_size\u001b[0m=\u001b[1;36m50265\u001b[0m, \u001b[33mmodel_max_length\u001b[0m=\u001b[1;36m1024\u001b[0m, \u001b[33mis_fast\u001b[0m=\u001b[3;92mTrue\u001b[0m, \n",
       "\u001b[33mpadding_side\u001b[0m=\u001b[32m'right'\u001b[0m, \u001b[33mtruncation_side\u001b[0m=\u001b[32m'right'\u001b[0m, \u001b[33mspecial_tokens\u001b[0m=\u001b[1m{\u001b[0m\u001b[32m'bos_token'\u001b[0m: \u001b[32m'\u001b[0m\u001b[32m<\u001b[0m\u001b[32ms\u001b[0m\u001b[32m>'\u001b[0m\u001b[39m, \u001b[0m\u001b[32m'eos_token'\u001b[0m\u001b[39m: \u001b[0m\u001b[32m'</s>'\u001b[0m\u001b[39m, \u001b[0m\n",
       "\u001b[32m'unk_token'\u001b[0m\u001b[39m: \u001b[0m\u001b[32m'<unk>'\u001b[0m\u001b[39m, \u001b[0m\u001b[32m'sep_token'\u001b[0m\u001b[39m: \u001b[0m\u001b[32m'</s>'\u001b[0m\u001b[39m, \u001b[0m\u001b[32m'pad_token'\u001b[0m\u001b[39m: \u001b[0m\u001b[32m'<pad>'\u001b[0m\u001b[39m, \u001b[0m\u001b[32m'cls_token'\u001b[0m\u001b[39m: \u001b[0m\u001b[32m'<s>'\u001b[0m\u001b[39m, \u001b[0m\u001b[32m'mask_token'\u001b[0m\u001b[39m: \u001b[0m\n",
       "\u001b[1;35mAddedToken\u001b[0m\u001b[1;39m(\u001b[0m\u001b[32m\"<mask\u001b[0m\u001b[32m>\u001b[0m\u001b[32m\"\u001b[0m, \u001b[33mrstrip\u001b[0m=\u001b[3;91mFalse\u001b[0m, \u001b[33mlstrip\u001b[0m=\u001b[3;92mTrue\u001b[0m, \u001b[33msingle_word\u001b[0m=\u001b[3;91mFalse\u001b[0m, \u001b[33mnormalized\u001b[0m=\u001b[3;91mFalse\u001b[0m\u001b[1m)\u001b[0m\u001b[1m}\u001b[0m, \n",
       "\u001b[33mclean_up_tokenization_spaces\u001b[0m=\u001b[3;92mTrue\u001b[0m\u001b[1m)\u001b[0m\n"
      ]
     },
     "metadata": {},
     "output_type": "display_data"
    }
   ],
   "source": [
    "rich_print(init_tokenizer)"
   ]
  },
  {
   "cell_type": "code",
   "execution_count": 133,
   "id": "4b53801e",
   "metadata": {
    "execution": {
     "iopub.execute_input": "2024-09-13T03:30:13.680716Z",
     "iopub.status.busy": "2024-09-13T03:30:13.680484Z",
     "iopub.status.idle": "2024-09-13T03:30:13.684010Z",
     "shell.execute_reply": "2024-09-13T03:30:13.683545Z"
    }
   },
   "outputs": [
    {
     "data": {
      "text/plain": [
       "50265"
      ]
     },
     "execution_count": 133,
     "metadata": {},
     "output_type": "execute_result"
    }
   ],
   "source": [
    "len(init_tokenizer)"
   ]
  },
  {
   "cell_type": "code",
   "execution_count": 134,
   "id": "a83e1a40",
   "metadata": {
    "execution": {
     "iopub.execute_input": "2024-09-13T03:30:13.686173Z",
     "iopub.status.busy": "2024-09-13T03:30:13.685945Z",
     "iopub.status.idle": "2024-09-13T03:30:13.700945Z",
     "shell.execute_reply": "2024-09-13T03:30:13.700469Z"
    }
   },
   "outputs": [
    {
     "data": {
      "text/html": [
       "<pre style=\"white-space:pre;overflow-x:auto;line-height:normal;font-family:Menlo,'DejaVu Sans Mono',consolas,'Courier New',monospace\"><span style=\"color: #800080; text-decoration-color: #800080; font-weight: bold\">BartForConditionalGeneration</span><span style=\"font-weight: bold\">(</span>\n",
       "  <span style=\"font-weight: bold\">(</span>model<span style=\"font-weight: bold\">)</span>: <span style=\"color: #800080; text-decoration-color: #800080; font-weight: bold\">BartModel</span><span style=\"font-weight: bold\">(</span>\n",
       "    <span style=\"font-weight: bold\">(</span>shared<span style=\"font-weight: bold\">)</span>: <span style=\"color: #800080; text-decoration-color: #800080; font-weight: bold\">Embedding</span><span style=\"font-weight: bold\">(</span><span style=\"color: #008080; text-decoration-color: #008080; font-weight: bold\">50265</span>, <span style=\"color: #008080; text-decoration-color: #008080; font-weight: bold\">1024</span>, <span style=\"color: #808000; text-decoration-color: #808000\">padding_idx</span>=<span style=\"color: #008080; text-decoration-color: #008080; font-weight: bold\">1</span><span style=\"font-weight: bold\">)</span>\n",
       "    <span style=\"font-weight: bold\">(</span>encoder<span style=\"font-weight: bold\">)</span>: <span style=\"color: #800080; text-decoration-color: #800080; font-weight: bold\">BartEncoder</span><span style=\"font-weight: bold\">(</span>\n",
       "      <span style=\"font-weight: bold\">(</span>embed_tokens<span style=\"font-weight: bold\">)</span>: <span style=\"color: #800080; text-decoration-color: #800080; font-weight: bold\">Embedding</span><span style=\"font-weight: bold\">(</span><span style=\"color: #008080; text-decoration-color: #008080; font-weight: bold\">50265</span>, <span style=\"color: #008080; text-decoration-color: #008080; font-weight: bold\">1024</span>, <span style=\"color: #808000; text-decoration-color: #808000\">padding_idx</span>=<span style=\"color: #008080; text-decoration-color: #008080; font-weight: bold\">1</span><span style=\"font-weight: bold\">)</span>\n",
       "      <span style=\"font-weight: bold\">(</span>embed_positions<span style=\"font-weight: bold\">)</span>: <span style=\"color: #800080; text-decoration-color: #800080; font-weight: bold\">BartLearnedPositionalEmbedding</span><span style=\"font-weight: bold\">(</span><span style=\"color: #008080; text-decoration-color: #008080; font-weight: bold\">1026</span>, <span style=\"color: #008080; text-decoration-color: #008080; font-weight: bold\">1024</span><span style=\"font-weight: bold\">)</span>\n",
       "      <span style=\"font-weight: bold\">(</span>layers<span style=\"font-weight: bold\">)</span>: <span style=\"color: #800080; text-decoration-color: #800080; font-weight: bold\">ModuleList</span><span style=\"font-weight: bold\">(</span>\n",
       "        <span style=\"font-weight: bold\">(</span><span style=\"color: #008080; text-decoration-color: #008080; font-weight: bold\">0</span>-<span style=\"color: #008080; text-decoration-color: #008080; font-weight: bold\">11</span><span style=\"font-weight: bold\">)</span>: <span style=\"color: #008080; text-decoration-color: #008080; font-weight: bold\">12</span> x <span style=\"color: #800080; text-decoration-color: #800080; font-weight: bold\">BartEncoderLayer</span><span style=\"font-weight: bold\">(</span>\n",
       "          <span style=\"font-weight: bold\">(</span>self_attn<span style=\"font-weight: bold\">)</span>: <span style=\"color: #800080; text-decoration-color: #800080; font-weight: bold\">BartAttention</span><span style=\"font-weight: bold\">(</span>\n",
       "            <span style=\"font-weight: bold\">(</span>k_proj<span style=\"font-weight: bold\">)</span>: <span style=\"color: #800080; text-decoration-color: #800080; font-weight: bold\">Linear</span><span style=\"font-weight: bold\">(</span><span style=\"color: #808000; text-decoration-color: #808000\">in_features</span>=<span style=\"color: #008080; text-decoration-color: #008080; font-weight: bold\">1024</span>, <span style=\"color: #808000; text-decoration-color: #808000\">out_features</span>=<span style=\"color: #008080; text-decoration-color: #008080; font-weight: bold\">1024</span>, <span style=\"color: #808000; text-decoration-color: #808000\">bias</span>=<span style=\"color: #00ff00; text-decoration-color: #00ff00; font-style: italic\">True</span><span style=\"font-weight: bold\">)</span>\n",
       "            <span style=\"font-weight: bold\">(</span>v_proj<span style=\"font-weight: bold\">)</span>: <span style=\"color: #800080; text-decoration-color: #800080; font-weight: bold\">Linear</span><span style=\"font-weight: bold\">(</span><span style=\"color: #808000; text-decoration-color: #808000\">in_features</span>=<span style=\"color: #008080; text-decoration-color: #008080; font-weight: bold\">1024</span>, <span style=\"color: #808000; text-decoration-color: #808000\">out_features</span>=<span style=\"color: #008080; text-decoration-color: #008080; font-weight: bold\">1024</span>, <span style=\"color: #808000; text-decoration-color: #808000\">bias</span>=<span style=\"color: #00ff00; text-decoration-color: #00ff00; font-style: italic\">True</span><span style=\"font-weight: bold\">)</span>\n",
       "            <span style=\"font-weight: bold\">(</span>q_proj<span style=\"font-weight: bold\">)</span>: <span style=\"color: #800080; text-decoration-color: #800080; font-weight: bold\">Linear</span><span style=\"font-weight: bold\">(</span><span style=\"color: #808000; text-decoration-color: #808000\">in_features</span>=<span style=\"color: #008080; text-decoration-color: #008080; font-weight: bold\">1024</span>, <span style=\"color: #808000; text-decoration-color: #808000\">out_features</span>=<span style=\"color: #008080; text-decoration-color: #008080; font-weight: bold\">1024</span>, <span style=\"color: #808000; text-decoration-color: #808000\">bias</span>=<span style=\"color: #00ff00; text-decoration-color: #00ff00; font-style: italic\">True</span><span style=\"font-weight: bold\">)</span>\n",
       "            <span style=\"font-weight: bold\">(</span>out_proj<span style=\"font-weight: bold\">)</span>: <span style=\"color: #800080; text-decoration-color: #800080; font-weight: bold\">Linear</span><span style=\"font-weight: bold\">(</span><span style=\"color: #808000; text-decoration-color: #808000\">in_features</span>=<span style=\"color: #008080; text-decoration-color: #008080; font-weight: bold\">1024</span>, <span style=\"color: #808000; text-decoration-color: #808000\">out_features</span>=<span style=\"color: #008080; text-decoration-color: #008080; font-weight: bold\">1024</span>, <span style=\"color: #808000; text-decoration-color: #808000\">bias</span>=<span style=\"color: #00ff00; text-decoration-color: #00ff00; font-style: italic\">True</span><span style=\"font-weight: bold\">)</span>\n",
       "          <span style=\"font-weight: bold\">)</span>\n",
       "          <span style=\"font-weight: bold\">(</span>self_attn_layer_norm<span style=\"font-weight: bold\">)</span>: <span style=\"color: #800080; text-decoration-color: #800080; font-weight: bold\">LayerNorm</span><span style=\"font-weight: bold\">((</span><span style=\"color: #008080; text-decoration-color: #008080; font-weight: bold\">1024</span>,<span style=\"font-weight: bold\">)</span>, <span style=\"color: #808000; text-decoration-color: #808000\">eps</span>=<span style=\"color: #008080; text-decoration-color: #008080; font-weight: bold\">1e-05</span>, <span style=\"color: #808000; text-decoration-color: #808000\">elementwise_affine</span>=<span style=\"color: #00ff00; text-decoration-color: #00ff00; font-style: italic\">True</span><span style=\"font-weight: bold\">)</span>\n",
       "          <span style=\"font-weight: bold\">(</span>activation_fn<span style=\"font-weight: bold\">)</span>: <span style=\"color: #800080; text-decoration-color: #800080; font-weight: bold\">GELUActivation</span><span style=\"font-weight: bold\">()</span>\n",
       "          <span style=\"font-weight: bold\">(</span>fc1<span style=\"font-weight: bold\">)</span>: <span style=\"color: #800080; text-decoration-color: #800080; font-weight: bold\">Linear</span><span style=\"font-weight: bold\">(</span><span style=\"color: #808000; text-decoration-color: #808000\">in_features</span>=<span style=\"color: #008080; text-decoration-color: #008080; font-weight: bold\">1024</span>, <span style=\"color: #808000; text-decoration-color: #808000\">out_features</span>=<span style=\"color: #008080; text-decoration-color: #008080; font-weight: bold\">4096</span>, <span style=\"color: #808000; text-decoration-color: #808000\">bias</span>=<span style=\"color: #00ff00; text-decoration-color: #00ff00; font-style: italic\">True</span><span style=\"font-weight: bold\">)</span>\n",
       "          <span style=\"font-weight: bold\">(</span>fc2<span style=\"font-weight: bold\">)</span>: <span style=\"color: #800080; text-decoration-color: #800080; font-weight: bold\">Linear</span><span style=\"font-weight: bold\">(</span><span style=\"color: #808000; text-decoration-color: #808000\">in_features</span>=<span style=\"color: #008080; text-decoration-color: #008080; font-weight: bold\">4096</span>, <span style=\"color: #808000; text-decoration-color: #808000\">out_features</span>=<span style=\"color: #008080; text-decoration-color: #008080; font-weight: bold\">1024</span>, <span style=\"color: #808000; text-decoration-color: #808000\">bias</span>=<span style=\"color: #00ff00; text-decoration-color: #00ff00; font-style: italic\">True</span><span style=\"font-weight: bold\">)</span>\n",
       "          <span style=\"font-weight: bold\">(</span>final_layer_norm<span style=\"font-weight: bold\">)</span>: <span style=\"color: #800080; text-decoration-color: #800080; font-weight: bold\">LayerNorm</span><span style=\"font-weight: bold\">((</span><span style=\"color: #008080; text-decoration-color: #008080; font-weight: bold\">1024</span>,<span style=\"font-weight: bold\">)</span>, <span style=\"color: #808000; text-decoration-color: #808000\">eps</span>=<span style=\"color: #008080; text-decoration-color: #008080; font-weight: bold\">1e-05</span>, <span style=\"color: #808000; text-decoration-color: #808000\">elementwise_affine</span>=<span style=\"color: #00ff00; text-decoration-color: #00ff00; font-style: italic\">True</span><span style=\"font-weight: bold\">)</span>\n",
       "        <span style=\"font-weight: bold\">)</span>\n",
       "      <span style=\"font-weight: bold\">)</span>\n",
       "      <span style=\"font-weight: bold\">(</span>layernorm_embedding<span style=\"font-weight: bold\">)</span>: <span style=\"color: #800080; text-decoration-color: #800080; font-weight: bold\">LayerNorm</span><span style=\"font-weight: bold\">((</span><span style=\"color: #008080; text-decoration-color: #008080; font-weight: bold\">1024</span>,<span style=\"font-weight: bold\">)</span>, <span style=\"color: #808000; text-decoration-color: #808000\">eps</span>=<span style=\"color: #008080; text-decoration-color: #008080; font-weight: bold\">1e-05</span>, <span style=\"color: #808000; text-decoration-color: #808000\">elementwise_affine</span>=<span style=\"color: #00ff00; text-decoration-color: #00ff00; font-style: italic\">True</span><span style=\"font-weight: bold\">)</span>\n",
       "    <span style=\"font-weight: bold\">)</span>\n",
       "    <span style=\"font-weight: bold\">(</span>decoder<span style=\"font-weight: bold\">)</span>: <span style=\"color: #800080; text-decoration-color: #800080; font-weight: bold\">BartDecoder</span><span style=\"font-weight: bold\">(</span>\n",
       "      <span style=\"font-weight: bold\">(</span>embed_tokens<span style=\"font-weight: bold\">)</span>: <span style=\"color: #800080; text-decoration-color: #800080; font-weight: bold\">Embedding</span><span style=\"font-weight: bold\">(</span><span style=\"color: #008080; text-decoration-color: #008080; font-weight: bold\">50265</span>, <span style=\"color: #008080; text-decoration-color: #008080; font-weight: bold\">1024</span>, <span style=\"color: #808000; text-decoration-color: #808000\">padding_idx</span>=<span style=\"color: #008080; text-decoration-color: #008080; font-weight: bold\">1</span><span style=\"font-weight: bold\">)</span>\n",
       "      <span style=\"font-weight: bold\">(</span>embed_positions<span style=\"font-weight: bold\">)</span>: <span style=\"color: #800080; text-decoration-color: #800080; font-weight: bold\">BartLearnedPositionalEmbedding</span><span style=\"font-weight: bold\">(</span><span style=\"color: #008080; text-decoration-color: #008080; font-weight: bold\">1026</span>, <span style=\"color: #008080; text-decoration-color: #008080; font-weight: bold\">1024</span><span style=\"font-weight: bold\">)</span>\n",
       "      <span style=\"font-weight: bold\">(</span>layers<span style=\"font-weight: bold\">)</span>: <span style=\"color: #800080; text-decoration-color: #800080; font-weight: bold\">ModuleList</span><span style=\"font-weight: bold\">(</span>\n",
       "        <span style=\"font-weight: bold\">(</span><span style=\"color: #008080; text-decoration-color: #008080; font-weight: bold\">0</span>-<span style=\"color: #008080; text-decoration-color: #008080; font-weight: bold\">11</span><span style=\"font-weight: bold\">)</span>: <span style=\"color: #008080; text-decoration-color: #008080; font-weight: bold\">12</span> x <span style=\"color: #800080; text-decoration-color: #800080; font-weight: bold\">BartDecoderLayer</span><span style=\"font-weight: bold\">(</span>\n",
       "          <span style=\"font-weight: bold\">(</span>self_attn<span style=\"font-weight: bold\">)</span>: <span style=\"color: #800080; text-decoration-color: #800080; font-weight: bold\">BartAttention</span><span style=\"font-weight: bold\">(</span>\n",
       "            <span style=\"font-weight: bold\">(</span>k_proj<span style=\"font-weight: bold\">)</span>: <span style=\"color: #800080; text-decoration-color: #800080; font-weight: bold\">Linear</span><span style=\"font-weight: bold\">(</span><span style=\"color: #808000; text-decoration-color: #808000\">in_features</span>=<span style=\"color: #008080; text-decoration-color: #008080; font-weight: bold\">1024</span>, <span style=\"color: #808000; text-decoration-color: #808000\">out_features</span>=<span style=\"color: #008080; text-decoration-color: #008080; font-weight: bold\">1024</span>, <span style=\"color: #808000; text-decoration-color: #808000\">bias</span>=<span style=\"color: #00ff00; text-decoration-color: #00ff00; font-style: italic\">True</span><span style=\"font-weight: bold\">)</span>\n",
       "            <span style=\"font-weight: bold\">(</span>v_proj<span style=\"font-weight: bold\">)</span>: <span style=\"color: #800080; text-decoration-color: #800080; font-weight: bold\">Linear</span><span style=\"font-weight: bold\">(</span><span style=\"color: #808000; text-decoration-color: #808000\">in_features</span>=<span style=\"color: #008080; text-decoration-color: #008080; font-weight: bold\">1024</span>, <span style=\"color: #808000; text-decoration-color: #808000\">out_features</span>=<span style=\"color: #008080; text-decoration-color: #008080; font-weight: bold\">1024</span>, <span style=\"color: #808000; text-decoration-color: #808000\">bias</span>=<span style=\"color: #00ff00; text-decoration-color: #00ff00; font-style: italic\">True</span><span style=\"font-weight: bold\">)</span>\n",
       "            <span style=\"font-weight: bold\">(</span>q_proj<span style=\"font-weight: bold\">)</span>: <span style=\"color: #800080; text-decoration-color: #800080; font-weight: bold\">Linear</span><span style=\"font-weight: bold\">(</span><span style=\"color: #808000; text-decoration-color: #808000\">in_features</span>=<span style=\"color: #008080; text-decoration-color: #008080; font-weight: bold\">1024</span>, <span style=\"color: #808000; text-decoration-color: #808000\">out_features</span>=<span style=\"color: #008080; text-decoration-color: #008080; font-weight: bold\">1024</span>, <span style=\"color: #808000; text-decoration-color: #808000\">bias</span>=<span style=\"color: #00ff00; text-decoration-color: #00ff00; font-style: italic\">True</span><span style=\"font-weight: bold\">)</span>\n",
       "            <span style=\"font-weight: bold\">(</span>out_proj<span style=\"font-weight: bold\">)</span>: <span style=\"color: #800080; text-decoration-color: #800080; font-weight: bold\">Linear</span><span style=\"font-weight: bold\">(</span><span style=\"color: #808000; text-decoration-color: #808000\">in_features</span>=<span style=\"color: #008080; text-decoration-color: #008080; font-weight: bold\">1024</span>, <span style=\"color: #808000; text-decoration-color: #808000\">out_features</span>=<span style=\"color: #008080; text-decoration-color: #008080; font-weight: bold\">1024</span>, <span style=\"color: #808000; text-decoration-color: #808000\">bias</span>=<span style=\"color: #00ff00; text-decoration-color: #00ff00; font-style: italic\">True</span><span style=\"font-weight: bold\">)</span>\n",
       "          <span style=\"font-weight: bold\">)</span>\n",
       "          <span style=\"font-weight: bold\">(</span>activation_fn<span style=\"font-weight: bold\">)</span>: <span style=\"color: #800080; text-decoration-color: #800080; font-weight: bold\">GELUActivation</span><span style=\"font-weight: bold\">()</span>\n",
       "          <span style=\"font-weight: bold\">(</span>self_attn_layer_norm<span style=\"font-weight: bold\">)</span>: <span style=\"color: #800080; text-decoration-color: #800080; font-weight: bold\">LayerNorm</span><span style=\"font-weight: bold\">((</span><span style=\"color: #008080; text-decoration-color: #008080; font-weight: bold\">1024</span>,<span style=\"font-weight: bold\">)</span>, <span style=\"color: #808000; text-decoration-color: #808000\">eps</span>=<span style=\"color: #008080; text-decoration-color: #008080; font-weight: bold\">1e-05</span>, <span style=\"color: #808000; text-decoration-color: #808000\">elementwise_affine</span>=<span style=\"color: #00ff00; text-decoration-color: #00ff00; font-style: italic\">True</span><span style=\"font-weight: bold\">)</span>\n",
       "          <span style=\"font-weight: bold\">(</span>encoder_attn<span style=\"font-weight: bold\">)</span>: <span style=\"color: #800080; text-decoration-color: #800080; font-weight: bold\">BartAttention</span><span style=\"font-weight: bold\">(</span>\n",
       "            <span style=\"font-weight: bold\">(</span>k_proj<span style=\"font-weight: bold\">)</span>: <span style=\"color: #800080; text-decoration-color: #800080; font-weight: bold\">Linear</span><span style=\"font-weight: bold\">(</span><span style=\"color: #808000; text-decoration-color: #808000\">in_features</span>=<span style=\"color: #008080; text-decoration-color: #008080; font-weight: bold\">1024</span>, <span style=\"color: #808000; text-decoration-color: #808000\">out_features</span>=<span style=\"color: #008080; text-decoration-color: #008080; font-weight: bold\">1024</span>, <span style=\"color: #808000; text-decoration-color: #808000\">bias</span>=<span style=\"color: #00ff00; text-decoration-color: #00ff00; font-style: italic\">True</span><span style=\"font-weight: bold\">)</span>\n",
       "            <span style=\"font-weight: bold\">(</span>v_proj<span style=\"font-weight: bold\">)</span>: <span style=\"color: #800080; text-decoration-color: #800080; font-weight: bold\">Linear</span><span style=\"font-weight: bold\">(</span><span style=\"color: #808000; text-decoration-color: #808000\">in_features</span>=<span style=\"color: #008080; text-decoration-color: #008080; font-weight: bold\">1024</span>, <span style=\"color: #808000; text-decoration-color: #808000\">out_features</span>=<span style=\"color: #008080; text-decoration-color: #008080; font-weight: bold\">1024</span>, <span style=\"color: #808000; text-decoration-color: #808000\">bias</span>=<span style=\"color: #00ff00; text-decoration-color: #00ff00; font-style: italic\">True</span><span style=\"font-weight: bold\">)</span>\n",
       "            <span style=\"font-weight: bold\">(</span>q_proj<span style=\"font-weight: bold\">)</span>: <span style=\"color: #800080; text-decoration-color: #800080; font-weight: bold\">Linear</span><span style=\"font-weight: bold\">(</span><span style=\"color: #808000; text-decoration-color: #808000\">in_features</span>=<span style=\"color: #008080; text-decoration-color: #008080; font-weight: bold\">1024</span>, <span style=\"color: #808000; text-decoration-color: #808000\">out_features</span>=<span style=\"color: #008080; text-decoration-color: #008080; font-weight: bold\">1024</span>, <span style=\"color: #808000; text-decoration-color: #808000\">bias</span>=<span style=\"color: #00ff00; text-decoration-color: #00ff00; font-style: italic\">True</span><span style=\"font-weight: bold\">)</span>\n",
       "            <span style=\"font-weight: bold\">(</span>out_proj<span style=\"font-weight: bold\">)</span>: <span style=\"color: #800080; text-decoration-color: #800080; font-weight: bold\">Linear</span><span style=\"font-weight: bold\">(</span><span style=\"color: #808000; text-decoration-color: #808000\">in_features</span>=<span style=\"color: #008080; text-decoration-color: #008080; font-weight: bold\">1024</span>, <span style=\"color: #808000; text-decoration-color: #808000\">out_features</span>=<span style=\"color: #008080; text-decoration-color: #008080; font-weight: bold\">1024</span>, <span style=\"color: #808000; text-decoration-color: #808000\">bias</span>=<span style=\"color: #00ff00; text-decoration-color: #00ff00; font-style: italic\">True</span><span style=\"font-weight: bold\">)</span>\n",
       "          <span style=\"font-weight: bold\">)</span>\n",
       "          <span style=\"font-weight: bold\">(</span>encoder_attn_layer_norm<span style=\"font-weight: bold\">)</span>: <span style=\"color: #800080; text-decoration-color: #800080; font-weight: bold\">LayerNorm</span><span style=\"font-weight: bold\">((</span><span style=\"color: #008080; text-decoration-color: #008080; font-weight: bold\">1024</span>,<span style=\"font-weight: bold\">)</span>, <span style=\"color: #808000; text-decoration-color: #808000\">eps</span>=<span style=\"color: #008080; text-decoration-color: #008080; font-weight: bold\">1e-05</span>, <span style=\"color: #808000; text-decoration-color: #808000\">elementwise_affine</span>=<span style=\"color: #00ff00; text-decoration-color: #00ff00; font-style: italic\">True</span><span style=\"font-weight: bold\">)</span>\n",
       "          <span style=\"font-weight: bold\">(</span>fc1<span style=\"font-weight: bold\">)</span>: <span style=\"color: #800080; text-decoration-color: #800080; font-weight: bold\">Linear</span><span style=\"font-weight: bold\">(</span><span style=\"color: #808000; text-decoration-color: #808000\">in_features</span>=<span style=\"color: #008080; text-decoration-color: #008080; font-weight: bold\">1024</span>, <span style=\"color: #808000; text-decoration-color: #808000\">out_features</span>=<span style=\"color: #008080; text-decoration-color: #008080; font-weight: bold\">4096</span>, <span style=\"color: #808000; text-decoration-color: #808000\">bias</span>=<span style=\"color: #00ff00; text-decoration-color: #00ff00; font-style: italic\">True</span><span style=\"font-weight: bold\">)</span>\n",
       "          <span style=\"font-weight: bold\">(</span>fc2<span style=\"font-weight: bold\">)</span>: <span style=\"color: #800080; text-decoration-color: #800080; font-weight: bold\">Linear</span><span style=\"font-weight: bold\">(</span><span style=\"color: #808000; text-decoration-color: #808000\">in_features</span>=<span style=\"color: #008080; text-decoration-color: #008080; font-weight: bold\">4096</span>, <span style=\"color: #808000; text-decoration-color: #808000\">out_features</span>=<span style=\"color: #008080; text-decoration-color: #008080; font-weight: bold\">1024</span>, <span style=\"color: #808000; text-decoration-color: #808000\">bias</span>=<span style=\"color: #00ff00; text-decoration-color: #00ff00; font-style: italic\">True</span><span style=\"font-weight: bold\">)</span>\n",
       "          <span style=\"font-weight: bold\">(</span>final_layer_norm<span style=\"font-weight: bold\">)</span>: <span style=\"color: #800080; text-decoration-color: #800080; font-weight: bold\">LayerNorm</span><span style=\"font-weight: bold\">((</span><span style=\"color: #008080; text-decoration-color: #008080; font-weight: bold\">1024</span>,<span style=\"font-weight: bold\">)</span>, <span style=\"color: #808000; text-decoration-color: #808000\">eps</span>=<span style=\"color: #008080; text-decoration-color: #008080; font-weight: bold\">1e-05</span>, <span style=\"color: #808000; text-decoration-color: #808000\">elementwise_affine</span>=<span style=\"color: #00ff00; text-decoration-color: #00ff00; font-style: italic\">True</span><span style=\"font-weight: bold\">)</span>\n",
       "        <span style=\"font-weight: bold\">)</span>\n",
       "      <span style=\"font-weight: bold\">)</span>\n",
       "      <span style=\"font-weight: bold\">(</span>layernorm_embedding<span style=\"font-weight: bold\">)</span>: <span style=\"color: #800080; text-decoration-color: #800080; font-weight: bold\">LayerNorm</span><span style=\"font-weight: bold\">((</span><span style=\"color: #008080; text-decoration-color: #008080; font-weight: bold\">1024</span>,<span style=\"font-weight: bold\">)</span>, <span style=\"color: #808000; text-decoration-color: #808000\">eps</span>=<span style=\"color: #008080; text-decoration-color: #008080; font-weight: bold\">1e-05</span>, <span style=\"color: #808000; text-decoration-color: #808000\">elementwise_affine</span>=<span style=\"color: #00ff00; text-decoration-color: #00ff00; font-style: italic\">True</span><span style=\"font-weight: bold\">)</span>\n",
       "    <span style=\"font-weight: bold\">)</span>\n",
       "  <span style=\"font-weight: bold\">)</span>\n",
       "  <span style=\"font-weight: bold\">(</span>lm_head<span style=\"font-weight: bold\">)</span>: <span style=\"color: #800080; text-decoration-color: #800080; font-weight: bold\">Linear</span><span style=\"font-weight: bold\">(</span><span style=\"color: #808000; text-decoration-color: #808000\">in_features</span>=<span style=\"color: #008080; text-decoration-color: #008080; font-weight: bold\">1024</span>, <span style=\"color: #808000; text-decoration-color: #808000\">out_features</span>=<span style=\"color: #008080; text-decoration-color: #008080; font-weight: bold\">50265</span>, <span style=\"color: #808000; text-decoration-color: #808000\">bias</span>=<span style=\"color: #ff0000; text-decoration-color: #ff0000; font-style: italic\">False</span><span style=\"font-weight: bold\">)</span>\n",
       "<span style=\"font-weight: bold\">)</span>\n",
       "</pre>\n"
      ],
      "text/plain": [
       "\u001b[1;35mBartForConditionalGeneration\u001b[0m\u001b[1m(\u001b[0m\n",
       "  \u001b[1m(\u001b[0mmodel\u001b[1m)\u001b[0m: \u001b[1;35mBartModel\u001b[0m\u001b[1m(\u001b[0m\n",
       "    \u001b[1m(\u001b[0mshared\u001b[1m)\u001b[0m: \u001b[1;35mEmbedding\u001b[0m\u001b[1m(\u001b[0m\u001b[1;36m50265\u001b[0m, \u001b[1;36m1024\u001b[0m, \u001b[33mpadding_idx\u001b[0m=\u001b[1;36m1\u001b[0m\u001b[1m)\u001b[0m\n",
       "    \u001b[1m(\u001b[0mencoder\u001b[1m)\u001b[0m: \u001b[1;35mBartEncoder\u001b[0m\u001b[1m(\u001b[0m\n",
       "      \u001b[1m(\u001b[0membed_tokens\u001b[1m)\u001b[0m: \u001b[1;35mEmbedding\u001b[0m\u001b[1m(\u001b[0m\u001b[1;36m50265\u001b[0m, \u001b[1;36m1024\u001b[0m, \u001b[33mpadding_idx\u001b[0m=\u001b[1;36m1\u001b[0m\u001b[1m)\u001b[0m\n",
       "      \u001b[1m(\u001b[0membed_positions\u001b[1m)\u001b[0m: \u001b[1;35mBartLearnedPositionalEmbedding\u001b[0m\u001b[1m(\u001b[0m\u001b[1;36m1026\u001b[0m, \u001b[1;36m1024\u001b[0m\u001b[1m)\u001b[0m\n",
       "      \u001b[1m(\u001b[0mlayers\u001b[1m)\u001b[0m: \u001b[1;35mModuleList\u001b[0m\u001b[1m(\u001b[0m\n",
       "        \u001b[1m(\u001b[0m\u001b[1;36m0\u001b[0m-\u001b[1;36m11\u001b[0m\u001b[1m)\u001b[0m: \u001b[1;36m12\u001b[0m x \u001b[1;35mBartEncoderLayer\u001b[0m\u001b[1m(\u001b[0m\n",
       "          \u001b[1m(\u001b[0mself_attn\u001b[1m)\u001b[0m: \u001b[1;35mBartAttention\u001b[0m\u001b[1m(\u001b[0m\n",
       "            \u001b[1m(\u001b[0mk_proj\u001b[1m)\u001b[0m: \u001b[1;35mLinear\u001b[0m\u001b[1m(\u001b[0m\u001b[33min_features\u001b[0m=\u001b[1;36m1024\u001b[0m, \u001b[33mout_features\u001b[0m=\u001b[1;36m1024\u001b[0m, \u001b[33mbias\u001b[0m=\u001b[3;92mTrue\u001b[0m\u001b[1m)\u001b[0m\n",
       "            \u001b[1m(\u001b[0mv_proj\u001b[1m)\u001b[0m: \u001b[1;35mLinear\u001b[0m\u001b[1m(\u001b[0m\u001b[33min_features\u001b[0m=\u001b[1;36m1024\u001b[0m, \u001b[33mout_features\u001b[0m=\u001b[1;36m1024\u001b[0m, \u001b[33mbias\u001b[0m=\u001b[3;92mTrue\u001b[0m\u001b[1m)\u001b[0m\n",
       "            \u001b[1m(\u001b[0mq_proj\u001b[1m)\u001b[0m: \u001b[1;35mLinear\u001b[0m\u001b[1m(\u001b[0m\u001b[33min_features\u001b[0m=\u001b[1;36m1024\u001b[0m, \u001b[33mout_features\u001b[0m=\u001b[1;36m1024\u001b[0m, \u001b[33mbias\u001b[0m=\u001b[3;92mTrue\u001b[0m\u001b[1m)\u001b[0m\n",
       "            \u001b[1m(\u001b[0mout_proj\u001b[1m)\u001b[0m: \u001b[1;35mLinear\u001b[0m\u001b[1m(\u001b[0m\u001b[33min_features\u001b[0m=\u001b[1;36m1024\u001b[0m, \u001b[33mout_features\u001b[0m=\u001b[1;36m1024\u001b[0m, \u001b[33mbias\u001b[0m=\u001b[3;92mTrue\u001b[0m\u001b[1m)\u001b[0m\n",
       "          \u001b[1m)\u001b[0m\n",
       "          \u001b[1m(\u001b[0mself_attn_layer_norm\u001b[1m)\u001b[0m: \u001b[1;35mLayerNorm\u001b[0m\u001b[1m(\u001b[0m\u001b[1m(\u001b[0m\u001b[1;36m1024\u001b[0m,\u001b[1m)\u001b[0m, \u001b[33meps\u001b[0m=\u001b[1;36m1e\u001b[0m\u001b[1;36m-05\u001b[0m, \u001b[33melementwise_affine\u001b[0m=\u001b[3;92mTrue\u001b[0m\u001b[1m)\u001b[0m\n",
       "          \u001b[1m(\u001b[0mactivation_fn\u001b[1m)\u001b[0m: \u001b[1;35mGELUActivation\u001b[0m\u001b[1m(\u001b[0m\u001b[1m)\u001b[0m\n",
       "          \u001b[1m(\u001b[0mfc1\u001b[1m)\u001b[0m: \u001b[1;35mLinear\u001b[0m\u001b[1m(\u001b[0m\u001b[33min_features\u001b[0m=\u001b[1;36m1024\u001b[0m, \u001b[33mout_features\u001b[0m=\u001b[1;36m4096\u001b[0m, \u001b[33mbias\u001b[0m=\u001b[3;92mTrue\u001b[0m\u001b[1m)\u001b[0m\n",
       "          \u001b[1m(\u001b[0mfc2\u001b[1m)\u001b[0m: \u001b[1;35mLinear\u001b[0m\u001b[1m(\u001b[0m\u001b[33min_features\u001b[0m=\u001b[1;36m4096\u001b[0m, \u001b[33mout_features\u001b[0m=\u001b[1;36m1024\u001b[0m, \u001b[33mbias\u001b[0m=\u001b[3;92mTrue\u001b[0m\u001b[1m)\u001b[0m\n",
       "          \u001b[1m(\u001b[0mfinal_layer_norm\u001b[1m)\u001b[0m: \u001b[1;35mLayerNorm\u001b[0m\u001b[1m(\u001b[0m\u001b[1m(\u001b[0m\u001b[1;36m1024\u001b[0m,\u001b[1m)\u001b[0m, \u001b[33meps\u001b[0m=\u001b[1;36m1e\u001b[0m\u001b[1;36m-05\u001b[0m, \u001b[33melementwise_affine\u001b[0m=\u001b[3;92mTrue\u001b[0m\u001b[1m)\u001b[0m\n",
       "        \u001b[1m)\u001b[0m\n",
       "      \u001b[1m)\u001b[0m\n",
       "      \u001b[1m(\u001b[0mlayernorm_embedding\u001b[1m)\u001b[0m: \u001b[1;35mLayerNorm\u001b[0m\u001b[1m(\u001b[0m\u001b[1m(\u001b[0m\u001b[1;36m1024\u001b[0m,\u001b[1m)\u001b[0m, \u001b[33meps\u001b[0m=\u001b[1;36m1e\u001b[0m\u001b[1;36m-05\u001b[0m, \u001b[33melementwise_affine\u001b[0m=\u001b[3;92mTrue\u001b[0m\u001b[1m)\u001b[0m\n",
       "    \u001b[1m)\u001b[0m\n",
       "    \u001b[1m(\u001b[0mdecoder\u001b[1m)\u001b[0m: \u001b[1;35mBartDecoder\u001b[0m\u001b[1m(\u001b[0m\n",
       "      \u001b[1m(\u001b[0membed_tokens\u001b[1m)\u001b[0m: \u001b[1;35mEmbedding\u001b[0m\u001b[1m(\u001b[0m\u001b[1;36m50265\u001b[0m, \u001b[1;36m1024\u001b[0m, \u001b[33mpadding_idx\u001b[0m=\u001b[1;36m1\u001b[0m\u001b[1m)\u001b[0m\n",
       "      \u001b[1m(\u001b[0membed_positions\u001b[1m)\u001b[0m: \u001b[1;35mBartLearnedPositionalEmbedding\u001b[0m\u001b[1m(\u001b[0m\u001b[1;36m1026\u001b[0m, \u001b[1;36m1024\u001b[0m\u001b[1m)\u001b[0m\n",
       "      \u001b[1m(\u001b[0mlayers\u001b[1m)\u001b[0m: \u001b[1;35mModuleList\u001b[0m\u001b[1m(\u001b[0m\n",
       "        \u001b[1m(\u001b[0m\u001b[1;36m0\u001b[0m-\u001b[1;36m11\u001b[0m\u001b[1m)\u001b[0m: \u001b[1;36m12\u001b[0m x \u001b[1;35mBartDecoderLayer\u001b[0m\u001b[1m(\u001b[0m\n",
       "          \u001b[1m(\u001b[0mself_attn\u001b[1m)\u001b[0m: \u001b[1;35mBartAttention\u001b[0m\u001b[1m(\u001b[0m\n",
       "            \u001b[1m(\u001b[0mk_proj\u001b[1m)\u001b[0m: \u001b[1;35mLinear\u001b[0m\u001b[1m(\u001b[0m\u001b[33min_features\u001b[0m=\u001b[1;36m1024\u001b[0m, \u001b[33mout_features\u001b[0m=\u001b[1;36m1024\u001b[0m, \u001b[33mbias\u001b[0m=\u001b[3;92mTrue\u001b[0m\u001b[1m)\u001b[0m\n",
       "            \u001b[1m(\u001b[0mv_proj\u001b[1m)\u001b[0m: \u001b[1;35mLinear\u001b[0m\u001b[1m(\u001b[0m\u001b[33min_features\u001b[0m=\u001b[1;36m1024\u001b[0m, \u001b[33mout_features\u001b[0m=\u001b[1;36m1024\u001b[0m, \u001b[33mbias\u001b[0m=\u001b[3;92mTrue\u001b[0m\u001b[1m)\u001b[0m\n",
       "            \u001b[1m(\u001b[0mq_proj\u001b[1m)\u001b[0m: \u001b[1;35mLinear\u001b[0m\u001b[1m(\u001b[0m\u001b[33min_features\u001b[0m=\u001b[1;36m1024\u001b[0m, \u001b[33mout_features\u001b[0m=\u001b[1;36m1024\u001b[0m, \u001b[33mbias\u001b[0m=\u001b[3;92mTrue\u001b[0m\u001b[1m)\u001b[0m\n",
       "            \u001b[1m(\u001b[0mout_proj\u001b[1m)\u001b[0m: \u001b[1;35mLinear\u001b[0m\u001b[1m(\u001b[0m\u001b[33min_features\u001b[0m=\u001b[1;36m1024\u001b[0m, \u001b[33mout_features\u001b[0m=\u001b[1;36m1024\u001b[0m, \u001b[33mbias\u001b[0m=\u001b[3;92mTrue\u001b[0m\u001b[1m)\u001b[0m\n",
       "          \u001b[1m)\u001b[0m\n",
       "          \u001b[1m(\u001b[0mactivation_fn\u001b[1m)\u001b[0m: \u001b[1;35mGELUActivation\u001b[0m\u001b[1m(\u001b[0m\u001b[1m)\u001b[0m\n",
       "          \u001b[1m(\u001b[0mself_attn_layer_norm\u001b[1m)\u001b[0m: \u001b[1;35mLayerNorm\u001b[0m\u001b[1m(\u001b[0m\u001b[1m(\u001b[0m\u001b[1;36m1024\u001b[0m,\u001b[1m)\u001b[0m, \u001b[33meps\u001b[0m=\u001b[1;36m1e\u001b[0m\u001b[1;36m-05\u001b[0m, \u001b[33melementwise_affine\u001b[0m=\u001b[3;92mTrue\u001b[0m\u001b[1m)\u001b[0m\n",
       "          \u001b[1m(\u001b[0mencoder_attn\u001b[1m)\u001b[0m: \u001b[1;35mBartAttention\u001b[0m\u001b[1m(\u001b[0m\n",
       "            \u001b[1m(\u001b[0mk_proj\u001b[1m)\u001b[0m: \u001b[1;35mLinear\u001b[0m\u001b[1m(\u001b[0m\u001b[33min_features\u001b[0m=\u001b[1;36m1024\u001b[0m, \u001b[33mout_features\u001b[0m=\u001b[1;36m1024\u001b[0m, \u001b[33mbias\u001b[0m=\u001b[3;92mTrue\u001b[0m\u001b[1m)\u001b[0m\n",
       "            \u001b[1m(\u001b[0mv_proj\u001b[1m)\u001b[0m: \u001b[1;35mLinear\u001b[0m\u001b[1m(\u001b[0m\u001b[33min_features\u001b[0m=\u001b[1;36m1024\u001b[0m, \u001b[33mout_features\u001b[0m=\u001b[1;36m1024\u001b[0m, \u001b[33mbias\u001b[0m=\u001b[3;92mTrue\u001b[0m\u001b[1m)\u001b[0m\n",
       "            \u001b[1m(\u001b[0mq_proj\u001b[1m)\u001b[0m: \u001b[1;35mLinear\u001b[0m\u001b[1m(\u001b[0m\u001b[33min_features\u001b[0m=\u001b[1;36m1024\u001b[0m, \u001b[33mout_features\u001b[0m=\u001b[1;36m1024\u001b[0m, \u001b[33mbias\u001b[0m=\u001b[3;92mTrue\u001b[0m\u001b[1m)\u001b[0m\n",
       "            \u001b[1m(\u001b[0mout_proj\u001b[1m)\u001b[0m: \u001b[1;35mLinear\u001b[0m\u001b[1m(\u001b[0m\u001b[33min_features\u001b[0m=\u001b[1;36m1024\u001b[0m, \u001b[33mout_features\u001b[0m=\u001b[1;36m1024\u001b[0m, \u001b[33mbias\u001b[0m=\u001b[3;92mTrue\u001b[0m\u001b[1m)\u001b[0m\n",
       "          \u001b[1m)\u001b[0m\n",
       "          \u001b[1m(\u001b[0mencoder_attn_layer_norm\u001b[1m)\u001b[0m: \u001b[1;35mLayerNorm\u001b[0m\u001b[1m(\u001b[0m\u001b[1m(\u001b[0m\u001b[1;36m1024\u001b[0m,\u001b[1m)\u001b[0m, \u001b[33meps\u001b[0m=\u001b[1;36m1e\u001b[0m\u001b[1;36m-05\u001b[0m, \u001b[33melementwise_affine\u001b[0m=\u001b[3;92mTrue\u001b[0m\u001b[1m)\u001b[0m\n",
       "          \u001b[1m(\u001b[0mfc1\u001b[1m)\u001b[0m: \u001b[1;35mLinear\u001b[0m\u001b[1m(\u001b[0m\u001b[33min_features\u001b[0m=\u001b[1;36m1024\u001b[0m, \u001b[33mout_features\u001b[0m=\u001b[1;36m4096\u001b[0m, \u001b[33mbias\u001b[0m=\u001b[3;92mTrue\u001b[0m\u001b[1m)\u001b[0m\n",
       "          \u001b[1m(\u001b[0mfc2\u001b[1m)\u001b[0m: \u001b[1;35mLinear\u001b[0m\u001b[1m(\u001b[0m\u001b[33min_features\u001b[0m=\u001b[1;36m4096\u001b[0m, \u001b[33mout_features\u001b[0m=\u001b[1;36m1024\u001b[0m, \u001b[33mbias\u001b[0m=\u001b[3;92mTrue\u001b[0m\u001b[1m)\u001b[0m\n",
       "          \u001b[1m(\u001b[0mfinal_layer_norm\u001b[1m)\u001b[0m: \u001b[1;35mLayerNorm\u001b[0m\u001b[1m(\u001b[0m\u001b[1m(\u001b[0m\u001b[1;36m1024\u001b[0m,\u001b[1m)\u001b[0m, \u001b[33meps\u001b[0m=\u001b[1;36m1e\u001b[0m\u001b[1;36m-05\u001b[0m, \u001b[33melementwise_affine\u001b[0m=\u001b[3;92mTrue\u001b[0m\u001b[1m)\u001b[0m\n",
       "        \u001b[1m)\u001b[0m\n",
       "      \u001b[1m)\u001b[0m\n",
       "      \u001b[1m(\u001b[0mlayernorm_embedding\u001b[1m)\u001b[0m: \u001b[1;35mLayerNorm\u001b[0m\u001b[1m(\u001b[0m\u001b[1m(\u001b[0m\u001b[1;36m1024\u001b[0m,\u001b[1m)\u001b[0m, \u001b[33meps\u001b[0m=\u001b[1;36m1e\u001b[0m\u001b[1;36m-05\u001b[0m, \u001b[33melementwise_affine\u001b[0m=\u001b[3;92mTrue\u001b[0m\u001b[1m)\u001b[0m\n",
       "    \u001b[1m)\u001b[0m\n",
       "  \u001b[1m)\u001b[0m\n",
       "  \u001b[1m(\u001b[0mlm_head\u001b[1m)\u001b[0m: \u001b[1;35mLinear\u001b[0m\u001b[1m(\u001b[0m\u001b[33min_features\u001b[0m=\u001b[1;36m1024\u001b[0m, \u001b[33mout_features\u001b[0m=\u001b[1;36m50265\u001b[0m, \u001b[33mbias\u001b[0m=\u001b[3;91mFalse\u001b[0m\u001b[1m)\u001b[0m\n",
       "\u001b[1m)\u001b[0m\n"
      ]
     },
     "metadata": {},
     "output_type": "display_data"
    }
   ],
   "source": [
    "rich_print(init_model)"
   ]
  },
  {
   "cell_type": "markdown",
   "id": "cbdd5f52",
   "metadata": {},
   "source": [
    "#### Load sample conversation for testing"
   ]
  },
  {
   "cell_type": "code",
   "execution_count": 135,
   "id": "59559c02",
   "metadata": {
    "execution": {
     "iopub.execute_input": "2024-09-13T03:30:13.703154Z",
     "iopub.status.busy": "2024-09-13T03:30:13.702930Z",
     "iopub.status.idle": "2024-09-13T03:30:13.707341Z",
     "shell.execute_reply": "2024-09-13T03:30:13.706848Z"
    }
   },
   "outputs": [
    {
     "name": "stdout",
     "output_type": "stream",
     "text": [
      "----------------------------------------------------------------------------------------------------\n",
      "Sample Dialog:\n",
      "#Person1#: What time is it, Tom?\n",
      "#Person2#: Just a minute. It's ten to nine by my watch.\n",
      "#Person1#: Is it? I had no idea it was so late. I must be off now.\n",
      "#Person2#: What's the hurry?\n",
      "#Person1#: I must catch the nine-thirty train.\n",
      "#Person2#: You've plenty of time yet. The railway station is very close. It won't take more than twenty minutes to get there.\n",
      "\n",
      "----------------------------------------------------------------------------------------------------\n",
      "Baseline Summary:\n",
      "#Person1# is in a hurry to catch a train. Tom tells #Person1# there is plenty of time.\n"
     ]
    }
   ],
   "source": [
    "example_index = 40\n",
    "\n",
    "sample_dialogue = hf_dataset_1_dict[\"test\"][example_index][\"dialogue\"]\n",
    "# sample_dialogue = tokenized_hf2_t3[\"test\"][example_index][\"input_ids\"]\n",
    "print(\"-\" * 100)\n",
    "print(\"Sample Dialog:\")\n",
    "print(sample_dialogue)\n",
    "\n",
    "print()\n",
    "\n",
    "sample_baseline_summary = hf_dataset_1_dict[\"test\"][example_index][\"summary\"]\n",
    "# sample_dialogue = tokenized_hf2_t3[\"test\"][example_index][\"input_ids\"]\n",
    "print(\"-\" * 100)\n",
    "print(\"Baseline Summary:\")\n",
    "print(sample_baseline_summary)"
   ]
  },
  {
   "cell_type": "code",
   "execution_count": 136,
   "id": "b7bd1213",
   "metadata": {
    "execution": {
     "iopub.execute_input": "2024-09-13T03:30:13.709452Z",
     "iopub.status.busy": "2024-09-13T03:30:13.709225Z",
     "iopub.status.idle": "2024-09-13T03:30:13.715702Z",
     "shell.execute_reply": "2024-09-13T03:30:13.715238Z"
    }
   },
   "outputs": [
    {
     "data": {
      "text/html": [
       "<pre style=\"white-space:pre;overflow-x:auto;line-height:normal;font-family:Menlo,'DejaVu Sans Mono',consolas,'Courier New',monospace\"><span style=\"font-weight: bold\">{</span>\n",
       "    <span style=\"color: #008000; text-decoration-color: #008000\">'input_ids'</span>: <span style=\"color: #800080; text-decoration-color: #800080; font-weight: bold\">tensor</span><span style=\"font-weight: bold\">([[</span>    <span style=\"color: #008080; text-decoration-color: #008080; font-weight: bold\">0</span>, <span style=\"color: #008080; text-decoration-color: #008080; font-weight: bold\">10431</span>, <span style=\"color: #008080; text-decoration-color: #008080; font-weight: bold\">41761</span>,  <span style=\"color: #808000; text-decoration-color: #808000\">...</span>,     <span style=\"color: #008080; text-decoration-color: #008080; font-weight: bold\">1</span>,     <span style=\"color: #008080; text-decoration-color: #008080; font-weight: bold\">1</span>,     <span style=\"color: #008080; text-decoration-color: #008080; font-weight: bold\">1</span><span style=\"font-weight: bold\">]])</span>,\n",
       "    <span style=\"color: #008000; text-decoration-color: #008000\">'attention_mask'</span>: <span style=\"color: #800080; text-decoration-color: #800080; font-weight: bold\">tensor</span><span style=\"font-weight: bold\">([[</span><span style=\"color: #008080; text-decoration-color: #008080; font-weight: bold\">1</span>, <span style=\"color: #008080; text-decoration-color: #008080; font-weight: bold\">1</span>, <span style=\"color: #008080; text-decoration-color: #008080; font-weight: bold\">1</span>,  <span style=\"color: #808000; text-decoration-color: #808000\">...</span>, <span style=\"color: #008080; text-decoration-color: #008080; font-weight: bold\">0</span>, <span style=\"color: #008080; text-decoration-color: #008080; font-weight: bold\">0</span>, <span style=\"color: #008080; text-decoration-color: #008080; font-weight: bold\">0</span><span style=\"font-weight: bold\">]])</span>\n",
       "<span style=\"font-weight: bold\">}</span>\n",
       "</pre>\n"
      ],
      "text/plain": [
       "\u001b[1m{\u001b[0m\n",
       "    \u001b[32m'input_ids'\u001b[0m: \u001b[1;35mtensor\u001b[0m\u001b[1m(\u001b[0m\u001b[1m[\u001b[0m\u001b[1m[\u001b[0m    \u001b[1;36m0\u001b[0m, \u001b[1;36m10431\u001b[0m, \u001b[1;36m41761\u001b[0m,  \u001b[33m...\u001b[0m,     \u001b[1;36m1\u001b[0m,     \u001b[1;36m1\u001b[0m,     \u001b[1;36m1\u001b[0m\u001b[1m]\u001b[0m\u001b[1m]\u001b[0m\u001b[1m)\u001b[0m,\n",
       "    \u001b[32m'attention_mask'\u001b[0m: \u001b[1;35mtensor\u001b[0m\u001b[1m(\u001b[0m\u001b[1m[\u001b[0m\u001b[1m[\u001b[0m\u001b[1;36m1\u001b[0m, \u001b[1;36m1\u001b[0m, \u001b[1;36m1\u001b[0m,  \u001b[33m...\u001b[0m, \u001b[1;36m0\u001b[0m, \u001b[1;36m0\u001b[0m, \u001b[1;36m0\u001b[0m\u001b[1m]\u001b[0m\u001b[1m]\u001b[0m\u001b[1m)\u001b[0m\n",
       "\u001b[1m}\u001b[0m\n"
      ]
     },
     "metadata": {},
     "output_type": "display_data"
    }
   ],
   "source": [
    "sample_input_ids = init_tokenizer(sample_dialogue,  padding='max_length', truncation=True, return_tensors=\"pt\")\n",
    "\n",
    "if show_tokenizer_output:\n",
    "    rich_print(sample_input_ids)"
   ]
  },
  {
   "cell_type": "markdown",
   "id": "0a62ba6f",
   "metadata": {},
   "source": [
    "#### With base model"
   ]
  },
  {
   "cell_type": "code",
   "execution_count": 137,
   "id": "8624bd46",
   "metadata": {
    "execution": {
     "iopub.execute_input": "2024-09-13T03:30:13.717893Z",
     "iopub.status.busy": "2024-09-13T03:30:13.717667Z",
     "iopub.status.idle": "2024-09-13T03:30:17.940173Z",
     "shell.execute_reply": "2024-09-13T03:30:17.939571Z"
    }
   },
   "outputs": [
    {
     "data": {
      "text/html": [
       "<pre style=\"white-space:pre;overflow-x:auto;line-height:normal;font-family:Menlo,'DejaVu Sans Mono',consolas,'Courier New',monospace\"><span style=\"color: #800080; text-decoration-color: #800080; font-weight: bold\">tensor</span><span style=\"font-weight: bold\">([[</span>    <span style=\"color: #008080; text-decoration-color: #008080; font-weight: bold\">2</span>,     <span style=\"color: #008080; text-decoration-color: #008080; font-weight: bold\">0</span>, <span style=\"color: #008080; text-decoration-color: #008080; font-weight: bold\">10431</span>, <span style=\"color: #008080; text-decoration-color: #008080; font-weight: bold\">41761</span>,   <span style=\"color: #008080; text-decoration-color: #008080; font-weight: bold\">134</span>, <span style=\"color: #008080; text-decoration-color: #008080; font-weight: bold\">10431</span>,    <span style=\"color: #008080; text-decoration-color: #008080; font-weight: bold\">35</span>,   <span style=\"color: #008080; text-decoration-color: #008080; font-weight: bold\">653</span>,    <span style=\"color: #008080; text-decoration-color: #008080; font-weight: bold\">86</span>,    <span style=\"color: #008080; text-decoration-color: #008080; font-weight: bold\">16</span>,\n",
       "            <span style=\"color: #008080; text-decoration-color: #008080; font-weight: bold\">24</span>,     <span style=\"color: #008080; text-decoration-color: #008080; font-weight: bold\">6</span>,  <span style=\"color: #008080; text-decoration-color: #008080; font-weight: bold\">1560</span>,   <span style=\"color: #008080; text-decoration-color: #008080; font-weight: bold\">116</span>, <span style=\"color: #008080; text-decoration-color: #008080; font-weight: bold\">10431</span>, <span style=\"color: #008080; text-decoration-color: #008080; font-weight: bold\">41761</span>,   <span style=\"color: #008080; text-decoration-color: #008080; font-weight: bold\">176</span>, <span style=\"color: #008080; text-decoration-color: #008080; font-weight: bold\">10431</span>,    <span style=\"color: #008080; text-decoration-color: #008080; font-weight: bold\">35</span>,  <span style=\"color: #008080; text-decoration-color: #008080; font-weight: bold\">1801</span>,\n",
       "            <span style=\"color: #008080; text-decoration-color: #008080; font-weight: bold\">10</span>,  <span style=\"color: #008080; text-decoration-color: #008080; font-weight: bold\">2289</span>,     <span style=\"color: #008080; text-decoration-color: #008080; font-weight: bold\">4</span>,    <span style=\"color: #008080; text-decoration-color: #008080; font-weight: bold\">85</span>,    <span style=\"color: #008080; text-decoration-color: #008080; font-weight: bold\">18</span>,  <span style=\"color: #008080; text-decoration-color: #008080; font-weight: bold\">2724</span>,     <span style=\"color: #008080; text-decoration-color: #008080; font-weight: bold\">7</span>,  <span style=\"color: #008080; text-decoration-color: #008080; font-weight: bold\">1117</span>,    <span style=\"color: #008080; text-decoration-color: #008080; font-weight: bold\">30</span>,   <span style=\"color: #008080; text-decoration-color: #008080; font-weight: bold\">127</span>,\n",
       "          <span style=\"color: #008080; text-decoration-color: #008080; font-weight: bold\">1183</span>,     <span style=\"color: #008080; text-decoration-color: #008080; font-weight: bold\">4</span>,    <span style=\"color: #008080; text-decoration-color: #008080; font-weight: bold\">38</span>,   <span style=\"color: #008080; text-decoration-color: #008080; font-weight: bold\">531</span>,    <span style=\"color: #008080; text-decoration-color: #008080; font-weight: bold\">28</span>,   <span style=\"color: #008080; text-decoration-color: #008080; font-weight: bold\">160</span>,   <span style=\"color: #008080; text-decoration-color: #008080; font-weight: bold\">122</span>,     <span style=\"color: #008080; text-decoration-color: #008080; font-weight: bold\">4</span>,    <span style=\"color: #008080; text-decoration-color: #008080; font-weight: bold\">20</span>, <span style=\"color: #008080; text-decoration-color: #008080; font-weight: bold\">10780</span>,\n",
       "          <span style=\"color: #008080; text-decoration-color: #008080; font-weight: bold\">1992</span>,    <span style=\"color: #008080; text-decoration-color: #008080; font-weight: bold\">16</span>,   <span style=\"color: #008080; text-decoration-color: #008080; font-weight: bold\">182</span>,   <span style=\"color: #008080; text-decoration-color: #008080; font-weight: bold\">593</span>,     <span style=\"color: #008080; text-decoration-color: #008080; font-weight: bold\">4</span>,    <span style=\"color: #008080; text-decoration-color: #008080; font-weight: bold\">85</span>,   <span style=\"color: #008080; text-decoration-color: #008080; font-weight: bold\">351</span>,    <span style=\"color: #008080; text-decoration-color: #008080; font-weight: bold\">75</span>,   <span style=\"color: #008080; text-decoration-color: #008080; font-weight: bold\">185</span>,    <span style=\"color: #008080; text-decoration-color: #008080; font-weight: bold\">55</span>,\n",
       "            <span style=\"color: #008080; text-decoration-color: #008080; font-weight: bold\">87</span>, <span style=\"color: #008080; text-decoration-color: #008080; font-weight: bold\">10328</span>,   <span style=\"color: #008080; text-decoration-color: #008080; font-weight: bold\">728</span>,     <span style=\"color: #008080; text-decoration-color: #008080; font-weight: bold\">7</span>,   <span style=\"color: #008080; text-decoration-color: #008080; font-weight: bold\">120</span>,    <span style=\"color: #008080; text-decoration-color: #008080; font-weight: bold\">89</span>,     <span style=\"color: #008080; text-decoration-color: #008080; font-weight: bold\">4</span>,    <span style=\"color: #008080; text-decoration-color: #008080; font-weight: bold\">38</span>,   <span style=\"color: #008080; text-decoration-color: #008080; font-weight: bold\">581</span>,   <span style=\"color: #008080; text-decoration-color: #008080; font-weight: bold\">972</span>,\n",
       "            <span style=\"color: #008080; text-decoration-color: #008080; font-weight: bold\">47</span>,    <span style=\"color: #008080; text-decoration-color: #008080; font-weight: bold\">89</span>,    <span style=\"color: #008080; text-decoration-color: #008080; font-weight: bold\">23</span>,  <span style=\"color: #008080; text-decoration-color: #008080; font-weight: bold\">1117</span>,    <span style=\"color: #008080; text-decoration-color: #008080; font-weight: bold\">12</span>,   <span style=\"color: #008080; text-decoration-color: #008080; font-weight: bold\">212</span>, <span style=\"color: #008080; text-decoration-color: #008080; font-weight: bold\">32430</span>,     <span style=\"color: #008080; text-decoration-color: #008080; font-weight: bold\">6</span>,   <span style=\"color: #008080; text-decoration-color: #008080; font-weight: bold\">114</span>,    <span style=\"color: #008080; text-decoration-color: #008080; font-weight: bold\">47</span>,\n",
       "           <span style=\"color: #008080; text-decoration-color: #008080; font-weight: bold\">218</span>,    <span style=\"color: #008080; text-decoration-color: #008080; font-weight: bold\">75</span>,  <span style=\"color: #008080; text-decoration-color: #008080; font-weight: bold\">1508</span>,     <span style=\"color: #008080; text-decoration-color: #008080; font-weight: bold\">4</span>, <span style=\"color: #008080; text-decoration-color: #008080; font-weight: bold\">10431</span>, <span style=\"color: #008080; text-decoration-color: #008080; font-weight: bold\">41761</span>,   <span style=\"color: #008080; text-decoration-color: #008080; font-weight: bold\">288</span>, <span style=\"color: #008080; text-decoration-color: #008080; font-weight: bold\">10431</span>,    <span style=\"color: #008080; text-decoration-color: #008080; font-weight: bold\">35</span>,    <span style=\"color: #008080; text-decoration-color: #008080; font-weight: bold\">85</span>,\n",
       "            <span style=\"color: #008080; text-decoration-color: #008080; font-weight: bold\">18</span>,   <span style=\"color: #008080; text-decoration-color: #008080; font-weight: bold\">350</span>,   <span style=\"color: #008080; text-decoration-color: #008080; font-weight: bold\">628</span>,     <span style=\"color: #008080; text-decoration-color: #008080; font-weight: bold\">6</span>,  <span style=\"color: #008080; text-decoration-color: #008080; font-weight: bold\">1560</span>,     <span style=\"color: #008080; text-decoration-color: #008080; font-weight: bold\">6</span>,    <span style=\"color: #008080; text-decoration-color: #008080; font-weight: bold\">38</span>,   <span style=\"color: #008080; text-decoration-color: #008080; font-weight: bold\">437</span>,  <span style=\"color: #008080; text-decoration-color: #008080; font-weight: bold\">6661</span>,    <span style=\"color: #008080; text-decoration-color: #008080; font-weight: bold\">59</span>,\n",
       "            <span style=\"color: #008080; text-decoration-color: #008080; font-weight: bold\">14</span>,     <span style=\"color: #008080; text-decoration-color: #008080; font-weight: bold\">4</span>,    <span style=\"color: #008080; text-decoration-color: #008080; font-weight: bold\">38</span>,    <span style=\"color: #008080; text-decoration-color: #008080; font-weight: bold\">56</span>,   <span style=\"color: #008080; text-decoration-color: #008080; font-weight: bold\">117</span>,  <span style=\"color: #008080; text-decoration-color: #008080; font-weight: bold\">1114</span>,    <span style=\"color: #008080; text-decoration-color: #008080; font-weight: bold\">24</span>,    <span style=\"color: #008080; text-decoration-color: #008080; font-weight: bold\">21</span>,    <span style=\"color: #008080; text-decoration-color: #008080; font-weight: bold\">98</span>,   <span style=\"color: #008080; text-decoration-color: #008080; font-weight: bold\">628</span>,\n",
       "             <span style=\"color: #008080; text-decoration-color: #008080; font-weight: bold\">2</span><span style=\"font-weight: bold\">]])</span>\n",
       "</pre>\n"
      ],
      "text/plain": [
       "\u001b[1;35mtensor\u001b[0m\u001b[1m(\u001b[0m\u001b[1m[\u001b[0m\u001b[1m[\u001b[0m    \u001b[1;36m2\u001b[0m,     \u001b[1;36m0\u001b[0m, \u001b[1;36m10431\u001b[0m, \u001b[1;36m41761\u001b[0m,   \u001b[1;36m134\u001b[0m, \u001b[1;36m10431\u001b[0m,    \u001b[1;36m35\u001b[0m,   \u001b[1;36m653\u001b[0m,    \u001b[1;36m86\u001b[0m,    \u001b[1;36m16\u001b[0m,\n",
       "            \u001b[1;36m24\u001b[0m,     \u001b[1;36m6\u001b[0m,  \u001b[1;36m1560\u001b[0m,   \u001b[1;36m116\u001b[0m, \u001b[1;36m10431\u001b[0m, \u001b[1;36m41761\u001b[0m,   \u001b[1;36m176\u001b[0m, \u001b[1;36m10431\u001b[0m,    \u001b[1;36m35\u001b[0m,  \u001b[1;36m1801\u001b[0m,\n",
       "            \u001b[1;36m10\u001b[0m,  \u001b[1;36m2289\u001b[0m,     \u001b[1;36m4\u001b[0m,    \u001b[1;36m85\u001b[0m,    \u001b[1;36m18\u001b[0m,  \u001b[1;36m2724\u001b[0m,     \u001b[1;36m7\u001b[0m,  \u001b[1;36m1117\u001b[0m,    \u001b[1;36m30\u001b[0m,   \u001b[1;36m127\u001b[0m,\n",
       "          \u001b[1;36m1183\u001b[0m,     \u001b[1;36m4\u001b[0m,    \u001b[1;36m38\u001b[0m,   \u001b[1;36m531\u001b[0m,    \u001b[1;36m28\u001b[0m,   \u001b[1;36m160\u001b[0m,   \u001b[1;36m122\u001b[0m,     \u001b[1;36m4\u001b[0m,    \u001b[1;36m20\u001b[0m, \u001b[1;36m10780\u001b[0m,\n",
       "          \u001b[1;36m1992\u001b[0m,    \u001b[1;36m16\u001b[0m,   \u001b[1;36m182\u001b[0m,   \u001b[1;36m593\u001b[0m,     \u001b[1;36m4\u001b[0m,    \u001b[1;36m85\u001b[0m,   \u001b[1;36m351\u001b[0m,    \u001b[1;36m75\u001b[0m,   \u001b[1;36m185\u001b[0m,    \u001b[1;36m55\u001b[0m,\n",
       "            \u001b[1;36m87\u001b[0m, \u001b[1;36m10328\u001b[0m,   \u001b[1;36m728\u001b[0m,     \u001b[1;36m7\u001b[0m,   \u001b[1;36m120\u001b[0m,    \u001b[1;36m89\u001b[0m,     \u001b[1;36m4\u001b[0m,    \u001b[1;36m38\u001b[0m,   \u001b[1;36m581\u001b[0m,   \u001b[1;36m972\u001b[0m,\n",
       "            \u001b[1;36m47\u001b[0m,    \u001b[1;36m89\u001b[0m,    \u001b[1;36m23\u001b[0m,  \u001b[1;36m1117\u001b[0m,    \u001b[1;36m12\u001b[0m,   \u001b[1;36m212\u001b[0m, \u001b[1;36m32430\u001b[0m,     \u001b[1;36m6\u001b[0m,   \u001b[1;36m114\u001b[0m,    \u001b[1;36m47\u001b[0m,\n",
       "           \u001b[1;36m218\u001b[0m,    \u001b[1;36m75\u001b[0m,  \u001b[1;36m1508\u001b[0m,     \u001b[1;36m4\u001b[0m, \u001b[1;36m10431\u001b[0m, \u001b[1;36m41761\u001b[0m,   \u001b[1;36m288\u001b[0m, \u001b[1;36m10431\u001b[0m,    \u001b[1;36m35\u001b[0m,    \u001b[1;36m85\u001b[0m,\n",
       "            \u001b[1;36m18\u001b[0m,   \u001b[1;36m350\u001b[0m,   \u001b[1;36m628\u001b[0m,     \u001b[1;36m6\u001b[0m,  \u001b[1;36m1560\u001b[0m,     \u001b[1;36m6\u001b[0m,    \u001b[1;36m38\u001b[0m,   \u001b[1;36m437\u001b[0m,  \u001b[1;36m6661\u001b[0m,    \u001b[1;36m59\u001b[0m,\n",
       "            \u001b[1;36m14\u001b[0m,     \u001b[1;36m4\u001b[0m,    \u001b[1;36m38\u001b[0m,    \u001b[1;36m56\u001b[0m,   \u001b[1;36m117\u001b[0m,  \u001b[1;36m1114\u001b[0m,    \u001b[1;36m24\u001b[0m,    \u001b[1;36m21\u001b[0m,    \u001b[1;36m98\u001b[0m,   \u001b[1;36m628\u001b[0m,\n",
       "             \u001b[1;36m2\u001b[0m\u001b[1m]\u001b[0m\u001b[1m]\u001b[0m\u001b[1m)\u001b[0m\n"
      ]
     },
     "metadata": {},
     "output_type": "display_data"
    }
   ],
   "source": [
    "outputs = init_model.generate(sample_input_ids[\"input_ids\"], max_new_tokens = 100)\n",
    "\n",
    "if show_tokenizer_output:\n",
    "    rich_print(outputs)"
   ]
  },
  {
   "cell_type": "code",
   "execution_count": 138,
   "id": "f51baa07",
   "metadata": {
    "execution": {
     "iopub.execute_input": "2024-09-13T03:30:17.943142Z",
     "iopub.status.busy": "2024-09-13T03:30:17.942848Z",
     "iopub.status.idle": "2024-09-13T03:30:17.947890Z",
     "shell.execute_reply": "2024-09-13T03:30:17.947420Z"
    }
   },
   "outputs": [
    {
     "data": {
      "text/html": [
       "<pre style=\"white-space:pre;overflow-x:auto;line-height:normal;font-family:Menlo,'DejaVu Sans Mono',consolas,'Courier New',monospace\">#Person1#: What time is it, Tom?#Person2#: Just a minute. It's ten to nine by my watch. I must be off now. The \n",
       "railway station is very close. It won't take more than twenty minutes to get there. I'll meet you there at \n",
       "nine-thirty, if you don't mind.#Person0#: It's too late, Tom, I'm sorry about that. I had no idea it was so late\n",
       "</pre>\n"
      ],
      "text/plain": [
       "#Person1#: What time is it, Tom?#Person2#: Just a minute. It's ten to nine by my watch. I must be off now. The \n",
       "railway station is very close. It won't take more than twenty minutes to get there. I'll meet you there at \n",
       "nine-thirty, if you don't mind.#Person0#: It's too late, Tom, I'm sorry about that. I had no idea it was so late\n"
      ]
     },
     "metadata": {},
     "output_type": "display_data"
    }
   ],
   "source": [
    "rich_print(init_tokenizer.decode(outputs[0], skip_special_tokens=True))"
   ]
  },
  {
   "cell_type": "markdown",
   "id": "7d3df47a",
   "metadata": {},
   "source": [
    "#### With fine-tuned model"
   ]
  },
  {
   "cell_type": "code",
   "execution_count": 139,
   "id": "367ad854",
   "metadata": {
    "execution": {
     "iopub.execute_input": "2024-09-13T03:30:17.950196Z",
     "iopub.status.busy": "2024-09-13T03:30:17.949963Z",
     "iopub.status.idle": "2024-09-13T03:30:19.418900Z",
     "shell.execute_reply": "2024-09-13T03:30:19.418301Z"
    }
   },
   "outputs": [
    {
     "data": {
      "text/html": [
       "<pre style=\"white-space:pre;overflow-x:auto;line-height:normal;font-family:Menlo,'DejaVu Sans Mono',consolas,'Courier New',monospace\"><span style=\"color: #800080; text-decoration-color: #800080; font-weight: bold\">tensor</span><span style=\"font-weight: bold\">([[</span>    <span style=\"color: #008080; text-decoration-color: #008080; font-weight: bold\">2</span>,     <span style=\"color: #008080; text-decoration-color: #008080; font-weight: bold\">0</span>,     <span style=\"color: #008080; text-decoration-color: #008080; font-weight: bold\">0</span>,     <span style=\"color: #008080; text-decoration-color: #008080; font-weight: bold\">0</span>, <span style=\"color: #008080; text-decoration-color: #008080; font-weight: bold\">10431</span>, <span style=\"color: #008080; text-decoration-color: #008080; font-weight: bold\">41761</span>,   <span style=\"color: #008080; text-decoration-color: #008080; font-weight: bold\">134</span>, <span style=\"color: #008080; text-decoration-color: #008080; font-weight: bold\">10431</span>,    <span style=\"color: #008080; text-decoration-color: #008080; font-weight: bold\">16</span>,    <span style=\"color: #008080; text-decoration-color: #008080; font-weight: bold\">11</span>,\n",
       "            <span style=\"color: #008080; text-decoration-color: #008080; font-weight: bold\">10</span>, <span style=\"color: #008080; text-decoration-color: #008080; font-weight: bold\">20607</span>,     <span style=\"color: #008080; text-decoration-color: #008080; font-weight: bold\">7</span>,  <span style=\"color: #008080; text-decoration-color: #008080; font-weight: bold\">2916</span>,     <span style=\"color: #008080; text-decoration-color: #008080; font-weight: bold\">5</span>,  <span style=\"color: #008080; text-decoration-color: #008080; font-weight: bold\">2341</span>,     <span style=\"color: #008080; text-decoration-color: #008080; font-weight: bold\">4</span>,  <span style=\"color: #008080; text-decoration-color: #008080; font-weight: bold\">1560</span>,  <span style=\"color: #008080; text-decoration-color: #008080; font-weight: bold\">3026</span>,   <span style=\"color: #008080; text-decoration-color: #008080; font-weight: bold\">849</span>,\n",
       "         <span style=\"color: #008080; text-decoration-color: #008080; font-weight: bold\">41761</span>,   <span style=\"color: #008080; text-decoration-color: #008080; font-weight: bold\">176</span>, <span style=\"color: #008080; text-decoration-color: #008080; font-weight: bold\">10431</span>,    <span style=\"color: #008080; text-decoration-color: #008080; font-weight: bold\">89</span>,    <span style=\"color: #008080; text-decoration-color: #008080; font-weight: bold\">18</span>,  <span style=\"color: #008080; text-decoration-color: #008080; font-weight: bold\">2710</span>,     <span style=\"color: #008080; text-decoration-color: #008080; font-weight: bold\">9</span>,    <span style=\"color: #008080; text-decoration-color: #008080; font-weight: bold\">86</span>,     <span style=\"color: #008080; text-decoration-color: #008080; font-weight: bold\">4</span>,     <span style=\"color: #008080; text-decoration-color: #008080; font-weight: bold\">2</span><span style=\"font-weight: bold\">]])</span>\n",
       "</pre>\n"
      ],
      "text/plain": [
       "\u001b[1;35mtensor\u001b[0m\u001b[1m(\u001b[0m\u001b[1m[\u001b[0m\u001b[1m[\u001b[0m    \u001b[1;36m2\u001b[0m,     \u001b[1;36m0\u001b[0m,     \u001b[1;36m0\u001b[0m,     \u001b[1;36m0\u001b[0m, \u001b[1;36m10431\u001b[0m, \u001b[1;36m41761\u001b[0m,   \u001b[1;36m134\u001b[0m, \u001b[1;36m10431\u001b[0m,    \u001b[1;36m16\u001b[0m,    \u001b[1;36m11\u001b[0m,\n",
       "            \u001b[1;36m10\u001b[0m, \u001b[1;36m20607\u001b[0m,     \u001b[1;36m7\u001b[0m,  \u001b[1;36m2916\u001b[0m,     \u001b[1;36m5\u001b[0m,  \u001b[1;36m2341\u001b[0m,     \u001b[1;36m4\u001b[0m,  \u001b[1;36m1560\u001b[0m,  \u001b[1;36m3026\u001b[0m,   \u001b[1;36m849\u001b[0m,\n",
       "         \u001b[1;36m41761\u001b[0m,   \u001b[1;36m176\u001b[0m, \u001b[1;36m10431\u001b[0m,    \u001b[1;36m89\u001b[0m,    \u001b[1;36m18\u001b[0m,  \u001b[1;36m2710\u001b[0m,     \u001b[1;36m9\u001b[0m,    \u001b[1;36m86\u001b[0m,     \u001b[1;36m4\u001b[0m,     \u001b[1;36m2\u001b[0m\u001b[1m]\u001b[0m\u001b[1m]\u001b[0m\u001b[1m)\u001b[0m\n"
      ]
     },
     "metadata": {},
     "output_type": "display_data"
    }
   ],
   "source": [
    "outputs = ft_model.generate(sample_input_ids[\"input_ids\"], max_new_tokens = 100)\n",
    "\n",
    "if show_tokenizer_output:\n",
    "    rich_print(outputs)"
   ]
  },
  {
   "cell_type": "code",
   "execution_count": 140,
   "id": "b9840033",
   "metadata": {
    "execution": {
     "iopub.execute_input": "2024-09-13T03:30:19.421795Z",
     "iopub.status.busy": "2024-09-13T03:30:19.421467Z",
     "iopub.status.idle": "2024-09-13T03:30:19.426455Z",
     "shell.execute_reply": "2024-09-13T03:30:19.425884Z"
    }
   },
   "outputs": [
    {
     "data": {
      "text/html": [
       "<pre style=\"white-space:pre;overflow-x:auto;line-height:normal;font-family:Menlo,'DejaVu Sans Mono',consolas,'Courier New',monospace\">#Person1# is in a hurry to catch the train. Tom tells #Person2# there's plenty of time.\n",
       "</pre>\n"
      ],
      "text/plain": [
       "#Person1# is in a hurry to catch the train. Tom tells #Person2# there's plenty of time.\n"
      ]
     },
     "metadata": {},
     "output_type": "display_data"
    }
   ],
   "source": [
    "rich_print(init_tokenizer.decode(outputs[0], skip_special_tokens=True))"
   ]
  },
  {
   "cell_type": "code",
   "execution_count": null,
   "id": "eb996ebb",
   "metadata": {},
   "outputs": [],
   "source": []
  },
  {
   "cell_type": "markdown",
   "id": "0d66fc61",
   "metadata": {},
   "source": [
    "#### Load another sample conversation for testing"
   ]
  },
  {
   "cell_type": "code",
   "execution_count": 141,
   "id": "6d1b0da6",
   "metadata": {
    "execution": {
     "iopub.execute_input": "2024-09-13T03:30:19.429002Z",
     "iopub.status.busy": "2024-09-13T03:30:19.428752Z",
     "iopub.status.idle": "2024-09-13T03:30:19.433209Z",
     "shell.execute_reply": "2024-09-13T03:30:19.432707Z"
    }
   },
   "outputs": [
    {
     "name": "stdout",
     "output_type": "stream",
     "text": [
      "----------------------------------------------------------------------------------------------------\n",
      "Sample Dialog:\n",
      "#Person1#: May, do you mind helping me prepare for the picnic?\n",
      "#Person2#: Sure. Have you checked the weather report?\n",
      "#Person1#: Yes. It says it will be sunny all day. No sign of rain at all. This is your father's favorite sausage. Sandwiches for you and Daniel.\n",
      "#Person2#: No, thanks Mom. I'd like some toast and chicken wings.\n",
      "#Person1#: Okay. Please take some fruit salad and crackers for me.\n",
      "#Person2#: Done. Oh, don't forget to take napkins disposable plates, cups and picnic blanket.\n",
      "#Person1#: All set. May, can you help me take all these things to the living room?\n",
      "#Person2#: Yes, madam.\n",
      "#Person1#: Ask Daniel to give you a hand?\n",
      "#Person2#: No, mom, I can manage it by myself. His help just causes more trouble.\n",
      "\n",
      "----------------------------------------------------------------------------------------------------\n",
      "Baseline Summary:\n",
      "Mom asks May to help to prepare for the picnic and May agrees.\n"
     ]
    }
   ],
   "source": [
    "example_index = 80\n",
    "\n",
    "sample_dialogue = hf_dataset_1_dict[\"test\"][example_index][\"dialogue\"]\n",
    "# sample_dialogue = tokenized_hf2_t3[\"test\"][example_index][\"input_ids\"]\n",
    "print(\"-\" * 100)\n",
    "print(\"Sample Dialog:\")\n",
    "print(sample_dialogue)\n",
    "\n",
    "print()\n",
    "\n",
    "sample_baseline_summary = hf_dataset_1_dict[\"test\"][example_index][\"summary\"]\n",
    "# sample_dialogue = tokenized_hf2_t3[\"test\"][example_index][\"input_ids\"]\n",
    "print(\"-\" * 100)\n",
    "print(\"Baseline Summary:\")\n",
    "print(sample_baseline_summary)"
   ]
  },
  {
   "cell_type": "code",
   "execution_count": 142,
   "id": "8cc3fbde",
   "metadata": {
    "execution": {
     "iopub.execute_input": "2024-09-13T03:30:19.435356Z",
     "iopub.status.busy": "2024-09-13T03:30:19.435132Z",
     "iopub.status.idle": "2024-09-13T03:30:19.441782Z",
     "shell.execute_reply": "2024-09-13T03:30:19.441330Z"
    }
   },
   "outputs": [
    {
     "data": {
      "text/html": [
       "<pre style=\"white-space:pre;overflow-x:auto;line-height:normal;font-family:Menlo,'DejaVu Sans Mono',consolas,'Courier New',monospace\"><span style=\"font-weight: bold\">{</span>\n",
       "    <span style=\"color: #008000; text-decoration-color: #008000\">'input_ids'</span>: <span style=\"color: #800080; text-decoration-color: #800080; font-weight: bold\">tensor</span><span style=\"font-weight: bold\">([[</span>    <span style=\"color: #008080; text-decoration-color: #008080; font-weight: bold\">0</span>, <span style=\"color: #008080; text-decoration-color: #008080; font-weight: bold\">10431</span>, <span style=\"color: #008080; text-decoration-color: #008080; font-weight: bold\">41761</span>,  <span style=\"color: #808000; text-decoration-color: #808000\">...</span>,     <span style=\"color: #008080; text-decoration-color: #008080; font-weight: bold\">1</span>,     <span style=\"color: #008080; text-decoration-color: #008080; font-weight: bold\">1</span>,     <span style=\"color: #008080; text-decoration-color: #008080; font-weight: bold\">1</span><span style=\"font-weight: bold\">]])</span>,\n",
       "    <span style=\"color: #008000; text-decoration-color: #008000\">'attention_mask'</span>: <span style=\"color: #800080; text-decoration-color: #800080; font-weight: bold\">tensor</span><span style=\"font-weight: bold\">([[</span><span style=\"color: #008080; text-decoration-color: #008080; font-weight: bold\">1</span>, <span style=\"color: #008080; text-decoration-color: #008080; font-weight: bold\">1</span>, <span style=\"color: #008080; text-decoration-color: #008080; font-weight: bold\">1</span>,  <span style=\"color: #808000; text-decoration-color: #808000\">...</span>, <span style=\"color: #008080; text-decoration-color: #008080; font-weight: bold\">0</span>, <span style=\"color: #008080; text-decoration-color: #008080; font-weight: bold\">0</span>, <span style=\"color: #008080; text-decoration-color: #008080; font-weight: bold\">0</span><span style=\"font-weight: bold\">]])</span>\n",
       "<span style=\"font-weight: bold\">}</span>\n",
       "</pre>\n"
      ],
      "text/plain": [
       "\u001b[1m{\u001b[0m\n",
       "    \u001b[32m'input_ids'\u001b[0m: \u001b[1;35mtensor\u001b[0m\u001b[1m(\u001b[0m\u001b[1m[\u001b[0m\u001b[1m[\u001b[0m    \u001b[1;36m0\u001b[0m, \u001b[1;36m10431\u001b[0m, \u001b[1;36m41761\u001b[0m,  \u001b[33m...\u001b[0m,     \u001b[1;36m1\u001b[0m,     \u001b[1;36m1\u001b[0m,     \u001b[1;36m1\u001b[0m\u001b[1m]\u001b[0m\u001b[1m]\u001b[0m\u001b[1m)\u001b[0m,\n",
       "    \u001b[32m'attention_mask'\u001b[0m: \u001b[1;35mtensor\u001b[0m\u001b[1m(\u001b[0m\u001b[1m[\u001b[0m\u001b[1m[\u001b[0m\u001b[1;36m1\u001b[0m, \u001b[1;36m1\u001b[0m, \u001b[1;36m1\u001b[0m,  \u001b[33m...\u001b[0m, \u001b[1;36m0\u001b[0m, \u001b[1;36m0\u001b[0m, \u001b[1;36m0\u001b[0m\u001b[1m]\u001b[0m\u001b[1m]\u001b[0m\u001b[1m)\u001b[0m\n",
       "\u001b[1m}\u001b[0m\n"
      ]
     },
     "metadata": {},
     "output_type": "display_data"
    }
   ],
   "source": [
    "sample_input_ids = init_tokenizer(sample_dialogue,  padding='max_length', truncation=True, return_tensors=\"pt\")\n",
    "\n",
    "if show_tokenizer_output:\n",
    "    rich_print(sample_input_ids)"
   ]
  },
  {
   "cell_type": "markdown",
   "id": "52d4b8f1",
   "metadata": {},
   "source": [
    "#### With base model"
   ]
  },
  {
   "cell_type": "code",
   "execution_count": 143,
   "id": "48c80e06",
   "metadata": {
    "execution": {
     "iopub.execute_input": "2024-09-13T03:30:19.443960Z",
     "iopub.status.busy": "2024-09-13T03:30:19.443738Z",
     "iopub.status.idle": "2024-09-13T03:30:23.737372Z",
     "shell.execute_reply": "2024-09-13T03:30:23.736777Z"
    }
   },
   "outputs": [
    {
     "data": {
      "text/html": [
       "<pre style=\"white-space:pre;overflow-x:auto;line-height:normal;font-family:Menlo,'DejaVu Sans Mono',consolas,'Courier New',monospace\"><span style=\"color: #800080; text-decoration-color: #800080; font-weight: bold\">tensor</span><span style=\"font-weight: bold\">([[</span>    <span style=\"color: #008080; text-decoration-color: #008080; font-weight: bold\">2</span>,     <span style=\"color: #008080; text-decoration-color: #008080; font-weight: bold\">0</span>, <span style=\"color: #008080; text-decoration-color: #008080; font-weight: bold\">10431</span>, <span style=\"color: #008080; text-decoration-color: #008080; font-weight: bold\">41761</span>,   <span style=\"color: #008080; text-decoration-color: #008080; font-weight: bold\">134</span>, <span style=\"color: #008080; text-decoration-color: #008080; font-weight: bold\">10431</span>,    <span style=\"color: #008080; text-decoration-color: #008080; font-weight: bold\">35</span>,   <span style=\"color: #008080; text-decoration-color: #008080; font-weight: bold\">392</span>,     <span style=\"color: #008080; text-decoration-color: #008080; font-weight: bold\">6</span>,   <span style=\"color: #008080; text-decoration-color: #008080; font-weight: bold\">109</span>,\n",
       "            <span style=\"color: #008080; text-decoration-color: #008080; font-weight: bold\">47</span>,  <span style=\"color: #008080; text-decoration-color: #008080; font-weight: bold\">1508</span>,  <span style=\"color: #008080; text-decoration-color: #008080; font-weight: bold\">1903</span>,   <span style=\"color: #008080; text-decoration-color: #008080; font-weight: bold\">162</span>,  <span style=\"color: #008080; text-decoration-color: #008080; font-weight: bold\">3886</span>,    <span style=\"color: #008080; text-decoration-color: #008080; font-weight: bold\">13</span>,     <span style=\"color: #008080; text-decoration-color: #008080; font-weight: bold\">5</span>, <span style=\"color: #008080; text-decoration-color: #008080; font-weight: bold\">22297</span>,   <span style=\"color: #008080; text-decoration-color: #008080; font-weight: bold\">116</span>, <span style=\"color: #008080; text-decoration-color: #008080; font-weight: bold\">50095</span>,\n",
       "         <span style=\"color: #008080; text-decoration-color: #008080; font-weight: bold\">10431</span>, <span style=\"color: #008080; text-decoration-color: #008080; font-weight: bold\">41761</span>,   <span style=\"color: #008080; text-decoration-color: #008080; font-weight: bold\">176</span>, <span style=\"color: #008080; text-decoration-color: #008080; font-weight: bold\">10431</span>,    <span style=\"color: #008080; text-decoration-color: #008080; font-weight: bold\">35</span>,  <span style=\"color: #008080; text-decoration-color: #008080; font-weight: bold\">9136</span>,     <span style=\"color: #008080; text-decoration-color: #008080; font-weight: bold\">4</span>,    <span style=\"color: #008080; text-decoration-color: #008080; font-weight: bold\">38</span>,  <span style=\"color: #008080; text-decoration-color: #008080; font-weight: bold\">1017</span>,   <span style=\"color: #008080; text-decoration-color: #008080; font-weight: bold\">101</span>,\n",
       "           <span style=\"color: #008080; text-decoration-color: #008080; font-weight: bold\">103</span>, <span style=\"color: #008080; text-decoration-color: #008080; font-weight: bold\">20260</span>,     <span style=\"color: #008080; text-decoration-color: #008080; font-weight: bold\">8</span>,  <span style=\"color: #008080; text-decoration-color: #008080; font-weight: bold\">5884</span>, <span style=\"color: #008080; text-decoration-color: #008080; font-weight: bold\">11954</span>,     <span style=\"color: #008080; text-decoration-color: #008080; font-weight: bold\">4</span>,   <span style=\"color: #008080; text-decoration-color: #008080; font-weight: bold\">152</span>,    <span style=\"color: #008080; text-decoration-color: #008080; font-weight: bold\">16</span>,   <span style=\"color: #008080; text-decoration-color: #008080; font-weight: bold\">110</span>,  <span style=\"color: #008080; text-decoration-color: #008080; font-weight: bold\">1150</span>,\n",
       "            <span style=\"color: #008080; text-decoration-color: #008080; font-weight: bold\">18</span>,  <span style=\"color: #008080; text-decoration-color: #008080; font-weight: bold\">2674</span>, <span style=\"color: #008080; text-decoration-color: #008080; font-weight: bold\">23753</span>,     <span style=\"color: #008080; text-decoration-color: #008080; font-weight: bold\">4</span>,  <span style=\"color: #008080; text-decoration-color: #008080; font-weight: bold\">3401</span>,   <span style=\"color: #008080; text-decoration-color: #008080; font-weight: bold\">185</span>,   <span style=\"color: #008080; text-decoration-color: #008080; font-weight: bold\">103</span>,  <span style=\"color: #008080; text-decoration-color: #008080; font-weight: bold\">6231</span>, <span style=\"color: #008080; text-decoration-color: #008080; font-weight: bold\">13153</span>,     <span style=\"color: #008080; text-decoration-color: #008080; font-weight: bold\">8</span>,\n",
       "          <span style=\"color: #008080; text-decoration-color: #008080; font-weight: bold\">7009</span>,   <span style=\"color: #008080; text-decoration-color: #008080; font-weight: bold\">268</span>,    <span style=\"color: #008080; text-decoration-color: #008080; font-weight: bold\">13</span>,   <span style=\"color: #008080; text-decoration-color: #008080; font-weight: bold\">162</span>,     <span style=\"color: #008080; text-decoration-color: #008080; font-weight: bold\">4</span>,  <span style=\"color: #008080; text-decoration-color: #008080; font-weight: bold\">4219</span>, <span style=\"color: #008080; text-decoration-color: #008080; font-weight: bold\">33127</span>,  <span style=\"color: #008080; text-decoration-color: #008080; font-weight: bold\">5065</span>,    <span style=\"color: #008080; text-decoration-color: #008080; font-weight: bold\">13</span>,    <span style=\"color: #008080; text-decoration-color: #008080; font-weight: bold\">47</span>,\n",
       "             <span style=\"color: #008080; text-decoration-color: #008080; font-weight: bold\">8</span>,  <span style=\"color: #008080; text-decoration-color: #008080; font-weight: bold\">3028</span>,     <span style=\"color: #008080; text-decoration-color: #008080; font-weight: bold\">4</span>,  <span style=\"color: #008080; text-decoration-color: #008080; font-weight: bold\">5534</span>,     <span style=\"color: #008080; text-decoration-color: #008080; font-weight: bold\">6</span>,   <span style=\"color: #008080; text-decoration-color: #008080; font-weight: bold\">218</span>,    <span style=\"color: #008080; text-decoration-color: #008080; font-weight: bold\">75</span>,  <span style=\"color: #008080; text-decoration-color: #008080; font-weight: bold\">4309</span>,     <span style=\"color: #008080; text-decoration-color: #008080; font-weight: bold\">7</span>,   <span style=\"color: #008080; text-decoration-color: #008080; font-weight: bold\">185</span>,\n",
       "         <span style=\"color: #008080; text-decoration-color: #008080; font-weight: bold\">16159</span>,  <span style=\"color: #008080; text-decoration-color: #008080; font-weight: bold\">7327</span>, <span style=\"color: #008080; text-decoration-color: #008080; font-weight: bold\">22400</span>, <span style=\"color: #008080; text-decoration-color: #008080; font-weight: bold\">12957</span>,     <span style=\"color: #008080; text-decoration-color: #008080; font-weight: bold\">6</span>, <span style=\"color: #008080; text-decoration-color: #008080; font-weight: bold\">12988</span>,     <span style=\"color: #008080; text-decoration-color: #008080; font-weight: bold\">8</span>, <span style=\"color: #008080; text-decoration-color: #008080; font-weight: bold\">22297</span>, <span style=\"color: #008080; text-decoration-color: #008080; font-weight: bold\">14165</span>,     <span style=\"color: #008080; text-decoration-color: #008080; font-weight: bold\">4</span>,\n",
       "          <span style=\"color: #008080; text-decoration-color: #008080; font-weight: bold\">6319</span>,    <span style=\"color: #008080; text-decoration-color: #008080; font-weight: bold\">47</span>,  <span style=\"color: #008080; text-decoration-color: #008080; font-weight: bold\">7869</span>,     <span style=\"color: #008080; text-decoration-color: #008080; font-weight: bold\">5</span>,  <span style=\"color: #008080; text-decoration-color: #008080; font-weight: bold\">1650</span>,   <span style=\"color: #008080; text-decoration-color: #008080; font-weight: bold\">266</span>,   <span style=\"color: #008080; text-decoration-color: #008080; font-weight: bold\">116</span>, <span style=\"color: #008080; text-decoration-color: #008080; font-weight: bold\">50249</span>, <span style=\"color: #008080; text-decoration-color: #008080; font-weight: bold\">10431</span>, <span style=\"color: #008080; text-decoration-color: #008080; font-weight: bold\">41761</span>,\n",
       "           <span style=\"color: #008080; text-decoration-color: #008080; font-weight: bold\">246</span>, <span style=\"color: #008080; text-decoration-color: #008080; font-weight: bold\">10431</span>,    <span style=\"color: #008080; text-decoration-color: #008080; font-weight: bold\">35</span>,  <span style=\"color: #008080; text-decoration-color: #008080; font-weight: bold\">3216</span>,     <span style=\"color: #008080; text-decoration-color: #008080; font-weight: bold\">4</span>,    <span style=\"color: #008080; text-decoration-color: #008080; font-weight: bold\">85</span>,   <span style=\"color: #008080; text-decoration-color: #008080; font-weight: bold\">161</span>,    <span style=\"color: #008080; text-decoration-color: #008080; font-weight: bold\">24</span>,    <span style=\"color: #008080; text-decoration-color: #008080; font-weight: bold\">40</span>,    <span style=\"color: #008080; text-decoration-color: #008080; font-weight: bold\">28</span>,\n",
       "             <span style=\"color: #008080; text-decoration-color: #008080; font-weight: bold\">2</span><span style=\"font-weight: bold\">]])</span>\n",
       "</pre>\n"
      ],
      "text/plain": [
       "\u001b[1;35mtensor\u001b[0m\u001b[1m(\u001b[0m\u001b[1m[\u001b[0m\u001b[1m[\u001b[0m    \u001b[1;36m2\u001b[0m,     \u001b[1;36m0\u001b[0m, \u001b[1;36m10431\u001b[0m, \u001b[1;36m41761\u001b[0m,   \u001b[1;36m134\u001b[0m, \u001b[1;36m10431\u001b[0m,    \u001b[1;36m35\u001b[0m,   \u001b[1;36m392\u001b[0m,     \u001b[1;36m6\u001b[0m,   \u001b[1;36m109\u001b[0m,\n",
       "            \u001b[1;36m47\u001b[0m,  \u001b[1;36m1508\u001b[0m,  \u001b[1;36m1903\u001b[0m,   \u001b[1;36m162\u001b[0m,  \u001b[1;36m3886\u001b[0m,    \u001b[1;36m13\u001b[0m,     \u001b[1;36m5\u001b[0m, \u001b[1;36m22297\u001b[0m,   \u001b[1;36m116\u001b[0m, \u001b[1;36m50095\u001b[0m,\n",
       "         \u001b[1;36m10431\u001b[0m, \u001b[1;36m41761\u001b[0m,   \u001b[1;36m176\u001b[0m, \u001b[1;36m10431\u001b[0m,    \u001b[1;36m35\u001b[0m,  \u001b[1;36m9136\u001b[0m,     \u001b[1;36m4\u001b[0m,    \u001b[1;36m38\u001b[0m,  \u001b[1;36m1017\u001b[0m,   \u001b[1;36m101\u001b[0m,\n",
       "           \u001b[1;36m103\u001b[0m, \u001b[1;36m20260\u001b[0m,     \u001b[1;36m8\u001b[0m,  \u001b[1;36m5884\u001b[0m, \u001b[1;36m11954\u001b[0m,     \u001b[1;36m4\u001b[0m,   \u001b[1;36m152\u001b[0m,    \u001b[1;36m16\u001b[0m,   \u001b[1;36m110\u001b[0m,  \u001b[1;36m1150\u001b[0m,\n",
       "            \u001b[1;36m18\u001b[0m,  \u001b[1;36m2674\u001b[0m, \u001b[1;36m23753\u001b[0m,     \u001b[1;36m4\u001b[0m,  \u001b[1;36m3401\u001b[0m,   \u001b[1;36m185\u001b[0m,   \u001b[1;36m103\u001b[0m,  \u001b[1;36m6231\u001b[0m, \u001b[1;36m13153\u001b[0m,     \u001b[1;36m8\u001b[0m,\n",
       "          \u001b[1;36m7009\u001b[0m,   \u001b[1;36m268\u001b[0m,    \u001b[1;36m13\u001b[0m,   \u001b[1;36m162\u001b[0m,     \u001b[1;36m4\u001b[0m,  \u001b[1;36m4219\u001b[0m, \u001b[1;36m33127\u001b[0m,  \u001b[1;36m5065\u001b[0m,    \u001b[1;36m13\u001b[0m,    \u001b[1;36m47\u001b[0m,\n",
       "             \u001b[1;36m8\u001b[0m,  \u001b[1;36m3028\u001b[0m,     \u001b[1;36m4\u001b[0m,  \u001b[1;36m5534\u001b[0m,     \u001b[1;36m6\u001b[0m,   \u001b[1;36m218\u001b[0m,    \u001b[1;36m75\u001b[0m,  \u001b[1;36m4309\u001b[0m,     \u001b[1;36m7\u001b[0m,   \u001b[1;36m185\u001b[0m,\n",
       "         \u001b[1;36m16159\u001b[0m,  \u001b[1;36m7327\u001b[0m, \u001b[1;36m22400\u001b[0m, \u001b[1;36m12957\u001b[0m,     \u001b[1;36m6\u001b[0m, \u001b[1;36m12988\u001b[0m,     \u001b[1;36m8\u001b[0m, \u001b[1;36m22297\u001b[0m, \u001b[1;36m14165\u001b[0m,     \u001b[1;36m4\u001b[0m,\n",
       "          \u001b[1;36m6319\u001b[0m,    \u001b[1;36m47\u001b[0m,  \u001b[1;36m7869\u001b[0m,     \u001b[1;36m5\u001b[0m,  \u001b[1;36m1650\u001b[0m,   \u001b[1;36m266\u001b[0m,   \u001b[1;36m116\u001b[0m, \u001b[1;36m50249\u001b[0m, \u001b[1;36m10431\u001b[0m, \u001b[1;36m41761\u001b[0m,\n",
       "           \u001b[1;36m246\u001b[0m, \u001b[1;36m10431\u001b[0m,    \u001b[1;36m35\u001b[0m,  \u001b[1;36m3216\u001b[0m,     \u001b[1;36m4\u001b[0m,    \u001b[1;36m85\u001b[0m,   \u001b[1;36m161\u001b[0m,    \u001b[1;36m24\u001b[0m,    \u001b[1;36m40\u001b[0m,    \u001b[1;36m28\u001b[0m,\n",
       "             \u001b[1;36m2\u001b[0m\u001b[1m]\u001b[0m\u001b[1m]\u001b[0m\u001b[1m)\u001b[0m\n"
      ]
     },
     "metadata": {},
     "output_type": "display_data"
    }
   ],
   "source": [
    "outputs = init_model.generate(sample_input_ids[\"input_ids\"], max_new_tokens = 100)\n",
    "\n",
    "if show_tokenizer_output:\n",
    "    rich_print(outputs)"
   ]
  },
  {
   "cell_type": "code",
   "execution_count": 144,
   "id": "cc79efb8",
   "metadata": {
    "execution": {
     "iopub.execute_input": "2024-09-13T03:30:23.740130Z",
     "iopub.status.busy": "2024-09-13T03:30:23.739836Z",
     "iopub.status.idle": "2024-09-13T03:30:23.745268Z",
     "shell.execute_reply": "2024-09-13T03:30:23.744777Z"
    }
   },
   "outputs": [
    {
     "data": {
      "text/html": [
       "<pre style=\"white-space:pre;overflow-x:auto;line-height:normal;font-family:Menlo,'DejaVu Sans Mono',consolas,'Courier New',monospace\">#Person1#: May, do you mind helping me prepare for the picnic?�#Person2#: Sure. I'd like some toast and chicken \n",
       "wings. This is your father's favorite sausage. Please take some fruit salad and crackers for me. Sandwiches for you\n",
       "and Daniel. Oh, don't forget to take napkins disposable plates, cups and picnic blanket. Have you checked the \n",
       "weather report?                #Person3#: Yes. It says it will be\n",
       "</pre>\n"
      ],
      "text/plain": [
       "#Person1#: May, do you mind helping me prepare for the picnic?�#Person2#: Sure. I'd like some toast and chicken \n",
       "wings. This is your father's favorite sausage. Please take some fruit salad and crackers for me. Sandwiches for you\n",
       "and Daniel. Oh, don't forget to take napkins disposable plates, cups and picnic blanket. Have you checked the \n",
       "weather report?                #Person3#: Yes. It says it will be\n"
      ]
     },
     "metadata": {},
     "output_type": "display_data"
    }
   ],
   "source": [
    "rich_print(init_tokenizer.decode(outputs[0], skip_special_tokens=True))"
   ]
  },
  {
   "cell_type": "markdown",
   "id": "833ce686",
   "metadata": {},
   "source": [
    "#### With fine-tuned model"
   ]
  },
  {
   "cell_type": "code",
   "execution_count": 145,
   "id": "5fcab070",
   "metadata": {
    "execution": {
     "iopub.execute_input": "2024-09-13T03:30:23.747539Z",
     "iopub.status.busy": "2024-09-13T03:30:23.747303Z",
     "iopub.status.idle": "2024-09-13T03:30:25.793078Z",
     "shell.execute_reply": "2024-09-13T03:30:25.792422Z"
    }
   },
   "outputs": [
    {
     "data": {
      "text/html": [
       "<pre style=\"white-space:pre;overflow-x:auto;line-height:normal;font-family:Menlo,'DejaVu Sans Mono',consolas,'Courier New',monospace\"><span style=\"color: #800080; text-decoration-color: #800080; font-weight: bold\">tensor</span><span style=\"font-weight: bold\">([[</span>    <span style=\"color: #008080; text-decoration-color: #008080; font-weight: bold\">2</span>,     <span style=\"color: #008080; text-decoration-color: #008080; font-weight: bold\">0</span>,     <span style=\"color: #008080; text-decoration-color: #008080; font-weight: bold\">0</span>,     <span style=\"color: #008080; text-decoration-color: #008080; font-weight: bold\">0</span>, <span style=\"color: #008080; text-decoration-color: #008080; font-weight: bold\">10004</span>,    <span style=\"color: #008080; text-decoration-color: #008080; font-weight: bold\">18</span>,  <span style=\"color: #008080; text-decoration-color: #008080; font-weight: bold\">3795</span>,  <span style=\"color: #008080; text-decoration-color: #008080; font-weight: bold\">6990</span>,   <span style=\"color: #008080; text-decoration-color: #008080; font-weight: bold\">392</span>,     <span style=\"color: #008080; text-decoration-color: #008080; font-weight: bold\">7</span>,\n",
       "           <span style=\"color: #008080; text-decoration-color: #008080; font-weight: bold\">244</span>,    <span style=\"color: #008080; text-decoration-color: #008080; font-weight: bold\">69</span>,  <span style=\"color: #008080; text-decoration-color: #008080; font-weight: bold\">3886</span>,    <span style=\"color: #008080; text-decoration-color: #008080; font-weight: bold\">13</span>,     <span style=\"color: #008080; text-decoration-color: #008080; font-weight: bold\">5</span>, <span style=\"color: #008080; text-decoration-color: #008080; font-weight: bold\">22297</span>,     <span style=\"color: #008080; text-decoration-color: #008080; font-weight: bold\">8</span>,   <span style=\"color: #008080; text-decoration-color: #008080; font-weight: bold\">392</span>, <span style=\"color: #008080; text-decoration-color: #008080; font-weight: bold\">11687</span>,     <span style=\"color: #008080; text-decoration-color: #008080; font-weight: bold\">4</span>,\n",
       "           <span style=\"color: #008080; text-decoration-color: #008080; font-weight: bold\">392</span>,  <span style=\"color: #008080; text-decoration-color: #008080; font-weight: bold\">6990</span>,    <span style=\"color: #008080; text-decoration-color: #008080; font-weight: bold\">69</span>,  <span style=\"color: #008080; text-decoration-color: #008080; font-weight: bold\">3795</span>,     <span style=\"color: #008080; text-decoration-color: #008080; font-weight: bold\">7</span>,   <span style=\"color: #008080; text-decoration-color: #008080; font-weight: bold\">185</span>,   <span style=\"color: #008080; text-decoration-color: #008080; font-weight: bold\">103</span>,  <span style=\"color: #008080; text-decoration-color: #008080; font-weight: bold\">6231</span>, <span style=\"color: #008080; text-decoration-color: #008080; font-weight: bold\">13153</span>,     <span style=\"color: #008080; text-decoration-color: #008080; font-weight: bold\">6</span>,\n",
       "          <span style=\"color: #008080; text-decoration-color: #008080; font-weight: bold\">7009</span>,   <span style=\"color: #008080; text-decoration-color: #008080; font-weight: bold\">268</span>,     <span style=\"color: #008080; text-decoration-color: #008080; font-weight: bold\">6</span>, <span style=\"color: #008080; text-decoration-color: #008080; font-weight: bold\">16159</span>,  <span style=\"color: #008080; text-decoration-color: #008080; font-weight: bold\">7327</span>,     <span style=\"color: #008080; text-decoration-color: #008080; font-weight: bold\">6</span>, <span style=\"color: #008080; text-decoration-color: #008080; font-weight: bold\">22400</span>, <span style=\"color: #008080; text-decoration-color: #008080; font-weight: bold\">12957</span>,     <span style=\"color: #008080; text-decoration-color: #008080; font-weight: bold\">6</span>, <span style=\"color: #008080; text-decoration-color: #008080; font-weight: bold\">12988</span>,\n",
       "             <span style=\"color: #008080; text-decoration-color: #008080; font-weight: bold\">6</span>,     <span style=\"color: #008080; text-decoration-color: #008080; font-weight: bold\">8</span>, <span style=\"color: #008080; text-decoration-color: #008080; font-weight: bold\">22297</span>, <span style=\"color: #008080; text-decoration-color: #008080; font-weight: bold\">14165</span>,     <span style=\"color: #008080; text-decoration-color: #008080; font-weight: bold\">4</span>,     <span style=\"color: #008080; text-decoration-color: #008080; font-weight: bold\">2</span><span style=\"font-weight: bold\">]])</span>\n",
       "</pre>\n"
      ],
      "text/plain": [
       "\u001b[1;35mtensor\u001b[0m\u001b[1m(\u001b[0m\u001b[1m[\u001b[0m\u001b[1m[\u001b[0m    \u001b[1;36m2\u001b[0m,     \u001b[1;36m0\u001b[0m,     \u001b[1;36m0\u001b[0m,     \u001b[1;36m0\u001b[0m, \u001b[1;36m10004\u001b[0m,    \u001b[1;36m18\u001b[0m,  \u001b[1;36m3795\u001b[0m,  \u001b[1;36m6990\u001b[0m,   \u001b[1;36m392\u001b[0m,     \u001b[1;36m7\u001b[0m,\n",
       "           \u001b[1;36m244\u001b[0m,    \u001b[1;36m69\u001b[0m,  \u001b[1;36m3886\u001b[0m,    \u001b[1;36m13\u001b[0m,     \u001b[1;36m5\u001b[0m, \u001b[1;36m22297\u001b[0m,     \u001b[1;36m8\u001b[0m,   \u001b[1;36m392\u001b[0m, \u001b[1;36m11687\u001b[0m,     \u001b[1;36m4\u001b[0m,\n",
       "           \u001b[1;36m392\u001b[0m,  \u001b[1;36m6990\u001b[0m,    \u001b[1;36m69\u001b[0m,  \u001b[1;36m3795\u001b[0m,     \u001b[1;36m7\u001b[0m,   \u001b[1;36m185\u001b[0m,   \u001b[1;36m103\u001b[0m,  \u001b[1;36m6231\u001b[0m, \u001b[1;36m13153\u001b[0m,     \u001b[1;36m6\u001b[0m,\n",
       "          \u001b[1;36m7009\u001b[0m,   \u001b[1;36m268\u001b[0m,     \u001b[1;36m6\u001b[0m, \u001b[1;36m16159\u001b[0m,  \u001b[1;36m7327\u001b[0m,     \u001b[1;36m6\u001b[0m, \u001b[1;36m22400\u001b[0m, \u001b[1;36m12957\u001b[0m,     \u001b[1;36m6\u001b[0m, \u001b[1;36m12988\u001b[0m,\n",
       "             \u001b[1;36m6\u001b[0m,     \u001b[1;36m8\u001b[0m, \u001b[1;36m22297\u001b[0m, \u001b[1;36m14165\u001b[0m,     \u001b[1;36m4\u001b[0m,     \u001b[1;36m2\u001b[0m\u001b[1m]\u001b[0m\u001b[1m]\u001b[0m\u001b[1m)\u001b[0m\n"
      ]
     },
     "metadata": {},
     "output_type": "display_data"
    }
   ],
   "source": [
    "outputs = ft_model.generate(sample_input_ids[\"input_ids\"], max_new_tokens = 100)\n",
    "\n",
    "if show_tokenizer_output:\n",
    "    rich_print(outputs)"
   ]
  },
  {
   "cell_type": "code",
   "execution_count": 146,
   "id": "6681b3c7",
   "metadata": {
    "execution": {
     "iopub.execute_input": "2024-09-13T03:30:25.795867Z",
     "iopub.status.busy": "2024-09-13T03:30:25.795562Z",
     "iopub.status.idle": "2024-09-13T03:30:25.800605Z",
     "shell.execute_reply": "2024-09-13T03:30:25.800047Z"
    }
   },
   "outputs": [
    {
     "data": {
      "text/html": [
       "<pre style=\"white-space:pre;overflow-x:auto;line-height:normal;font-family:Menlo,'DejaVu Sans Mono',consolas,'Courier New',monospace\">May's mom asks May to help her prepare for the picnic and May agrees. May asks her mom to take some fruit salad, \n",
       "crackers, napkins, disposable plates, cups, and picnic blanket.\n",
       "</pre>\n"
      ],
      "text/plain": [
       "May's mom asks May to help her prepare for the picnic and May agrees. May asks her mom to take some fruit salad, \n",
       "crackers, napkins, disposable plates, cups, and picnic blanket.\n"
      ]
     },
     "metadata": {},
     "output_type": "display_data"
    }
   ],
   "source": [
    "rich_print(init_tokenizer.decode(outputs[0], skip_special_tokens=True))"
   ]
  },
  {
   "cell_type": "code",
   "execution_count": null,
   "id": "753b1376",
   "metadata": {},
   "outputs": [],
   "source": []
  },
  {
   "cell_type": "markdown",
   "id": "fd0996c4",
   "metadata": {},
   "source": [
    "## Start Evaluation"
   ]
  },
  {
   "cell_type": "code",
   "execution_count": 147,
   "id": "61a49596",
   "metadata": {
    "execution": {
     "iopub.execute_input": "2024-09-13T03:30:25.803106Z",
     "iopub.status.busy": "2024-09-13T03:30:25.802872Z",
     "iopub.status.idle": "2024-09-13T03:30:25.870438Z",
     "shell.execute_reply": "2024-09-13T03:30:25.869852Z"
    }
   },
   "outputs": [],
   "source": [
    "metric_rouge = evaluate.load('rouge')"
   ]
  },
  {
   "cell_type": "code",
   "execution_count": 148,
   "id": "547b9bad",
   "metadata": {
    "execution": {
     "iopub.execute_input": "2024-09-13T03:30:25.872647Z",
     "iopub.status.busy": "2024-09-13T03:30:25.872414Z",
     "iopub.status.idle": "2024-09-13T03:30:25.876326Z",
     "shell.execute_reply": "2024-09-13T03:30:25.875784Z"
    }
   },
   "outputs": [
    {
     "data": {
      "text/plain": [
       "DatasetDict({\n",
       "    train: Dataset({\n",
       "        features: ['input_ids', 'attention_mask', 'labels'],\n",
       "        num_rows: 28361\n",
       "    })\n",
       "    validation: Dataset({\n",
       "        features: ['input_ids', 'attention_mask', 'labels'],\n",
       "        num_rows: 1233\n",
       "    })\n",
       "    test: Dataset({\n",
       "        features: ['input_ids', 'attention_mask', 'labels'],\n",
       "        num_rows: 1234\n",
       "    })\n",
       "})"
      ]
     },
     "execution_count": 148,
     "metadata": {},
     "output_type": "execute_result"
    }
   ],
   "source": [
    "sample_tokenized_hf_dataset"
   ]
  },
  {
   "cell_type": "code",
   "execution_count": 149,
   "id": "4c80dffe",
   "metadata": {
    "execution": {
     "iopub.execute_input": "2024-09-13T03:30:25.878524Z",
     "iopub.status.busy": "2024-09-13T03:30:25.878263Z",
     "iopub.status.idle": "2024-09-13T03:30:27.208709Z",
     "shell.execute_reply": "2024-09-13T03:30:27.208172Z"
    }
   },
   "outputs": [
    {
     "data": {
      "application/vnd.jupyter.widget-view+json": {
       "model_id": "e1d6a257ba0043bb9414930a5491f809",
       "version_major": 2,
       "version_minor": 0
      },
      "text/plain": [
       "Filter:   0%|          | 0/1234 [00:00<?, ? examples/s]"
      ]
     },
     "metadata": {},
     "output_type": "display_data"
    },
    {
     "name": "stdout",
     "output_type": "stream",
     "text": [
      "CPU times: user 1.32 s, sys: 4.07 ms, total: 1.33 s\n",
      "Wall time: 1.33 s\n"
     ]
    }
   ],
   "source": [
    "%%time\n",
    "\n",
    "# number of random samples to fetch\n",
    "n_samples_eval = -1\n",
    "dataset_use_eval = 'test'\n",
    "\n",
    "# sample the dataset for training\n",
    "\n",
    "if n_samples_eval == -1:\n",
    "    n_samples_eval = len(sample_tokenized_hf_dataset[\"test\"])\n",
    "\n",
    "samples_eval = sample_tokenized_hf_dataset[\"test\"].filter(\n",
    "        lambda example, indice: indice < n_samples_eval, with_indices=True)"
   ]
  },
  {
   "cell_type": "code",
   "execution_count": 150,
   "id": "4f6b4f0b",
   "metadata": {
    "execution": {
     "iopub.execute_input": "2024-09-13T03:30:27.211124Z",
     "iopub.status.busy": "2024-09-13T03:30:27.210866Z",
     "iopub.status.idle": "2024-09-13T03:30:27.214734Z",
     "shell.execute_reply": "2024-09-13T03:30:27.214244Z"
    }
   },
   "outputs": [
    {
     "data": {
      "text/plain": [
       "Dataset({\n",
       "    features: ['input_ids', 'attention_mask', 'labels'],\n",
       "    num_rows: 1234\n",
       "})"
      ]
     },
     "execution_count": 150,
     "metadata": {},
     "output_type": "execute_result"
    }
   ],
   "source": [
    "samples_eval"
   ]
  },
  {
   "cell_type": "code",
   "execution_count": 151,
   "id": "1e2ffb02",
   "metadata": {
    "execution": {
     "iopub.execute_input": "2024-09-13T03:30:27.216946Z",
     "iopub.status.busy": "2024-09-13T03:30:27.216705Z",
     "iopub.status.idle": "2024-09-13T03:30:27.220132Z",
     "shell.execute_reply": "2024-09-13T03:30:27.219679Z"
    }
   },
   "outputs": [
    {
     "data": {
      "text/plain": [
       "256"
      ]
     },
     "execution_count": 151,
     "metadata": {},
     "output_type": "execute_result"
    }
   ],
   "source": [
    "max_target"
   ]
  },
  {
   "cell_type": "code",
   "execution_count": 152,
   "id": "83c5a418",
   "metadata": {
    "execution": {
     "iopub.execute_input": "2024-09-13T03:30:27.222299Z",
     "iopub.status.busy": "2024-09-13T03:30:27.222073Z",
     "iopub.status.idle": "2024-09-13T03:30:27.226577Z",
     "shell.execute_reply": "2024-09-13T03:30:27.226075Z"
    }
   },
   "outputs": [],
   "source": [
    "def eval_model(model_input, model_type, max_token_length=256):\n",
    "    # generate summary using the expected model\n",
    "    \n",
    "    if model_type == \"base\":\n",
    "        # print(\"base\")\n",
    "        # evaluate using base model\n",
    "        model_output = init_model.generate(torch.tensor([model_input[\"input_ids\"]]), max_new_tokens=max_token_length)\n",
    "    elif model_type == \"ft\":\n",
    "        # print(\"ft\")\n",
    "        # evalulate using fine-tuned model\n",
    "        model_output = ft_model.generate(torch.tensor([model_input[\"input_ids\"]]), max_new_tokens=max_token_length)\n",
    "    else:\n",
    "        return\n",
    "    sample_preds = init_tokenizer.decode(model_output[0], skip_special_tokens=True)\n",
    "    \n",
    "    # decode the reference label (human label)\n",
    "    # Replace -100 in the labels as we can't decode them.\n",
    "    labels = np.array(model_input[\"labels\"])\n",
    "    labels = np.where(labels == -100, init_tokenizer.pad_token_id, labels)\n",
    "    sample_labels = init_tokenizer.decode(labels, skip_special_tokens=True)\n",
    "    \n",
    "    return sample_preds, sample_labels"
   ]
  },
  {
   "cell_type": "markdown",
   "id": "786051e7",
   "metadata": {},
   "source": [
    "#### Base model"
   ]
  },
  {
   "cell_type": "code",
   "execution_count": 153,
   "id": "2e0ec1db",
   "metadata": {
    "execution": {
     "iopub.execute_input": "2024-09-13T03:30:27.228743Z",
     "iopub.status.busy": "2024-09-13T03:30:27.228517Z",
     "iopub.status.idle": "2024-09-13T06:48:35.620908Z",
     "shell.execute_reply": "2024-09-13T06:48:35.620263Z"
    }
   },
   "outputs": [
    {
     "name": "stderr",
     "output_type": "stream",
     "text": [
      "100%|████████████████████████████████████████████████████████████████████████████████| 1234/1234 [3:18:08<00:00,  9.63s/it]\n"
     ]
    }
   ],
   "source": [
    "init_model_summaries = []\n",
    "human_baseline_summaries = []\n",
    "\n",
    "for sample in tqdm(samples_eval):\n",
    "    p, r = eval_model(sample, \"base\", max_target)\n",
    "    init_model_summaries.append(p)\n",
    "    human_baseline_summaries.append(r)"
   ]
  },
  {
   "cell_type": "code",
   "execution_count": 154,
   "id": "c5e37ae4",
   "metadata": {
    "execution": {
     "iopub.execute_input": "2024-09-13T06:48:35.623665Z",
     "iopub.status.busy": "2024-09-13T06:48:35.623387Z",
     "iopub.status.idle": "2024-09-13T06:48:39.586745Z",
     "shell.execute_reply": "2024-09-13T06:48:39.586163Z"
    }
   },
   "outputs": [],
   "source": [
    "base_rogue_score = metric_rouge.compute(\n",
    "    predictions=init_model_summaries, \n",
    "    references=human_baseline_summaries, \n",
    "    use_aggregator=True,\n",
    "    use_stemmer=True)"
   ]
  },
  {
   "cell_type": "code",
   "execution_count": 155,
   "id": "08d8c392",
   "metadata": {
    "execution": {
     "iopub.execute_input": "2024-09-13T06:48:39.589369Z",
     "iopub.status.busy": "2024-09-13T06:48:39.589110Z",
     "iopub.status.idle": "2024-09-13T06:48:39.592864Z",
     "shell.execute_reply": "2024-09-13T06:48:39.592375Z"
    }
   },
   "outputs": [
    {
     "name": "stdout",
     "output_type": "stream",
     "text": [
      "rogue1: 0.1890\n",
      "rogue2: 0.0522\n",
      "rogueL: 0.1383\n",
      "rogueLsum: 0.1383\n"
     ]
    }
   ],
   "source": [
    "print(\"rogue1: {:.4f}\".format(base_rogue_score[\"rouge1\"]))\n",
    "print(\"rogue2: {:.4f}\".format(base_rogue_score[\"rouge2\"]))\n",
    "print(\"rogueL: {:.4f}\".format(base_rogue_score[\"rougeL\"]))\n",
    "print(\"rogueLsum: {:.4f}\".format(base_rogue_score[\"rougeLsum\"]))"
   ]
  },
  {
   "cell_type": "markdown",
   "id": "a2f2e2ce",
   "metadata": {},
   "source": [
    "#### Fine-tuned model"
   ]
  },
  {
   "cell_type": "code",
   "execution_count": 156,
   "id": "fe6d4ff0",
   "metadata": {
    "execution": {
     "iopub.execute_input": "2024-09-13T06:48:39.595107Z",
     "iopub.status.busy": "2024-09-13T06:48:39.594867Z",
     "iopub.status.idle": "2024-09-13T07:20:32.686922Z",
     "shell.execute_reply": "2024-09-13T07:20:32.686064Z"
    }
   },
   "outputs": [
    {
     "name": "stderr",
     "output_type": "stream",
     "text": [
      "100%|██████████████████████████████████████████████████████████████████████████████████| 1234/1234 [31:53<00:00,  1.55s/it]\n"
     ]
    }
   ],
   "source": [
    "ft_model_summaries = []\n",
    "human_baseline_summaries = []\n",
    "\n",
    "for sample in tqdm(samples_eval):\n",
    "    p, r = eval_model(sample, \"ft\", max_target)\n",
    "    ft_model_summaries.append(p)\n",
    "    human_baseline_summaries.append(r)"
   ]
  },
  {
   "cell_type": "code",
   "execution_count": 157,
   "id": "0ec5f79e",
   "metadata": {
    "execution": {
     "iopub.execute_input": "2024-09-13T07:20:32.690075Z",
     "iopub.status.busy": "2024-09-13T07:20:32.689781Z",
     "iopub.status.idle": "2024-09-13T07:20:35.175367Z",
     "shell.execute_reply": "2024-09-13T07:20:35.174820Z"
    }
   },
   "outputs": [],
   "source": [
    "ft_rogue_score = metric_rouge.compute(\n",
    "    predictions=ft_model_summaries, \n",
    "    references=human_baseline_summaries, \n",
    "    use_aggregator=True,\n",
    "    use_stemmer=True)"
   ]
  },
  {
   "cell_type": "code",
   "execution_count": 158,
   "id": "141d0679",
   "metadata": {
    "execution": {
     "iopub.execute_input": "2024-09-13T07:20:35.178291Z",
     "iopub.status.busy": "2024-09-13T07:20:35.178000Z",
     "iopub.status.idle": "2024-09-13T07:20:35.182353Z",
     "shell.execute_reply": "2024-09-13T07:20:35.181683Z"
    }
   },
   "outputs": [
    {
     "name": "stdout",
     "output_type": "stream",
     "text": [
      "rogue1: 0.5175\n",
      "rogue2: 0.2680\n",
      "rogueL: 0.4304\n",
      "rogueLsum: 0.4301\n"
     ]
    }
   ],
   "source": [
    "print(\"rogue1: {:.4f}\".format(ft_rogue_score[\"rouge1\"]))\n",
    "print(\"rogue2: {:.4f}\".format(ft_rogue_score[\"rouge2\"]))\n",
    "print(\"rogueL: {:.4f}\".format(ft_rogue_score[\"rougeL\"]))\n",
    "print(\"rogueLsum: {:.4f}\".format(ft_rogue_score[\"rougeLsum\"]))"
   ]
  },
  {
   "cell_type": "code",
   "execution_count": null,
   "id": "0f4d0e03",
   "metadata": {},
   "outputs": [],
   "source": []
  }
 ],
 "metadata": {
  "kernelspec": {
   "display_name": "Python 3 (ipykernel)",
   "language": "python",
   "name": "python3"
  },
  "language_info": {
   "codemirror_mode": {
    "name": "ipython",
    "version": 3
   },
   "file_extension": ".py",
   "mimetype": "text/x-python",
   "name": "python",
   "nbconvert_exporter": "python",
   "pygments_lexer": "ipython3",
   "version": "3.8.10"
  },
  "widgets": {
   "application/vnd.jupyter.widget-state+json": {
    "state": {
     "02528ad9a7ad43dc95385073a82cede2": {
      "model_module": "@jupyter-widgets/controls",
      "model_module_version": "2.0.0",
      "model_name": "HTMLStyleModel",
      "state": {
       "_model_module": "@jupyter-widgets/controls",
       "_model_module_version": "2.0.0",
       "_model_name": "HTMLStyleModel",
       "_view_count": null,
       "_view_module": "@jupyter-widgets/base",
       "_view_module_version": "2.0.0",
       "_view_name": "StyleView",
       "background": null,
       "description_width": "",
       "font_size": null,
       "text_color": null
      }
     },
     "0324cf1420454116862b1d86ebe8bc36": {
      "model_module": "@jupyter-widgets/controls",
      "model_module_version": "2.0.0",
      "model_name": "HTMLStyleModel",
      "state": {
       "_model_module": "@jupyter-widgets/controls",
       "_model_module_version": "2.0.0",
       "_model_name": "HTMLStyleModel",
       "_view_count": null,
       "_view_module": "@jupyter-widgets/base",
       "_view_module_version": "2.0.0",
       "_view_name": "StyleView",
       "background": null,
       "description_width": "",
       "font_size": null,
       "text_color": null
      }
     },
     "03396698ea8c44bb92271f34b76e900c": {
      "model_module": "@jupyter-widgets/controls",
      "model_module_version": "2.0.0",
      "model_name": "HTMLModel",
      "state": {
       "_dom_classes": [],
       "_model_module": "@jupyter-widgets/controls",
       "_model_module_version": "2.0.0",
       "_model_name": "HTMLModel",
       "_view_count": null,
       "_view_module": "@jupyter-widgets/controls",
       "_view_module_version": "2.0.0",
       "_view_name": "HTMLView",
       "description": "",
       "description_allow_html": false,
       "layout": "IPY_MODEL_414cf7e86c0d4830982cee5d74de2d17",
       "placeholder": "​",
       "style": "IPY_MODEL_5afb17dd286c4932b6b404b1a9aa7113",
       "tabbable": null,
       "tooltip": null,
       "value": " 579/579 [00:00&lt;00:00, 860.60 examples/s]"
      }
     },
     "03a5efc162194453a7d4bc9abb524301": {
      "model_module": "@jupyter-widgets/controls",
      "model_module_version": "2.0.0",
      "model_name": "HTMLModel",
      "state": {
       "_dom_classes": [],
       "_model_module": "@jupyter-widgets/controls",
       "_model_module_version": "2.0.0",
       "_model_name": "HTMLModel",
       "_view_count": null,
       "_view_module": "@jupyter-widgets/controls",
       "_view_module_version": "2.0.0",
       "_view_name": "HTMLView",
       "description": "",
       "description_allow_html": false,
       "layout": "IPY_MODEL_54cf217bf7ad47ddb28aead339765ad1",
       "placeholder": "​",
       "style": "IPY_MODEL_d382e3e3ced1431ca22692fb59d4350b",
       "tabbable": null,
       "tooltip": null,
       "value": "Map: 100%"
      }
     },
     "05854ad58b734b33bf0f94b81e55554b": {
      "model_module": "@jupyter-widgets/controls",
      "model_module_version": "2.0.0",
      "model_name": "FloatProgressModel",
      "state": {
       "_dom_classes": [],
       "_model_module": "@jupyter-widgets/controls",
       "_model_module_version": "2.0.0",
       "_model_name": "FloatProgressModel",
       "_view_count": null,
       "_view_module": "@jupyter-widgets/controls",
       "_view_module_version": "2.0.0",
       "_view_name": "ProgressView",
       "bar_style": "success",
       "description": "",
       "description_allow_html": false,
       "layout": "IPY_MODEL_66fd209895f44642a37edce444e0af78",
       "max": 579,
       "min": 0,
       "orientation": "horizontal",
       "style": "IPY_MODEL_44b8663030554cf1bcf23017187794c3",
       "tabbable": null,
       "tooltip": null,
       "value": 579
      }
     },
     "0948dd4f800e482aa9e3d5fea00e94ca": {
      "model_module": "@jupyter-widgets/controls",
      "model_module_version": "2.0.0",
      "model_name": "HTMLStyleModel",
      "state": {
       "_model_module": "@jupyter-widgets/controls",
       "_model_module_version": "2.0.0",
       "_model_name": "HTMLStyleModel",
       "_view_count": null,
       "_view_module": "@jupyter-widgets/base",
       "_view_module_version": "2.0.0",
       "_view_name": "StyleView",
       "background": null,
       "description_width": "",
       "font_size": null,
       "text_color": null
      }
     },
     "0cb1accd1d1940c3aa74e240405039d1": {
      "model_module": "@jupyter-widgets/controls",
      "model_module_version": "2.0.0",
      "model_name": "HTMLStyleModel",
      "state": {
       "_model_module": "@jupyter-widgets/controls",
       "_model_module_version": "2.0.0",
       "_model_name": "HTMLStyleModel",
       "_view_count": null,
       "_view_module": "@jupyter-widgets/base",
       "_view_module_version": "2.0.0",
       "_view_name": "StyleView",
       "background": null,
       "description_width": "",
       "font_size": null,
       "text_color": null
      }
     },
     "0ec88677a346462a928a783c7a992cc7": {
      "model_module": "@jupyter-widgets/base",
      "model_module_version": "2.0.0",
      "model_name": "LayoutModel",
      "state": {
       "_model_module": "@jupyter-widgets/base",
       "_model_module_version": "2.0.0",
       "_model_name": "LayoutModel",
       "_view_count": null,
       "_view_module": "@jupyter-widgets/base",
       "_view_module_version": "2.0.0",
       "_view_name": "LayoutView",
       "align_content": null,
       "align_items": null,
       "align_self": null,
       "border_bottom": null,
       "border_left": null,
       "border_right": null,
       "border_top": null,
       "bottom": null,
       "display": null,
       "flex": null,
       "flex_flow": null,
       "grid_area": null,
       "grid_auto_columns": null,
       "grid_auto_flow": null,
       "grid_auto_rows": null,
       "grid_column": null,
       "grid_gap": null,
       "grid_row": null,
       "grid_template_areas": null,
       "grid_template_columns": null,
       "grid_template_rows": null,
       "height": null,
       "justify_content": null,
       "justify_items": null,
       "left": null,
       "margin": null,
       "max_height": null,
       "max_width": null,
       "min_height": null,
       "min_width": null,
       "object_fit": null,
       "object_position": null,
       "order": null,
       "overflow": null,
       "padding": null,
       "right": null,
       "top": null,
       "visibility": null,
       "width": null
      }
     },
     "1093fd82e3b44b2690a83eca9348f8c8": {
      "model_module": "@jupyter-widgets/controls",
      "model_module_version": "2.0.0",
      "model_name": "HTMLModel",
      "state": {
       "_dom_classes": [],
       "_model_module": "@jupyter-widgets/controls",
       "_model_module_version": "2.0.0",
       "_model_name": "HTMLModel",
       "_view_count": null,
       "_view_module": "@jupyter-widgets/controls",
       "_view_module_version": "2.0.0",
       "_view_name": "HTMLView",
       "description": "",
       "description_allow_html": false,
       "layout": "IPY_MODEL_3b3d4e53239549009de6939b29b1dd66",
       "placeholder": "​",
       "style": "IPY_MODEL_47c35d983b874b87aa9ed7122ad72830",
       "tabbable": null,
       "tooltip": null,
       "value": " 1234/1234 [00:01&lt;00:00, 933.70 examples/s]"
      }
     },
     "154beead744a43c78b51f7294f1dcbf5": {
      "model_module": "@jupyter-widgets/controls",
      "model_module_version": "2.0.0",
      "model_name": "HTMLStyleModel",
      "state": {
       "_model_module": "@jupyter-widgets/controls",
       "_model_module_version": "2.0.0",
       "_model_name": "HTMLStyleModel",
       "_view_count": null,
       "_view_module": "@jupyter-widgets/base",
       "_view_module_version": "2.0.0",
       "_view_name": "StyleView",
       "background": null,
       "description_width": "",
       "font_size": null,
       "text_color": null
      }
     },
     "16f3037c1e754aa2a65f7c6ccfb6440e": {
      "model_module": "@jupyter-widgets/controls",
      "model_module_version": "2.0.0",
      "model_name": "FloatProgressModel",
      "state": {
       "_dom_classes": [],
       "_model_module": "@jupyter-widgets/controls",
       "_model_module_version": "2.0.0",
       "_model_name": "FloatProgressModel",
       "_view_count": null,
       "_view_module": "@jupyter-widgets/controls",
       "_view_module_version": "2.0.0",
       "_view_name": "ProgressView",
       "bar_style": "success",
       "description": "",
       "description_allow_html": false,
       "layout": "IPY_MODEL_c8293174753f417cb47821175daa4532",
       "max": 655,
       "min": 0,
       "orientation": "horizontal",
       "style": "IPY_MODEL_ef07f652b10b4e5780e1531d6944e1e4",
       "tabbable": null,
       "tooltip": null,
       "value": 655
      }
     },
     "175b8cbc09a341f6bb1f8304263582ec": {
      "model_module": "@jupyter-widgets/controls",
      "model_module_version": "2.0.0",
      "model_name": "ProgressStyleModel",
      "state": {
       "_model_module": "@jupyter-widgets/controls",
       "_model_module_version": "2.0.0",
       "_model_name": "ProgressStyleModel",
       "_view_count": null,
       "_view_module": "@jupyter-widgets/base",
       "_view_module_version": "2.0.0",
       "_view_name": "StyleView",
       "bar_color": null,
       "description_width": ""
      }
     },
     "1b248b9efb954e3c868e07e0e2717f5b": {
      "model_module": "@jupyter-widgets/controls",
      "model_module_version": "2.0.0",
      "model_name": "HTMLStyleModel",
      "state": {
       "_model_module": "@jupyter-widgets/controls",
       "_model_module_version": "2.0.0",
       "_model_name": "HTMLStyleModel",
       "_view_count": null,
       "_view_module": "@jupyter-widgets/base",
       "_view_module_version": "2.0.0",
       "_view_name": "StyleView",
       "background": null,
       "description_width": "",
       "font_size": null,
       "text_color": null
      }
     },
     "1c1e7eeebfc94525b6c87c7fe3fe59dd": {
      "model_module": "@jupyter-widgets/controls",
      "model_module_version": "2.0.0",
      "model_name": "ProgressStyleModel",
      "state": {
       "_model_module": "@jupyter-widgets/controls",
       "_model_module_version": "2.0.0",
       "_model_name": "ProgressStyleModel",
       "_view_count": null,
       "_view_module": "@jupyter-widgets/base",
       "_view_module_version": "2.0.0",
       "_view_name": "StyleView",
       "bar_color": null,
       "description_width": ""
      }
     },
     "23de964615734d138bb46f8e854f91d6": {
      "model_module": "@jupyter-widgets/controls",
      "model_module_version": "2.0.0",
      "model_name": "HBoxModel",
      "state": {
       "_dom_classes": [],
       "_model_module": "@jupyter-widgets/controls",
       "_model_module_version": "2.0.0",
       "_model_name": "HBoxModel",
       "_view_count": null,
       "_view_module": "@jupyter-widgets/controls",
       "_view_module_version": "2.0.0",
       "_view_name": "HBoxView",
       "box_style": "",
       "children": [
        "IPY_MODEL_03a5efc162194453a7d4bc9abb524301",
        "IPY_MODEL_7fe5bf2eba644f1eb4600ffdc173dc83",
        "IPY_MODEL_7e2096b70ea640e3b7daf081a36fc684"
       ],
       "layout": "IPY_MODEL_0ec88677a346462a928a783c7a992cc7",
       "tabbable": null,
       "tooltip": null
      }
     },
     "240f398063444914bab7e282de0ebca6": {
      "model_module": "@jupyter-widgets/controls",
      "model_module_version": "2.0.0",
      "model_name": "ProgressStyleModel",
      "state": {
       "_model_module": "@jupyter-widgets/controls",
       "_model_module_version": "2.0.0",
       "_model_name": "ProgressStyleModel",
       "_view_count": null,
       "_view_module": "@jupyter-widgets/base",
       "_view_module_version": "2.0.0",
       "_view_name": "StyleView",
       "bar_color": null,
       "description_width": ""
      }
     },
     "25b55bee3f744830b16b0ecb7b944915": {
      "model_module": "@jupyter-widgets/base",
      "model_module_version": "2.0.0",
      "model_name": "LayoutModel",
      "state": {
       "_model_module": "@jupyter-widgets/base",
       "_model_module_version": "2.0.0",
       "_model_name": "LayoutModel",
       "_view_count": null,
       "_view_module": "@jupyter-widgets/base",
       "_view_module_version": "2.0.0",
       "_view_name": "LayoutView",
       "align_content": null,
       "align_items": null,
       "align_self": null,
       "border_bottom": null,
       "border_left": null,
       "border_right": null,
       "border_top": null,
       "bottom": null,
       "display": null,
       "flex": null,
       "flex_flow": null,
       "grid_area": null,
       "grid_auto_columns": null,
       "grid_auto_flow": null,
       "grid_auto_rows": null,
       "grid_column": null,
       "grid_gap": null,
       "grid_row": null,
       "grid_template_areas": null,
       "grid_template_columns": null,
       "grid_template_rows": null,
       "height": null,
       "justify_content": null,
       "justify_items": null,
       "left": null,
       "margin": null,
       "max_height": null,
       "max_width": null,
       "min_height": null,
       "min_width": null,
       "object_fit": null,
       "object_position": null,
       "order": null,
       "overflow": null,
       "padding": null,
       "right": null,
       "top": null,
       "visibility": null,
       "width": null
      }
     },
     "2c63e1adbd984ddba0becdba571f7947": {
      "model_module": "@jupyter-widgets/controls",
      "model_module_version": "2.0.0",
      "model_name": "HTMLStyleModel",
      "state": {
       "_model_module": "@jupyter-widgets/controls",
       "_model_module_version": "2.0.0",
       "_model_name": "HTMLStyleModel",
       "_view_count": null,
       "_view_module": "@jupyter-widgets/base",
       "_view_module_version": "2.0.0",
       "_view_name": "StyleView",
       "background": null,
       "description_width": "",
       "font_size": null,
       "text_color": null
      }
     },
     "2dab1407ae144e41adc2c60af83a54d3": {
      "model_module": "@jupyter-widgets/base",
      "model_module_version": "2.0.0",
      "model_name": "LayoutModel",
      "state": {
       "_model_module": "@jupyter-widgets/base",
       "_model_module_version": "2.0.0",
       "_model_name": "LayoutModel",
       "_view_count": null,
       "_view_module": "@jupyter-widgets/base",
       "_view_module_version": "2.0.0",
       "_view_name": "LayoutView",
       "align_content": null,
       "align_items": null,
       "align_self": null,
       "border_bottom": null,
       "border_left": null,
       "border_right": null,
       "border_top": null,
       "bottom": null,
       "display": null,
       "flex": null,
       "flex_flow": null,
       "grid_area": null,
       "grid_auto_columns": null,
       "grid_auto_flow": null,
       "grid_auto_rows": null,
       "grid_column": null,
       "grid_gap": null,
       "grid_row": null,
       "grid_template_areas": null,
       "grid_template_columns": null,
       "grid_template_rows": null,
       "height": null,
       "justify_content": null,
       "justify_items": null,
       "left": null,
       "margin": null,
       "max_height": null,
       "max_width": null,
       "min_height": null,
       "min_width": null,
       "object_fit": null,
       "object_position": null,
       "order": null,
       "overflow": null,
       "padding": null,
       "right": null,
       "top": null,
       "visibility": null,
       "width": null
      }
     },
     "30a5481461cb482b8f939de8afad85dd": {
      "model_module": "@jupyter-widgets/base",
      "model_module_version": "2.0.0",
      "model_name": "LayoutModel",
      "state": {
       "_model_module": "@jupyter-widgets/base",
       "_model_module_version": "2.0.0",
       "_model_name": "LayoutModel",
       "_view_count": null,
       "_view_module": "@jupyter-widgets/base",
       "_view_module_version": "2.0.0",
       "_view_name": "LayoutView",
       "align_content": null,
       "align_items": null,
       "align_self": null,
       "border_bottom": null,
       "border_left": null,
       "border_right": null,
       "border_top": null,
       "bottom": null,
       "display": null,
       "flex": null,
       "flex_flow": null,
       "grid_area": null,
       "grid_auto_columns": null,
       "grid_auto_flow": null,
       "grid_auto_rows": null,
       "grid_column": null,
       "grid_gap": null,
       "grid_row": null,
       "grid_template_areas": null,
       "grid_template_columns": null,
       "grid_template_rows": null,
       "height": null,
       "justify_content": null,
       "justify_items": null,
       "left": null,
       "margin": null,
       "max_height": null,
       "max_width": null,
       "min_height": null,
       "min_width": null,
       "object_fit": null,
       "object_position": null,
       "order": null,
       "overflow": null,
       "padding": null,
       "right": null,
       "top": null,
       "visibility": null,
       "width": null
      }
     },
     "3499f2c161bb40a9b47c2fa7a0b4a426": {
      "model_module": "@jupyter-widgets/controls",
      "model_module_version": "2.0.0",
      "model_name": "HTMLStyleModel",
      "state": {
       "_model_module": "@jupyter-widgets/controls",
       "_model_module_version": "2.0.0",
       "_model_name": "HTMLStyleModel",
       "_view_count": null,
       "_view_module": "@jupyter-widgets/base",
       "_view_module_version": "2.0.0",
       "_view_name": "StyleView",
       "background": null,
       "description_width": "",
       "font_size": null,
       "text_color": null
      }
     },
     "3b3d4e53239549009de6939b29b1dd66": {
      "model_module": "@jupyter-widgets/base",
      "model_module_version": "2.0.0",
      "model_name": "LayoutModel",
      "state": {
       "_model_module": "@jupyter-widgets/base",
       "_model_module_version": "2.0.0",
       "_model_name": "LayoutModel",
       "_view_count": null,
       "_view_module": "@jupyter-widgets/base",
       "_view_module_version": "2.0.0",
       "_view_name": "LayoutView",
       "align_content": null,
       "align_items": null,
       "align_self": null,
       "border_bottom": null,
       "border_left": null,
       "border_right": null,
       "border_top": null,
       "bottom": null,
       "display": null,
       "flex": null,
       "flex_flow": null,
       "grid_area": null,
       "grid_auto_columns": null,
       "grid_auto_flow": null,
       "grid_auto_rows": null,
       "grid_column": null,
       "grid_gap": null,
       "grid_row": null,
       "grid_template_areas": null,
       "grid_template_columns": null,
       "grid_template_rows": null,
       "height": null,
       "justify_content": null,
       "justify_items": null,
       "left": null,
       "margin": null,
       "max_height": null,
       "max_width": null,
       "min_height": null,
       "min_width": null,
       "object_fit": null,
       "object_position": null,
       "order": null,
       "overflow": null,
       "padding": null,
       "right": null,
       "top": null,
       "visibility": null,
       "width": null
      }
     },
     "3ddeb4f665594728b254b29f5c0ec03c": {
      "model_module": "@jupyter-widgets/controls",
      "model_module_version": "2.0.0",
      "model_name": "FloatProgressModel",
      "state": {
       "_dom_classes": [],
       "_model_module": "@jupyter-widgets/controls",
       "_model_module_version": "2.0.0",
       "_model_name": "FloatProgressModel",
       "_view_count": null,
       "_view_module": "@jupyter-widgets/controls",
       "_view_module_version": "2.0.0",
       "_view_name": "ProgressView",
       "bar_style": "success",
       "description": "",
       "description_allow_html": false,
       "layout": "IPY_MODEL_4e038e5e3ee3431ebe4bd9a13b977f9c",
       "max": 655,
       "min": 0,
       "orientation": "horizontal",
       "style": "IPY_MODEL_78b6f618108d4380a09eb31490657e0d",
       "tabbable": null,
       "tooltip": null,
       "value": 655
      }
     },
     "414cf7e86c0d4830982cee5d74de2d17": {
      "model_module": "@jupyter-widgets/base",
      "model_module_version": "2.0.0",
      "model_name": "LayoutModel",
      "state": {
       "_model_module": "@jupyter-widgets/base",
       "_model_module_version": "2.0.0",
       "_model_name": "LayoutModel",
       "_view_count": null,
       "_view_module": "@jupyter-widgets/base",
       "_view_module_version": "2.0.0",
       "_view_name": "LayoutView",
       "align_content": null,
       "align_items": null,
       "align_self": null,
       "border_bottom": null,
       "border_left": null,
       "border_right": null,
       "border_top": null,
       "bottom": null,
       "display": null,
       "flex": null,
       "flex_flow": null,
       "grid_area": null,
       "grid_auto_columns": null,
       "grid_auto_flow": null,
       "grid_auto_rows": null,
       "grid_column": null,
       "grid_gap": null,
       "grid_row": null,
       "grid_template_areas": null,
       "grid_template_columns": null,
       "grid_template_rows": null,
       "height": null,
       "justify_content": null,
       "justify_items": null,
       "left": null,
       "margin": null,
       "max_height": null,
       "max_width": null,
       "min_height": null,
       "min_width": null,
       "object_fit": null,
       "object_position": null,
       "order": null,
       "overflow": null,
       "padding": null,
       "right": null,
       "top": null,
       "visibility": null,
       "width": null
      }
     },
     "41bfb7de135442e197e801ee07c8b6a1": {
      "model_module": "@jupyter-widgets/controls",
      "model_module_version": "2.0.0",
      "model_name": "HTMLModel",
      "state": {
       "_dom_classes": [],
       "_model_module": "@jupyter-widgets/controls",
       "_model_module_version": "2.0.0",
       "_model_name": "HTMLModel",
       "_view_count": null,
       "_view_module": "@jupyter-widgets/controls",
       "_view_module_version": "2.0.0",
       "_view_name": "HTMLView",
       "description": "",
       "description_allow_html": false,
       "layout": "IPY_MODEL_87fc204862b54f54bd614e136246e510",
       "placeholder": "​",
       "style": "IPY_MODEL_2c63e1adbd984ddba0becdba571f7947",
       "tabbable": null,
       "tooltip": null,
       "value": "Map: 100%"
      }
     },
     "44b8663030554cf1bcf23017187794c3": {
      "model_module": "@jupyter-widgets/controls",
      "model_module_version": "2.0.0",
      "model_name": "ProgressStyleModel",
      "state": {
       "_model_module": "@jupyter-widgets/controls",
       "_model_module_version": "2.0.0",
       "_model_name": "ProgressStyleModel",
       "_view_count": null,
       "_view_module": "@jupyter-widgets/base",
       "_view_module_version": "2.0.0",
       "_view_name": "StyleView",
       "bar_color": null,
       "description_width": ""
      }
     },
     "44fb39db9d564424924021bd3c041bd1": {
      "model_module": "@jupyter-widgets/base",
      "model_module_version": "2.0.0",
      "model_name": "LayoutModel",
      "state": {
       "_model_module": "@jupyter-widgets/base",
       "_model_module_version": "2.0.0",
       "_model_name": "LayoutModel",
       "_view_count": null,
       "_view_module": "@jupyter-widgets/base",
       "_view_module_version": "2.0.0",
       "_view_name": "LayoutView",
       "align_content": null,
       "align_items": null,
       "align_self": null,
       "border_bottom": null,
       "border_left": null,
       "border_right": null,
       "border_top": null,
       "bottom": null,
       "display": null,
       "flex": null,
       "flex_flow": null,
       "grid_area": null,
       "grid_auto_columns": null,
       "grid_auto_flow": null,
       "grid_auto_rows": null,
       "grid_column": null,
       "grid_gap": null,
       "grid_row": null,
       "grid_template_areas": null,
       "grid_template_columns": null,
       "grid_template_rows": null,
       "height": null,
       "justify_content": null,
       "justify_items": null,
       "left": null,
       "margin": null,
       "max_height": null,
       "max_width": null,
       "min_height": null,
       "min_width": null,
       "object_fit": null,
       "object_position": null,
       "order": null,
       "overflow": null,
       "padding": null,
       "right": null,
       "top": null,
       "visibility": null,
       "width": null
      }
     },
     "45e39c22b49243028dd950e15613e4de": {
      "model_module": "@jupyter-widgets/controls",
      "model_module_version": "2.0.0",
      "model_name": "HTMLModel",
      "state": {
       "_dom_classes": [],
       "_model_module": "@jupyter-widgets/controls",
       "_model_module_version": "2.0.0",
       "_model_name": "HTMLModel",
       "_view_count": null,
       "_view_module": "@jupyter-widgets/controls",
       "_view_module_version": "2.0.0",
       "_view_name": "HTMLView",
       "description": "",
       "description_allow_html": false,
       "layout": "IPY_MODEL_d56bb90d473649988e1bbb799a16ac5f",
       "placeholder": "​",
       "style": "IPY_MODEL_3499f2c161bb40a9b47c2fa7a0b4a426",
       "tabbable": null,
       "tooltip": null,
       "value": "Filter: 100%"
      }
     },
     "47c35d983b874b87aa9ed7122ad72830": {
      "model_module": "@jupyter-widgets/controls",
      "model_module_version": "2.0.0",
      "model_name": "HTMLStyleModel",
      "state": {
       "_model_module": "@jupyter-widgets/controls",
       "_model_module_version": "2.0.0",
       "_model_name": "HTMLStyleModel",
       "_view_count": null,
       "_view_module": "@jupyter-widgets/base",
       "_view_module_version": "2.0.0",
       "_view_name": "StyleView",
       "background": null,
       "description_width": "",
       "font_size": null,
       "text_color": null
      }
     },
     "4c58db39b4d34aac86eede2736ac0058": {
      "model_module": "@jupyter-widgets/controls",
      "model_module_version": "2.0.0",
      "model_name": "ProgressStyleModel",
      "state": {
       "_model_module": "@jupyter-widgets/controls",
       "_model_module_version": "2.0.0",
       "_model_name": "ProgressStyleModel",
       "_view_count": null,
       "_view_module": "@jupyter-widgets/base",
       "_view_module_version": "2.0.0",
       "_view_name": "StyleView",
       "bar_color": null,
       "description_width": ""
      }
     },
     "4e038e5e3ee3431ebe4bd9a13b977f9c": {
      "model_module": "@jupyter-widgets/base",
      "model_module_version": "2.0.0",
      "model_name": "LayoutModel",
      "state": {
       "_model_module": "@jupyter-widgets/base",
       "_model_module_version": "2.0.0",
       "_model_name": "LayoutModel",
       "_view_count": null,
       "_view_module": "@jupyter-widgets/base",
       "_view_module_version": "2.0.0",
       "_view_name": "LayoutView",
       "align_content": null,
       "align_items": null,
       "align_self": null,
       "border_bottom": null,
       "border_left": null,
       "border_right": null,
       "border_top": null,
       "bottom": null,
       "display": null,
       "flex": null,
       "flex_flow": null,
       "grid_area": null,
       "grid_auto_columns": null,
       "grid_auto_flow": null,
       "grid_auto_rows": null,
       "grid_column": null,
       "grid_gap": null,
       "grid_row": null,
       "grid_template_areas": null,
       "grid_template_columns": null,
       "grid_template_rows": null,
       "height": null,
       "justify_content": null,
       "justify_items": null,
       "left": null,
       "margin": null,
       "max_height": null,
       "max_width": null,
       "min_height": null,
       "min_width": null,
       "object_fit": null,
       "object_position": null,
       "order": null,
       "overflow": null,
       "padding": null,
       "right": null,
       "top": null,
       "visibility": null,
       "width": null
      }
     },
     "4e5244ee401f4de8b0d7c17f2a23089d": {
      "model_module": "@jupyter-widgets/controls",
      "model_module_version": "2.0.0",
      "model_name": "FloatProgressModel",
      "state": {
       "_dom_classes": [],
       "_model_module": "@jupyter-widgets/controls",
       "_model_module_version": "2.0.0",
       "_model_name": "FloatProgressModel",
       "_view_count": null,
       "_view_module": "@jupyter-widgets/controls",
       "_view_module_version": "2.0.0",
       "_view_name": "ProgressView",
       "bar_style": "success",
       "description": "",
       "description_allow_html": false,
       "layout": "IPY_MODEL_57d9c060b72c4144813ead76bb4bdafe",
       "max": 1234,
       "min": 0,
       "orientation": "horizontal",
       "style": "IPY_MODEL_77e20ec8cc5c40058a9e892f0b8d05c5",
       "tabbable": null,
       "tooltip": null,
       "value": 1234
      }
     },
     "54cf217bf7ad47ddb28aead339765ad1": {
      "model_module": "@jupyter-widgets/base",
      "model_module_version": "2.0.0",
      "model_name": "LayoutModel",
      "state": {
       "_model_module": "@jupyter-widgets/base",
       "_model_module_version": "2.0.0",
       "_model_name": "LayoutModel",
       "_view_count": null,
       "_view_module": "@jupyter-widgets/base",
       "_view_module_version": "2.0.0",
       "_view_name": "LayoutView",
       "align_content": null,
       "align_items": null,
       "align_self": null,
       "border_bottom": null,
       "border_left": null,
       "border_right": null,
       "border_top": null,
       "bottom": null,
       "display": null,
       "flex": null,
       "flex_flow": null,
       "grid_area": null,
       "grid_auto_columns": null,
       "grid_auto_flow": null,
       "grid_auto_rows": null,
       "grid_column": null,
       "grid_gap": null,
       "grid_row": null,
       "grid_template_areas": null,
       "grid_template_columns": null,
       "grid_template_rows": null,
       "height": null,
       "justify_content": null,
       "justify_items": null,
       "left": null,
       "margin": null,
       "max_height": null,
       "max_width": null,
       "min_height": null,
       "min_width": null,
       "object_fit": null,
       "object_position": null,
       "order": null,
       "overflow": null,
       "padding": null,
       "right": null,
       "top": null,
       "visibility": null,
       "width": null
      }
     },
     "5586386311e14ed3a31ae29a84f59e95": {
      "model_module": "@jupyter-widgets/controls",
      "model_module_version": "2.0.0",
      "model_name": "HTMLModel",
      "state": {
       "_dom_classes": [],
       "_model_module": "@jupyter-widgets/controls",
       "_model_module_version": "2.0.0",
       "_model_name": "HTMLModel",
       "_view_count": null,
       "_view_module": "@jupyter-widgets/controls",
       "_view_module_version": "2.0.0",
       "_view_name": "HTMLView",
       "description": "",
       "description_allow_html": false,
       "layout": "IPY_MODEL_d4b90ab2caae4a7aaf2633bfcdc02329",
       "placeholder": "​",
       "style": "IPY_MODEL_d68259200a5a4f719f7c4516b0e4c432",
       "tabbable": null,
       "tooltip": null,
       "value": "Map: 100%"
      }
     },
     "55a1dadb0580421a997a73508d7e0bd7": {
      "model_module": "@jupyter-widgets/base",
      "model_module_version": "2.0.0",
      "model_name": "LayoutModel",
      "state": {
       "_model_module": "@jupyter-widgets/base",
       "_model_module_version": "2.0.0",
       "_model_name": "LayoutModel",
       "_view_count": null,
       "_view_module": "@jupyter-widgets/base",
       "_view_module_version": "2.0.0",
       "_view_name": "LayoutView",
       "align_content": null,
       "align_items": null,
       "align_self": null,
       "border_bottom": null,
       "border_left": null,
       "border_right": null,
       "border_top": null,
       "bottom": null,
       "display": null,
       "flex": null,
       "flex_flow": null,
       "grid_area": null,
       "grid_auto_columns": null,
       "grid_auto_flow": null,
       "grid_auto_rows": null,
       "grid_column": null,
       "grid_gap": null,
       "grid_row": null,
       "grid_template_areas": null,
       "grid_template_columns": null,
       "grid_template_rows": null,
       "height": null,
       "justify_content": null,
       "justify_items": null,
       "left": null,
       "margin": null,
       "max_height": null,
       "max_width": null,
       "min_height": null,
       "min_width": null,
       "object_fit": null,
       "object_position": null,
       "order": null,
       "overflow": null,
       "padding": null,
       "right": null,
       "top": null,
       "visibility": null,
       "width": null
      }
     },
     "579bb7e0674b48e4b1abef53aad08846": {
      "model_module": "@jupyter-widgets/base",
      "model_module_version": "2.0.0",
      "model_name": "LayoutModel",
      "state": {
       "_model_module": "@jupyter-widgets/base",
       "_model_module_version": "2.0.0",
       "_model_name": "LayoutModel",
       "_view_count": null,
       "_view_module": "@jupyter-widgets/base",
       "_view_module_version": "2.0.0",
       "_view_name": "LayoutView",
       "align_content": null,
       "align_items": null,
       "align_self": null,
       "border_bottom": null,
       "border_left": null,
       "border_right": null,
       "border_top": null,
       "bottom": null,
       "display": null,
       "flex": null,
       "flex_flow": null,
       "grid_area": null,
       "grid_auto_columns": null,
       "grid_auto_flow": null,
       "grid_auto_rows": null,
       "grid_column": null,
       "grid_gap": null,
       "grid_row": null,
       "grid_template_areas": null,
       "grid_template_columns": null,
       "grid_template_rows": null,
       "height": null,
       "justify_content": null,
       "justify_items": null,
       "left": null,
       "margin": null,
       "max_height": null,
       "max_width": null,
       "min_height": null,
       "min_width": null,
       "object_fit": null,
       "object_position": null,
       "order": null,
       "overflow": null,
       "padding": null,
       "right": null,
       "top": null,
       "visibility": null,
       "width": null
      }
     },
     "57d9c060b72c4144813ead76bb4bdafe": {
      "model_module": "@jupyter-widgets/base",
      "model_module_version": "2.0.0",
      "model_name": "LayoutModel",
      "state": {
       "_model_module": "@jupyter-widgets/base",
       "_model_module_version": "2.0.0",
       "_model_name": "LayoutModel",
       "_view_count": null,
       "_view_module": "@jupyter-widgets/base",
       "_view_module_version": "2.0.0",
       "_view_name": "LayoutView",
       "align_content": null,
       "align_items": null,
       "align_self": null,
       "border_bottom": null,
       "border_left": null,
       "border_right": null,
       "border_top": null,
       "bottom": null,
       "display": null,
       "flex": null,
       "flex_flow": null,
       "grid_area": null,
       "grid_auto_columns": null,
       "grid_auto_flow": null,
       "grid_auto_rows": null,
       "grid_column": null,
       "grid_gap": null,
       "grid_row": null,
       "grid_template_areas": null,
       "grid_template_columns": null,
       "grid_template_rows": null,
       "height": null,
       "justify_content": null,
       "justify_items": null,
       "left": null,
       "margin": null,
       "max_height": null,
       "max_width": null,
       "min_height": null,
       "min_width": null,
       "object_fit": null,
       "object_position": null,
       "order": null,
       "overflow": null,
       "padding": null,
       "right": null,
       "top": null,
       "visibility": null,
       "width": null
      }
     },
     "58592616c0c14b288e758200686fa876": {
      "model_module": "@jupyter-widgets/controls",
      "model_module_version": "2.0.0",
      "model_name": "HTMLModel",
      "state": {
       "_dom_classes": [],
       "_model_module": "@jupyter-widgets/controls",
       "_model_module_version": "2.0.0",
       "_model_name": "HTMLModel",
       "_view_count": null,
       "_view_module": "@jupyter-widgets/controls",
       "_view_module_version": "2.0.0",
       "_view_name": "HTMLView",
       "description": "",
       "description_allow_html": false,
       "layout": "IPY_MODEL_d3b7b8d72d1e477d9e9e49fd7dc0a168",
       "placeholder": "​",
       "style": "IPY_MODEL_154beead744a43c78b51f7294f1dcbf5",
       "tabbable": null,
       "tooltip": null,
       "value": " 15058/15058 [00:15&lt;00:00, 949.79 examples/s]"
      }
     },
     "5a856117fb294040afceccfb8a8b568e": {
      "model_module": "@jupyter-widgets/base",
      "model_module_version": "2.0.0",
      "model_name": "LayoutModel",
      "state": {
       "_model_module": "@jupyter-widgets/base",
       "_model_module_version": "2.0.0",
       "_model_name": "LayoutModel",
       "_view_count": null,
       "_view_module": "@jupyter-widgets/base",
       "_view_module_version": "2.0.0",
       "_view_name": "LayoutView",
       "align_content": null,
       "align_items": null,
       "align_self": null,
       "border_bottom": null,
       "border_left": null,
       "border_right": null,
       "border_top": null,
       "bottom": null,
       "display": null,
       "flex": null,
       "flex_flow": null,
       "grid_area": null,
       "grid_auto_columns": null,
       "grid_auto_flow": null,
       "grid_auto_rows": null,
       "grid_column": null,
       "grid_gap": null,
       "grid_row": null,
       "grid_template_areas": null,
       "grid_template_columns": null,
       "grid_template_rows": null,
       "height": null,
       "justify_content": null,
       "justify_items": null,
       "left": null,
       "margin": null,
       "max_height": null,
       "max_width": null,
       "min_height": null,
       "min_width": null,
       "object_fit": null,
       "object_position": null,
       "order": null,
       "overflow": null,
       "padding": null,
       "right": null,
       "top": null,
       "visibility": null,
       "width": null
      }
     },
     "5afb17dd286c4932b6b404b1a9aa7113": {
      "model_module": "@jupyter-widgets/controls",
      "model_module_version": "2.0.0",
      "model_name": "HTMLStyleModel",
      "state": {
       "_model_module": "@jupyter-widgets/controls",
       "_model_module_version": "2.0.0",
       "_model_name": "HTMLStyleModel",
       "_view_count": null,
       "_view_module": "@jupyter-widgets/base",
       "_view_module_version": "2.0.0",
       "_view_name": "StyleView",
       "background": null,
       "description_width": "",
       "font_size": null,
       "text_color": null
      }
     },
     "5c2527eafeae423baf054ae5ba230933": {
      "model_module": "@jupyter-widgets/controls",
      "model_module_version": "2.0.0",
      "model_name": "HTMLStyleModel",
      "state": {
       "_model_module": "@jupyter-widgets/controls",
       "_model_module_version": "2.0.0",
       "_model_name": "HTMLStyleModel",
       "_view_count": null,
       "_view_module": "@jupyter-widgets/base",
       "_view_module_version": "2.0.0",
       "_view_name": "StyleView",
       "background": null,
       "description_width": "",
       "font_size": null,
       "text_color": null
      }
     },
     "61e9eb1e0ea14704a812ed57049e9882": {
      "model_module": "@jupyter-widgets/base",
      "model_module_version": "2.0.0",
      "model_name": "LayoutModel",
      "state": {
       "_model_module": "@jupyter-widgets/base",
       "_model_module_version": "2.0.0",
       "_model_name": "LayoutModel",
       "_view_count": null,
       "_view_module": "@jupyter-widgets/base",
       "_view_module_version": "2.0.0",
       "_view_name": "LayoutView",
       "align_content": null,
       "align_items": null,
       "align_self": null,
       "border_bottom": null,
       "border_left": null,
       "border_right": null,
       "border_top": null,
       "bottom": null,
       "display": null,
       "flex": null,
       "flex_flow": null,
       "grid_area": null,
       "grid_auto_columns": null,
       "grid_auto_flow": null,
       "grid_auto_rows": null,
       "grid_column": null,
       "grid_gap": null,
       "grid_row": null,
       "grid_template_areas": null,
       "grid_template_columns": null,
       "grid_template_rows": null,
       "height": null,
       "justify_content": null,
       "justify_items": null,
       "left": null,
       "margin": null,
       "max_height": null,
       "max_width": null,
       "min_height": null,
       "min_width": null,
       "object_fit": null,
       "object_position": null,
       "order": null,
       "overflow": null,
       "padding": null,
       "right": null,
       "top": null,
       "visibility": null,
       "width": null
      }
     },
     "66fd209895f44642a37edce444e0af78": {
      "model_module": "@jupyter-widgets/base",
      "model_module_version": "2.0.0",
      "model_name": "LayoutModel",
      "state": {
       "_model_module": "@jupyter-widgets/base",
       "_model_module_version": "2.0.0",
       "_model_name": "LayoutModel",
       "_view_count": null,
       "_view_module": "@jupyter-widgets/base",
       "_view_module_version": "2.0.0",
       "_view_name": "LayoutView",
       "align_content": null,
       "align_items": null,
       "align_self": null,
       "border_bottom": null,
       "border_left": null,
       "border_right": null,
       "border_top": null,
       "bottom": null,
       "display": null,
       "flex": null,
       "flex_flow": null,
       "grid_area": null,
       "grid_auto_columns": null,
       "grid_auto_flow": null,
       "grid_auto_rows": null,
       "grid_column": null,
       "grid_gap": null,
       "grid_row": null,
       "grid_template_areas": null,
       "grid_template_columns": null,
       "grid_template_rows": null,
       "height": null,
       "justify_content": null,
       "justify_items": null,
       "left": null,
       "margin": null,
       "max_height": null,
       "max_width": null,
       "min_height": null,
       "min_width": null,
       "object_fit": null,
       "object_position": null,
       "order": null,
       "overflow": null,
       "padding": null,
       "right": null,
       "top": null,
       "visibility": null,
       "width": null
      }
     },
     "6970b801c39147e9ab389ec7ee186fcb": {
      "model_module": "@jupyter-widgets/base",
      "model_module_version": "2.0.0",
      "model_name": "LayoutModel",
      "state": {
       "_model_module": "@jupyter-widgets/base",
       "_model_module_version": "2.0.0",
       "_model_name": "LayoutModel",
       "_view_count": null,
       "_view_module": "@jupyter-widgets/base",
       "_view_module_version": "2.0.0",
       "_view_name": "LayoutView",
       "align_content": null,
       "align_items": null,
       "align_self": null,
       "border_bottom": null,
       "border_left": null,
       "border_right": null,
       "border_top": null,
       "bottom": null,
       "display": null,
       "flex": null,
       "flex_flow": null,
       "grid_area": null,
       "grid_auto_columns": null,
       "grid_auto_flow": null,
       "grid_auto_rows": null,
       "grid_column": null,
       "grid_gap": null,
       "grid_row": null,
       "grid_template_areas": null,
       "grid_template_columns": null,
       "grid_template_rows": null,
       "height": null,
       "justify_content": null,
       "justify_items": null,
       "left": null,
       "margin": null,
       "max_height": null,
       "max_width": null,
       "min_height": null,
       "min_width": null,
       "object_fit": null,
       "object_position": null,
       "order": null,
       "overflow": null,
       "padding": null,
       "right": null,
       "top": null,
       "visibility": null,
       "width": null
      }
     },
     "6be96fc4c6384bfda5109fe5887f0494": {
      "model_module": "@jupyter-widgets/controls",
      "model_module_version": "2.0.0",
      "model_name": "HBoxModel",
      "state": {
       "_dom_classes": [],
       "_model_module": "@jupyter-widgets/controls",
       "_model_module_version": "2.0.0",
       "_model_name": "HBoxModel",
       "_view_count": null,
       "_view_module": "@jupyter-widgets/controls",
       "_view_module_version": "2.0.0",
       "_view_name": "HBoxView",
       "box_style": "",
       "children": [
        "IPY_MODEL_45e39c22b49243028dd950e15613e4de",
        "IPY_MODEL_f4530389a4f349a6b3528a8ffdf3eb6f",
        "IPY_MODEL_8babf785776847c7b9c0e88848d12da1"
       ],
       "layout": "IPY_MODEL_8a24ac5aaedd486a92700a0b188378ff",
       "tabbable": null,
       "tooltip": null
      }
     },
     "72b746bb8817444d8fcc016887953061": {
      "model_module": "@jupyter-widgets/base",
      "model_module_version": "2.0.0",
      "model_name": "LayoutModel",
      "state": {
       "_model_module": "@jupyter-widgets/base",
       "_model_module_version": "2.0.0",
       "_model_name": "LayoutModel",
       "_view_count": null,
       "_view_module": "@jupyter-widgets/base",
       "_view_module_version": "2.0.0",
       "_view_name": "LayoutView",
       "align_content": null,
       "align_items": null,
       "align_self": null,
       "border_bottom": null,
       "border_left": null,
       "border_right": null,
       "border_top": null,
       "bottom": null,
       "display": null,
       "flex": null,
       "flex_flow": null,
       "grid_area": null,
       "grid_auto_columns": null,
       "grid_auto_flow": null,
       "grid_auto_rows": null,
       "grid_column": null,
       "grid_gap": null,
       "grid_row": null,
       "grid_template_areas": null,
       "grid_template_columns": null,
       "grid_template_rows": null,
       "height": null,
       "justify_content": null,
       "justify_items": null,
       "left": null,
       "margin": null,
       "max_height": null,
       "max_width": null,
       "min_height": null,
       "min_width": null,
       "object_fit": null,
       "object_position": null,
       "order": null,
       "overflow": null,
       "padding": null,
       "right": null,
       "top": null,
       "visibility": null,
       "width": null
      }
     },
     "741eefd72a844d1687f697d831c9823c": {
      "model_module": "@jupyter-widgets/base",
      "model_module_version": "2.0.0",
      "model_name": "LayoutModel",
      "state": {
       "_model_module": "@jupyter-widgets/base",
       "_model_module_version": "2.0.0",
       "_model_name": "LayoutModel",
       "_view_count": null,
       "_view_module": "@jupyter-widgets/base",
       "_view_module_version": "2.0.0",
       "_view_name": "LayoutView",
       "align_content": null,
       "align_items": null,
       "align_self": null,
       "border_bottom": null,
       "border_left": null,
       "border_right": null,
       "border_top": null,
       "bottom": null,
       "display": null,
       "flex": null,
       "flex_flow": null,
       "grid_area": null,
       "grid_auto_columns": null,
       "grid_auto_flow": null,
       "grid_auto_rows": null,
       "grid_column": null,
       "grid_gap": null,
       "grid_row": null,
       "grid_template_areas": null,
       "grid_template_columns": null,
       "grid_template_rows": null,
       "height": null,
       "justify_content": null,
       "justify_items": null,
       "left": null,
       "margin": null,
       "max_height": null,
       "max_width": null,
       "min_height": null,
       "min_width": null,
       "object_fit": null,
       "object_position": null,
       "order": null,
       "overflow": null,
       "padding": null,
       "right": null,
       "top": null,
       "visibility": null,
       "width": null
      }
     },
     "753cca74eedc46da98b0da15621a8109": {
      "model_module": "@jupyter-widgets/controls",
      "model_module_version": "2.0.0",
      "model_name": "FloatProgressModel",
      "state": {
       "_dom_classes": [],
       "_model_module": "@jupyter-widgets/controls",
       "_model_module_version": "2.0.0",
       "_model_name": "FloatProgressModel",
       "_view_count": null,
       "_view_module": "@jupyter-widgets/controls",
       "_view_module_version": "2.0.0",
       "_view_name": "ProgressView",
       "bar_style": "success",
       "description": "",
       "description_allow_html": false,
       "layout": "IPY_MODEL_79774995e10e4e769a0d8111d45f31bb",
       "max": 655,
       "min": 0,
       "orientation": "horizontal",
       "style": "IPY_MODEL_240f398063444914bab7e282de0ebca6",
       "tabbable": null,
       "tooltip": null,
       "value": 655
      }
     },
     "776d41b7a8394def938a4cc303cb3b91": {
      "model_module": "@jupyter-widgets/controls",
      "model_module_version": "2.0.0",
      "model_name": "HTMLModel",
      "state": {
       "_dom_classes": [],
       "_model_module": "@jupyter-widgets/controls",
       "_model_module_version": "2.0.0",
       "_model_name": "HTMLModel",
       "_view_count": null,
       "_view_module": "@jupyter-widgets/controls",
       "_view_module_version": "2.0.0",
       "_view_name": "HTMLView",
       "description": "",
       "description_allow_html": false,
       "layout": "IPY_MODEL_ada16a7a937443088d9ee0e1def4c872",
       "placeholder": "​",
       "style": "IPY_MODEL_0cb1accd1d1940c3aa74e240405039d1",
       "tabbable": null,
       "tooltip": null,
       "value": " 655/655 [00:00&lt;00:00, 1107.96 examples/s]"
      }
     },
     "77e20ec8cc5c40058a9e892f0b8d05c5": {
      "model_module": "@jupyter-widgets/controls",
      "model_module_version": "2.0.0",
      "model_name": "ProgressStyleModel",
      "state": {
       "_model_module": "@jupyter-widgets/controls",
       "_model_module_version": "2.0.0",
       "_model_name": "ProgressStyleModel",
       "_view_count": null,
       "_view_module": "@jupyter-widgets/base",
       "_view_module_version": "2.0.0",
       "_view_name": "StyleView",
       "bar_color": null,
       "description_width": ""
      }
     },
     "78b6f618108d4380a09eb31490657e0d": {
      "model_module": "@jupyter-widgets/controls",
      "model_module_version": "2.0.0",
      "model_name": "ProgressStyleModel",
      "state": {
       "_model_module": "@jupyter-widgets/controls",
       "_model_module_version": "2.0.0",
       "_model_name": "ProgressStyleModel",
       "_view_count": null,
       "_view_module": "@jupyter-widgets/base",
       "_view_module_version": "2.0.0",
       "_view_name": "StyleView",
       "bar_color": null,
       "description_width": ""
      }
     },
     "79774995e10e4e769a0d8111d45f31bb": {
      "model_module": "@jupyter-widgets/base",
      "model_module_version": "2.0.0",
      "model_name": "LayoutModel",
      "state": {
       "_model_module": "@jupyter-widgets/base",
       "_model_module_version": "2.0.0",
       "_model_name": "LayoutModel",
       "_view_count": null,
       "_view_module": "@jupyter-widgets/base",
       "_view_module_version": "2.0.0",
       "_view_name": "LayoutView",
       "align_content": null,
       "align_items": null,
       "align_self": null,
       "border_bottom": null,
       "border_left": null,
       "border_right": null,
       "border_top": null,
       "bottom": null,
       "display": null,
       "flex": null,
       "flex_flow": null,
       "grid_area": null,
       "grid_auto_columns": null,
       "grid_auto_flow": null,
       "grid_auto_rows": null,
       "grid_column": null,
       "grid_gap": null,
       "grid_row": null,
       "grid_template_areas": null,
       "grid_template_columns": null,
       "grid_template_rows": null,
       "height": null,
       "justify_content": null,
       "justify_items": null,
       "left": null,
       "margin": null,
       "max_height": null,
       "max_width": null,
       "min_height": null,
       "min_width": null,
       "object_fit": null,
       "object_position": null,
       "order": null,
       "overflow": null,
       "padding": null,
       "right": null,
       "top": null,
       "visibility": null,
       "width": null
      }
     },
     "7e2096b70ea640e3b7daf081a36fc684": {
      "model_module": "@jupyter-widgets/controls",
      "model_module_version": "2.0.0",
      "model_name": "HTMLModel",
      "state": {
       "_dom_classes": [],
       "_model_module": "@jupyter-widgets/controls",
       "_model_module_version": "2.0.0",
       "_model_name": "HTMLModel",
       "_view_count": null,
       "_view_module": "@jupyter-widgets/controls",
       "_view_module_version": "2.0.0",
       "_view_name": "HTMLView",
       "description": "",
       "description_allow_html": false,
       "layout": "IPY_MODEL_80fbc3a291b945c69d031adefd36a7e8",
       "placeholder": "​",
       "style": "IPY_MODEL_845a9069e728403e993fc593da3ac918",
       "tabbable": null,
       "tooltip": null,
       "value": " 655/655 [00:00&lt;00:00, 771.04 examples/s]"
      }
     },
     "7ed725f998744d1a9153cf102a97787e": {
      "model_module": "@jupyter-widgets/base",
      "model_module_version": "2.0.0",
      "model_name": "LayoutModel",
      "state": {
       "_model_module": "@jupyter-widgets/base",
       "_model_module_version": "2.0.0",
       "_model_name": "LayoutModel",
       "_view_count": null,
       "_view_module": "@jupyter-widgets/base",
       "_view_module_version": "2.0.0",
       "_view_name": "LayoutView",
       "align_content": null,
       "align_items": null,
       "align_self": null,
       "border_bottom": null,
       "border_left": null,
       "border_right": null,
       "border_top": null,
       "bottom": null,
       "display": null,
       "flex": null,
       "flex_flow": null,
       "grid_area": null,
       "grid_auto_columns": null,
       "grid_auto_flow": null,
       "grid_auto_rows": null,
       "grid_column": null,
       "grid_gap": null,
       "grid_row": null,
       "grid_template_areas": null,
       "grid_template_columns": null,
       "grid_template_rows": null,
       "height": null,
       "justify_content": null,
       "justify_items": null,
       "left": null,
       "margin": null,
       "max_height": null,
       "max_width": null,
       "min_height": null,
       "min_width": null,
       "object_fit": null,
       "object_position": null,
       "order": null,
       "overflow": null,
       "padding": null,
       "right": null,
       "top": null,
       "visibility": null,
       "width": null
      }
     },
     "7fe5bf2eba644f1eb4600ffdc173dc83": {
      "model_module": "@jupyter-widgets/controls",
      "model_module_version": "2.0.0",
      "model_name": "FloatProgressModel",
      "state": {
       "_dom_classes": [],
       "_model_module": "@jupyter-widgets/controls",
       "_model_module_version": "2.0.0",
       "_model_name": "FloatProgressModel",
       "_view_count": null,
       "_view_module": "@jupyter-widgets/controls",
       "_view_module_version": "2.0.0",
       "_view_name": "ProgressView",
       "bar_style": "success",
       "description": "",
       "description_allow_html": false,
       "layout": "IPY_MODEL_44fb39db9d564424924021bd3c041bd1",
       "max": 655,
       "min": 0,
       "orientation": "horizontal",
       "style": "IPY_MODEL_1c1e7eeebfc94525b6c87c7fe3fe59dd",
       "tabbable": null,
       "tooltip": null,
       "value": 655
      }
     },
     "80fbc3a291b945c69d031adefd36a7e8": {
      "model_module": "@jupyter-widgets/base",
      "model_module_version": "2.0.0",
      "model_name": "LayoutModel",
      "state": {
       "_model_module": "@jupyter-widgets/base",
       "_model_module_version": "2.0.0",
       "_model_name": "LayoutModel",
       "_view_count": null,
       "_view_module": "@jupyter-widgets/base",
       "_view_module_version": "2.0.0",
       "_view_name": "LayoutView",
       "align_content": null,
       "align_items": null,
       "align_self": null,
       "border_bottom": null,
       "border_left": null,
       "border_right": null,
       "border_top": null,
       "bottom": null,
       "display": null,
       "flex": null,
       "flex_flow": null,
       "grid_area": null,
       "grid_auto_columns": null,
       "grid_auto_flow": null,
       "grid_auto_rows": null,
       "grid_column": null,
       "grid_gap": null,
       "grid_row": null,
       "grid_template_areas": null,
       "grid_template_columns": null,
       "grid_template_rows": null,
       "height": null,
       "justify_content": null,
       "justify_items": null,
       "left": null,
       "margin": null,
       "max_height": null,
       "max_width": null,
       "min_height": null,
       "min_width": null,
       "object_fit": null,
       "object_position": null,
       "order": null,
       "overflow": null,
       "padding": null,
       "right": null,
       "top": null,
       "visibility": null,
       "width": null
      }
     },
     "82986c4e9df846ffb4c549e13fe71d1b": {
      "model_module": "@jupyter-widgets/base",
      "model_module_version": "2.0.0",
      "model_name": "LayoutModel",
      "state": {
       "_model_module": "@jupyter-widgets/base",
       "_model_module_version": "2.0.0",
       "_model_name": "LayoutModel",
       "_view_count": null,
       "_view_module": "@jupyter-widgets/base",
       "_view_module_version": "2.0.0",
       "_view_name": "LayoutView",
       "align_content": null,
       "align_items": null,
       "align_self": null,
       "border_bottom": null,
       "border_left": null,
       "border_right": null,
       "border_top": null,
       "bottom": null,
       "display": null,
       "flex": null,
       "flex_flow": null,
       "grid_area": null,
       "grid_auto_columns": null,
       "grid_auto_flow": null,
       "grid_auto_rows": null,
       "grid_column": null,
       "grid_gap": null,
       "grid_row": null,
       "grid_template_areas": null,
       "grid_template_columns": null,
       "grid_template_rows": null,
       "height": null,
       "justify_content": null,
       "justify_items": null,
       "left": null,
       "margin": null,
       "max_height": null,
       "max_width": null,
       "min_height": null,
       "min_width": null,
       "object_fit": null,
       "object_position": null,
       "order": null,
       "overflow": null,
       "padding": null,
       "right": null,
       "top": null,
       "visibility": null,
       "width": null
      }
     },
     "845a9069e728403e993fc593da3ac918": {
      "model_module": "@jupyter-widgets/controls",
      "model_module_version": "2.0.0",
      "model_name": "HTMLStyleModel",
      "state": {
       "_model_module": "@jupyter-widgets/controls",
       "_model_module_version": "2.0.0",
       "_model_name": "HTMLStyleModel",
       "_view_count": null,
       "_view_module": "@jupyter-widgets/base",
       "_view_module_version": "2.0.0",
       "_view_name": "StyleView",
       "background": null,
       "description_width": "",
       "font_size": null,
       "text_color": null
      }
     },
     "87fc204862b54f54bd614e136246e510": {
      "model_module": "@jupyter-widgets/base",
      "model_module_version": "2.0.0",
      "model_name": "LayoutModel",
      "state": {
       "_model_module": "@jupyter-widgets/base",
       "_model_module_version": "2.0.0",
       "_model_name": "LayoutModel",
       "_view_count": null,
       "_view_module": "@jupyter-widgets/base",
       "_view_module_version": "2.0.0",
       "_view_name": "LayoutView",
       "align_content": null,
       "align_items": null,
       "align_self": null,
       "border_bottom": null,
       "border_left": null,
       "border_right": null,
       "border_top": null,
       "bottom": null,
       "display": null,
       "flex": null,
       "flex_flow": null,
       "grid_area": null,
       "grid_auto_columns": null,
       "grid_auto_flow": null,
       "grid_auto_rows": null,
       "grid_column": null,
       "grid_gap": null,
       "grid_row": null,
       "grid_template_areas": null,
       "grid_template_columns": null,
       "grid_template_rows": null,
       "height": null,
       "justify_content": null,
       "justify_items": null,
       "left": null,
       "margin": null,
       "max_height": null,
       "max_width": null,
       "min_height": null,
       "min_width": null,
       "object_fit": null,
       "object_position": null,
       "order": null,
       "overflow": null,
       "padding": null,
       "right": null,
       "top": null,
       "visibility": null,
       "width": null
      }
     },
     "8a24ac5aaedd486a92700a0b188378ff": {
      "model_module": "@jupyter-widgets/base",
      "model_module_version": "2.0.0",
      "model_name": "LayoutModel",
      "state": {
       "_model_module": "@jupyter-widgets/base",
       "_model_module_version": "2.0.0",
       "_model_name": "LayoutModel",
       "_view_count": null,
       "_view_module": "@jupyter-widgets/base",
       "_view_module_version": "2.0.0",
       "_view_name": "LayoutView",
       "align_content": null,
       "align_items": null,
       "align_self": null,
       "border_bottom": null,
       "border_left": null,
       "border_right": null,
       "border_top": null,
       "bottom": null,
       "display": null,
       "flex": null,
       "flex_flow": null,
       "grid_area": null,
       "grid_auto_columns": null,
       "grid_auto_flow": null,
       "grid_auto_rows": null,
       "grid_column": null,
       "grid_gap": null,
       "grid_row": null,
       "grid_template_areas": null,
       "grid_template_columns": null,
       "grid_template_rows": null,
       "height": null,
       "justify_content": null,
       "justify_items": null,
       "left": null,
       "margin": null,
       "max_height": null,
       "max_width": null,
       "min_height": null,
       "min_width": null,
       "object_fit": null,
       "object_position": null,
       "order": null,
       "overflow": null,
       "padding": null,
       "right": null,
       "top": null,
       "visibility": null,
       "width": null
      }
     },
     "8babf785776847c7b9c0e88848d12da1": {
      "model_module": "@jupyter-widgets/controls",
      "model_module_version": "2.0.0",
      "model_name": "HTMLModel",
      "state": {
       "_dom_classes": [],
       "_model_module": "@jupyter-widgets/controls",
       "_model_module_version": "2.0.0",
       "_model_name": "HTMLModel",
       "_view_count": null,
       "_view_module": "@jupyter-widgets/controls",
       "_view_module_version": "2.0.0",
       "_view_name": "HTMLView",
       "description": "",
       "description_allow_html": false,
       "layout": "IPY_MODEL_a0f54dfa57a443269ddd30cd324ebede",
       "placeholder": "​",
       "style": "IPY_MODEL_c3fc65e8c9704e9981679b427dbcd89e",
       "tabbable": null,
       "tooltip": null,
       "value": " 15058/15058 [00:13&lt;00:00, 1115.29 examples/s]"
      }
     },
     "8db305a141c04069b0a4c64822e007dd": {
      "model_module": "@jupyter-widgets/controls",
      "model_module_version": "2.0.0",
      "model_name": "HBoxModel",
      "state": {
       "_dom_classes": [],
       "_model_module": "@jupyter-widgets/controls",
       "_model_module_version": "2.0.0",
       "_model_name": "HBoxModel",
       "_view_count": null,
       "_view_module": "@jupyter-widgets/controls",
       "_view_module_version": "2.0.0",
       "_view_name": "HBoxView",
       "box_style": "",
       "children": [
        "IPY_MODEL_dfd6797f78f948148c92b9e02af6242f",
        "IPY_MODEL_753cca74eedc46da98b0da15621a8109",
        "IPY_MODEL_776d41b7a8394def938a4cc303cb3b91"
       ],
       "layout": "IPY_MODEL_9a5f00b2ee134be49e020d36c9659289",
       "tabbable": null,
       "tooltip": null
      }
     },
     "8dc43e1a5b4e48e59a7f79a999be6219": {
      "model_module": "@jupyter-widgets/controls",
      "model_module_version": "2.0.0",
      "model_name": "HTMLModel",
      "state": {
       "_dom_classes": [],
       "_model_module": "@jupyter-widgets/controls",
       "_model_module_version": "2.0.0",
       "_model_name": "HTMLModel",
       "_view_count": null,
       "_view_module": "@jupyter-widgets/controls",
       "_view_module_version": "2.0.0",
       "_view_name": "HTMLView",
       "description": "",
       "description_allow_html": false,
       "layout": "IPY_MODEL_30a5481461cb482b8f939de8afad85dd",
       "placeholder": "​",
       "style": "IPY_MODEL_a53e84e2366e4ae9939f49b6aefd59a7",
       "tabbable": null,
       "tooltip": null,
       "value": " 655/655 [00:00&lt;00:00, 957.26 examples/s]"
      }
     },
     "8f9c1e59eb2541f7a2d0ae94ca929cff": {
      "model_module": "@jupyter-widgets/controls",
      "model_module_version": "2.0.0",
      "model_name": "HBoxModel",
      "state": {
       "_dom_classes": [],
       "_model_module": "@jupyter-widgets/controls",
       "_model_module_version": "2.0.0",
       "_model_name": "HBoxModel",
       "_view_count": null,
       "_view_module": "@jupyter-widgets/controls",
       "_view_module_version": "2.0.0",
       "_view_name": "HBoxView",
       "box_style": "",
       "children": [
        "IPY_MODEL_41bfb7de135442e197e801ee07c8b6a1",
        "IPY_MODEL_05854ad58b734b33bf0f94b81e55554b",
        "IPY_MODEL_03396698ea8c44bb92271f34b76e900c"
       ],
       "layout": "IPY_MODEL_d09be558d121435788bc78b009eba5dc",
       "tabbable": null,
       "tooltip": null
      }
     },
     "98807c23ea3b42d699cf59f292ff3eef": {
      "model_module": "@jupyter-widgets/controls",
      "model_module_version": "2.0.0",
      "model_name": "HTMLStyleModel",
      "state": {
       "_model_module": "@jupyter-widgets/controls",
       "_model_module_version": "2.0.0",
       "_model_name": "HTMLStyleModel",
       "_view_count": null,
       "_view_module": "@jupyter-widgets/base",
       "_view_module_version": "2.0.0",
       "_view_name": "StyleView",
       "background": null,
       "description_width": "",
       "font_size": null,
       "text_color": null
      }
     },
     "9a5f00b2ee134be49e020d36c9659289": {
      "model_module": "@jupyter-widgets/base",
      "model_module_version": "2.0.0",
      "model_name": "LayoutModel",
      "state": {
       "_model_module": "@jupyter-widgets/base",
       "_model_module_version": "2.0.0",
       "_model_name": "LayoutModel",
       "_view_count": null,
       "_view_module": "@jupyter-widgets/base",
       "_view_module_version": "2.0.0",
       "_view_name": "LayoutView",
       "align_content": null,
       "align_items": null,
       "align_self": null,
       "border_bottom": null,
       "border_left": null,
       "border_right": null,
       "border_top": null,
       "bottom": null,
       "display": null,
       "flex": null,
       "flex_flow": null,
       "grid_area": null,
       "grid_auto_columns": null,
       "grid_auto_flow": null,
       "grid_auto_rows": null,
       "grid_column": null,
       "grid_gap": null,
       "grid_row": null,
       "grid_template_areas": null,
       "grid_template_columns": null,
       "grid_template_rows": null,
       "height": null,
       "justify_content": null,
       "justify_items": null,
       "left": null,
       "margin": null,
       "max_height": null,
       "max_width": null,
       "min_height": null,
       "min_width": null,
       "object_fit": null,
       "object_position": null,
       "order": null,
       "overflow": null,
       "padding": null,
       "right": null,
       "top": null,
       "visibility": null,
       "width": null
      }
     },
     "9c812f69de9543ef8959619601fd440c": {
      "model_module": "@jupyter-widgets/controls",
      "model_module_version": "2.0.0",
      "model_name": "HTMLModel",
      "state": {
       "_dom_classes": [],
       "_model_module": "@jupyter-widgets/controls",
       "_model_module_version": "2.0.0",
       "_model_name": "HTMLModel",
       "_view_count": null,
       "_view_module": "@jupyter-widgets/controls",
       "_view_module_version": "2.0.0",
       "_view_name": "HTMLView",
       "description": "",
       "description_allow_html": false,
       "layout": "IPY_MODEL_25b55bee3f744830b16b0ecb7b944915",
       "placeholder": "​",
       "style": "IPY_MODEL_02528ad9a7ad43dc95385073a82cede2",
       "tabbable": null,
       "tooltip": null,
       "value": "Filter: 100%"
      }
     },
     "a0f54dfa57a443269ddd30cd324ebede": {
      "model_module": "@jupyter-widgets/base",
      "model_module_version": "2.0.0",
      "model_name": "LayoutModel",
      "state": {
       "_model_module": "@jupyter-widgets/base",
       "_model_module_version": "2.0.0",
       "_model_name": "LayoutModel",
       "_view_count": null,
       "_view_module": "@jupyter-widgets/base",
       "_view_module_version": "2.0.0",
       "_view_name": "LayoutView",
       "align_content": null,
       "align_items": null,
       "align_self": null,
       "border_bottom": null,
       "border_left": null,
       "border_right": null,
       "border_top": null,
       "bottom": null,
       "display": null,
       "flex": null,
       "flex_flow": null,
       "grid_area": null,
       "grid_auto_columns": null,
       "grid_auto_flow": null,
       "grid_auto_rows": null,
       "grid_column": null,
       "grid_gap": null,
       "grid_row": null,
       "grid_template_areas": null,
       "grid_template_columns": null,
       "grid_template_rows": null,
       "height": null,
       "justify_content": null,
       "justify_items": null,
       "left": null,
       "margin": null,
       "max_height": null,
       "max_width": null,
       "min_height": null,
       "min_width": null,
       "object_fit": null,
       "object_position": null,
       "order": null,
       "overflow": null,
       "padding": null,
       "right": null,
       "top": null,
       "visibility": null,
       "width": null
      }
     },
     "a16efc0e71d14cf29a2594e3193f6692": {
      "model_module": "@jupyter-widgets/controls",
      "model_module_version": "2.0.0",
      "model_name": "ProgressStyleModel",
      "state": {
       "_model_module": "@jupyter-widgets/controls",
       "_model_module_version": "2.0.0",
       "_model_name": "ProgressStyleModel",
       "_view_count": null,
       "_view_module": "@jupyter-widgets/base",
       "_view_module_version": "2.0.0",
       "_view_name": "StyleView",
       "bar_color": null,
       "description_width": ""
      }
     },
     "a53e84e2366e4ae9939f49b6aefd59a7": {
      "model_module": "@jupyter-widgets/controls",
      "model_module_version": "2.0.0",
      "model_name": "HTMLStyleModel",
      "state": {
       "_model_module": "@jupyter-widgets/controls",
       "_model_module_version": "2.0.0",
       "_model_name": "HTMLStyleModel",
       "_view_count": null,
       "_view_module": "@jupyter-widgets/base",
       "_view_module_version": "2.0.0",
       "_view_name": "StyleView",
       "background": null,
       "description_width": "",
       "font_size": null,
       "text_color": null
      }
     },
     "a896beaf11764de8b19dfa38de6913cb": {
      "model_module": "@jupyter-widgets/controls",
      "model_module_version": "2.0.0",
      "model_name": "HTMLModel",
      "state": {
       "_dom_classes": [],
       "_model_module": "@jupyter-widgets/controls",
       "_model_module_version": "2.0.0",
       "_model_name": "HTMLModel",
       "_view_count": null,
       "_view_module": "@jupyter-widgets/controls",
       "_view_module_version": "2.0.0",
       "_view_name": "HTMLView",
       "description": "",
       "description_allow_html": false,
       "layout": "IPY_MODEL_c5aa0c8a06724156949075b5e59141c1",
       "placeholder": "​",
       "style": "IPY_MODEL_98807c23ea3b42d699cf59f292ff3eef",
       "tabbable": null,
       "tooltip": null,
       "value": " 579/579 [00:00&lt;00:00, 1062.63 examples/s]"
      }
     },
     "aa9b5513ca8e441fafab450ca890e473": {
      "model_module": "@jupyter-widgets/controls",
      "model_module_version": "2.0.0",
      "model_name": "HBoxModel",
      "state": {
       "_dom_classes": [],
       "_model_module": "@jupyter-widgets/controls",
       "_model_module_version": "2.0.0",
       "_model_name": "HBoxModel",
       "_view_count": null,
       "_view_module": "@jupyter-widgets/controls",
       "_view_module_version": "2.0.0",
       "_view_name": "HBoxView",
       "box_style": "",
       "children": [
        "IPY_MODEL_5586386311e14ed3a31ae29a84f59e95",
        "IPY_MODEL_16f3037c1e754aa2a65f7c6ccfb6440e",
        "IPY_MODEL_8dc43e1a5b4e48e59a7f79a999be6219"
       ],
       "layout": "IPY_MODEL_55a1dadb0580421a997a73508d7e0bd7",
       "tabbable": null,
       "tooltip": null
      }
     },
     "ada16a7a937443088d9ee0e1def4c872": {
      "model_module": "@jupyter-widgets/base",
      "model_module_version": "2.0.0",
      "model_name": "LayoutModel",
      "state": {
       "_model_module": "@jupyter-widgets/base",
       "_model_module_version": "2.0.0",
       "_model_name": "LayoutModel",
       "_view_count": null,
       "_view_module": "@jupyter-widgets/base",
       "_view_module_version": "2.0.0",
       "_view_name": "LayoutView",
       "align_content": null,
       "align_items": null,
       "align_self": null,
       "border_bottom": null,
       "border_left": null,
       "border_right": null,
       "border_top": null,
       "bottom": null,
       "display": null,
       "flex": null,
       "flex_flow": null,
       "grid_area": null,
       "grid_auto_columns": null,
       "grid_auto_flow": null,
       "grid_auto_rows": null,
       "grid_column": null,
       "grid_gap": null,
       "grid_row": null,
       "grid_template_areas": null,
       "grid_template_columns": null,
       "grid_template_rows": null,
       "height": null,
       "justify_content": null,
       "justify_items": null,
       "left": null,
       "margin": null,
       "max_height": null,
       "max_width": null,
       "min_height": null,
       "min_width": null,
       "object_fit": null,
       "object_position": null,
       "order": null,
       "overflow": null,
       "padding": null,
       "right": null,
       "top": null,
       "visibility": null,
       "width": null
      }
     },
     "adbccb0ce41d4762b441c30ba43b8f1c": {
      "model_module": "@jupyter-widgets/controls",
      "model_module_version": "2.0.0",
      "model_name": "HTMLModel",
      "state": {
       "_dom_classes": [],
       "_model_module": "@jupyter-widgets/controls",
       "_model_module_version": "2.0.0",
       "_model_name": "HTMLModel",
       "_view_count": null,
       "_view_module": "@jupyter-widgets/controls",
       "_view_module_version": "2.0.0",
       "_view_name": "HTMLView",
       "description": "",
       "description_allow_html": false,
       "layout": "IPY_MODEL_579bb7e0674b48e4b1abef53aad08846",
       "placeholder": "​",
       "style": "IPY_MODEL_5c2527eafeae423baf054ae5ba230933",
       "tabbable": null,
       "tooltip": null,
       "value": "Map: 100%"
      }
     },
     "b6aaa7d4578340679eb3fbbb7e2b544a": {
      "model_module": "@jupyter-widgets/controls",
      "model_module_version": "2.0.0",
      "model_name": "HBoxModel",
      "state": {
       "_dom_classes": [],
       "_model_module": "@jupyter-widgets/controls",
       "_model_module_version": "2.0.0",
       "_model_name": "HBoxModel",
       "_view_count": null,
       "_view_module": "@jupyter-widgets/controls",
       "_view_module_version": "2.0.0",
       "_view_name": "HBoxView",
       "box_style": "",
       "children": [
        "IPY_MODEL_9c812f69de9543ef8959619601fd440c",
        "IPY_MODEL_f66c971bf286472e8beb16441beab261",
        "IPY_MODEL_a896beaf11764de8b19dfa38de6913cb"
       ],
       "layout": "IPY_MODEL_72b746bb8817444d8fcc016887953061",
       "tabbable": null,
       "tooltip": null
      }
     },
     "ba082798f1b04544a8c7de625ef2be79": {
      "model_module": "@jupyter-widgets/controls",
      "model_module_version": "2.0.0",
      "model_name": "HTMLModel",
      "state": {
       "_dom_classes": [],
       "_model_module": "@jupyter-widgets/controls",
       "_model_module_version": "2.0.0",
       "_model_name": "HTMLModel",
       "_view_count": null,
       "_view_module": "@jupyter-widgets/controls",
       "_view_module_version": "2.0.0",
       "_view_name": "HTMLView",
       "description": "",
       "description_allow_html": false,
       "layout": "IPY_MODEL_82986c4e9df846ffb4c549e13fe71d1b",
       "placeholder": "​",
       "style": "IPY_MODEL_e93be356efa84f41aaef22383e945276",
       "tabbable": null,
       "tooltip": null,
       "value": "Filter: 100%"
      }
     },
     "c3fc65e8c9704e9981679b427dbcd89e": {
      "model_module": "@jupyter-widgets/controls",
      "model_module_version": "2.0.0",
      "model_name": "HTMLStyleModel",
      "state": {
       "_model_module": "@jupyter-widgets/controls",
       "_model_module_version": "2.0.0",
       "_model_name": "HTMLStyleModel",
       "_view_count": null,
       "_view_module": "@jupyter-widgets/base",
       "_view_module_version": "2.0.0",
       "_view_name": "StyleView",
       "background": null,
       "description_width": "",
       "font_size": null,
       "text_color": null
      }
     },
     "c5aa0c8a06724156949075b5e59141c1": {
      "model_module": "@jupyter-widgets/base",
      "model_module_version": "2.0.0",
      "model_name": "LayoutModel",
      "state": {
       "_model_module": "@jupyter-widgets/base",
       "_model_module_version": "2.0.0",
       "_model_name": "LayoutModel",
       "_view_count": null,
       "_view_module": "@jupyter-widgets/base",
       "_view_module_version": "2.0.0",
       "_view_name": "LayoutView",
       "align_content": null,
       "align_items": null,
       "align_self": null,
       "border_bottom": null,
       "border_left": null,
       "border_right": null,
       "border_top": null,
       "bottom": null,
       "display": null,
       "flex": null,
       "flex_flow": null,
       "grid_area": null,
       "grid_auto_columns": null,
       "grid_auto_flow": null,
       "grid_auto_rows": null,
       "grid_column": null,
       "grid_gap": null,
       "grid_row": null,
       "grid_template_areas": null,
       "grid_template_columns": null,
       "grid_template_rows": null,
       "height": null,
       "justify_content": null,
       "justify_items": null,
       "left": null,
       "margin": null,
       "max_height": null,
       "max_width": null,
       "min_height": null,
       "min_width": null,
       "object_fit": null,
       "object_position": null,
       "order": null,
       "overflow": null,
       "padding": null,
       "right": null,
       "top": null,
       "visibility": null,
       "width": null
      }
     },
     "c8293174753f417cb47821175daa4532": {
      "model_module": "@jupyter-widgets/base",
      "model_module_version": "2.0.0",
      "model_name": "LayoutModel",
      "state": {
       "_model_module": "@jupyter-widgets/base",
       "_model_module_version": "2.0.0",
       "_model_name": "LayoutModel",
       "_view_count": null,
       "_view_module": "@jupyter-widgets/base",
       "_view_module_version": "2.0.0",
       "_view_name": "LayoutView",
       "align_content": null,
       "align_items": null,
       "align_self": null,
       "border_bottom": null,
       "border_left": null,
       "border_right": null,
       "border_top": null,
       "bottom": null,
       "display": null,
       "flex": null,
       "flex_flow": null,
       "grid_area": null,
       "grid_auto_columns": null,
       "grid_auto_flow": null,
       "grid_auto_rows": null,
       "grid_column": null,
       "grid_gap": null,
       "grid_row": null,
       "grid_template_areas": null,
       "grid_template_columns": null,
       "grid_template_rows": null,
       "height": null,
       "justify_content": null,
       "justify_items": null,
       "left": null,
       "margin": null,
       "max_height": null,
       "max_width": null,
       "min_height": null,
       "min_width": null,
       "object_fit": null,
       "object_position": null,
       "order": null,
       "overflow": null,
       "padding": null,
       "right": null,
       "top": null,
       "visibility": null,
       "width": null
      }
     },
     "ca02ad4c73d749aa8d2e737b25fcd03c": {
      "model_module": "@jupyter-widgets/controls",
      "model_module_version": "2.0.0",
      "model_name": "HBoxModel",
      "state": {
       "_dom_classes": [],
       "_model_module": "@jupyter-widgets/controls",
       "_model_module_version": "2.0.0",
       "_model_name": "HBoxModel",
       "_view_count": null,
       "_view_module": "@jupyter-widgets/controls",
       "_view_module_version": "2.0.0",
       "_view_name": "HBoxView",
       "box_style": "",
       "children": [
        "IPY_MODEL_adbccb0ce41d4762b441c30ba43b8f1c",
        "IPY_MODEL_f2620afe597540dd9e389eba436738d9",
        "IPY_MODEL_58592616c0c14b288e758200686fa876"
       ],
       "layout": "IPY_MODEL_cce83e3987b549d8a4e35bc4d6e907e2",
       "tabbable": null,
       "tooltip": null
      }
     },
     "cce83e3987b549d8a4e35bc4d6e907e2": {
      "model_module": "@jupyter-widgets/base",
      "model_module_version": "2.0.0",
      "model_name": "LayoutModel",
      "state": {
       "_model_module": "@jupyter-widgets/base",
       "_model_module_version": "2.0.0",
       "_model_name": "LayoutModel",
       "_view_count": null,
       "_view_module": "@jupyter-widgets/base",
       "_view_module_version": "2.0.0",
       "_view_name": "LayoutView",
       "align_content": null,
       "align_items": null,
       "align_self": null,
       "border_bottom": null,
       "border_left": null,
       "border_right": null,
       "border_top": null,
       "bottom": null,
       "display": null,
       "flex": null,
       "flex_flow": null,
       "grid_area": null,
       "grid_auto_columns": null,
       "grid_auto_flow": null,
       "grid_auto_rows": null,
       "grid_column": null,
       "grid_gap": null,
       "grid_row": null,
       "grid_template_areas": null,
       "grid_template_columns": null,
       "grid_template_rows": null,
       "height": null,
       "justify_content": null,
       "justify_items": null,
       "left": null,
       "margin": null,
       "max_height": null,
       "max_width": null,
       "min_height": null,
       "min_width": null,
       "object_fit": null,
       "object_position": null,
       "order": null,
       "overflow": null,
       "padding": null,
       "right": null,
       "top": null,
       "visibility": null,
       "width": null
      }
     },
     "ce2afb4ab466445f84880d83f2474037": {
      "model_module": "@jupyter-widgets/controls",
      "model_module_version": "2.0.0",
      "model_name": "HBoxModel",
      "state": {
       "_dom_classes": [],
       "_model_module": "@jupyter-widgets/controls",
       "_model_module_version": "2.0.0",
       "_model_name": "HBoxModel",
       "_view_count": null,
       "_view_module": "@jupyter-widgets/controls",
       "_view_module_version": "2.0.0",
       "_view_name": "HBoxView",
       "box_style": "",
       "children": [
        "IPY_MODEL_fb20bdd65739469b839fc3a2c5ec0afa",
        "IPY_MODEL_3ddeb4f665594728b254b29f5c0ec03c",
        "IPY_MODEL_d0a310188e8e484894c3d3e7b751d8c8"
       ],
       "layout": "IPY_MODEL_e0c5ed8066cd4d81924e2d34761d68b5",
       "tabbable": null,
       "tooltip": null
      }
     },
     "cf02ee60dd454fa9917fc2b903cd6f7f": {
      "model_module": "@jupyter-widgets/base",
      "model_module_version": "2.0.0",
      "model_name": "LayoutModel",
      "state": {
       "_model_module": "@jupyter-widgets/base",
       "_model_module_version": "2.0.0",
       "_model_name": "LayoutModel",
       "_view_count": null,
       "_view_module": "@jupyter-widgets/base",
       "_view_module_version": "2.0.0",
       "_view_name": "LayoutView",
       "align_content": null,
       "align_items": null,
       "align_self": null,
       "border_bottom": null,
       "border_left": null,
       "border_right": null,
       "border_top": null,
       "bottom": null,
       "display": null,
       "flex": null,
       "flex_flow": null,
       "grid_area": null,
       "grid_auto_columns": null,
       "grid_auto_flow": null,
       "grid_auto_rows": null,
       "grid_column": null,
       "grid_gap": null,
       "grid_row": null,
       "grid_template_areas": null,
       "grid_template_columns": null,
       "grid_template_rows": null,
       "height": null,
       "justify_content": null,
       "justify_items": null,
       "left": null,
       "margin": null,
       "max_height": null,
       "max_width": null,
       "min_height": null,
       "min_width": null,
       "object_fit": null,
       "object_position": null,
       "order": null,
       "overflow": null,
       "padding": null,
       "right": null,
       "top": null,
       "visibility": null,
       "width": null
      }
     },
     "d09be558d121435788bc78b009eba5dc": {
      "model_module": "@jupyter-widgets/base",
      "model_module_version": "2.0.0",
      "model_name": "LayoutModel",
      "state": {
       "_model_module": "@jupyter-widgets/base",
       "_model_module_version": "2.0.0",
       "_model_name": "LayoutModel",
       "_view_count": null,
       "_view_module": "@jupyter-widgets/base",
       "_view_module_version": "2.0.0",
       "_view_name": "LayoutView",
       "align_content": null,
       "align_items": null,
       "align_self": null,
       "border_bottom": null,
       "border_left": null,
       "border_right": null,
       "border_top": null,
       "bottom": null,
       "display": null,
       "flex": null,
       "flex_flow": null,
       "grid_area": null,
       "grid_auto_columns": null,
       "grid_auto_flow": null,
       "grid_auto_rows": null,
       "grid_column": null,
       "grid_gap": null,
       "grid_row": null,
       "grid_template_areas": null,
       "grid_template_columns": null,
       "grid_template_rows": null,
       "height": null,
       "justify_content": null,
       "justify_items": null,
       "left": null,
       "margin": null,
       "max_height": null,
       "max_width": null,
       "min_height": null,
       "min_width": null,
       "object_fit": null,
       "object_position": null,
       "order": null,
       "overflow": null,
       "padding": null,
       "right": null,
       "top": null,
       "visibility": null,
       "width": null
      }
     },
     "d0a310188e8e484894c3d3e7b751d8c8": {
      "model_module": "@jupyter-widgets/controls",
      "model_module_version": "2.0.0",
      "model_name": "HTMLModel",
      "state": {
       "_dom_classes": [],
       "_model_module": "@jupyter-widgets/controls",
       "_model_module_version": "2.0.0",
       "_model_name": "HTMLModel",
       "_view_count": null,
       "_view_module": "@jupyter-widgets/controls",
       "_view_module_version": "2.0.0",
       "_view_name": "HTMLView",
       "description": "",
       "description_allow_html": false,
       "layout": "IPY_MODEL_61e9eb1e0ea14704a812ed57049e9882",
       "placeholder": "​",
       "style": "IPY_MODEL_1b248b9efb954e3c868e07e0e2717f5b",
       "tabbable": null,
       "tooltip": null,
       "value": " 655/655 [00:00&lt;00:00, 1124.89 examples/s]"
      }
     },
     "d382e3e3ced1431ca22692fb59d4350b": {
      "model_module": "@jupyter-widgets/controls",
      "model_module_version": "2.0.0",
      "model_name": "HTMLStyleModel",
      "state": {
       "_model_module": "@jupyter-widgets/controls",
       "_model_module_version": "2.0.0",
       "_model_name": "HTMLStyleModel",
       "_view_count": null,
       "_view_module": "@jupyter-widgets/base",
       "_view_module_version": "2.0.0",
       "_view_name": "StyleView",
       "background": null,
       "description_width": "",
       "font_size": null,
       "text_color": null
      }
     },
     "d3b7b8d72d1e477d9e9e49fd7dc0a168": {
      "model_module": "@jupyter-widgets/base",
      "model_module_version": "2.0.0",
      "model_name": "LayoutModel",
      "state": {
       "_model_module": "@jupyter-widgets/base",
       "_model_module_version": "2.0.0",
       "_model_name": "LayoutModel",
       "_view_count": null,
       "_view_module": "@jupyter-widgets/base",
       "_view_module_version": "2.0.0",
       "_view_name": "LayoutView",
       "align_content": null,
       "align_items": null,
       "align_self": null,
       "border_bottom": null,
       "border_left": null,
       "border_right": null,
       "border_top": null,
       "bottom": null,
       "display": null,
       "flex": null,
       "flex_flow": null,
       "grid_area": null,
       "grid_auto_columns": null,
       "grid_auto_flow": null,
       "grid_auto_rows": null,
       "grid_column": null,
       "grid_gap": null,
       "grid_row": null,
       "grid_template_areas": null,
       "grid_template_columns": null,
       "grid_template_rows": null,
       "height": null,
       "justify_content": null,
       "justify_items": null,
       "left": null,
       "margin": null,
       "max_height": null,
       "max_width": null,
       "min_height": null,
       "min_width": null,
       "object_fit": null,
       "object_position": null,
       "order": null,
       "overflow": null,
       "padding": null,
       "right": null,
       "top": null,
       "visibility": null,
       "width": null
      }
     },
     "d4b90ab2caae4a7aaf2633bfcdc02329": {
      "model_module": "@jupyter-widgets/base",
      "model_module_version": "2.0.0",
      "model_name": "LayoutModel",
      "state": {
       "_model_module": "@jupyter-widgets/base",
       "_model_module_version": "2.0.0",
       "_model_name": "LayoutModel",
       "_view_count": null,
       "_view_module": "@jupyter-widgets/base",
       "_view_module_version": "2.0.0",
       "_view_name": "LayoutView",
       "align_content": null,
       "align_items": null,
       "align_self": null,
       "border_bottom": null,
       "border_left": null,
       "border_right": null,
       "border_top": null,
       "bottom": null,
       "display": null,
       "flex": null,
       "flex_flow": null,
       "grid_area": null,
       "grid_auto_columns": null,
       "grid_auto_flow": null,
       "grid_auto_rows": null,
       "grid_column": null,
       "grid_gap": null,
       "grid_row": null,
       "grid_template_areas": null,
       "grid_template_columns": null,
       "grid_template_rows": null,
       "height": null,
       "justify_content": null,
       "justify_items": null,
       "left": null,
       "margin": null,
       "max_height": null,
       "max_width": null,
       "min_height": null,
       "min_width": null,
       "object_fit": null,
       "object_position": null,
       "order": null,
       "overflow": null,
       "padding": null,
       "right": null,
       "top": null,
       "visibility": null,
       "width": null
      }
     },
     "d56bb90d473649988e1bbb799a16ac5f": {
      "model_module": "@jupyter-widgets/base",
      "model_module_version": "2.0.0",
      "model_name": "LayoutModel",
      "state": {
       "_model_module": "@jupyter-widgets/base",
       "_model_module_version": "2.0.0",
       "_model_name": "LayoutModel",
       "_view_count": null,
       "_view_module": "@jupyter-widgets/base",
       "_view_module_version": "2.0.0",
       "_view_name": "LayoutView",
       "align_content": null,
       "align_items": null,
       "align_self": null,
       "border_bottom": null,
       "border_left": null,
       "border_right": null,
       "border_top": null,
       "bottom": null,
       "display": null,
       "flex": null,
       "flex_flow": null,
       "grid_area": null,
       "grid_auto_columns": null,
       "grid_auto_flow": null,
       "grid_auto_rows": null,
       "grid_column": null,
       "grid_gap": null,
       "grid_row": null,
       "grid_template_areas": null,
       "grid_template_columns": null,
       "grid_template_rows": null,
       "height": null,
       "justify_content": null,
       "justify_items": null,
       "left": null,
       "margin": null,
       "max_height": null,
       "max_width": null,
       "min_height": null,
       "min_width": null,
       "object_fit": null,
       "object_position": null,
       "order": null,
       "overflow": null,
       "padding": null,
       "right": null,
       "top": null,
       "visibility": null,
       "width": null
      }
     },
     "d68259200a5a4f719f7c4516b0e4c432": {
      "model_module": "@jupyter-widgets/controls",
      "model_module_version": "2.0.0",
      "model_name": "HTMLStyleModel",
      "state": {
       "_model_module": "@jupyter-widgets/controls",
       "_model_module_version": "2.0.0",
       "_model_name": "HTMLStyleModel",
       "_view_count": null,
       "_view_module": "@jupyter-widgets/base",
       "_view_module_version": "2.0.0",
       "_view_name": "StyleView",
       "background": null,
       "description_width": "",
       "font_size": null,
       "text_color": null
      }
     },
     "dfd6797f78f948148c92b9e02af6242f": {
      "model_module": "@jupyter-widgets/controls",
      "model_module_version": "2.0.0",
      "model_name": "HTMLModel",
      "state": {
       "_dom_classes": [],
       "_model_module": "@jupyter-widgets/controls",
       "_model_module_version": "2.0.0",
       "_model_name": "HTMLModel",
       "_view_count": null,
       "_view_module": "@jupyter-widgets/controls",
       "_view_module_version": "2.0.0",
       "_view_name": "HTMLView",
       "description": "",
       "description_allow_html": false,
       "layout": "IPY_MODEL_5a856117fb294040afceccfb8a8b568e",
       "placeholder": "​",
       "style": "IPY_MODEL_0948dd4f800e482aa9e3d5fea00e94ca",
       "tabbable": null,
       "tooltip": null,
       "value": "Filter: 100%"
      }
     },
     "e0c5ed8066cd4d81924e2d34761d68b5": {
      "model_module": "@jupyter-widgets/base",
      "model_module_version": "2.0.0",
      "model_name": "LayoutModel",
      "state": {
       "_model_module": "@jupyter-widgets/base",
       "_model_module_version": "2.0.0",
       "_model_name": "LayoutModel",
       "_view_count": null,
       "_view_module": "@jupyter-widgets/base",
       "_view_module_version": "2.0.0",
       "_view_name": "LayoutView",
       "align_content": null,
       "align_items": null,
       "align_self": null,
       "border_bottom": null,
       "border_left": null,
       "border_right": null,
       "border_top": null,
       "bottom": null,
       "display": null,
       "flex": null,
       "flex_flow": null,
       "grid_area": null,
       "grid_auto_columns": null,
       "grid_auto_flow": null,
       "grid_auto_rows": null,
       "grid_column": null,
       "grid_gap": null,
       "grid_row": null,
       "grid_template_areas": null,
       "grid_template_columns": null,
       "grid_template_rows": null,
       "height": null,
       "justify_content": null,
       "justify_items": null,
       "left": null,
       "margin": null,
       "max_height": null,
       "max_width": null,
       "min_height": null,
       "min_width": null,
       "object_fit": null,
       "object_position": null,
       "order": null,
       "overflow": null,
       "padding": null,
       "right": null,
       "top": null,
       "visibility": null,
       "width": null
      }
     },
     "e1d6a257ba0043bb9414930a5491f809": {
      "model_module": "@jupyter-widgets/controls",
      "model_module_version": "2.0.0",
      "model_name": "HBoxModel",
      "state": {
       "_dom_classes": [],
       "_model_module": "@jupyter-widgets/controls",
       "_model_module_version": "2.0.0",
       "_model_name": "HBoxModel",
       "_view_count": null,
       "_view_module": "@jupyter-widgets/controls",
       "_view_module_version": "2.0.0",
       "_view_name": "HBoxView",
       "box_style": "",
       "children": [
        "IPY_MODEL_ba082798f1b04544a8c7de625ef2be79",
        "IPY_MODEL_4e5244ee401f4de8b0d7c17f2a23089d",
        "IPY_MODEL_1093fd82e3b44b2690a83eca9348f8c8"
       ],
       "layout": "IPY_MODEL_cf02ee60dd454fa9917fc2b903cd6f7f",
       "tabbable": null,
       "tooltip": null
      }
     },
     "e93be356efa84f41aaef22383e945276": {
      "model_module": "@jupyter-widgets/controls",
      "model_module_version": "2.0.0",
      "model_name": "HTMLStyleModel",
      "state": {
       "_model_module": "@jupyter-widgets/controls",
       "_model_module_version": "2.0.0",
       "_model_name": "HTMLStyleModel",
       "_view_count": null,
       "_view_module": "@jupyter-widgets/base",
       "_view_module_version": "2.0.0",
       "_view_name": "StyleView",
       "background": null,
       "description_width": "",
       "font_size": null,
       "text_color": null
      }
     },
     "ef07f652b10b4e5780e1531d6944e1e4": {
      "model_module": "@jupyter-widgets/controls",
      "model_module_version": "2.0.0",
      "model_name": "ProgressStyleModel",
      "state": {
       "_model_module": "@jupyter-widgets/controls",
       "_model_module_version": "2.0.0",
       "_model_name": "ProgressStyleModel",
       "_view_count": null,
       "_view_module": "@jupyter-widgets/base",
       "_view_module_version": "2.0.0",
       "_view_name": "StyleView",
       "bar_color": null,
       "description_width": ""
      }
     },
     "f2620afe597540dd9e389eba436738d9": {
      "model_module": "@jupyter-widgets/controls",
      "model_module_version": "2.0.0",
      "model_name": "FloatProgressModel",
      "state": {
       "_dom_classes": [],
       "_model_module": "@jupyter-widgets/controls",
       "_model_module_version": "2.0.0",
       "_model_name": "FloatProgressModel",
       "_view_count": null,
       "_view_module": "@jupyter-widgets/controls",
       "_view_module_version": "2.0.0",
       "_view_name": "ProgressView",
       "bar_style": "success",
       "description": "",
       "description_allow_html": false,
       "layout": "IPY_MODEL_2dab1407ae144e41adc2c60af83a54d3",
       "max": 15058,
       "min": 0,
       "orientation": "horizontal",
       "style": "IPY_MODEL_4c58db39b4d34aac86eede2736ac0058",
       "tabbable": null,
       "tooltip": null,
       "value": 15058
      }
     },
     "f4530389a4f349a6b3528a8ffdf3eb6f": {
      "model_module": "@jupyter-widgets/controls",
      "model_module_version": "2.0.0",
      "model_name": "FloatProgressModel",
      "state": {
       "_dom_classes": [],
       "_model_module": "@jupyter-widgets/controls",
       "_model_module_version": "2.0.0",
       "_model_name": "FloatProgressModel",
       "_view_count": null,
       "_view_module": "@jupyter-widgets/controls",
       "_view_module_version": "2.0.0",
       "_view_name": "ProgressView",
       "bar_style": "success",
       "description": "",
       "description_allow_html": false,
       "layout": "IPY_MODEL_741eefd72a844d1687f697d831c9823c",
       "max": 15058,
       "min": 0,
       "orientation": "horizontal",
       "style": "IPY_MODEL_a16efc0e71d14cf29a2594e3193f6692",
       "tabbable": null,
       "tooltip": null,
       "value": 15058
      }
     },
     "f66c971bf286472e8beb16441beab261": {
      "model_module": "@jupyter-widgets/controls",
      "model_module_version": "2.0.0",
      "model_name": "FloatProgressModel",
      "state": {
       "_dom_classes": [],
       "_model_module": "@jupyter-widgets/controls",
       "_model_module_version": "2.0.0",
       "_model_name": "FloatProgressModel",
       "_view_count": null,
       "_view_module": "@jupyter-widgets/controls",
       "_view_module_version": "2.0.0",
       "_view_name": "ProgressView",
       "bar_style": "success",
       "description": "",
       "description_allow_html": false,
       "layout": "IPY_MODEL_7ed725f998744d1a9153cf102a97787e",
       "max": 579,
       "min": 0,
       "orientation": "horizontal",
       "style": "IPY_MODEL_175b8cbc09a341f6bb1f8304263582ec",
       "tabbable": null,
       "tooltip": null,
       "value": 579
      }
     },
     "fb20bdd65739469b839fc3a2c5ec0afa": {
      "model_module": "@jupyter-widgets/controls",
      "model_module_version": "2.0.0",
      "model_name": "HTMLModel",
      "state": {
       "_dom_classes": [],
       "_model_module": "@jupyter-widgets/controls",
       "_model_module_version": "2.0.0",
       "_model_name": "HTMLModel",
       "_view_count": null,
       "_view_module": "@jupyter-widgets/controls",
       "_view_module_version": "2.0.0",
       "_view_name": "HTMLView",
       "description": "",
       "description_allow_html": false,
       "layout": "IPY_MODEL_6970b801c39147e9ab389ec7ee186fcb",
       "placeholder": "​",
       "style": "IPY_MODEL_0324cf1420454116862b1d86ebe8bc36",
       "tabbable": null,
       "tooltip": null,
       "value": "Filter: 100%"
      }
     }
    },
    "version_major": 2,
    "version_minor": 0
   }
  }
 },
 "nbformat": 4,
 "nbformat_minor": 5
}
